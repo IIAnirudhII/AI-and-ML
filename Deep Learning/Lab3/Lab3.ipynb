{
  "nbformat": 4,
  "nbformat_minor": 0,
  "metadata": {
    "colab": {
      "name": "Untitled1.ipynb",
      "provenance": [],
      "mount_file_id": "https://github.com/IIAnirudhII/BU/blob/master/Deep%20Learning/Lab3/Lab3.ipynb",
      "authorship_tag": "ABX9TyPWeXyfUFQHA1/6GAXrwei5",
      "include_colab_link": true
    },
    "kernelspec": {
      "name": "python3",
      "display_name": "Python 3"
    }
  },
  "cells": [
    {
      "cell_type": "markdown",
      "metadata": {
        "id": "view-in-github",
        "colab_type": "text"
      },
      "source": [
        "<a href=\"https://colab.research.google.com/github/IIAnirudhII/BU/blob/master/Deep%20Learning/Lab3/Lab3.ipynb\" target=\"_parent\"><img src=\"https://colab.research.google.com/assets/colab-badge.svg\" alt=\"Open In Colab\"/></a>"
      ]
    },
    {
      "cell_type": "code",
      "metadata": {
        "id": "49DhNhn3Sa6u",
        "colab_type": "code",
        "colab": {}
      },
      "source": [
        "# pip install opencv-python"
      ],
      "execution_count": null,
      "outputs": []
    },
    {
      "cell_type": "code",
      "metadata": {
        "id": "sz8zi2j-AOm_",
        "colab_type": "code",
        "colab": {}
      },
      "source": [
        "import pandas as pd\n",
        "import cv2\n",
        "from google.colab.patches import cv2_imshow\n",
        "import numpy as np"
      ],
      "execution_count": 7,
      "outputs": []
    },
    {
      "cell_type": "code",
      "metadata": {
        "id": "zJI53pFXO09F",
        "colab_type": "code",
        "colab": {}
      },
      "source": [
        "train_image=[]\n",
        "for i in range(10):\n",
        "  img=cv2.imread(\"/content/drive/My Drive/Dataset/CatsDogs/Cats/cat.\"+str(i)+\".jpg\")\n",
        "  img=cv2.resize(img,(500,500))\n",
        "  img=np.array(img)\n",
        "  img=img.flatten()\n",
        "  train_image.append(img)\n",
        "\n",
        "for i in range(10):\n",
        "  img=cv2.imread(\"/content/drive/My Drive/Dataset/CatsDogs/Dogs/dog.\"+str(i)+\".jpg\")\n",
        "  img=cv2.resize(img,(500,500))\n",
        "  img=np.array(img)\n",
        "  img=img.flatten()\n",
        "  train_image.append(img)"
      ],
      "execution_count": 8,
      "outputs": []
    },
    {
      "cell_type": "code",
      "metadata": {
        "id": "McSpLP4mTlKS",
        "colab_type": "code",
        "colab": {}
      },
      "source": [
        "X=np.stack(train_image,axis=0)\n",
        "y=pd.read_excel(\"/content/drive/My Drive/Dataset/CatsDogs/ouput.xlsx\")\n",
        "y=y.iloc[:,-1].values"
      ],
      "execution_count": 9,
      "outputs": []
    },
    {
      "cell_type": "code",
      "metadata": {
        "id": "7bcauullURPi",
        "colab_type": "code",
        "colab": {}
      },
      "source": [
        "from sklearn.model_selection import train_test_split\n",
        "\n",
        "X_train, X_test, y_train, y_test = train_test_split(X,y,test_size=0.25)"
      ],
      "execution_count": 10,
      "outputs": []
    },
    {
      "cell_type": "code",
      "metadata": {
        "id": "X_X7vJVdU6uE",
        "colab_type": "code",
        "colab": {
          "base_uri": "https://localhost:8080/",
          "height": 109
        },
        "outputId": "e65ef7c9-b783-4433-86a9-d14afbf037a0"
      },
      "source": [
        "from sklearn.linear_model import LogisticRegression\n",
        "\n",
        "regressor=LogisticRegression()\n",
        "regressor.fit(X_train,y_train)"
      ],
      "execution_count": 11,
      "outputs": [
        {
          "output_type": "execute_result",
          "data": {
            "text/plain": [
              "LogisticRegression(C=1.0, class_weight=None, dual=False, fit_intercept=True,\n",
              "                   intercept_scaling=1, l1_ratio=None, max_iter=100,\n",
              "                   multi_class='auto', n_jobs=None, penalty='l2',\n",
              "                   random_state=None, solver='lbfgs', tol=0.0001, verbose=0,\n",
              "                   warm_start=False)"
            ]
          },
          "metadata": {
            "tags": []
          },
          "execution_count": 11
        }
      ]
    },
    {
      "cell_type": "code",
      "metadata": {
        "id": "Aj6B2p3kV1lA",
        "colab_type": "code",
        "colab": {}
      },
      "source": [
        "y_pred=regressor.predict(X_test)"
      ],
      "execution_count": 12,
      "outputs": []
    },
    {
      "cell_type": "code",
      "metadata": {
        "id": "vOIQSfuAV7S4",
        "colab_type": "code",
        "colab": {
          "base_uri": "https://localhost:8080/",
          "height": 35
        },
        "outputId": "1dad12cd-51a4-41b1-f099-3719b0f22692"
      },
      "source": [
        "regressor.score(X_test,y_test)"
      ],
      "execution_count": 13,
      "outputs": [
        {
          "output_type": "execute_result",
          "data": {
            "text/plain": [
              "0.8"
            ]
          },
          "metadata": {
            "tags": []
          },
          "execution_count": 13
        }
      ]
    }
  ]
}