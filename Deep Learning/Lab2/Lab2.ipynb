{
  "nbformat": 4,
  "nbformat_minor": 0,
  "metadata": {
    "colab": {
      "name": "Lab2.ipynb",
      "provenance": [],
      "authorship_tag": "ABX9TyPOLI8+kFl0mGimX2TD9AMn",
      "include_colab_link": true
    },
    "kernelspec": {
      "name": "python3",
      "display_name": "Python 3"
    }
  },
  "cells": [
    {
      "cell_type": "markdown",
      "metadata": {
        "id": "view-in-github",
        "colab_type": "text"
      },
      "source": [
        "<a href=\"https://colab.research.google.com/github/IIAnirudhII/BU/blob/master/Deep%20Learning/Lab2/Lab2.ipynb\" target=\"_parent\"><img src=\"https://colab.research.google.com/assets/colab-badge.svg\" alt=\"Open In Colab\"/></a>"
      ]
    },
    {
      "cell_type": "code",
      "metadata": {
        "id": "4C1kKtYsAXU5",
        "colab_type": "code",
        "colab": {}
      },
      "source": [
        "import pandas as pd\n",
        "import numpy as np"
      ],
      "execution_count": 1,
      "outputs": []
    },
    {
      "cell_type": "code",
      "metadata": {
        "id": "aqnfs4IeBbE6",
        "colab_type": "code",
        "colab": {}
      },
      "source": [
        "df=pd.read_excel(\"https://github.com/IIAnirudhII/BU/blob/master/Deep%20Learning/Lab2/data/Online%20Retail.xlsx?raw=true\")\n",
        "df=df.dropna()"
      ],
      "execution_count": 21,
      "outputs": []
    },
    {
      "cell_type": "code",
      "metadata": {
        "id": "s0xIX4lnELm9",
        "colab_type": "code",
        "colab": {
          "base_uri": "https://localhost:8080/",
          "height": 424
        },
        "outputId": "5a8de8b9-5072-4a3a-b7e0-256a49ac5fbb"
      },
      "source": [
        "subset=df.iloc[:, : 4]\n",
        "subset=subset[subset[\"InvoiceNo\"]==536544]\n",
        "(subset)"
      ],
      "execution_count": null,
      "outputs": [
        {
          "output_type": "execute_result",
          "data": {
            "text/html": [
              "<div>\n",
              "<style scoped>\n",
              "    .dataframe tbody tr th:only-of-type {\n",
              "        vertical-align: middle;\n",
              "    }\n",
              "\n",
              "    .dataframe tbody tr th {\n",
              "        vertical-align: top;\n",
              "    }\n",
              "\n",
              "    .dataframe thead th {\n",
              "        text-align: right;\n",
              "    }\n",
              "</style>\n",
              "<table border=\"1\" class=\"dataframe\">\n",
              "  <thead>\n",
              "    <tr style=\"text-align: right;\">\n",
              "      <th></th>\n",
              "      <th>InvoiceNo</th>\n",
              "      <th>StockCode</th>\n",
              "      <th>Description</th>\n",
              "      <th>Quantity</th>\n",
              "    </tr>\n",
              "  </thead>\n",
              "  <tbody>\n",
              "    <tr>\n",
              "      <th>1443</th>\n",
              "      <td>536544</td>\n",
              "      <td>21773</td>\n",
              "      <td>DECORATIVE ROSE BATHROOM BOTTLE</td>\n",
              "      <td>1</td>\n",
              "    </tr>\n",
              "    <tr>\n",
              "      <th>1444</th>\n",
              "      <td>536544</td>\n",
              "      <td>21774</td>\n",
              "      <td>DECORATIVE CATS BATHROOM BOTTLE</td>\n",
              "      <td>2</td>\n",
              "    </tr>\n",
              "    <tr>\n",
              "      <th>1445</th>\n",
              "      <td>536544</td>\n",
              "      <td>21786</td>\n",
              "      <td>POLKADOT RAIN HAT</td>\n",
              "      <td>4</td>\n",
              "    </tr>\n",
              "    <tr>\n",
              "      <th>1446</th>\n",
              "      <td>536544</td>\n",
              "      <td>21787</td>\n",
              "      <td>RAIN PONCHO RETROSPOT</td>\n",
              "      <td>2</td>\n",
              "    </tr>\n",
              "    <tr>\n",
              "      <th>1447</th>\n",
              "      <td>536544</td>\n",
              "      <td>21790</td>\n",
              "      <td>VINTAGE SNAP CARDS</td>\n",
              "      <td>9</td>\n",
              "    </tr>\n",
              "    <tr>\n",
              "      <th>...</th>\n",
              "      <td>...</td>\n",
              "      <td>...</td>\n",
              "      <td>...</td>\n",
              "      <td>...</td>\n",
              "    </tr>\n",
              "    <tr>\n",
              "      <th>1965</th>\n",
              "      <td>536544</td>\n",
              "      <td>21721</td>\n",
              "      <td>CANDY SHOP  STICKER SHEET</td>\n",
              "      <td>1</td>\n",
              "    </tr>\n",
              "    <tr>\n",
              "      <th>1966</th>\n",
              "      <td>536544</td>\n",
              "      <td>21722</td>\n",
              "      <td>SWEET PUDDING STICKER SHEET</td>\n",
              "      <td>1</td>\n",
              "    </tr>\n",
              "    <tr>\n",
              "      <th>1967</th>\n",
              "      <td>536544</td>\n",
              "      <td>21731</td>\n",
              "      <td>RED TOADSTOOL LED NIGHT LIGHT</td>\n",
              "      <td>5</td>\n",
              "    </tr>\n",
              "    <tr>\n",
              "      <th>1968</th>\n",
              "      <td>536544</td>\n",
              "      <td>21742</td>\n",
              "      <td>LARGE ROUND WICKER PLATTER</td>\n",
              "      <td>1</td>\n",
              "    </tr>\n",
              "    <tr>\n",
              "      <th>1969</th>\n",
              "      <td>536544</td>\n",
              "      <td>21758</td>\n",
              "      <td>VINTAGE SHELLS PRINT</td>\n",
              "      <td>1</td>\n",
              "    </tr>\n",
              "  </tbody>\n",
              "</table>\n",
              "<p>527 rows × 4 columns</p>\n",
              "</div>"
            ],
            "text/plain": [
              "     InvoiceNo StockCode                      Description  Quantity\n",
              "1443    536544     21773  DECORATIVE ROSE BATHROOM BOTTLE         1\n",
              "1444    536544     21774  DECORATIVE CATS BATHROOM BOTTLE         2\n",
              "1445    536544     21786               POLKADOT RAIN HAT          4\n",
              "1446    536544     21787            RAIN PONCHO RETROSPOT         2\n",
              "1447    536544     21790               VINTAGE SNAP CARDS         9\n",
              "...        ...       ...                              ...       ...\n",
              "1965    536544     21721        CANDY SHOP  STICKER SHEET         1\n",
              "1966    536544     21722      SWEET PUDDING STICKER SHEET         1\n",
              "1967    536544     21731    RED TOADSTOOL LED NIGHT LIGHT         5\n",
              "1968    536544     21742      LARGE ROUND WICKER PLATTER          1\n",
              "1969    536544     21758             VINTAGE SHELLS PRINT         1\n",
              "\n",
              "[527 rows x 4 columns]"
            ]
          },
          "metadata": {
            "tags": []
          },
          "execution_count": 21
        }
      ]
    },
    {
      "cell_type": "code",
      "metadata": {
        "id": "htUKqv6MH_wZ",
        "colab_type": "code",
        "colab": {
          "base_uri": "https://localhost:8080/",
          "height": 54
        },
        "outputId": "930f933b-b320-4cfa-f343-f525e1a955e5"
      },
      "source": [
        "print(\"Minimum\")\n",
        "print(df.UnitPrice.min())"
      ],
      "execution_count": null,
      "outputs": [
        {
          "output_type": "stream",
          "text": [
            "Minimum\n",
            "-11062.06\n"
          ],
          "name": "stdout"
        }
      ]
    },
    {
      "cell_type": "code",
      "metadata": {
        "id": "lWV5aRVQYb4Q",
        "colab_type": "code",
        "colab": {
          "base_uri": "https://localhost:8080/",
          "height": 54
        },
        "outputId": "a317ae29-8a05-4cde-da50-b08687d03f97"
      },
      "source": [
        "print(\"Maximum\")\n",
        "print(df.UnitPrice.max())"
      ],
      "execution_count": null,
      "outputs": [
        {
          "output_type": "stream",
          "text": [
            "Maximum\n",
            "38970.0\n"
          ],
          "name": "stdout"
        }
      ]
    },
    {
      "cell_type": "code",
      "metadata": {
        "id": "ZM9kX-4dO9yd",
        "colab_type": "code",
        "colab": {
          "base_uri": "https://localhost:8080/",
          "height": 54
        },
        "outputId": "f8606379-ff89-48d1-c5df-ff9d2f545269"
      },
      "source": [
        "print(\"Median\")\n",
        "print(df.UnitPrice.median())"
      ],
      "execution_count": null,
      "outputs": [
        {
          "output_type": "stream",
          "text": [
            "Median\n",
            "2.08\n"
          ],
          "name": "stdout"
        }
      ]
    },
    {
      "cell_type": "code",
      "metadata": {
        "id": "6V7EFrmLYhAj",
        "colab_type": "code",
        "colab": {
          "base_uri": "https://localhost:8080/",
          "height": 54
        },
        "outputId": "bc1ae704-9988-468c-b59c-74af15e90575"
      },
      "source": [
        "print(\"Mean\")\n",
        "print(df.UnitPrice.mean())"
      ],
      "execution_count": null,
      "outputs": [
        {
          "output_type": "stream",
          "text": [
            "Mean\n",
            "4.611113626083471\n"
          ],
          "name": "stdout"
        }
      ]
    },
    {
      "cell_type": "code",
      "metadata": {
        "id": "uqgF3K2tYifF",
        "colab_type": "code",
        "colab": {
          "base_uri": "https://localhost:8080/",
          "height": 54
        },
        "outputId": "7d97f009-3c76-47ed-d618-bce0974693d4"
      },
      "source": [
        "print(\"Count\")\n",
        "print(df.UnitPrice.count())"
      ],
      "execution_count": null,
      "outputs": [
        {
          "output_type": "stream",
          "text": [
            "Count\n",
            "541909\n"
          ],
          "name": "stdout"
        }
      ]
    },
    {
      "cell_type": "code",
      "metadata": {
        "id": "ImDTFYdaYkAf",
        "colab_type": "code",
        "colab": {
          "base_uri": "https://localhost:8080/",
          "height": 54
        },
        "outputId": "5266e7ce-581c-4a0e-f136-07bb35c009c0"
      },
      "source": [
        "print(\"Sum\")\n",
        "print(df.UnitPrice.sum())"
      ],
      "execution_count": null,
      "outputs": [
        {
          "output_type": "stream",
          "text": [
            "Sum\n",
            "2498803.974\n"
          ],
          "name": "stdout"
        }
      ]
    },
    {
      "cell_type": "code",
      "metadata": {
        "id": "BZ9EnrjZYleQ",
        "colab_type": "code",
        "colab": {
          "base_uri": "https://localhost:8080/",
          "height": 54
        },
        "outputId": "9fc7ec3a-88b1-425f-a86d-1635403bf775"
      },
      "source": [
        "print(\"Standard Deviation\")\n",
        "print(df.UnitPrice.std())"
      ],
      "execution_count": null,
      "outputs": [
        {
          "output_type": "stream",
          "text": [
            "Standard Deviation\n",
            "96.75985306119716\n"
          ],
          "name": "stdout"
        }
      ]
    },
    {
      "cell_type": "code",
      "metadata": {
        "id": "LHV44lFMYnVB",
        "colab_type": "code",
        "colab": {
          "base_uri": "https://localhost:8080/",
          "height": 54
        },
        "outputId": "39d909ad-34a0-4add-a8ec-0b994aada81d"
      },
      "source": [
        "print(\"Variance\")\n",
        "print(df.UnitPrice.var())"
      ],
      "execution_count": null,
      "outputs": [
        {
          "output_type": "stream",
          "text": [
            "Variance\n",
            "9362.469164424467\n"
          ],
          "name": "stdout"
        }
      ]
    },
    {
      "cell_type": "code",
      "metadata": {
        "id": "RBFa5q59Y7M4",
        "colab_type": "code",
        "colab": {}
      },
      "source": [
        "new_df=df[100:]\n",
        "new_df.reset_index(inplace=True)"
      ],
      "execution_count": 28,
      "outputs": []
    },
    {
      "cell_type": "code",
      "metadata": {
        "id": "nI8DMG1HbZi3",
        "colab_type": "code",
        "colab": {}
      },
      "source": [
        "new_df=new_df.sort_values([\"InvoiceDate\"])"
      ],
      "execution_count": 33,
      "outputs": []
    },
    {
      "cell_type": "code",
      "metadata": {
        "id": "SVwCXYmad5IO",
        "colab_type": "code",
        "colab": {}
      },
      "source": [
        "Description=pd.Series(new_df[\"Description\"])"
      ],
      "execution_count": 34,
      "outputs": []
    },
    {
      "cell_type": "code",
      "metadata": {
        "id": "xO91d5aSd_JS",
        "colab_type": "code",
        "colab": {}
      },
      "source": [
        "Description=Description.str.startswith('D')"
      ],
      "execution_count": 35,
      "outputs": []
    },
    {
      "cell_type": "code",
      "metadata": {
        "id": "75i-L3UIgVWT",
        "colab_type": "code",
        "colab": {
          "base_uri": "https://localhost:8080/",
          "height": 424
        },
        "outputId": "771c930c-21c3-44a3-c8ea-9f37349dfe5e"
      },
      "source": [
        "new_df[Description.values]"
      ],
      "execution_count": 38,
      "outputs": [
        {
          "output_type": "execute_result",
          "data": {
            "text/html": [
              "<div>\n",
              "<style scoped>\n",
              "    .dataframe tbody tr th:only-of-type {\n",
              "        vertical-align: middle;\n",
              "    }\n",
              "\n",
              "    .dataframe tbody tr th {\n",
              "        vertical-align: top;\n",
              "    }\n",
              "\n",
              "    .dataframe thead th {\n",
              "        text-align: right;\n",
              "    }\n",
              "</style>\n",
              "<table border=\"1\" class=\"dataframe\">\n",
              "  <thead>\n",
              "    <tr style=\"text-align: right;\">\n",
              "      <th></th>\n",
              "      <th>index</th>\n",
              "      <th>InvoiceNo</th>\n",
              "      <th>StockCode</th>\n",
              "      <th>Description</th>\n",
              "      <th>Quantity</th>\n",
              "      <th>InvoiceDate</th>\n",
              "      <th>UnitPrice</th>\n",
              "      <th>CustomerID</th>\n",
              "      <th>Country</th>\n",
              "    </tr>\n",
              "  </thead>\n",
              "  <tbody>\n",
              "    <tr>\n",
              "      <th>40</th>\n",
              "      <td>140</td>\n",
              "      <td>536381</td>\n",
              "      <td>21523</td>\n",
              "      <td>DOORMAT FANCY FONT HOME SWEET HOME</td>\n",
              "      <td>10</td>\n",
              "      <td>2010-12-01 09:41:00</td>\n",
              "      <td>6.75</td>\n",
              "      <td>15311.0</td>\n",
              "      <td>United Kingdom</td>\n",
              "    </tr>\n",
              "    <tr>\n",
              "      <th>41</th>\n",
              "      <td>141</td>\n",
              "      <td>C536379</td>\n",
              "      <td>D</td>\n",
              "      <td>Discount</td>\n",
              "      <td>-1</td>\n",
              "      <td>2010-12-01 09:41:00</td>\n",
              "      <td>27.50</td>\n",
              "      <td>14527.0</td>\n",
              "      <td>United Kingdom</td>\n",
              "    </tr>\n",
              "    <tr>\n",
              "      <th>85</th>\n",
              "      <td>185</td>\n",
              "      <td>536388</td>\n",
              "      <td>21523</td>\n",
              "      <td>DOORMAT FANCY FONT HOME SWEET HOME</td>\n",
              "      <td>2</td>\n",
              "      <td>2010-12-01 09:59:00</td>\n",
              "      <td>7.95</td>\n",
              "      <td>16250.0</td>\n",
              "      <td>United Kingdom</td>\n",
              "    </tr>\n",
              "    <tr>\n",
              "      <th>128</th>\n",
              "      <td>228</td>\n",
              "      <td>536390</td>\n",
              "      <td>22654</td>\n",
              "      <td>DELUXE SEWING KIT</td>\n",
              "      <td>40</td>\n",
              "      <td>2010-12-01 10:19:00</td>\n",
              "      <td>4.95</td>\n",
              "      <td>17511.0</td>\n",
              "      <td>United Kingdom</td>\n",
              "    </tr>\n",
              "    <tr>\n",
              "      <th>119</th>\n",
              "      <td>219</td>\n",
              "      <td>536390</td>\n",
              "      <td>20668</td>\n",
              "      <td>DISCO BALL CHRISTMAS DECORATION</td>\n",
              "      <td>288</td>\n",
              "      <td>2010-12-01 10:19:00</td>\n",
              "      <td>0.10</td>\n",
              "      <td>17511.0</td>\n",
              "      <td>United Kingdom</td>\n",
              "    </tr>\n",
              "    <tr>\n",
              "      <th>...</th>\n",
              "      <td>...</td>\n",
              "      <td>...</td>\n",
              "      <td>...</td>\n",
              "      <td>...</td>\n",
              "      <td>...</td>\n",
              "      <td>...</td>\n",
              "      <td>...</td>\n",
              "      <td>...</td>\n",
              "      <td>...</td>\n",
              "    </tr>\n",
              "    <tr>\n",
              "      <th>406473</th>\n",
              "      <td>541653</td>\n",
              "      <td>581538</td>\n",
              "      <td>23033</td>\n",
              "      <td>DRAWER KNOB CERAMIC RED</td>\n",
              "      <td>1</td>\n",
              "      <td>2011-12-09 11:34:00</td>\n",
              "      <td>1.45</td>\n",
              "      <td>14446.0</td>\n",
              "      <td>United Kingdom</td>\n",
              "    </tr>\n",
              "    <tr>\n",
              "      <th>406471</th>\n",
              "      <td>541651</td>\n",
              "      <td>581538</td>\n",
              "      <td>23034</td>\n",
              "      <td>DRAWER KNOB CERAMIC BLACK</td>\n",
              "      <td>1</td>\n",
              "      <td>2011-12-09 11:34:00</td>\n",
              "      <td>1.45</td>\n",
              "      <td>14446.0</td>\n",
              "      <td>United Kingdom</td>\n",
              "    </tr>\n",
              "    <tr>\n",
              "      <th>406547</th>\n",
              "      <td>541727</td>\n",
              "      <td>581570</td>\n",
              "      <td>23077</td>\n",
              "      <td>DOUGHNUT LIP GLOSS</td>\n",
              "      <td>20</td>\n",
              "      <td>2011-12-09 11:59:00</td>\n",
              "      <td>1.25</td>\n",
              "      <td>12662.0</td>\n",
              "      <td>Germany</td>\n",
              "    </tr>\n",
              "    <tr>\n",
              "      <th>406553</th>\n",
              "      <td>541733</td>\n",
              "      <td>581571</td>\n",
              "      <td>48187</td>\n",
              "      <td>DOORMAT NEW ENGLAND</td>\n",
              "      <td>1</td>\n",
              "      <td>2011-12-09 12:00:00</td>\n",
              "      <td>8.25</td>\n",
              "      <td>15311.0</td>\n",
              "      <td>United Kingdom</td>\n",
              "    </tr>\n",
              "    <tr>\n",
              "      <th>406713</th>\n",
              "      <td>541893</td>\n",
              "      <td>581586</td>\n",
              "      <td>20685</td>\n",
              "      <td>DOORMAT RED RETROSPOT</td>\n",
              "      <td>10</td>\n",
              "      <td>2011-12-09 12:49:00</td>\n",
              "      <td>7.08</td>\n",
              "      <td>13113.0</td>\n",
              "      <td>United Kingdom</td>\n",
              "    </tr>\n",
              "  </tbody>\n",
              "</table>\n",
              "<p>14535 rows × 9 columns</p>\n",
              "</div>"
            ],
            "text/plain": [
              "         index InvoiceNo StockCode  ... UnitPrice  CustomerID         Country\n",
              "40         140    536381     21523  ...      6.75     15311.0  United Kingdom\n",
              "41         141   C536379         D  ...     27.50     14527.0  United Kingdom\n",
              "85         185    536388     21523  ...      7.95     16250.0  United Kingdom\n",
              "128        228    536390     22654  ...      4.95     17511.0  United Kingdom\n",
              "119        219    536390     20668  ...      0.10     17511.0  United Kingdom\n",
              "...        ...       ...       ...  ...       ...         ...             ...\n",
              "406473  541653    581538     23033  ...      1.45     14446.0  United Kingdom\n",
              "406471  541651    581538     23034  ...      1.45     14446.0  United Kingdom\n",
              "406547  541727    581570     23077  ...      1.25     12662.0         Germany\n",
              "406553  541733    581571     48187  ...      8.25     15311.0  United Kingdom\n",
              "406713  541893    581586     20685  ...      7.08     13113.0  United Kingdom\n",
              "\n",
              "[14535 rows x 9 columns]"
            ]
          },
          "metadata": {
            "tags": []
          },
          "execution_count": 38
        }
      ]
    }
  ]
}