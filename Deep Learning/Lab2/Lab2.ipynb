{
  "nbformat": 4,
  "nbformat_minor": 0,
  "metadata": {
    "colab": {
      "name": "Lab2.ipynb",
      "provenance": [],
      "authorship_tag": "ABX9TyO5DCmlYrtNIPYA+gyXI2/M",
      "include_colab_link": true
    },
    "kernelspec": {
      "name": "python3",
      "display_name": "Python 3"
    }
  },
  "cells": [
    {
      "cell_type": "markdown",
      "metadata": {
        "id": "view-in-github",
        "colab_type": "text"
      },
      "source": [
        "<a href=\"https://colab.research.google.com/github/IIAnirudhII/BU/blob/master/Deep%20Learning/Lab2/Lab2.ipynb\" target=\"_parent\"><img src=\"https://colab.research.google.com/assets/colab-badge.svg\" alt=\"Open In Colab\"/></a>"
      ]
    },
    {
      "cell_type": "markdown",
      "metadata": {
        "id": "ny4cTxt315M_",
        "colab_type": "text"
      },
      "source": [
        "# 1) Working with sheets"
      ]
    },
    {
      "cell_type": "code",
      "metadata": {
        "id": "4C1kKtYsAXU5",
        "colab_type": "code",
        "colab": {}
      },
      "source": [
        "import pandas as pd\n",
        "import numpy as np"
      ],
      "execution_count": 3,
      "outputs": []
    },
    {
      "cell_type": "code",
      "metadata": {
        "id": "aqnfs4IeBbE6",
        "colab_type": "code",
        "colab": {}
      },
      "source": [
        "df=pd.read_excel(\"https://github.com/IIAnirudhII/BU/blob/master/Deep%20Learning/Lab2/data/Online%20Retail.xlsx?raw=true\")\n",
        "df=df.dropna()"
      ],
      "execution_count": 15,
      "outputs": []
    },
    {
      "cell_type": "code",
      "metadata": {
        "id": "s0xIX4lnELm9",
        "colab_type": "code",
        "colab": {
          "base_uri": "https://localhost:8080/",
          "height": 424
        },
        "outputId": "5a8de8b9-5072-4a3a-b7e0-256a49ac5fbb"
      },
      "source": [
        "subset=df.iloc[:, : 4]\n",
        "subset=subset[subset[\"InvoiceNo\"]==536544]\n",
        "(subset)"
      ],
      "execution_count": null,
      "outputs": [
        {
          "output_type": "execute_result",
          "data": {
            "text/html": [
              "<div>\n",
              "<style scoped>\n",
              "    .dataframe tbody tr th:only-of-type {\n",
              "        vertical-align: middle;\n",
              "    }\n",
              "\n",
              "    .dataframe tbody tr th {\n",
              "        vertical-align: top;\n",
              "    }\n",
              "\n",
              "    .dataframe thead th {\n",
              "        text-align: right;\n",
              "    }\n",
              "</style>\n",
              "<table border=\"1\" class=\"dataframe\">\n",
              "  <thead>\n",
              "    <tr style=\"text-align: right;\">\n",
              "      <th></th>\n",
              "      <th>InvoiceNo</th>\n",
              "      <th>StockCode</th>\n",
              "      <th>Description</th>\n",
              "      <th>Quantity</th>\n",
              "    </tr>\n",
              "  </thead>\n",
              "  <tbody>\n",
              "    <tr>\n",
              "      <th>1443</th>\n",
              "      <td>536544</td>\n",
              "      <td>21773</td>\n",
              "      <td>DECORATIVE ROSE BATHROOM BOTTLE</td>\n",
              "      <td>1</td>\n",
              "    </tr>\n",
              "    <tr>\n",
              "      <th>1444</th>\n",
              "      <td>536544</td>\n",
              "      <td>21774</td>\n",
              "      <td>DECORATIVE CATS BATHROOM BOTTLE</td>\n",
              "      <td>2</td>\n",
              "    </tr>\n",
              "    <tr>\n",
              "      <th>1445</th>\n",
              "      <td>536544</td>\n",
              "      <td>21786</td>\n",
              "      <td>POLKADOT RAIN HAT</td>\n",
              "      <td>4</td>\n",
              "    </tr>\n",
              "    <tr>\n",
              "      <th>1446</th>\n",
              "      <td>536544</td>\n",
              "      <td>21787</td>\n",
              "      <td>RAIN PONCHO RETROSPOT</td>\n",
              "      <td>2</td>\n",
              "    </tr>\n",
              "    <tr>\n",
              "      <th>1447</th>\n",
              "      <td>536544</td>\n",
              "      <td>21790</td>\n",
              "      <td>VINTAGE SNAP CARDS</td>\n",
              "      <td>9</td>\n",
              "    </tr>\n",
              "    <tr>\n",
              "      <th>...</th>\n",
              "      <td>...</td>\n",
              "      <td>...</td>\n",
              "      <td>...</td>\n",
              "      <td>...</td>\n",
              "    </tr>\n",
              "    <tr>\n",
              "      <th>1965</th>\n",
              "      <td>536544</td>\n",
              "      <td>21721</td>\n",
              "      <td>CANDY SHOP  STICKER SHEET</td>\n",
              "      <td>1</td>\n",
              "    </tr>\n",
              "    <tr>\n",
              "      <th>1966</th>\n",
              "      <td>536544</td>\n",
              "      <td>21722</td>\n",
              "      <td>SWEET PUDDING STICKER SHEET</td>\n",
              "      <td>1</td>\n",
              "    </tr>\n",
              "    <tr>\n",
              "      <th>1967</th>\n",
              "      <td>536544</td>\n",
              "      <td>21731</td>\n",
              "      <td>RED TOADSTOOL LED NIGHT LIGHT</td>\n",
              "      <td>5</td>\n",
              "    </tr>\n",
              "    <tr>\n",
              "      <th>1968</th>\n",
              "      <td>536544</td>\n",
              "      <td>21742</td>\n",
              "      <td>LARGE ROUND WICKER PLATTER</td>\n",
              "      <td>1</td>\n",
              "    </tr>\n",
              "    <tr>\n",
              "      <th>1969</th>\n",
              "      <td>536544</td>\n",
              "      <td>21758</td>\n",
              "      <td>VINTAGE SHELLS PRINT</td>\n",
              "      <td>1</td>\n",
              "    </tr>\n",
              "  </tbody>\n",
              "</table>\n",
              "<p>527 rows × 4 columns</p>\n",
              "</div>"
            ],
            "text/plain": [
              "     InvoiceNo StockCode                      Description  Quantity\n",
              "1443    536544     21773  DECORATIVE ROSE BATHROOM BOTTLE         1\n",
              "1444    536544     21774  DECORATIVE CATS BATHROOM BOTTLE         2\n",
              "1445    536544     21786               POLKADOT RAIN HAT          4\n",
              "1446    536544     21787            RAIN PONCHO RETROSPOT         2\n",
              "1447    536544     21790               VINTAGE SNAP CARDS         9\n",
              "...        ...       ...                              ...       ...\n",
              "1965    536544     21721        CANDY SHOP  STICKER SHEET         1\n",
              "1966    536544     21722      SWEET PUDDING STICKER SHEET         1\n",
              "1967    536544     21731    RED TOADSTOOL LED NIGHT LIGHT         5\n",
              "1968    536544     21742      LARGE ROUND WICKER PLATTER          1\n",
              "1969    536544     21758             VINTAGE SHELLS PRINT         1\n",
              "\n",
              "[527 rows x 4 columns]"
            ]
          },
          "metadata": {
            "tags": []
          },
          "execution_count": 21
        }
      ]
    },
    {
      "cell_type": "code",
      "metadata": {
        "id": "m_4BRmMypHDx",
        "colab_type": "code",
        "colab": {}
      },
      "source": [
        "data=df.filter(items=['StockCode', 'UnitPrice'])"
      ],
      "execution_count": 16,
      "outputs": []
    },
    {
      "cell_type": "code",
      "metadata": {
        "id": "htUKqv6MH_wZ",
        "colab_type": "code",
        "colab": {
          "base_uri": "https://localhost:8080/",
          "height": 54
        },
        "outputId": "56c1881c-4d0c-4d7e-e7fa-ff2a39fdcabf"
      },
      "source": [
        "print(\"Minimum\")\n",
        "print(data.UnitPrice.min())"
      ],
      "execution_count": 17,
      "outputs": [
        {
          "output_type": "stream",
          "text": [
            "Minimum\n",
            "0.0\n"
          ],
          "name": "stdout"
        }
      ]
    },
    {
      "cell_type": "code",
      "metadata": {
        "id": "lWV5aRVQYb4Q",
        "colab_type": "code",
        "colab": {
          "base_uri": "https://localhost:8080/",
          "height": 54
        },
        "outputId": "0d3c052d-2f07-4a36-d7d7-7423ec461c17"
      },
      "source": [
        "print(\"Maximum\")\n",
        "print(data.UnitPrice.max())"
      ],
      "execution_count": 18,
      "outputs": [
        {
          "output_type": "stream",
          "text": [
            "Maximum\n",
            "38970.0\n"
          ],
          "name": "stdout"
        }
      ]
    },
    {
      "cell_type": "code",
      "metadata": {
        "id": "ZM9kX-4dO9yd",
        "colab_type": "code",
        "colab": {
          "base_uri": "https://localhost:8080/",
          "height": 54
        },
        "outputId": "c8dc307b-9e6a-45eb-ec4f-66258fb25923"
      },
      "source": [
        "print(\"Median\")\n",
        "print(data.UnitPrice.median())"
      ],
      "execution_count": 19,
      "outputs": [
        {
          "output_type": "stream",
          "text": [
            "Median\n",
            "1.95\n"
          ],
          "name": "stdout"
        }
      ]
    },
    {
      "cell_type": "code",
      "metadata": {
        "id": "6V7EFrmLYhAj",
        "colab_type": "code",
        "colab": {
          "base_uri": "https://localhost:8080/",
          "height": 54
        },
        "outputId": "b85da341-702f-4b6c-9955-fabd79fbd1ea"
      },
      "source": [
        "print(\"Mean\")\n",
        "print(data.UnitPrice.mean())"
      ],
      "execution_count": 20,
      "outputs": [
        {
          "output_type": "stream",
          "text": [
            "Mean\n",
            "3.4604710185298773\n"
          ],
          "name": "stdout"
        }
      ]
    },
    {
      "cell_type": "code",
      "metadata": {
        "id": "uqgF3K2tYifF",
        "colab_type": "code",
        "colab": {
          "base_uri": "https://localhost:8080/",
          "height": 54
        },
        "outputId": "e245eb7a-b441-451c-8566-e943280fd702"
      },
      "source": [
        "print(\"Count\")\n",
        "print(data.UnitPrice.count())"
      ],
      "execution_count": 21,
      "outputs": [
        {
          "output_type": "stream",
          "text": [
            "Count\n",
            "406829\n"
          ],
          "name": "stdout"
        }
      ]
    },
    {
      "cell_type": "code",
      "metadata": {
        "id": "ImDTFYdaYkAf",
        "colab_type": "code",
        "colab": {
          "base_uri": "https://localhost:8080/",
          "height": 54
        },
        "outputId": "e5e7a79f-e997-42dc-fa98-0525bbe949cc"
      },
      "source": [
        "print(\"Sum\")\n",
        "print(data.UnitPrice.sum())"
      ],
      "execution_count": 22,
      "outputs": [
        {
          "output_type": "stream",
          "text": [
            "Sum\n",
            "1407819.964\n"
          ],
          "name": "stdout"
        }
      ]
    },
    {
      "cell_type": "code",
      "metadata": {
        "id": "BZ9EnrjZYleQ",
        "colab_type": "code",
        "colab": {
          "base_uri": "https://localhost:8080/",
          "height": 54
        },
        "outputId": "f56d07d4-1c5e-401c-a47c-023e9d05144d"
      },
      "source": [
        "print(\"Standard Deviation\")\n",
        "print(data.UnitPrice.std())"
      ],
      "execution_count": 23,
      "outputs": [
        {
          "output_type": "stream",
          "text": [
            "Standard Deviation\n",
            "69.31516172322651\n"
          ],
          "name": "stdout"
        }
      ]
    },
    {
      "cell_type": "code",
      "metadata": {
        "id": "LHV44lFMYnVB",
        "colab_type": "code",
        "colab": {
          "base_uri": "https://localhost:8080/",
          "height": 54
        },
        "outputId": "7bfb0742-f5b1-415b-eb9e-f8f90bf1870e"
      },
      "source": [
        "print(\"Variance\")\n",
        "print(data.UnitPrice.var())"
      ],
      "execution_count": 25,
      "outputs": [
        {
          "output_type": "stream",
          "text": [
            "Variance\n",
            "4804.591644717046\n"
          ],
          "name": "stdout"
        }
      ]
    },
    {
      "cell_type": "code",
      "metadata": {
        "id": "RBFa5q59Y7M4",
        "colab_type": "code",
        "colab": {}
      },
      "source": [
        "new_df=df[100:]\n",
        "new_df.reset_index(inplace=True)"
      ],
      "execution_count": null,
      "outputs": []
    },
    {
      "cell_type": "code",
      "metadata": {
        "id": "nI8DMG1HbZi3",
        "colab_type": "code",
        "colab": {}
      },
      "source": [
        "new_df=new_df.sort_values([\"InvoiceDate\"])"
      ],
      "execution_count": null,
      "outputs": []
    },
    {
      "cell_type": "code",
      "metadata": {
        "id": "SVwCXYmad5IO",
        "colab_type": "code",
        "colab": {}
      },
      "source": [
        "Description=pd.Series(new_df[\"Description\"])"
      ],
      "execution_count": null,
      "outputs": []
    },
    {
      "cell_type": "code",
      "metadata": {
        "id": "xO91d5aSd_JS",
        "colab_type": "code",
        "colab": {}
      },
      "source": [
        "Description=Description.str.startswith('D')"
      ],
      "execution_count": null,
      "outputs": []
    },
    {
      "cell_type": "code",
      "metadata": {
        "id": "75i-L3UIgVWT",
        "colab_type": "code",
        "colab": {
          "base_uri": "https://localhost:8080/",
          "height": 442
        },
        "outputId": "fad6ba7c-0929-488b-9890-d9bebf1b5eed"
      },
      "source": [
        "print(\"Description starts with D\")\n",
        "new_df[Description.values]"
      ],
      "execution_count": null,
      "outputs": [
        {
          "output_type": "stream",
          "text": [
            "Description starts with D\n"
          ],
          "name": "stdout"
        },
        {
          "output_type": "execute_result",
          "data": {
            "text/html": [
              "<div>\n",
              "<style scoped>\n",
              "    .dataframe tbody tr th:only-of-type {\n",
              "        vertical-align: middle;\n",
              "    }\n",
              "\n",
              "    .dataframe tbody tr th {\n",
              "        vertical-align: top;\n",
              "    }\n",
              "\n",
              "    .dataframe thead th {\n",
              "        text-align: right;\n",
              "    }\n",
              "</style>\n",
              "<table border=\"1\" class=\"dataframe\">\n",
              "  <thead>\n",
              "    <tr style=\"text-align: right;\">\n",
              "      <th></th>\n",
              "      <th>index</th>\n",
              "      <th>InvoiceNo</th>\n",
              "      <th>StockCode</th>\n",
              "      <th>Description</th>\n",
              "      <th>Quantity</th>\n",
              "      <th>InvoiceDate</th>\n",
              "      <th>UnitPrice</th>\n",
              "      <th>CustomerID</th>\n",
              "      <th>Country</th>\n",
              "    </tr>\n",
              "  </thead>\n",
              "  <tbody>\n",
              "    <tr>\n",
              "      <th>40</th>\n",
              "      <td>140</td>\n",
              "      <td>536381</td>\n",
              "      <td>21523</td>\n",
              "      <td>DOORMAT FANCY FONT HOME SWEET HOME</td>\n",
              "      <td>10</td>\n",
              "      <td>2010-12-01 09:41:00</td>\n",
              "      <td>6.75</td>\n",
              "      <td>15311.0</td>\n",
              "      <td>United Kingdom</td>\n",
              "    </tr>\n",
              "    <tr>\n",
              "      <th>41</th>\n",
              "      <td>141</td>\n",
              "      <td>C536379</td>\n",
              "      <td>D</td>\n",
              "      <td>Discount</td>\n",
              "      <td>-1</td>\n",
              "      <td>2010-12-01 09:41:00</td>\n",
              "      <td>27.50</td>\n",
              "      <td>14527.0</td>\n",
              "      <td>United Kingdom</td>\n",
              "    </tr>\n",
              "    <tr>\n",
              "      <th>85</th>\n",
              "      <td>185</td>\n",
              "      <td>536388</td>\n",
              "      <td>21523</td>\n",
              "      <td>DOORMAT FANCY FONT HOME SWEET HOME</td>\n",
              "      <td>2</td>\n",
              "      <td>2010-12-01 09:59:00</td>\n",
              "      <td>7.95</td>\n",
              "      <td>16250.0</td>\n",
              "      <td>United Kingdom</td>\n",
              "    </tr>\n",
              "    <tr>\n",
              "      <th>128</th>\n",
              "      <td>228</td>\n",
              "      <td>536390</td>\n",
              "      <td>22654</td>\n",
              "      <td>DELUXE SEWING KIT</td>\n",
              "      <td>40</td>\n",
              "      <td>2010-12-01 10:19:00</td>\n",
              "      <td>4.95</td>\n",
              "      <td>17511.0</td>\n",
              "      <td>United Kingdom</td>\n",
              "    </tr>\n",
              "    <tr>\n",
              "      <th>119</th>\n",
              "      <td>219</td>\n",
              "      <td>536390</td>\n",
              "      <td>20668</td>\n",
              "      <td>DISCO BALL CHRISTMAS DECORATION</td>\n",
              "      <td>288</td>\n",
              "      <td>2010-12-01 10:19:00</td>\n",
              "      <td>0.10</td>\n",
              "      <td>17511.0</td>\n",
              "      <td>United Kingdom</td>\n",
              "    </tr>\n",
              "    <tr>\n",
              "      <th>...</th>\n",
              "      <td>...</td>\n",
              "      <td>...</td>\n",
              "      <td>...</td>\n",
              "      <td>...</td>\n",
              "      <td>...</td>\n",
              "      <td>...</td>\n",
              "      <td>...</td>\n",
              "      <td>...</td>\n",
              "      <td>...</td>\n",
              "    </tr>\n",
              "    <tr>\n",
              "      <th>406473</th>\n",
              "      <td>541653</td>\n",
              "      <td>581538</td>\n",
              "      <td>23033</td>\n",
              "      <td>DRAWER KNOB CERAMIC RED</td>\n",
              "      <td>1</td>\n",
              "      <td>2011-12-09 11:34:00</td>\n",
              "      <td>1.45</td>\n",
              "      <td>14446.0</td>\n",
              "      <td>United Kingdom</td>\n",
              "    </tr>\n",
              "    <tr>\n",
              "      <th>406471</th>\n",
              "      <td>541651</td>\n",
              "      <td>581538</td>\n",
              "      <td>23034</td>\n",
              "      <td>DRAWER KNOB CERAMIC BLACK</td>\n",
              "      <td>1</td>\n",
              "      <td>2011-12-09 11:34:00</td>\n",
              "      <td>1.45</td>\n",
              "      <td>14446.0</td>\n",
              "      <td>United Kingdom</td>\n",
              "    </tr>\n",
              "    <tr>\n",
              "      <th>406547</th>\n",
              "      <td>541727</td>\n",
              "      <td>581570</td>\n",
              "      <td>23077</td>\n",
              "      <td>DOUGHNUT LIP GLOSS</td>\n",
              "      <td>20</td>\n",
              "      <td>2011-12-09 11:59:00</td>\n",
              "      <td>1.25</td>\n",
              "      <td>12662.0</td>\n",
              "      <td>Germany</td>\n",
              "    </tr>\n",
              "    <tr>\n",
              "      <th>406553</th>\n",
              "      <td>541733</td>\n",
              "      <td>581571</td>\n",
              "      <td>48187</td>\n",
              "      <td>DOORMAT NEW ENGLAND</td>\n",
              "      <td>1</td>\n",
              "      <td>2011-12-09 12:00:00</td>\n",
              "      <td>8.25</td>\n",
              "      <td>15311.0</td>\n",
              "      <td>United Kingdom</td>\n",
              "    </tr>\n",
              "    <tr>\n",
              "      <th>406713</th>\n",
              "      <td>541893</td>\n",
              "      <td>581586</td>\n",
              "      <td>20685</td>\n",
              "      <td>DOORMAT RED RETROSPOT</td>\n",
              "      <td>10</td>\n",
              "      <td>2011-12-09 12:49:00</td>\n",
              "      <td>7.08</td>\n",
              "      <td>13113.0</td>\n",
              "      <td>United Kingdom</td>\n",
              "    </tr>\n",
              "  </tbody>\n",
              "</table>\n",
              "<p>14535 rows × 9 columns</p>\n",
              "</div>"
            ],
            "text/plain": [
              "         index InvoiceNo StockCode  ... UnitPrice  CustomerID         Country\n",
              "40         140    536381     21523  ...      6.75     15311.0  United Kingdom\n",
              "41         141   C536379         D  ...     27.50     14527.0  United Kingdom\n",
              "85         185    536388     21523  ...      7.95     16250.0  United Kingdom\n",
              "128        228    536390     22654  ...      4.95     17511.0  United Kingdom\n",
              "119        219    536390     20668  ...      0.10     17511.0  United Kingdom\n",
              "...        ...       ...       ...  ...       ...         ...             ...\n",
              "406473  541653    581538     23033  ...      1.45     14446.0  United Kingdom\n",
              "406471  541651    581538     23034  ...      1.45     14446.0  United Kingdom\n",
              "406547  541727    581570     23077  ...      1.25     12662.0         Germany\n",
              "406553  541733    581571     48187  ...      8.25     15311.0  United Kingdom\n",
              "406713  541893    581586     20685  ...      7.08     13113.0  United Kingdom\n",
              "\n",
              "[14535 rows x 9 columns]"
            ]
          },
          "metadata": {
            "tags": []
          },
          "execution_count": 11
        }
      ]
    },
    {
      "cell_type": "markdown",
      "metadata": {
        "id": "zp0Nu2gK2B0j",
        "colab_type": "text"
      },
      "source": [
        "# 2) Creating dataframe"
      ]
    },
    {
      "cell_type": "code",
      "metadata": {
        "id": "zcxHXRkI2GTz",
        "colab_type": "code",
        "colab": {
          "base_uri": "https://localhost:8080/",
          "height": 206
        },
        "outputId": "73d3b0e0-dac1-4aa7-8430-36cfbaa17813"
      },
      "source": [
        "# list of lists\n",
        "data = [['Krish', '10-01-2000',85], ['Jack', '15-06-1999',69], ['Juli', '14-12-2000',99],['Kurt', '27-07-2000',81],['Riti', '01-05-2000',90]] \n",
        "  \n",
        "df1 = pd.DataFrame(data, columns = ['Student Name', 'Date of Birth', 'Marks in maths']) \n",
        "  \n",
        "df1 "
      ],
      "execution_count": null,
      "outputs": [
        {
          "output_type": "execute_result",
          "data": {
            "text/html": [
              "<div>\n",
              "<style scoped>\n",
              "    .dataframe tbody tr th:only-of-type {\n",
              "        vertical-align: middle;\n",
              "    }\n",
              "\n",
              "    .dataframe tbody tr th {\n",
              "        vertical-align: top;\n",
              "    }\n",
              "\n",
              "    .dataframe thead th {\n",
              "        text-align: right;\n",
              "    }\n",
              "</style>\n",
              "<table border=\"1\" class=\"dataframe\">\n",
              "  <thead>\n",
              "    <tr style=\"text-align: right;\">\n",
              "      <th></th>\n",
              "      <th>Student Name</th>\n",
              "      <th>Date of Birth</th>\n",
              "      <th>Marks in maths</th>\n",
              "    </tr>\n",
              "  </thead>\n",
              "  <tbody>\n",
              "    <tr>\n",
              "      <th>0</th>\n",
              "      <td>Krish</td>\n",
              "      <td>10-01-2000</td>\n",
              "      <td>85</td>\n",
              "    </tr>\n",
              "    <tr>\n",
              "      <th>1</th>\n",
              "      <td>Jack</td>\n",
              "      <td>15-06-1999</td>\n",
              "      <td>69</td>\n",
              "    </tr>\n",
              "    <tr>\n",
              "      <th>2</th>\n",
              "      <td>Juli</td>\n",
              "      <td>14-12-2000</td>\n",
              "      <td>99</td>\n",
              "    </tr>\n",
              "    <tr>\n",
              "      <th>3</th>\n",
              "      <td>Kurt</td>\n",
              "      <td>27-07-2000</td>\n",
              "      <td>81</td>\n",
              "    </tr>\n",
              "    <tr>\n",
              "      <th>4</th>\n",
              "      <td>Riti</td>\n",
              "      <td>01-05-2000</td>\n",
              "      <td>90</td>\n",
              "    </tr>\n",
              "  </tbody>\n",
              "</table>\n",
              "</div>"
            ],
            "text/plain": [
              "  Student Name Date of Birth  Marks in maths\n",
              "0        Krish    10-01-2000              85\n",
              "1         Jack    15-06-1999              69\n",
              "2         Juli    14-12-2000              99\n",
              "3         Kurt    27-07-2000              81\n",
              "4         Riti    01-05-2000              90"
            ]
          },
          "metadata": {
            "tags": []
          },
          "execution_count": 26
        }
      ]
    },
    {
      "cell_type": "code",
      "metadata": {
        "id": "iJEwn3oT3WLA",
        "colab_type": "code",
        "colab": {
          "base_uri": "https://localhost:8080/",
          "height": 206
        },
        "outputId": "851362e6-0f44-4187-9600-d19cd228b264"
      },
      "source": [
        "# dict of narray/lists\n",
        "data = {'Student Name':['Tom', 'Nick', 'Juli','Kurt','Riti'],  'Date of Birth':['10-01-2000','14-12-2000','27-07-2000' ,'15-06-1999', '14-12-2000'],  'Marks in maths':[77,54,79,76,87]} \n",
        "  \n",
        "df2 = pd.DataFrame(data) \n",
        "  \n",
        "df2"
      ],
      "execution_count": null,
      "outputs": [
        {
          "output_type": "execute_result",
          "data": {
            "text/html": [
              "<div>\n",
              "<style scoped>\n",
              "    .dataframe tbody tr th:only-of-type {\n",
              "        vertical-align: middle;\n",
              "    }\n",
              "\n",
              "    .dataframe tbody tr th {\n",
              "        vertical-align: top;\n",
              "    }\n",
              "\n",
              "    .dataframe thead th {\n",
              "        text-align: right;\n",
              "    }\n",
              "</style>\n",
              "<table border=\"1\" class=\"dataframe\">\n",
              "  <thead>\n",
              "    <tr style=\"text-align: right;\">\n",
              "      <th></th>\n",
              "      <th>Student Name</th>\n",
              "      <th>Date of Birth</th>\n",
              "      <th>Marks in maths</th>\n",
              "    </tr>\n",
              "  </thead>\n",
              "  <tbody>\n",
              "    <tr>\n",
              "      <th>0</th>\n",
              "      <td>Tom</td>\n",
              "      <td>10-01-2000</td>\n",
              "      <td>77</td>\n",
              "    </tr>\n",
              "    <tr>\n",
              "      <th>1</th>\n",
              "      <td>Nick</td>\n",
              "      <td>14-12-2000</td>\n",
              "      <td>54</td>\n",
              "    </tr>\n",
              "    <tr>\n",
              "      <th>2</th>\n",
              "      <td>Juli</td>\n",
              "      <td>27-07-2000</td>\n",
              "      <td>79</td>\n",
              "    </tr>\n",
              "    <tr>\n",
              "      <th>3</th>\n",
              "      <td>Kurt</td>\n",
              "      <td>15-06-1999</td>\n",
              "      <td>76</td>\n",
              "    </tr>\n",
              "    <tr>\n",
              "      <th>4</th>\n",
              "      <td>Riti</td>\n",
              "      <td>14-12-2000</td>\n",
              "      <td>87</td>\n",
              "    </tr>\n",
              "  </tbody>\n",
              "</table>\n",
              "</div>"
            ],
            "text/plain": [
              "  Student Name Date of Birth  Marks in maths\n",
              "0          Tom    10-01-2000              77\n",
              "1         Nick    14-12-2000              54\n",
              "2         Juli    27-07-2000              79\n",
              "3         Kurt    15-06-1999              76\n",
              "4         Riti    14-12-2000              87"
            ]
          },
          "metadata": {
            "tags": []
          },
          "execution_count": 27
        }
      ]
    },
    {
      "cell_type": "code",
      "metadata": {
        "id": "yU1ERRvF4J25",
        "colab_type": "code",
        "colab": {
          "base_uri": "https://localhost:8080/",
          "height": 206
        },
        "outputId": "b87e5b14-1f54-454e-a4d7-cda414f68a0f"
      },
      "source": [
        "# list of dicts\n",
        "data = [{'Student Name': 'Kevin', 'Date of Birth': '01-05-2001', 'Marks in maths':86},\n",
        "        {'Student Name': 'Kurt', 'Date of Birth': '20-03-2000', 'Marks in maths':60},\n",
        "        {'Student Name': 'Nick', 'Date of Birth': '23-02-1999', 'Marks in maths':92},\n",
        "        {'Student Name': 'Tom', 'Date of Birth': '15-04-1999', 'Marks in maths':90},\n",
        "        {'Student Name': 'Riti', 'Date of Birth': '01-07-1999', 'Marks in maths':76}] \n",
        "  \n",
        "df3 = pd.DataFrame(data) \n",
        "  \n",
        "df3"
      ],
      "execution_count": null,
      "outputs": [
        {
          "output_type": "execute_result",
          "data": {
            "text/html": [
              "<div>\n",
              "<style scoped>\n",
              "    .dataframe tbody tr th:only-of-type {\n",
              "        vertical-align: middle;\n",
              "    }\n",
              "\n",
              "    .dataframe tbody tr th {\n",
              "        vertical-align: top;\n",
              "    }\n",
              "\n",
              "    .dataframe thead th {\n",
              "        text-align: right;\n",
              "    }\n",
              "</style>\n",
              "<table border=\"1\" class=\"dataframe\">\n",
              "  <thead>\n",
              "    <tr style=\"text-align: right;\">\n",
              "      <th></th>\n",
              "      <th>Student Name</th>\n",
              "      <th>Date of Birth</th>\n",
              "      <th>Marks in maths</th>\n",
              "    </tr>\n",
              "  </thead>\n",
              "  <tbody>\n",
              "    <tr>\n",
              "      <th>0</th>\n",
              "      <td>Kevin</td>\n",
              "      <td>01-05-2001</td>\n",
              "      <td>86</td>\n",
              "    </tr>\n",
              "    <tr>\n",
              "      <th>1</th>\n",
              "      <td>Kurt</td>\n",
              "      <td>20-03-2000</td>\n",
              "      <td>60</td>\n",
              "    </tr>\n",
              "    <tr>\n",
              "      <th>2</th>\n",
              "      <td>Nick</td>\n",
              "      <td>23-02-1999</td>\n",
              "      <td>92</td>\n",
              "    </tr>\n",
              "    <tr>\n",
              "      <th>3</th>\n",
              "      <td>Tom</td>\n",
              "      <td>15-04-1999</td>\n",
              "      <td>90</td>\n",
              "    </tr>\n",
              "    <tr>\n",
              "      <th>4</th>\n",
              "      <td>Riti</td>\n",
              "      <td>01-07-1999</td>\n",
              "      <td>76</td>\n",
              "    </tr>\n",
              "  </tbody>\n",
              "</table>\n",
              "</div>"
            ],
            "text/plain": [
              "  Student Name Date of Birth  Marks in maths\n",
              "0        Kevin    01-05-2001              86\n",
              "1         Kurt    20-03-2000              60\n",
              "2         Nick    23-02-1999              92\n",
              "3          Tom    15-04-1999              90\n",
              "4         Riti    01-07-1999              76"
            ]
          },
          "metadata": {
            "tags": []
          },
          "execution_count": 30
        }
      ]
    },
    {
      "cell_type": "code",
      "metadata": {
        "id": "TefdCo6_5drR",
        "colab_type": "code",
        "colab": {
          "base_uri": "https://localhost:8080/",
          "height": 206
        },
        "outputId": "2a1ac206-08e1-4074-d1a2-6dd96cf9c9b6"
      },
      "source": [
        "# dict of series\n",
        "\n",
        "d = {'Student Name' : pd.Series(['Tom', 'Nick', 'Jack','Riti','Kurt']), \n",
        "      'Date of Birth' : pd.Series(['10-01-2000', '23-02-1999', '15-06-1999','01-07-1999','15-04-1999']),\n",
        "     'Marks in maths' : pd.Series([75, 45, 90,76,90 ])} \n",
        "  \n",
        "df4 = pd.DataFrame(d) \n",
        "  \n",
        "df4 "
      ],
      "execution_count": null,
      "outputs": [
        {
          "output_type": "execute_result",
          "data": {
            "text/html": [
              "<div>\n",
              "<style scoped>\n",
              "    .dataframe tbody tr th:only-of-type {\n",
              "        vertical-align: middle;\n",
              "    }\n",
              "\n",
              "    .dataframe tbody tr th {\n",
              "        vertical-align: top;\n",
              "    }\n",
              "\n",
              "    .dataframe thead th {\n",
              "        text-align: right;\n",
              "    }\n",
              "</style>\n",
              "<table border=\"1\" class=\"dataframe\">\n",
              "  <thead>\n",
              "    <tr style=\"text-align: right;\">\n",
              "      <th></th>\n",
              "      <th>Student Name</th>\n",
              "      <th>Date of Birth</th>\n",
              "      <th>Marks in maths</th>\n",
              "    </tr>\n",
              "  </thead>\n",
              "  <tbody>\n",
              "    <tr>\n",
              "      <th>0</th>\n",
              "      <td>Tom</td>\n",
              "      <td>10-01-2000</td>\n",
              "      <td>75</td>\n",
              "    </tr>\n",
              "    <tr>\n",
              "      <th>1</th>\n",
              "      <td>Nick</td>\n",
              "      <td>23-02-1999</td>\n",
              "      <td>45</td>\n",
              "    </tr>\n",
              "    <tr>\n",
              "      <th>2</th>\n",
              "      <td>Jack</td>\n",
              "      <td>15-06-1999</td>\n",
              "      <td>90</td>\n",
              "    </tr>\n",
              "    <tr>\n",
              "      <th>3</th>\n",
              "      <td>Riti</td>\n",
              "      <td>01-07-1999</td>\n",
              "      <td>76</td>\n",
              "    </tr>\n",
              "    <tr>\n",
              "      <th>4</th>\n",
              "      <td>Kurt</td>\n",
              "      <td>15-04-1999</td>\n",
              "      <td>90</td>\n",
              "    </tr>\n",
              "  </tbody>\n",
              "</table>\n",
              "</div>"
            ],
            "text/plain": [
              "  Student Name Date of Birth  Marks in maths\n",
              "0          Tom    10-01-2000              75\n",
              "1         Nick    23-02-1999              45\n",
              "2         Jack    15-06-1999              90\n",
              "3         Riti    01-07-1999              76\n",
              "4         Kurt    15-04-1999              90"
            ]
          },
          "metadata": {
            "tags": []
          },
          "execution_count": 31
        }
      ]
    },
    {
      "cell_type": "code",
      "metadata": {
        "id": "7NJRjtc862Hy",
        "colab_type": "code",
        "colab": {
          "base_uri": "https://localhost:8080/",
          "height": 206
        },
        "outputId": "679c5859-90b4-48f0-ae0b-1b2def3e9365"
      },
      "source": [
        "# appending to empty dataframe\n",
        "df5 = pd.DataFrame(columns=['Student Name', 'Date of Birth', 'Marks in english'])\n",
        "\n",
        "df5 = df5.append({'Student Name': 'Riti', 'Date of Birth': '10-01-2000', 'Marks in english': 54}, ignore_index=True)\n",
        "df5 = df5.append({'Student Name': 'Nick', 'Date of Birth': '20-03-2000', 'Marks in english': 98}, ignore_index=True)\n",
        "df5 = df5.append({'Student Name': 'Kevin', 'Date of Birth': '01-05-1999', 'Marks in english': 63}, ignore_index=True)\n",
        "df5 = df5.append({'Student Name': 'Tom', 'Date of Birth': '23-02-1999', 'Marks in english': 38}, ignore_index=True)\n",
        "df5 = df5.append({'Student Name': 'Jack', 'Date of Birth': '01-07-1999', 'Marks in english': 94}, ignore_index=True)\n",
        "\n",
        "df5"
      ],
      "execution_count": null,
      "outputs": [
        {
          "output_type": "execute_result",
          "data": {
            "text/html": [
              "<div>\n",
              "<style scoped>\n",
              "    .dataframe tbody tr th:only-of-type {\n",
              "        vertical-align: middle;\n",
              "    }\n",
              "\n",
              "    .dataframe tbody tr th {\n",
              "        vertical-align: top;\n",
              "    }\n",
              "\n",
              "    .dataframe thead th {\n",
              "        text-align: right;\n",
              "    }\n",
              "</style>\n",
              "<table border=\"1\" class=\"dataframe\">\n",
              "  <thead>\n",
              "    <tr style=\"text-align: right;\">\n",
              "      <th></th>\n",
              "      <th>Student Name</th>\n",
              "      <th>Date of Birth</th>\n",
              "      <th>Marks in english</th>\n",
              "    </tr>\n",
              "  </thead>\n",
              "  <tbody>\n",
              "    <tr>\n",
              "      <th>0</th>\n",
              "      <td>Riti</td>\n",
              "      <td>10-01-2000</td>\n",
              "      <td>54</td>\n",
              "    </tr>\n",
              "    <tr>\n",
              "      <th>1</th>\n",
              "      <td>Nick</td>\n",
              "      <td>20-03-2000</td>\n",
              "      <td>98</td>\n",
              "    </tr>\n",
              "    <tr>\n",
              "      <th>2</th>\n",
              "      <td>Kevin</td>\n",
              "      <td>01-05-1999</td>\n",
              "      <td>63</td>\n",
              "    </tr>\n",
              "    <tr>\n",
              "      <th>3</th>\n",
              "      <td>Tom</td>\n",
              "      <td>23-02-1999</td>\n",
              "      <td>38</td>\n",
              "    </tr>\n",
              "    <tr>\n",
              "      <th>4</th>\n",
              "      <td>Jack</td>\n",
              "      <td>01-07-1999</td>\n",
              "      <td>94</td>\n",
              "    </tr>\n",
              "  </tbody>\n",
              "</table>\n",
              "</div>"
            ],
            "text/plain": [
              "  Student Name Date of Birth Marks in english\n",
              "0         Riti    10-01-2000               54\n",
              "1         Nick    20-03-2000               98\n",
              "2        Kevin    01-05-1999               63\n",
              "3          Tom    23-02-1999               38\n",
              "4         Jack    01-07-1999               94"
            ]
          },
          "metadata": {
            "tags": []
          },
          "execution_count": 32
        }
      ]
    },
    {
      "cell_type": "markdown",
      "metadata": {
        "id": "GL7sXWgS9hBZ",
        "colab_type": "text"
      },
      "source": [
        "# 3) Working with Series"
      ]
    },
    {
      "cell_type": "code",
      "metadata": {
        "id": "CCV0dP_27Dwz",
        "colab_type": "code",
        "colab": {
          "base_uri": "https://localhost:8080/",
          "height": 424
        },
        "outputId": "706ba6c5-60e9-462a-db1b-2c808f125795"
      },
      "source": [
        "s1=pd.Series(np.random.randint(0,100,size=100))\n",
        "s2=pd.Series(np.random.randint(0,100,size=100))\n",
        "\n",
        "add=s1+s2\n",
        "sub=s1-s2\n",
        "mult=s1*s2\n",
        "div=s1/s2\n",
        "\n",
        "data = {'number 1':s1,  'number 2':s2,  'add':add , 'sub':sub ,'mult':mult,'div':div}\n",
        "\n",
        "df6=pd.DataFrame(data)\n",
        "df6"
      ],
      "execution_count": null,
      "outputs": [
        {
          "output_type": "execute_result",
          "data": {
            "text/html": [
              "<div>\n",
              "<style scoped>\n",
              "    .dataframe tbody tr th:only-of-type {\n",
              "        vertical-align: middle;\n",
              "    }\n",
              "\n",
              "    .dataframe tbody tr th {\n",
              "        vertical-align: top;\n",
              "    }\n",
              "\n",
              "    .dataframe thead th {\n",
              "        text-align: right;\n",
              "    }\n",
              "</style>\n",
              "<table border=\"1\" class=\"dataframe\">\n",
              "  <thead>\n",
              "    <tr style=\"text-align: right;\">\n",
              "      <th></th>\n",
              "      <th>number 1</th>\n",
              "      <th>number 2</th>\n",
              "      <th>add</th>\n",
              "      <th>sub</th>\n",
              "      <th>mult</th>\n",
              "      <th>div</th>\n",
              "    </tr>\n",
              "  </thead>\n",
              "  <tbody>\n",
              "    <tr>\n",
              "      <th>0</th>\n",
              "      <td>4</td>\n",
              "      <td>67</td>\n",
              "      <td>71</td>\n",
              "      <td>-63</td>\n",
              "      <td>268</td>\n",
              "      <td>0.059701</td>\n",
              "    </tr>\n",
              "    <tr>\n",
              "      <th>1</th>\n",
              "      <td>97</td>\n",
              "      <td>23</td>\n",
              "      <td>120</td>\n",
              "      <td>74</td>\n",
              "      <td>2231</td>\n",
              "      <td>4.217391</td>\n",
              "    </tr>\n",
              "    <tr>\n",
              "      <th>2</th>\n",
              "      <td>38</td>\n",
              "      <td>38</td>\n",
              "      <td>76</td>\n",
              "      <td>0</td>\n",
              "      <td>1444</td>\n",
              "      <td>1.000000</td>\n",
              "    </tr>\n",
              "    <tr>\n",
              "      <th>3</th>\n",
              "      <td>67</td>\n",
              "      <td>87</td>\n",
              "      <td>154</td>\n",
              "      <td>-20</td>\n",
              "      <td>5829</td>\n",
              "      <td>0.770115</td>\n",
              "    </tr>\n",
              "    <tr>\n",
              "      <th>4</th>\n",
              "      <td>3</td>\n",
              "      <td>86</td>\n",
              "      <td>89</td>\n",
              "      <td>-83</td>\n",
              "      <td>258</td>\n",
              "      <td>0.034884</td>\n",
              "    </tr>\n",
              "    <tr>\n",
              "      <th>...</th>\n",
              "      <td>...</td>\n",
              "      <td>...</td>\n",
              "      <td>...</td>\n",
              "      <td>...</td>\n",
              "      <td>...</td>\n",
              "      <td>...</td>\n",
              "    </tr>\n",
              "    <tr>\n",
              "      <th>95</th>\n",
              "      <td>62</td>\n",
              "      <td>27</td>\n",
              "      <td>89</td>\n",
              "      <td>35</td>\n",
              "      <td>1674</td>\n",
              "      <td>2.296296</td>\n",
              "    </tr>\n",
              "    <tr>\n",
              "      <th>96</th>\n",
              "      <td>58</td>\n",
              "      <td>38</td>\n",
              "      <td>96</td>\n",
              "      <td>20</td>\n",
              "      <td>2204</td>\n",
              "      <td>1.526316</td>\n",
              "    </tr>\n",
              "    <tr>\n",
              "      <th>97</th>\n",
              "      <td>83</td>\n",
              "      <td>53</td>\n",
              "      <td>136</td>\n",
              "      <td>30</td>\n",
              "      <td>4399</td>\n",
              "      <td>1.566038</td>\n",
              "    </tr>\n",
              "    <tr>\n",
              "      <th>98</th>\n",
              "      <td>55</td>\n",
              "      <td>2</td>\n",
              "      <td>57</td>\n",
              "      <td>53</td>\n",
              "      <td>110</td>\n",
              "      <td>27.500000</td>\n",
              "    </tr>\n",
              "    <tr>\n",
              "      <th>99</th>\n",
              "      <td>99</td>\n",
              "      <td>43</td>\n",
              "      <td>142</td>\n",
              "      <td>56</td>\n",
              "      <td>4257</td>\n",
              "      <td>2.302326</td>\n",
              "    </tr>\n",
              "  </tbody>\n",
              "</table>\n",
              "<p>100 rows × 6 columns</p>\n",
              "</div>"
            ],
            "text/plain": [
              "    number 1  number 2  add  sub  mult        div\n",
              "0          4        67   71  -63   268   0.059701\n",
              "1         97        23  120   74  2231   4.217391\n",
              "2         38        38   76    0  1444   1.000000\n",
              "3         67        87  154  -20  5829   0.770115\n",
              "4          3        86   89  -83   258   0.034884\n",
              "..       ...       ...  ...  ...   ...        ...\n",
              "95        62        27   89   35  1674   2.296296\n",
              "96        58        38   96   20  2204   1.526316\n",
              "97        83        53  136   30  4399   1.566038\n",
              "98        55         2   57   53   110  27.500000\n",
              "99        99        43  142   56  4257   2.302326\n",
              "\n",
              "[100 rows x 6 columns]"
            ]
          },
          "metadata": {
            "tags": []
          },
          "execution_count": 41
        }
      ]
    }
  ]
}