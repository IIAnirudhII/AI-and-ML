{
  "nbformat": 4,
  "nbformat_minor": 0,
  "metadata": {
    "colab": {
      "name": "Lab2(part2).ipynb",
      "provenance": [],
      "authorship_tag": "ABX9TyO0LgXwDFSVQ0Yibazm+gnG",
      "include_colab_link": true
    },
    "kernelspec": {
      "name": "python3",
      "display_name": "Python 3"
    }
  },
  "cells": [
    {
      "cell_type": "markdown",
      "metadata": {
        "id": "view-in-github",
        "colab_type": "text"
      },
      "source": [
        "<a href=\"https://colab.research.google.com/github/IIAnirudhII/BU/blob/master/Deep%20Learning/Lab2/Lab2(part2).ipynb\" target=\"_parent\"><img src=\"https://colab.research.google.com/assets/colab-badge.svg\" alt=\"Open In Colab\"/></a>"
      ]
    },
    {
      "cell_type": "code",
      "metadata": {
        "id": "pCTfpof5K26b",
        "colab_type": "code",
        "colab": {}
      },
      "source": [
        "import pandas as pd\n",
        "import numpy as np\n"
      ],
      "execution_count": 43,
      "outputs": []
    },
    {
      "cell_type": "markdown",
      "metadata": {
        "id": "hW0yCuoF-GXf",
        "colab_type": "text"
      },
      "source": [
        "# Part a) Data Wrangling"
      ]
    },
    {
      "cell_type": "code",
      "metadata": {
        "id": "0agGWsf2LLP5",
        "colab_type": "code",
        "colab": {
          "base_uri": "https://localhost:8080/",
          "height": 206
        },
        "outputId": "7c9a2bf6-4042-475f-baca-f2544bd37ab8"
      },
      "source": [
        "df=pd.read_csv(\"https://raw.githubusercontent.com/JWarmenhoven/ISLR-python/master/Notebooks/Data/Advertising.csv\")\n",
        "df.head()"
      ],
      "execution_count": 44,
      "outputs": [
        {
          "output_type": "execute_result",
          "data": {
            "text/html": [
              "<div>\n",
              "<style scoped>\n",
              "    .dataframe tbody tr th:only-of-type {\n",
              "        vertical-align: middle;\n",
              "    }\n",
              "\n",
              "    .dataframe tbody tr th {\n",
              "        vertical-align: top;\n",
              "    }\n",
              "\n",
              "    .dataframe thead th {\n",
              "        text-align: right;\n",
              "    }\n",
              "</style>\n",
              "<table border=\"1\" class=\"dataframe\">\n",
              "  <thead>\n",
              "    <tr style=\"text-align: right;\">\n",
              "      <th></th>\n",
              "      <th>Unnamed: 0</th>\n",
              "      <th>TV</th>\n",
              "      <th>Radio</th>\n",
              "      <th>Newspaper</th>\n",
              "      <th>Sales</th>\n",
              "    </tr>\n",
              "  </thead>\n",
              "  <tbody>\n",
              "    <tr>\n",
              "      <th>0</th>\n",
              "      <td>1</td>\n",
              "      <td>230.1</td>\n",
              "      <td>37.8</td>\n",
              "      <td>69.2</td>\n",
              "      <td>22.1</td>\n",
              "    </tr>\n",
              "    <tr>\n",
              "      <th>1</th>\n",
              "      <td>2</td>\n",
              "      <td>44.5</td>\n",
              "      <td>39.3</td>\n",
              "      <td>45.1</td>\n",
              "      <td>10.4</td>\n",
              "    </tr>\n",
              "    <tr>\n",
              "      <th>2</th>\n",
              "      <td>3</td>\n",
              "      <td>17.2</td>\n",
              "      <td>45.9</td>\n",
              "      <td>69.3</td>\n",
              "      <td>9.3</td>\n",
              "    </tr>\n",
              "    <tr>\n",
              "      <th>3</th>\n",
              "      <td>4</td>\n",
              "      <td>151.5</td>\n",
              "      <td>41.3</td>\n",
              "      <td>58.5</td>\n",
              "      <td>18.5</td>\n",
              "    </tr>\n",
              "    <tr>\n",
              "      <th>4</th>\n",
              "      <td>5</td>\n",
              "      <td>180.8</td>\n",
              "      <td>10.8</td>\n",
              "      <td>58.4</td>\n",
              "      <td>12.9</td>\n",
              "    </tr>\n",
              "  </tbody>\n",
              "</table>\n",
              "</div>"
            ],
            "text/plain": [
              "   Unnamed: 0     TV  Radio  Newspaper  Sales\n",
              "0           1  230.1   37.8       69.2   22.1\n",
              "1           2   44.5   39.3       45.1   10.4\n",
              "2           3   17.2   45.9       69.3    9.3\n",
              "3           4  151.5   41.3       58.5   18.5\n",
              "4           5  180.8   10.8       58.4   12.9"
            ]
          },
          "metadata": {
            "tags": []
          },
          "execution_count": 44
        }
      ]
    },
    {
      "cell_type": "code",
      "metadata": {
        "id": "wbWN9fJlLfy2",
        "colab_type": "code",
        "colab": {}
      },
      "source": [
        "X=df.iloc[:,1:-1].values\n",
        "y=df.iloc[:,-1].values"
      ],
      "execution_count": 45,
      "outputs": []
    },
    {
      "cell_type": "code",
      "metadata": {
        "id": "85z6y1g8mn5a",
        "colab_type": "code",
        "colab": {
          "base_uri": "https://localhost:8080/",
          "height": 35
        },
        "outputId": "50483f93-8f33-4b21-e179-d1181999dbbb"
      },
      "source": [
        "type(X)"
      ],
      "execution_count": 46,
      "outputs": [
        {
          "output_type": "execute_result",
          "data": {
            "text/plain": [
              "numpy.ndarray"
            ]
          },
          "metadata": {
            "tags": []
          },
          "execution_count": 46
        }
      ]
    },
    {
      "cell_type": "code",
      "metadata": {
        "id": "YCzEk29bMWvv",
        "colab_type": "code",
        "colab": {
          "base_uri": "https://localhost:8080/",
          "height": 1000
        },
        "outputId": "46984783-89a2-444f-cf74-09d30c22976f"
      },
      "source": [
        "print(np.isnan(X))\n",
        "print(np.isnan(y))"
      ],
      "execution_count": 47,
      "outputs": [
        {
          "output_type": "stream",
          "text": [
            "[[False False False]\n",
            " [False False False]\n",
            " [False False False]\n",
            " [False False False]\n",
            " [False False False]\n",
            " [False False False]\n",
            " [False False False]\n",
            " [False False False]\n",
            " [False False False]\n",
            " [False False False]\n",
            " [False False False]\n",
            " [False False False]\n",
            " [False False False]\n",
            " [False False False]\n",
            " [False False False]\n",
            " [False False False]\n",
            " [False False False]\n",
            " [False False False]\n",
            " [False False False]\n",
            " [False False False]\n",
            " [False False False]\n",
            " [False False False]\n",
            " [False False False]\n",
            " [False False False]\n",
            " [False False False]\n",
            " [False False False]\n",
            " [False False False]\n",
            " [False False False]\n",
            " [False False False]\n",
            " [False False False]\n",
            " [False False False]\n",
            " [False False False]\n",
            " [False False False]\n",
            " [False False False]\n",
            " [False False False]\n",
            " [False False False]\n",
            " [False False False]\n",
            " [False False False]\n",
            " [False False False]\n",
            " [False False False]\n",
            " [False False False]\n",
            " [False False False]\n",
            " [False False False]\n",
            " [False False False]\n",
            " [False False False]\n",
            " [False False False]\n",
            " [False False False]\n",
            " [False False False]\n",
            " [False False False]\n",
            " [False False False]\n",
            " [False False False]\n",
            " [False False False]\n",
            " [False False False]\n",
            " [False False False]\n",
            " [False False False]\n",
            " [False False False]\n",
            " [False False False]\n",
            " [False False False]\n",
            " [False False False]\n",
            " [False False False]\n",
            " [False False False]\n",
            " [False False False]\n",
            " [False False False]\n",
            " [False False False]\n",
            " [False False False]\n",
            " [False False False]\n",
            " [False False False]\n",
            " [False False False]\n",
            " [False False False]\n",
            " [False False False]\n",
            " [False False False]\n",
            " [False False False]\n",
            " [False False False]\n",
            " [False False False]\n",
            " [False False False]\n",
            " [False False False]\n",
            " [False False False]\n",
            " [False False False]\n",
            " [False False False]\n",
            " [False False False]\n",
            " [False False False]\n",
            " [False False False]\n",
            " [False False False]\n",
            " [False False False]\n",
            " [False False False]\n",
            " [False False False]\n",
            " [False False False]\n",
            " [False False False]\n",
            " [False False False]\n",
            " [False False False]\n",
            " [False False False]\n",
            " [False False False]\n",
            " [False False False]\n",
            " [False False False]\n",
            " [False False False]\n",
            " [False False False]\n",
            " [False False False]\n",
            " [False False False]\n",
            " [False False False]\n",
            " [False False False]\n",
            " [False False False]\n",
            " [False False False]\n",
            " [False False False]\n",
            " [False False False]\n",
            " [False False False]\n",
            " [False False False]\n",
            " [False False False]\n",
            " [False False False]\n",
            " [False False False]\n",
            " [False False False]\n",
            " [False False False]\n",
            " [False False False]\n",
            " [False False False]\n",
            " [False False False]\n",
            " [False False False]\n",
            " [False False False]\n",
            " [False False False]\n",
            " [False False False]\n",
            " [False False False]\n",
            " [False False False]\n",
            " [False False False]\n",
            " [False False False]\n",
            " [False False False]\n",
            " [False False False]\n",
            " [False False False]\n",
            " [False False False]\n",
            " [False False False]\n",
            " [False False False]\n",
            " [False False False]\n",
            " [False False False]\n",
            " [False False False]\n",
            " [False False False]\n",
            " [False False False]\n",
            " [False False False]\n",
            " [False False False]\n",
            " [False False False]\n",
            " [False False False]\n",
            " [False False False]\n",
            " [False False False]\n",
            " [False False False]\n",
            " [False False False]\n",
            " [False False False]\n",
            " [False False False]\n",
            " [False False False]\n",
            " [False False False]\n",
            " [False False False]\n",
            " [False False False]\n",
            " [False False False]\n",
            " [False False False]\n",
            " [False False False]\n",
            " [False False False]\n",
            " [False False False]\n",
            " [False False False]\n",
            " [False False False]\n",
            " [False False False]\n",
            " [False False False]\n",
            " [False False False]\n",
            " [False False False]\n",
            " [False False False]\n",
            " [False False False]\n",
            " [False False False]\n",
            " [False False False]\n",
            " [False False False]\n",
            " [False False False]\n",
            " [False False False]\n",
            " [False False False]\n",
            " [False False False]\n",
            " [False False False]\n",
            " [False False False]\n",
            " [False False False]\n",
            " [False False False]\n",
            " [False False False]\n",
            " [False False False]\n",
            " [False False False]\n",
            " [False False False]\n",
            " [False False False]\n",
            " [False False False]\n",
            " [False False False]\n",
            " [False False False]\n",
            " [False False False]\n",
            " [False False False]\n",
            " [False False False]\n",
            " [False False False]\n",
            " [False False False]\n",
            " [False False False]\n",
            " [False False False]\n",
            " [False False False]\n",
            " [False False False]\n",
            " [False False False]\n",
            " [False False False]\n",
            " [False False False]\n",
            " [False False False]\n",
            " [False False False]\n",
            " [False False False]\n",
            " [False False False]\n",
            " [False False False]\n",
            " [False False False]\n",
            " [False False False]\n",
            " [False False False]\n",
            " [False False False]]\n",
            "[False False False False False False False False False False False False\n",
            " False False False False False False False False False False False False\n",
            " False False False False False False False False False False False False\n",
            " False False False False False False False False False False False False\n",
            " False False False False False False False False False False False False\n",
            " False False False False False False False False False False False False\n",
            " False False False False False False False False False False False False\n",
            " False False False False False False False False False False False False\n",
            " False False False False False False False False False False False False\n",
            " False False False False False False False False False False False False\n",
            " False False False False False False False False False False False False\n",
            " False False False False False False False False False False False False\n",
            " False False False False False False False False False False False False\n",
            " False False False False False False False False False False False False\n",
            " False False False False False False False False False False False False\n",
            " False False False False False False False False False False False False\n",
            " False False False False False False False False]\n"
          ],
          "name": "stdout"
        }
      ]
    },
    {
      "cell_type": "code",
      "metadata": {
        "id": "bTJdWqjkUP6m",
        "colab_type": "code",
        "colab": {
          "base_uri": "https://localhost:8080/",
          "height": 424
        },
        "outputId": "9b1b4dc5-87bf-4e8f-b138-ff0241d7a3f7"
      },
      "source": [
        "sales_type=[]\n",
        "for i in y:\n",
        "  if(i>=15):\n",
        "    sales_type.append(\"high\")\n",
        "  elif(i<15 and i>=5):\n",
        "    sales_type.append(\"Medium\")\n",
        "  else:\n",
        "    sales_type.append(\"Low\")\n",
        "df[\"sales_type\"]=sales_type\n",
        "df"
      ],
      "execution_count": 48,
      "outputs": [
        {
          "output_type": "execute_result",
          "data": {
            "text/html": [
              "<div>\n",
              "<style scoped>\n",
              "    .dataframe tbody tr th:only-of-type {\n",
              "        vertical-align: middle;\n",
              "    }\n",
              "\n",
              "    .dataframe tbody tr th {\n",
              "        vertical-align: top;\n",
              "    }\n",
              "\n",
              "    .dataframe thead th {\n",
              "        text-align: right;\n",
              "    }\n",
              "</style>\n",
              "<table border=\"1\" class=\"dataframe\">\n",
              "  <thead>\n",
              "    <tr style=\"text-align: right;\">\n",
              "      <th></th>\n",
              "      <th>Unnamed: 0</th>\n",
              "      <th>TV</th>\n",
              "      <th>Radio</th>\n",
              "      <th>Newspaper</th>\n",
              "      <th>Sales</th>\n",
              "      <th>sales_type</th>\n",
              "    </tr>\n",
              "  </thead>\n",
              "  <tbody>\n",
              "    <tr>\n",
              "      <th>0</th>\n",
              "      <td>1</td>\n",
              "      <td>230.1</td>\n",
              "      <td>37.8</td>\n",
              "      <td>69.2</td>\n",
              "      <td>22.1</td>\n",
              "      <td>high</td>\n",
              "    </tr>\n",
              "    <tr>\n",
              "      <th>1</th>\n",
              "      <td>2</td>\n",
              "      <td>44.5</td>\n",
              "      <td>39.3</td>\n",
              "      <td>45.1</td>\n",
              "      <td>10.4</td>\n",
              "      <td>Medium</td>\n",
              "    </tr>\n",
              "    <tr>\n",
              "      <th>2</th>\n",
              "      <td>3</td>\n",
              "      <td>17.2</td>\n",
              "      <td>45.9</td>\n",
              "      <td>69.3</td>\n",
              "      <td>9.3</td>\n",
              "      <td>Medium</td>\n",
              "    </tr>\n",
              "    <tr>\n",
              "      <th>3</th>\n",
              "      <td>4</td>\n",
              "      <td>151.5</td>\n",
              "      <td>41.3</td>\n",
              "      <td>58.5</td>\n",
              "      <td>18.5</td>\n",
              "      <td>high</td>\n",
              "    </tr>\n",
              "    <tr>\n",
              "      <th>4</th>\n",
              "      <td>5</td>\n",
              "      <td>180.8</td>\n",
              "      <td>10.8</td>\n",
              "      <td>58.4</td>\n",
              "      <td>12.9</td>\n",
              "      <td>Medium</td>\n",
              "    </tr>\n",
              "    <tr>\n",
              "      <th>...</th>\n",
              "      <td>...</td>\n",
              "      <td>...</td>\n",
              "      <td>...</td>\n",
              "      <td>...</td>\n",
              "      <td>...</td>\n",
              "      <td>...</td>\n",
              "    </tr>\n",
              "    <tr>\n",
              "      <th>195</th>\n",
              "      <td>196</td>\n",
              "      <td>38.2</td>\n",
              "      <td>3.7</td>\n",
              "      <td>13.8</td>\n",
              "      <td>7.6</td>\n",
              "      <td>Medium</td>\n",
              "    </tr>\n",
              "    <tr>\n",
              "      <th>196</th>\n",
              "      <td>197</td>\n",
              "      <td>94.2</td>\n",
              "      <td>4.9</td>\n",
              "      <td>8.1</td>\n",
              "      <td>9.7</td>\n",
              "      <td>Medium</td>\n",
              "    </tr>\n",
              "    <tr>\n",
              "      <th>197</th>\n",
              "      <td>198</td>\n",
              "      <td>177.0</td>\n",
              "      <td>9.3</td>\n",
              "      <td>6.4</td>\n",
              "      <td>12.8</td>\n",
              "      <td>Medium</td>\n",
              "    </tr>\n",
              "    <tr>\n",
              "      <th>198</th>\n",
              "      <td>199</td>\n",
              "      <td>283.6</td>\n",
              "      <td>42.0</td>\n",
              "      <td>66.2</td>\n",
              "      <td>25.5</td>\n",
              "      <td>high</td>\n",
              "    </tr>\n",
              "    <tr>\n",
              "      <th>199</th>\n",
              "      <td>200</td>\n",
              "      <td>232.1</td>\n",
              "      <td>8.6</td>\n",
              "      <td>8.7</td>\n",
              "      <td>13.4</td>\n",
              "      <td>Medium</td>\n",
              "    </tr>\n",
              "  </tbody>\n",
              "</table>\n",
              "<p>200 rows × 6 columns</p>\n",
              "</div>"
            ],
            "text/plain": [
              "     Unnamed: 0     TV  Radio  Newspaper  Sales sales_type\n",
              "0             1  230.1   37.8       69.2   22.1       high\n",
              "1             2   44.5   39.3       45.1   10.4     Medium\n",
              "2             3   17.2   45.9       69.3    9.3     Medium\n",
              "3             4  151.5   41.3       58.5   18.5       high\n",
              "4             5  180.8   10.8       58.4   12.9     Medium\n",
              "..          ...    ...    ...        ...    ...        ...\n",
              "195         196   38.2    3.7       13.8    7.6     Medium\n",
              "196         197   94.2    4.9        8.1    9.7     Medium\n",
              "197         198  177.0    9.3        6.4   12.8     Medium\n",
              "198         199  283.6   42.0       66.2   25.5       high\n",
              "199         200  232.1    8.6        8.7   13.4     Medium\n",
              "\n",
              "[200 rows x 6 columns]"
            ]
          },
          "metadata": {
            "tags": []
          },
          "execution_count": 48
        }
      ]
    },
    {
      "cell_type": "code",
      "metadata": {
        "id": "kCjiSMfen82o",
        "colab_type": "code",
        "colab": {
          "base_uri": "https://localhost:8080/",
          "height": 206
        },
        "outputId": "6927c936-6ba0-4ac3-8a36-3e45baf83756"
      },
      "source": [
        "df.groupby('sales_type').agg({'TV': ['mean', 'min', 'max'],'Radio': ['mean', 'min', 'max'],'Newspaper': ['mean', 'min', 'max']})"
      ],
      "execution_count": 49,
      "outputs": [
        {
          "output_type": "execute_result",
          "data": {
            "text/html": [
              "<div>\n",
              "<style scoped>\n",
              "    .dataframe tbody tr th:only-of-type {\n",
              "        vertical-align: middle;\n",
              "    }\n",
              "\n",
              "    .dataframe tbody tr th {\n",
              "        vertical-align: top;\n",
              "    }\n",
              "\n",
              "    .dataframe thead tr th {\n",
              "        text-align: left;\n",
              "    }\n",
              "\n",
              "    .dataframe thead tr:last-of-type th {\n",
              "        text-align: right;\n",
              "    }\n",
              "</style>\n",
              "<table border=\"1\" class=\"dataframe\">\n",
              "  <thead>\n",
              "    <tr>\n",
              "      <th></th>\n",
              "      <th colspan=\"3\" halign=\"left\">TV</th>\n",
              "      <th colspan=\"3\" halign=\"left\">Radio</th>\n",
              "      <th colspan=\"3\" halign=\"left\">Newspaper</th>\n",
              "    </tr>\n",
              "    <tr>\n",
              "      <th></th>\n",
              "      <th>mean</th>\n",
              "      <th>min</th>\n",
              "      <th>max</th>\n",
              "      <th>mean</th>\n",
              "      <th>min</th>\n",
              "      <th>max</th>\n",
              "      <th>mean</th>\n",
              "      <th>min</th>\n",
              "      <th>max</th>\n",
              "    </tr>\n",
              "    <tr>\n",
              "      <th>sales_type</th>\n",
              "      <th></th>\n",
              "      <th></th>\n",
              "      <th></th>\n",
              "      <th></th>\n",
              "      <th></th>\n",
              "      <th></th>\n",
              "      <th></th>\n",
              "      <th></th>\n",
              "      <th></th>\n",
              "    </tr>\n",
              "  </thead>\n",
              "  <tbody>\n",
              "    <tr>\n",
              "      <th>Low</th>\n",
              "      <td>4.466667</td>\n",
              "      <td>0.7</td>\n",
              "      <td>8.6</td>\n",
              "      <td>17.766667</td>\n",
              "      <td>2.1</td>\n",
              "      <td>39.6</td>\n",
              "      <td>5.133333</td>\n",
              "      <td>1.0</td>\n",
              "      <td>8.7</td>\n",
              "    </tr>\n",
              "    <tr>\n",
              "      <th>Medium</th>\n",
              "      <td>107.710833</td>\n",
              "      <td>5.4</td>\n",
              "      <td>290.7</td>\n",
              "      <td>16.711667</td>\n",
              "      <td>0.0</td>\n",
              "      <td>49.4</td>\n",
              "      <td>28.123333</td>\n",
              "      <td>0.9</td>\n",
              "      <td>114.0</td>\n",
              "    </tr>\n",
              "    <tr>\n",
              "      <th>high</th>\n",
              "      <td>213.893506</td>\n",
              "      <td>93.9</td>\n",
              "      <td>296.4</td>\n",
              "      <td>33.689610</td>\n",
              "      <td>10.6</td>\n",
              "      <td>49.6</td>\n",
              "      <td>35.332468</td>\n",
              "      <td>0.3</td>\n",
              "      <td>100.9</td>\n",
              "    </tr>\n",
              "  </tbody>\n",
              "</table>\n",
              "</div>"
            ],
            "text/plain": [
              "                    TV                   Radio  ...        Newspaper            \n",
              "                  mean   min    max       mean  ...   max       mean  min    max\n",
              "sales_type                                      ...                             \n",
              "Low           4.466667   0.7    8.6  17.766667  ...  39.6   5.133333  1.0    8.7\n",
              "Medium      107.710833   5.4  290.7  16.711667  ...  49.4  28.123333  0.9  114.0\n",
              "high        213.893506  93.9  296.4  33.689610  ...  49.6  35.332468  0.3  100.9\n",
              "\n",
              "[3 rows x 9 columns]"
            ]
          },
          "metadata": {
            "tags": []
          },
          "execution_count": 49
        }
      ]
    },
    {
      "cell_type": "code",
      "metadata": {
        "id": "ER14lyjzth2t",
        "colab_type": "code",
        "colab": {
          "base_uri": "https://localhost:8080/",
          "height": 237
        },
        "outputId": "f5822e2e-b542-4533-ce79-19fbc101d498"
      },
      "source": [
        "df_stacked = df.stack()\n",
        "df_stacked"
      ],
      "execution_count": 50,
      "outputs": [
        {
          "output_type": "execute_result",
          "data": {
            "text/plain": [
              "0    Unnamed: 0         1\n",
              "     TV             230.1\n",
              "     Radio           37.8\n",
              "     Newspaper       69.2\n",
              "     Sales           22.1\n",
              "                    ...  \n",
              "199  TV             232.1\n",
              "     Radio            8.6\n",
              "     Newspaper        8.7\n",
              "     Sales           13.4\n",
              "     sales_type    Medium\n",
              "Length: 1200, dtype: object"
            ]
          },
          "metadata": {
            "tags": []
          },
          "execution_count": 50
        }
      ]
    },
    {
      "cell_type": "code",
      "metadata": {
        "id": "XzfJabMGt-gj",
        "colab_type": "code",
        "colab": {
          "base_uri": "https://localhost:8080/",
          "height": 269
        },
        "outputId": "fe89a68b-456e-4b3d-9cb7-e06f9471fbb1"
      },
      "source": [
        "df.head().pivot(index ='TV', columns ='Sales', values =['sales_type']) "
      ],
      "execution_count": 51,
      "outputs": [
        {
          "output_type": "execute_result",
          "data": {
            "text/html": [
              "<div>\n",
              "<style scoped>\n",
              "    .dataframe tbody tr th:only-of-type {\n",
              "        vertical-align: middle;\n",
              "    }\n",
              "\n",
              "    .dataframe tbody tr th {\n",
              "        vertical-align: top;\n",
              "    }\n",
              "\n",
              "    .dataframe thead tr th {\n",
              "        text-align: left;\n",
              "    }\n",
              "\n",
              "    .dataframe thead tr:last-of-type th {\n",
              "        text-align: right;\n",
              "    }\n",
              "</style>\n",
              "<table border=\"1\" class=\"dataframe\">\n",
              "  <thead>\n",
              "    <tr>\n",
              "      <th></th>\n",
              "      <th colspan=\"5\" halign=\"left\">sales_type</th>\n",
              "    </tr>\n",
              "    <tr>\n",
              "      <th>Sales</th>\n",
              "      <th>9.3</th>\n",
              "      <th>10.4</th>\n",
              "      <th>12.9</th>\n",
              "      <th>18.5</th>\n",
              "      <th>22.1</th>\n",
              "    </tr>\n",
              "    <tr>\n",
              "      <th>TV</th>\n",
              "      <th></th>\n",
              "      <th></th>\n",
              "      <th></th>\n",
              "      <th></th>\n",
              "      <th></th>\n",
              "    </tr>\n",
              "  </thead>\n",
              "  <tbody>\n",
              "    <tr>\n",
              "      <th>17.2</th>\n",
              "      <td>Medium</td>\n",
              "      <td>NaN</td>\n",
              "      <td>NaN</td>\n",
              "      <td>NaN</td>\n",
              "      <td>NaN</td>\n",
              "    </tr>\n",
              "    <tr>\n",
              "      <th>44.5</th>\n",
              "      <td>NaN</td>\n",
              "      <td>Medium</td>\n",
              "      <td>NaN</td>\n",
              "      <td>NaN</td>\n",
              "      <td>NaN</td>\n",
              "    </tr>\n",
              "    <tr>\n",
              "      <th>151.5</th>\n",
              "      <td>NaN</td>\n",
              "      <td>NaN</td>\n",
              "      <td>NaN</td>\n",
              "      <td>high</td>\n",
              "      <td>NaN</td>\n",
              "    </tr>\n",
              "    <tr>\n",
              "      <th>180.8</th>\n",
              "      <td>NaN</td>\n",
              "      <td>NaN</td>\n",
              "      <td>Medium</td>\n",
              "      <td>NaN</td>\n",
              "      <td>NaN</td>\n",
              "    </tr>\n",
              "    <tr>\n",
              "      <th>230.1</th>\n",
              "      <td>NaN</td>\n",
              "      <td>NaN</td>\n",
              "      <td>NaN</td>\n",
              "      <td>NaN</td>\n",
              "      <td>high</td>\n",
              "    </tr>\n",
              "  </tbody>\n",
              "</table>\n",
              "</div>"
            ],
            "text/plain": [
              "      sales_type                            \n",
              "Sales       9.3     10.4    12.9  18.5  22.1\n",
              "TV                                          \n",
              "17.2      Medium     NaN     NaN   NaN   NaN\n",
              "44.5         NaN  Medium     NaN   NaN   NaN\n",
              "151.5        NaN     NaN     NaN  high   NaN\n",
              "180.8        NaN     NaN  Medium   NaN   NaN\n",
              "230.1        NaN     NaN     NaN   NaN  high"
            ]
          },
          "metadata": {
            "tags": []
          },
          "execution_count": 51
        }
      ]
    },
    {
      "cell_type": "markdown",
      "metadata": {
        "id": "77WmuUgE-MlQ",
        "colab_type": "text"
      },
      "source": [
        "# Part b) Data Modeling"
      ]
    },
    {
      "cell_type": "code",
      "metadata": {
        "id": "BMI2y_nayuMs",
        "colab_type": "code",
        "colab": {}
      },
      "source": [
        "for i in range(0,len(df)):\n",
        "  if(i*5<len(df)):\n",
        "    df.at[i*5, 'TV'] = np.nan\n",
        "  if(i*9<len(df)):\n",
        "    df.at[i*9, 'Newspaper'] = np.nan\n"
      ],
      "execution_count": 52,
      "outputs": []
    },
    {
      "cell_type": "code",
      "metadata": {
        "id": "QihNQlpcim13",
        "colab_type": "code",
        "colab": {
          "base_uri": "https://localhost:8080/",
          "height": 424
        },
        "outputId": "24defbb3-8920-4e50-f605-209c37577924"
      },
      "source": [
        "df"
      ],
      "execution_count": 53,
      "outputs": [
        {
          "output_type": "execute_result",
          "data": {
            "text/html": [
              "<div>\n",
              "<style scoped>\n",
              "    .dataframe tbody tr th:only-of-type {\n",
              "        vertical-align: middle;\n",
              "    }\n",
              "\n",
              "    .dataframe tbody tr th {\n",
              "        vertical-align: top;\n",
              "    }\n",
              "\n",
              "    .dataframe thead th {\n",
              "        text-align: right;\n",
              "    }\n",
              "</style>\n",
              "<table border=\"1\" class=\"dataframe\">\n",
              "  <thead>\n",
              "    <tr style=\"text-align: right;\">\n",
              "      <th></th>\n",
              "      <th>Unnamed: 0</th>\n",
              "      <th>TV</th>\n",
              "      <th>Radio</th>\n",
              "      <th>Newspaper</th>\n",
              "      <th>Sales</th>\n",
              "      <th>sales_type</th>\n",
              "    </tr>\n",
              "  </thead>\n",
              "  <tbody>\n",
              "    <tr>\n",
              "      <th>0</th>\n",
              "      <td>1</td>\n",
              "      <td>NaN</td>\n",
              "      <td>37.8</td>\n",
              "      <td>NaN</td>\n",
              "      <td>22.1</td>\n",
              "      <td>high</td>\n",
              "    </tr>\n",
              "    <tr>\n",
              "      <th>1</th>\n",
              "      <td>2</td>\n",
              "      <td>44.5</td>\n",
              "      <td>39.3</td>\n",
              "      <td>45.1</td>\n",
              "      <td>10.4</td>\n",
              "      <td>Medium</td>\n",
              "    </tr>\n",
              "    <tr>\n",
              "      <th>2</th>\n",
              "      <td>3</td>\n",
              "      <td>17.2</td>\n",
              "      <td>45.9</td>\n",
              "      <td>69.3</td>\n",
              "      <td>9.3</td>\n",
              "      <td>Medium</td>\n",
              "    </tr>\n",
              "    <tr>\n",
              "      <th>3</th>\n",
              "      <td>4</td>\n",
              "      <td>151.5</td>\n",
              "      <td>41.3</td>\n",
              "      <td>58.5</td>\n",
              "      <td>18.5</td>\n",
              "      <td>high</td>\n",
              "    </tr>\n",
              "    <tr>\n",
              "      <th>4</th>\n",
              "      <td>5</td>\n",
              "      <td>180.8</td>\n",
              "      <td>10.8</td>\n",
              "      <td>58.4</td>\n",
              "      <td>12.9</td>\n",
              "      <td>Medium</td>\n",
              "    </tr>\n",
              "    <tr>\n",
              "      <th>...</th>\n",
              "      <td>...</td>\n",
              "      <td>...</td>\n",
              "      <td>...</td>\n",
              "      <td>...</td>\n",
              "      <td>...</td>\n",
              "      <td>...</td>\n",
              "    </tr>\n",
              "    <tr>\n",
              "      <th>195</th>\n",
              "      <td>196</td>\n",
              "      <td>NaN</td>\n",
              "      <td>3.7</td>\n",
              "      <td>13.8</td>\n",
              "      <td>7.6</td>\n",
              "      <td>Medium</td>\n",
              "    </tr>\n",
              "    <tr>\n",
              "      <th>196</th>\n",
              "      <td>197</td>\n",
              "      <td>94.2</td>\n",
              "      <td>4.9</td>\n",
              "      <td>8.1</td>\n",
              "      <td>9.7</td>\n",
              "      <td>Medium</td>\n",
              "    </tr>\n",
              "    <tr>\n",
              "      <th>197</th>\n",
              "      <td>198</td>\n",
              "      <td>177.0</td>\n",
              "      <td>9.3</td>\n",
              "      <td>6.4</td>\n",
              "      <td>12.8</td>\n",
              "      <td>Medium</td>\n",
              "    </tr>\n",
              "    <tr>\n",
              "      <th>198</th>\n",
              "      <td>199</td>\n",
              "      <td>283.6</td>\n",
              "      <td>42.0</td>\n",
              "      <td>NaN</td>\n",
              "      <td>25.5</td>\n",
              "      <td>high</td>\n",
              "    </tr>\n",
              "    <tr>\n",
              "      <th>199</th>\n",
              "      <td>200</td>\n",
              "      <td>232.1</td>\n",
              "      <td>8.6</td>\n",
              "      <td>8.7</td>\n",
              "      <td>13.4</td>\n",
              "      <td>Medium</td>\n",
              "    </tr>\n",
              "  </tbody>\n",
              "</table>\n",
              "<p>200 rows × 6 columns</p>\n",
              "</div>"
            ],
            "text/plain": [
              "     Unnamed: 0     TV  Radio  Newspaper  Sales sales_type\n",
              "0             1    NaN   37.8        NaN   22.1       high\n",
              "1             2   44.5   39.3       45.1   10.4     Medium\n",
              "2             3   17.2   45.9       69.3    9.3     Medium\n",
              "3             4  151.5   41.3       58.5   18.5       high\n",
              "4             5  180.8   10.8       58.4   12.9     Medium\n",
              "..          ...    ...    ...        ...    ...        ...\n",
              "195         196    NaN    3.7       13.8    7.6     Medium\n",
              "196         197   94.2    4.9        8.1    9.7     Medium\n",
              "197         198  177.0    9.3        6.4   12.8     Medium\n",
              "198         199  283.6   42.0        NaN   25.5       high\n",
              "199         200  232.1    8.6        8.7   13.4     Medium\n",
              "\n",
              "[200 rows x 6 columns]"
            ]
          },
          "metadata": {
            "tags": []
          },
          "execution_count": 53
        }
      ]
    },
    {
      "cell_type": "code",
      "metadata": {
        "id": "aVPYpX_DBbvJ",
        "colab_type": "code",
        "colab": {
          "base_uri": "https://localhost:8080/",
          "height": 424
        },
        "outputId": "bb98df6c-2c4c-460f-ef98-207aa972953a"
      },
      "source": [
        "df.dropna()"
      ],
      "execution_count": 54,
      "outputs": [
        {
          "output_type": "execute_result",
          "data": {
            "text/html": [
              "<div>\n",
              "<style scoped>\n",
              "    .dataframe tbody tr th:only-of-type {\n",
              "        vertical-align: middle;\n",
              "    }\n",
              "\n",
              "    .dataframe tbody tr th {\n",
              "        vertical-align: top;\n",
              "    }\n",
              "\n",
              "    .dataframe thead th {\n",
              "        text-align: right;\n",
              "    }\n",
              "</style>\n",
              "<table border=\"1\" class=\"dataframe\">\n",
              "  <thead>\n",
              "    <tr style=\"text-align: right;\">\n",
              "      <th></th>\n",
              "      <th>Unnamed: 0</th>\n",
              "      <th>TV</th>\n",
              "      <th>Radio</th>\n",
              "      <th>Newspaper</th>\n",
              "      <th>Sales</th>\n",
              "      <th>sales_type</th>\n",
              "    </tr>\n",
              "  </thead>\n",
              "  <tbody>\n",
              "    <tr>\n",
              "      <th>1</th>\n",
              "      <td>2</td>\n",
              "      <td>44.5</td>\n",
              "      <td>39.3</td>\n",
              "      <td>45.1</td>\n",
              "      <td>10.4</td>\n",
              "      <td>Medium</td>\n",
              "    </tr>\n",
              "    <tr>\n",
              "      <th>2</th>\n",
              "      <td>3</td>\n",
              "      <td>17.2</td>\n",
              "      <td>45.9</td>\n",
              "      <td>69.3</td>\n",
              "      <td>9.3</td>\n",
              "      <td>Medium</td>\n",
              "    </tr>\n",
              "    <tr>\n",
              "      <th>3</th>\n",
              "      <td>4</td>\n",
              "      <td>151.5</td>\n",
              "      <td>41.3</td>\n",
              "      <td>58.5</td>\n",
              "      <td>18.5</td>\n",
              "      <td>high</td>\n",
              "    </tr>\n",
              "    <tr>\n",
              "      <th>4</th>\n",
              "      <td>5</td>\n",
              "      <td>180.8</td>\n",
              "      <td>10.8</td>\n",
              "      <td>58.4</td>\n",
              "      <td>12.9</td>\n",
              "      <td>Medium</td>\n",
              "    </tr>\n",
              "    <tr>\n",
              "      <th>6</th>\n",
              "      <td>7</td>\n",
              "      <td>57.5</td>\n",
              "      <td>32.8</td>\n",
              "      <td>23.5</td>\n",
              "      <td>11.8</td>\n",
              "      <td>Medium</td>\n",
              "    </tr>\n",
              "    <tr>\n",
              "      <th>...</th>\n",
              "      <td>...</td>\n",
              "      <td>...</td>\n",
              "      <td>...</td>\n",
              "      <td>...</td>\n",
              "      <td>...</td>\n",
              "      <td>...</td>\n",
              "    </tr>\n",
              "    <tr>\n",
              "      <th>193</th>\n",
              "      <td>194</td>\n",
              "      <td>166.8</td>\n",
              "      <td>42.0</td>\n",
              "      <td>3.6</td>\n",
              "      <td>19.6</td>\n",
              "      <td>high</td>\n",
              "    </tr>\n",
              "    <tr>\n",
              "      <th>194</th>\n",
              "      <td>195</td>\n",
              "      <td>149.7</td>\n",
              "      <td>35.6</td>\n",
              "      <td>6.0</td>\n",
              "      <td>17.3</td>\n",
              "      <td>high</td>\n",
              "    </tr>\n",
              "    <tr>\n",
              "      <th>196</th>\n",
              "      <td>197</td>\n",
              "      <td>94.2</td>\n",
              "      <td>4.9</td>\n",
              "      <td>8.1</td>\n",
              "      <td>9.7</td>\n",
              "      <td>Medium</td>\n",
              "    </tr>\n",
              "    <tr>\n",
              "      <th>197</th>\n",
              "      <td>198</td>\n",
              "      <td>177.0</td>\n",
              "      <td>9.3</td>\n",
              "      <td>6.4</td>\n",
              "      <td>12.8</td>\n",
              "      <td>Medium</td>\n",
              "    </tr>\n",
              "    <tr>\n",
              "      <th>199</th>\n",
              "      <td>200</td>\n",
              "      <td>232.1</td>\n",
              "      <td>8.6</td>\n",
              "      <td>8.7</td>\n",
              "      <td>13.4</td>\n",
              "      <td>Medium</td>\n",
              "    </tr>\n",
              "  </tbody>\n",
              "</table>\n",
              "<p>142 rows × 6 columns</p>\n",
              "</div>"
            ],
            "text/plain": [
              "     Unnamed: 0     TV  Radio  Newspaper  Sales sales_type\n",
              "1             2   44.5   39.3       45.1   10.4     Medium\n",
              "2             3   17.2   45.9       69.3    9.3     Medium\n",
              "3             4  151.5   41.3       58.5   18.5       high\n",
              "4             5  180.8   10.8       58.4   12.9     Medium\n",
              "6             7   57.5   32.8       23.5   11.8     Medium\n",
              "..          ...    ...    ...        ...    ...        ...\n",
              "193         194  166.8   42.0        3.6   19.6       high\n",
              "194         195  149.7   35.6        6.0   17.3       high\n",
              "196         197   94.2    4.9        8.1    9.7     Medium\n",
              "197         198  177.0    9.3        6.4   12.8     Medium\n",
              "199         200  232.1    8.6        8.7   13.4     Medium\n",
              "\n",
              "[142 rows x 6 columns]"
            ]
          },
          "metadata": {
            "tags": []
          },
          "execution_count": 54
        }
      ]
    },
    {
      "cell_type": "code",
      "metadata": {
        "id": "fxdkG2geCjOd",
        "colab_type": "code",
        "colab": {}
      },
      "source": [
        "df[\"TV\"].fillna(0, inplace = True) "
      ],
      "execution_count": 55,
      "outputs": []
    },
    {
      "cell_type": "code",
      "metadata": {
        "id": "WIUURuAVDrIQ",
        "colab_type": "code",
        "colab": {}
      },
      "source": [
        "df[\"Newspaper\"].fillna(df['Newspaper'].mean(), inplace = True) "
      ],
      "execution_count": 56,
      "outputs": []
    },
    {
      "cell_type": "code",
      "metadata": {
        "id": "h3vZbpwFEAlM",
        "colab_type": "code",
        "colab": {
          "base_uri": "https://localhost:8080/",
          "height": 677
        },
        "outputId": "07c5009f-8e5e-4ce0-c35f-63c8e2e0db4e"
      },
      "source": [
        "df.head(20)"
      ],
      "execution_count": 57,
      "outputs": [
        {
          "output_type": "execute_result",
          "data": {
            "text/html": [
              "<div>\n",
              "<style scoped>\n",
              "    .dataframe tbody tr th:only-of-type {\n",
              "        vertical-align: middle;\n",
              "    }\n",
              "\n",
              "    .dataframe tbody tr th {\n",
              "        vertical-align: top;\n",
              "    }\n",
              "\n",
              "    .dataframe thead th {\n",
              "        text-align: right;\n",
              "    }\n",
              "</style>\n",
              "<table border=\"1\" class=\"dataframe\">\n",
              "  <thead>\n",
              "    <tr style=\"text-align: right;\">\n",
              "      <th></th>\n",
              "      <th>Unnamed: 0</th>\n",
              "      <th>TV</th>\n",
              "      <th>Radio</th>\n",
              "      <th>Newspaper</th>\n",
              "      <th>Sales</th>\n",
              "      <th>sales_type</th>\n",
              "    </tr>\n",
              "  </thead>\n",
              "  <tbody>\n",
              "    <tr>\n",
              "      <th>0</th>\n",
              "      <td>1</td>\n",
              "      <td>0.0</td>\n",
              "      <td>37.8</td>\n",
              "      <td>30.847458</td>\n",
              "      <td>22.1</td>\n",
              "      <td>high</td>\n",
              "    </tr>\n",
              "    <tr>\n",
              "      <th>1</th>\n",
              "      <td>2</td>\n",
              "      <td>44.5</td>\n",
              "      <td>39.3</td>\n",
              "      <td>45.100000</td>\n",
              "      <td>10.4</td>\n",
              "      <td>Medium</td>\n",
              "    </tr>\n",
              "    <tr>\n",
              "      <th>2</th>\n",
              "      <td>3</td>\n",
              "      <td>17.2</td>\n",
              "      <td>45.9</td>\n",
              "      <td>69.300000</td>\n",
              "      <td>9.3</td>\n",
              "      <td>Medium</td>\n",
              "    </tr>\n",
              "    <tr>\n",
              "      <th>3</th>\n",
              "      <td>4</td>\n",
              "      <td>151.5</td>\n",
              "      <td>41.3</td>\n",
              "      <td>58.500000</td>\n",
              "      <td>18.5</td>\n",
              "      <td>high</td>\n",
              "    </tr>\n",
              "    <tr>\n",
              "      <th>4</th>\n",
              "      <td>5</td>\n",
              "      <td>180.8</td>\n",
              "      <td>10.8</td>\n",
              "      <td>58.400000</td>\n",
              "      <td>12.9</td>\n",
              "      <td>Medium</td>\n",
              "    </tr>\n",
              "    <tr>\n",
              "      <th>5</th>\n",
              "      <td>6</td>\n",
              "      <td>0.0</td>\n",
              "      <td>48.9</td>\n",
              "      <td>75.000000</td>\n",
              "      <td>7.2</td>\n",
              "      <td>Medium</td>\n",
              "    </tr>\n",
              "    <tr>\n",
              "      <th>6</th>\n",
              "      <td>7</td>\n",
              "      <td>57.5</td>\n",
              "      <td>32.8</td>\n",
              "      <td>23.500000</td>\n",
              "      <td>11.8</td>\n",
              "      <td>Medium</td>\n",
              "    </tr>\n",
              "    <tr>\n",
              "      <th>7</th>\n",
              "      <td>8</td>\n",
              "      <td>120.2</td>\n",
              "      <td>19.6</td>\n",
              "      <td>11.600000</td>\n",
              "      <td>13.2</td>\n",
              "      <td>Medium</td>\n",
              "    </tr>\n",
              "    <tr>\n",
              "      <th>8</th>\n",
              "      <td>9</td>\n",
              "      <td>8.6</td>\n",
              "      <td>2.1</td>\n",
              "      <td>1.000000</td>\n",
              "      <td>4.8</td>\n",
              "      <td>Low</td>\n",
              "    </tr>\n",
              "    <tr>\n",
              "      <th>9</th>\n",
              "      <td>10</td>\n",
              "      <td>199.8</td>\n",
              "      <td>2.6</td>\n",
              "      <td>30.847458</td>\n",
              "      <td>10.6</td>\n",
              "      <td>Medium</td>\n",
              "    </tr>\n",
              "    <tr>\n",
              "      <th>10</th>\n",
              "      <td>11</td>\n",
              "      <td>0.0</td>\n",
              "      <td>5.8</td>\n",
              "      <td>24.200000</td>\n",
              "      <td>8.6</td>\n",
              "      <td>Medium</td>\n",
              "    </tr>\n",
              "    <tr>\n",
              "      <th>11</th>\n",
              "      <td>12</td>\n",
              "      <td>214.7</td>\n",
              "      <td>24.0</td>\n",
              "      <td>4.000000</td>\n",
              "      <td>17.4</td>\n",
              "      <td>high</td>\n",
              "    </tr>\n",
              "    <tr>\n",
              "      <th>12</th>\n",
              "      <td>13</td>\n",
              "      <td>23.8</td>\n",
              "      <td>35.1</td>\n",
              "      <td>65.900000</td>\n",
              "      <td>9.2</td>\n",
              "      <td>Medium</td>\n",
              "    </tr>\n",
              "    <tr>\n",
              "      <th>13</th>\n",
              "      <td>14</td>\n",
              "      <td>97.5</td>\n",
              "      <td>7.6</td>\n",
              "      <td>7.200000</td>\n",
              "      <td>9.7</td>\n",
              "      <td>Medium</td>\n",
              "    </tr>\n",
              "    <tr>\n",
              "      <th>14</th>\n",
              "      <td>15</td>\n",
              "      <td>204.1</td>\n",
              "      <td>32.9</td>\n",
              "      <td>46.000000</td>\n",
              "      <td>19.0</td>\n",
              "      <td>high</td>\n",
              "    </tr>\n",
              "    <tr>\n",
              "      <th>15</th>\n",
              "      <td>16</td>\n",
              "      <td>0.0</td>\n",
              "      <td>47.7</td>\n",
              "      <td>52.900000</td>\n",
              "      <td>22.4</td>\n",
              "      <td>high</td>\n",
              "    </tr>\n",
              "    <tr>\n",
              "      <th>16</th>\n",
              "      <td>17</td>\n",
              "      <td>67.8</td>\n",
              "      <td>36.6</td>\n",
              "      <td>114.000000</td>\n",
              "      <td>12.5</td>\n",
              "      <td>Medium</td>\n",
              "    </tr>\n",
              "    <tr>\n",
              "      <th>17</th>\n",
              "      <td>18</td>\n",
              "      <td>281.4</td>\n",
              "      <td>39.6</td>\n",
              "      <td>55.800000</td>\n",
              "      <td>24.4</td>\n",
              "      <td>high</td>\n",
              "    </tr>\n",
              "    <tr>\n",
              "      <th>18</th>\n",
              "      <td>19</td>\n",
              "      <td>69.2</td>\n",
              "      <td>20.5</td>\n",
              "      <td>30.847458</td>\n",
              "      <td>11.3</td>\n",
              "      <td>Medium</td>\n",
              "    </tr>\n",
              "    <tr>\n",
              "      <th>19</th>\n",
              "      <td>20</td>\n",
              "      <td>147.3</td>\n",
              "      <td>23.9</td>\n",
              "      <td>19.100000</td>\n",
              "      <td>14.6</td>\n",
              "      <td>Medium</td>\n",
              "    </tr>\n",
              "  </tbody>\n",
              "</table>\n",
              "</div>"
            ],
            "text/plain": [
              "    Unnamed: 0     TV  Radio   Newspaper  Sales sales_type\n",
              "0            1    0.0   37.8   30.847458   22.1       high\n",
              "1            2   44.5   39.3   45.100000   10.4     Medium\n",
              "2            3   17.2   45.9   69.300000    9.3     Medium\n",
              "3            4  151.5   41.3   58.500000   18.5       high\n",
              "4            5  180.8   10.8   58.400000   12.9     Medium\n",
              "5            6    0.0   48.9   75.000000    7.2     Medium\n",
              "6            7   57.5   32.8   23.500000   11.8     Medium\n",
              "7            8  120.2   19.6   11.600000   13.2     Medium\n",
              "8            9    8.6    2.1    1.000000    4.8        Low\n",
              "9           10  199.8    2.6   30.847458   10.6     Medium\n",
              "10          11    0.0    5.8   24.200000    8.6     Medium\n",
              "11          12  214.7   24.0    4.000000   17.4       high\n",
              "12          13   23.8   35.1   65.900000    9.2     Medium\n",
              "13          14   97.5    7.6    7.200000    9.7     Medium\n",
              "14          15  204.1   32.9   46.000000   19.0       high\n",
              "15          16    0.0   47.7   52.900000   22.4       high\n",
              "16          17   67.8   36.6  114.000000   12.5     Medium\n",
              "17          18  281.4   39.6   55.800000   24.4       high\n",
              "18          19   69.2   20.5   30.847458   11.3     Medium\n",
              "19          20  147.3   23.9   19.100000   14.6     Medium"
            ]
          },
          "metadata": {
            "tags": []
          },
          "execution_count": 57
        }
      ]
    },
    {
      "cell_type": "code",
      "metadata": {
        "id": "X1Ivyd-1FZk7",
        "colab_type": "code",
        "colab": {}
      },
      "source": [
        "from sklearn.preprocessing import MinMaxScaler"
      ],
      "execution_count": 58,
      "outputs": []
    },
    {
      "cell_type": "code",
      "metadata": {
        "id": "B1BYqIt6ESwS",
        "colab_type": "code",
        "colab": {}
      },
      "source": [
        "sc_X = MinMaxScaler()\n",
        "X = sc_X.fit_transform(X)"
      ],
      "execution_count": 59,
      "outputs": []
    },
    {
      "cell_type": "code",
      "metadata": {
        "id": "O0VaAI9DaUXs",
        "colab_type": "code",
        "colab": {}
      },
      "source": [
        "from sklearn.model_selection import train_test_split\n",
        "X_train, X_test, y_train, y_test = train_test_split(X, y, test_size = 0.4)"
      ],
      "execution_count": 60,
      "outputs": []
    },
    {
      "cell_type": "code",
      "metadata": {
        "id": "d-IjxjAhqAiI",
        "colab_type": "code",
        "colab": {}
      },
      "source": [
        "from sklearn.linear_model import LinearRegression\n",
        "from sklearn.model_selection import learning_curve\n",
        "regressor=LinearRegression()\n",
        "regressor.fit(X_train,y_train)\n",
        "\n",
        "train_sizes, train_scores, validation_scores=learning_curve( estimator=LinearRegression() , X=X_train , y=y_train)"
      ],
      "execution_count": 71,
      "outputs": []
    },
    {
      "cell_type": "code",
      "metadata": {
        "id": "agONGmMdReYQ",
        "colab_type": "code",
        "colab": {}
      },
      "source": [
        "train_scores_mean = -train_scores.mean(axis = 1)\n",
        "validation_scores_mean = -validation_scores.mean(axis=1)"
      ],
      "execution_count": 74,
      "outputs": []
    },
    {
      "cell_type": "code",
      "metadata": {
        "id": "o49_rFpGQB50",
        "colab_type": "code",
        "colab": {
          "base_uri": "https://localhost:8080/",
          "height": 411
        },
        "outputId": "d16a9bdd-d70a-4040-f716-cf1d09d25bd7"
      },
      "source": [
        "import matplotlib.pyplot as plt\n",
        "\n",
        "plt.style.use('seaborn')\n",
        "plt.plot(train_sizes, -train_scores_mean, label = 'Training error')\n",
        "plt.ylabel('MSE', fontsize = 14)\n",
        "plt.xlabel('Training set size', fontsize = 14)\n",
        "plt.title('Learning curves for a linear regression model', fontsize = 18, y = 1.03)\n",
        "plt.legend()"
      ],
      "execution_count": 75,
      "outputs": [
        {
          "output_type": "execute_result",
          "data": {
            "text/plain": [
              "<matplotlib.legend.Legend at 0x7fc097dd29e8>"
            ]
          },
          "metadata": {
            "tags": []
          },
          "execution_count": 75
        },
        {
          "output_type": "display_data",
          "data": {
            "image/png": "[encoded data removed]",
            "text/plain": [
              "<Figure size 576x396 with 1 Axes>"
            ]
          },
          "metadata": {
            "tags": []
          }
        }
      ]
    },
    {
      "cell_type": "code",
      "metadata": {
        "id": "2WGqZgccTl1g",
        "colab_type": "code",
        "colab": {}
      },
      "source": [
        "y_pred=regressor.predict(X_test)"
      ],
      "execution_count": 73,
      "outputs": []
    },
    {
      "cell_type": "code",
      "metadata": {
        "id": "h6qd5vh5LhYH",
        "colab_type": "code",
        "colab": {
          "base_uri": "https://localhost:8080/",
          "height": 35
        },
        "outputId": "904fda57-39b1-4337-c4c9-a687017e9993"
      },
      "source": [
        "mean_squuared_error=np.mean(np.square(np.subtract(y_pred,y_test)))\n",
        "mean_squuared_error"
      ],
      "execution_count": 76,
      "outputs": [
        {
          "output_type": "execute_result",
          "data": {
            "text/plain": [
              "2.266341584969589"
            ]
          },
          "metadata": {
            "tags": []
          },
          "execution_count": 76
        }
      ]
    },
    {
      "cell_type": "code",
      "metadata": {
        "id": "4RCExkunTRhx",
        "colab_type": "code",
        "colab": {
          "base_uri": "https://localhost:8080/",
          "height": 35
        },
        "outputId": "d24a4b13-1bb2-4c81-b7cb-fc2d78361b20"
      },
      "source": [
        "from sklearn.metrics import r2_score\n",
        "r2_score(y_test, y_pred)"
      ],
      "execution_count": 77,
      "outputs": [
        {
          "output_type": "execute_result",
          "data": {
            "text/plain": [
              "0.9024056654114708"
            ]
          },
          "metadata": {
            "tags": []
          },
          "execution_count": 77
        }
      ]
    },
    {
      "cell_type": "code",
      "metadata": {
        "id": "I-A0zk99sL33",
        "colab_type": "code",
        "colab": {
          "base_uri": "https://localhost:8080/",
          "height": 35
        },
        "outputId": "eda2ab89-7187-4e42-b96e-ba8cb607a9b0"
      },
      "source": [
        "regressor.score(X_train,y_train)"
      ],
      "execution_count": 78,
      "outputs": [
        {
          "output_type": "execute_result",
          "data": {
            "text/plain": [
              "0.8907322864891019"
            ]
          },
          "metadata": {
            "tags": []
          },
          "execution_count": 78
        }
      ]
    },
    {
      "cell_type": "code",
      "metadata": {
        "id": "QgPv8QZ6ALJV",
        "colab_type": "code",
        "colab": {
          "base_uri": "https://localhost:8080/",
          "height": 35
        },
        "outputId": "17322f28-3429-4526-9239-0e45664d4322"
      },
      "source": [
        "regressor.intercept_"
      ],
      "execution_count": 79,
      "outputs": [
        {
          "output_type": "execute_result",
          "data": {
            "text/plain": [
              "3.040265630364104"
            ]
          },
          "metadata": {
            "tags": []
          },
          "execution_count": 79
        }
      ]
    },
    {
      "cell_type": "code",
      "metadata": {
        "id": "Aw8nPpndAQIL",
        "colab_type": "code",
        "colab": {
          "base_uri": "https://localhost:8080/",
          "height": 35
        },
        "outputId": "13f6518d-38f3-4f87-b862-e773b5a6e547"
      },
      "source": [
        "regressor.coef_"
      ],
      "execution_count": 80,
      "outputs": [
        {
          "output_type": "execute_result",
          "data": {
            "text/plain": [
              "array([13.97065448,  9.02719862, -0.78068669])"
            ]
          },
          "metadata": {
            "tags": []
          },
          "execution_count": 80
        }
      ]
    }
  ]
}