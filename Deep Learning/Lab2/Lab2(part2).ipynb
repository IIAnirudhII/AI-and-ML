{
  "nbformat": 4,
  "nbformat_minor": 0,
  "metadata": {
    "colab": {
      "name": "Lab2(part2).ipynb",
      "provenance": [],
      "authorship_tag": "ABX9TyP4IWSpxWjN8xtuOcC7+z6x",
      "include_colab_link": true
    },
    "kernelspec": {
      "name": "python3",
      "display_name": "Python 3"
    }
  },
  "cells": [
    {
      "cell_type": "markdown",
      "metadata": {
        "id": "view-in-github",
        "colab_type": "text"
      },
      "source": [
        "<a href=\"https://colab.research.google.com/github/IIAnirudhII/BU/blob/master/Deep%20Learning/Lab2/Lab2(part2).ipynb\" target=\"_parent\"><img src=\"https://colab.research.google.com/assets/colab-badge.svg\" alt=\"Open In Colab\"/></a>"
      ]
    },
    {
      "cell_type": "code",
      "metadata": {
        "id": "pCTfpof5K26b",
        "colab_type": "code",
        "colab": {}
      },
      "source": [
        "import pandas as pd\n",
        "import numpy as np\n"
      ],
      "execution_count": 1,
      "outputs": []
    },
    {
      "cell_type": "markdown",
      "metadata": {
        "id": "hW0yCuoF-GXf",
        "colab_type": "text"
      },
      "source": [
        "# Part a) Data Wrangling"
      ]
    },
    {
      "cell_type": "code",
      "metadata": {
        "id": "0agGWsf2LLP5",
        "colab_type": "code",
        "colab": {
          "base_uri": "https://localhost:8080/",
          "height": 206
        },
        "outputId": "6b80d0de-4027-4a9c-b38f-8d2a71321663"
      },
      "source": [
        "df=pd.read_csv(\"https://raw.githubusercontent.com/JWarmenhoven/ISLR-python/master/Notebooks/Data/Advertising.csv\")\n",
        "df.head()"
      ],
      "execution_count": 2,
      "outputs": [
        {
          "output_type": "execute_result",
          "data": {
            "text/html": [
              "<div>\n",
              "<style scoped>\n",
              "    .dataframe tbody tr th:only-of-type {\n",
              "        vertical-align: middle;\n",
              "    }\n",
              "\n",
              "    .dataframe tbody tr th {\n",
              "        vertical-align: top;\n",
              "    }\n",
              "\n",
              "    .dataframe thead th {\n",
              "        text-align: right;\n",
              "    }\n",
              "</style>\n",
              "<table border=\"1\" class=\"dataframe\">\n",
              "  <thead>\n",
              "    <tr style=\"text-align: right;\">\n",
              "      <th></th>\n",
              "      <th>Unnamed: 0</th>\n",
              "      <th>TV</th>\n",
              "      <th>Radio</th>\n",
              "      <th>Newspaper</th>\n",
              "      <th>Sales</th>\n",
              "    </tr>\n",
              "  </thead>\n",
              "  <tbody>\n",
              "    <tr>\n",
              "      <th>0</th>\n",
              "      <td>1</td>\n",
              "      <td>230.1</td>\n",
              "      <td>37.8</td>\n",
              "      <td>69.2</td>\n",
              "      <td>22.1</td>\n",
              "    </tr>\n",
              "    <tr>\n",
              "      <th>1</th>\n",
              "      <td>2</td>\n",
              "      <td>44.5</td>\n",
              "      <td>39.3</td>\n",
              "      <td>45.1</td>\n",
              "      <td>10.4</td>\n",
              "    </tr>\n",
              "    <tr>\n",
              "      <th>2</th>\n",
              "      <td>3</td>\n",
              "      <td>17.2</td>\n",
              "      <td>45.9</td>\n",
              "      <td>69.3</td>\n",
              "      <td>9.3</td>\n",
              "    </tr>\n",
              "    <tr>\n",
              "      <th>3</th>\n",
              "      <td>4</td>\n",
              "      <td>151.5</td>\n",
              "      <td>41.3</td>\n",
              "      <td>58.5</td>\n",
              "      <td>18.5</td>\n",
              "    </tr>\n",
              "    <tr>\n",
              "      <th>4</th>\n",
              "      <td>5</td>\n",
              "      <td>180.8</td>\n",
              "      <td>10.8</td>\n",
              "      <td>58.4</td>\n",
              "      <td>12.9</td>\n",
              "    </tr>\n",
              "  </tbody>\n",
              "</table>\n",
              "</div>"
            ],
            "text/plain": [
              "   Unnamed: 0     TV  Radio  Newspaper  Sales\n",
              "0           1  230.1   37.8       69.2   22.1\n",
              "1           2   44.5   39.3       45.1   10.4\n",
              "2           3   17.2   45.9       69.3    9.3\n",
              "3           4  151.5   41.3       58.5   18.5\n",
              "4           5  180.8   10.8       58.4   12.9"
            ]
          },
          "metadata": {
            "tags": []
          },
          "execution_count": 2
        }
      ]
    },
    {
      "cell_type": "code",
      "metadata": {
        "id": "wbWN9fJlLfy2",
        "colab_type": "code",
        "colab": {}
      },
      "source": [
        "X=df.iloc[:,1:-1].values\n",
        "y=df.iloc[:,-1].values"
      ],
      "execution_count": 3,
      "outputs": []
    },
    {
      "cell_type": "code",
      "metadata": {
        "id": "85z6y1g8mn5a",
        "colab_type": "code",
        "colab": {
          "base_uri": "https://localhost:8080/",
          "height": 35
        },
        "outputId": "ac7462ae-d87f-421a-80c0-a74d38b8b7b8"
      },
      "source": [
        "type(X)"
      ],
      "execution_count": 4,
      "outputs": [
        {
          "output_type": "execute_result",
          "data": {
            "text/plain": [
              "numpy.ndarray"
            ]
          },
          "metadata": {
            "tags": []
          },
          "execution_count": 4
        }
      ]
    },
    {
      "cell_type": "code",
      "metadata": {
        "id": "YCzEk29bMWvv",
        "colab_type": "code",
        "colab": {
          "base_uri": "https://localhost:8080/",
          "height": 1000
        },
        "outputId": "6e09b1dc-9336-4873-b643-388bc272b77c"
      },
      "source": [
        "print(np.isnan(X))\n",
        "print(np.isnan(y))"
      ],
      "execution_count": 5,
      "outputs": [
        {
          "output_type": "stream",
          "text": [
            "[[False False False]\n",
            " [False False False]\n",
            " [False False False]\n",
            " [False False False]\n",
            " [False False False]\n",
            " [False False False]\n",
            " [False False False]\n",
            " [False False False]\n",
            " [False False False]\n",
            " [False False False]\n",
            " [False False False]\n",
            " [False False False]\n",
            " [False False False]\n",
            " [False False False]\n",
            " [False False False]\n",
            " [False False False]\n",
            " [False False False]\n",
            " [False False False]\n",
            " [False False False]\n",
            " [False False False]\n",
            " [False False False]\n",
            " [False False False]\n",
            " [False False False]\n",
            " [False False False]\n",
            " [False False False]\n",
            " [False False False]\n",
            " [False False False]\n",
            " [False False False]\n",
            " [False False False]\n",
            " [False False False]\n",
            " [False False False]\n",
            " [False False False]\n",
            " [False False False]\n",
            " [False False False]\n",
            " [False False False]\n",
            " [False False False]\n",
            " [False False False]\n",
            " [False False False]\n",
            " [False False False]\n",
            " [False False False]\n",
            " [False False False]\n",
            " [False False False]\n",
            " [False False False]\n",
            " [False False False]\n",
            " [False False False]\n",
            " [False False False]\n",
            " [False False False]\n",
            " [False False False]\n",
            " [False False False]\n",
            " [False False False]\n",
            " [False False False]\n",
            " [False False False]\n",
            " [False False False]\n",
            " [False False False]\n",
            " [False False False]\n",
            " [False False False]\n",
            " [False False False]\n",
            " [False False False]\n",
            " [False False False]\n",
            " [False False False]\n",
            " [False False False]\n",
            " [False False False]\n",
            " [False False False]\n",
            " [False False False]\n",
            " [False False False]\n",
            " [False False False]\n",
            " [False False False]\n",
            " [False False False]\n",
            " [False False False]\n",
            " [False False False]\n",
            " [False False False]\n",
            " [False False False]\n",
            " [False False False]\n",
            " [False False False]\n",
            " [False False False]\n",
            " [False False False]\n",
            " [False False False]\n",
            " [False False False]\n",
            " [False False False]\n",
            " [False False False]\n",
            " [False False False]\n",
            " [False False False]\n",
            " [False False False]\n",
            " [False False False]\n",
            " [False False False]\n",
            " [False False False]\n",
            " [False False False]\n",
            " [False False False]\n",
            " [False False False]\n",
            " [False False False]\n",
            " [False False False]\n",
            " [False False False]\n",
            " [False False False]\n",
            " [False False False]\n",
            " [False False False]\n",
            " [False False False]\n",
            " [False False False]\n",
            " [False False False]\n",
            " [False False False]\n",
            " [False False False]\n",
            " [False False False]\n",
            " [False False False]\n",
            " [False False False]\n",
            " [False False False]\n",
            " [False False False]\n",
            " [False False False]\n",
            " [False False False]\n",
            " [False False False]\n",
            " [False False False]\n",
            " [False False False]\n",
            " [False False False]\n",
            " [False False False]\n",
            " [False False False]\n",
            " [False False False]\n",
            " [False False False]\n",
            " [False False False]\n",
            " [False False False]\n",
            " [False False False]\n",
            " [False False False]\n",
            " [False False False]\n",
            " [False False False]\n",
            " [False False False]\n",
            " [False False False]\n",
            " [False False False]\n",
            " [False False False]\n",
            " [False False False]\n",
            " [False False False]\n",
            " [False False False]\n",
            " [False False False]\n",
            " [False False False]\n",
            " [False False False]\n",
            " [False False False]\n",
            " [False False False]\n",
            " [False False False]\n",
            " [False False False]\n",
            " [False False False]\n",
            " [False False False]\n",
            " [False False False]\n",
            " [False False False]\n",
            " [False False False]\n",
            " [False False False]\n",
            " [False False False]\n",
            " [False False False]\n",
            " [False False False]\n",
            " [False False False]\n",
            " [False False False]\n",
            " [False False False]\n",
            " [False False False]\n",
            " [False False False]\n",
            " [False False False]\n",
            " [False False False]\n",
            " [False False False]\n",
            " [False False False]\n",
            " [False False False]\n",
            " [False False False]\n",
            " [False False False]\n",
            " [False False False]\n",
            " [False False False]\n",
            " [False False False]\n",
            " [False False False]\n",
            " [False False False]\n",
            " [False False False]\n",
            " [False False False]\n",
            " [False False False]\n",
            " [False False False]\n",
            " [False False False]\n",
            " [False False False]\n",
            " [False False False]\n",
            " [False False False]\n",
            " [False False False]\n",
            " [False False False]\n",
            " [False False False]\n",
            " [False False False]\n",
            " [False False False]\n",
            " [False False False]\n",
            " [False False False]\n",
            " [False False False]\n",
            " [False False False]\n",
            " [False False False]\n",
            " [False False False]\n",
            " [False False False]\n",
            " [False False False]\n",
            " [False False False]\n",
            " [False False False]\n",
            " [False False False]\n",
            " [False False False]\n",
            " [False False False]\n",
            " [False False False]\n",
            " [False False False]\n",
            " [False False False]\n",
            " [False False False]\n",
            " [False False False]\n",
            " [False False False]\n",
            " [False False False]\n",
            " [False False False]\n",
            " [False False False]\n",
            " [False False False]\n",
            " [False False False]\n",
            " [False False False]\n",
            " [False False False]]\n",
            "[False False False False False False False False False False False False\n",
            " False False False False False False False False False False False False\n",
            " False False False False False False False False False False False False\n",
            " False False False False False False False False False False False False\n",
            " False False False False False False False False False False False False\n",
            " False False False False False False False False False False False False\n",
            " False False False False False False False False False False False False\n",
            " False False False False False False False False False False False False\n",
            " False False False False False False False False False False False False\n",
            " False False False False False False False False False False False False\n",
            " False False False False False False False False False False False False\n",
            " False False False False False False False False False False False False\n",
            " False False False False False False False False False False False False\n",
            " False False False False False False False False False False False False\n",
            " False False False False False False False False False False False False\n",
            " False False False False False False False False False False False False\n",
            " False False False False False False False False]\n"
          ],
          "name": "stdout"
        }
      ]
    },
    {
      "cell_type": "code",
      "metadata": {
        "id": "bTJdWqjkUP6m",
        "colab_type": "code",
        "colab": {
          "base_uri": "https://localhost:8080/",
          "height": 424
        },
        "outputId": "42e33907-6a3c-4ea4-a114-f07746ebec04"
      },
      "source": [
        "sales_type=[]\n",
        "for i in y:\n",
        "  if(i>=15):\n",
        "    sales_type.append(\"high\")\n",
        "  elif(i<15 and i>=5):\n",
        "    sales_type.append(\"Medium\")\n",
        "  else:\n",
        "    sales_type.append(\"Low\")\n",
        "df[\"sales_type\"]=sales_type\n",
        "df"
      ],
      "execution_count": 6,
      "outputs": [
        {
          "output_type": "execute_result",
          "data": {
            "text/html": [
              "<div>\n",
              "<style scoped>\n",
              "    .dataframe tbody tr th:only-of-type {\n",
              "        vertical-align: middle;\n",
              "    }\n",
              "\n",
              "    .dataframe tbody tr th {\n",
              "        vertical-align: top;\n",
              "    }\n",
              "\n",
              "    .dataframe thead th {\n",
              "        text-align: right;\n",
              "    }\n",
              "</style>\n",
              "<table border=\"1\" class=\"dataframe\">\n",
              "  <thead>\n",
              "    <tr style=\"text-align: right;\">\n",
              "      <th></th>\n",
              "      <th>Unnamed: 0</th>\n",
              "      <th>TV</th>\n",
              "      <th>Radio</th>\n",
              "      <th>Newspaper</th>\n",
              "      <th>Sales</th>\n",
              "      <th>sales_type</th>\n",
              "    </tr>\n",
              "  </thead>\n",
              "  <tbody>\n",
              "    <tr>\n",
              "      <th>0</th>\n",
              "      <td>1</td>\n",
              "      <td>230.1</td>\n",
              "      <td>37.8</td>\n",
              "      <td>69.2</td>\n",
              "      <td>22.1</td>\n",
              "      <td>high</td>\n",
              "    </tr>\n",
              "    <tr>\n",
              "      <th>1</th>\n",
              "      <td>2</td>\n",
              "      <td>44.5</td>\n",
              "      <td>39.3</td>\n",
              "      <td>45.1</td>\n",
              "      <td>10.4</td>\n",
              "      <td>Medium</td>\n",
              "    </tr>\n",
              "    <tr>\n",
              "      <th>2</th>\n",
              "      <td>3</td>\n",
              "      <td>17.2</td>\n",
              "      <td>45.9</td>\n",
              "      <td>69.3</td>\n",
              "      <td>9.3</td>\n",
              "      <td>Medium</td>\n",
              "    </tr>\n",
              "    <tr>\n",
              "      <th>3</th>\n",
              "      <td>4</td>\n",
              "      <td>151.5</td>\n",
              "      <td>41.3</td>\n",
              "      <td>58.5</td>\n",
              "      <td>18.5</td>\n",
              "      <td>high</td>\n",
              "    </tr>\n",
              "    <tr>\n",
              "      <th>4</th>\n",
              "      <td>5</td>\n",
              "      <td>180.8</td>\n",
              "      <td>10.8</td>\n",
              "      <td>58.4</td>\n",
              "      <td>12.9</td>\n",
              "      <td>Medium</td>\n",
              "    </tr>\n",
              "    <tr>\n",
              "      <th>...</th>\n",
              "      <td>...</td>\n",
              "      <td>...</td>\n",
              "      <td>...</td>\n",
              "      <td>...</td>\n",
              "      <td>...</td>\n",
              "      <td>...</td>\n",
              "    </tr>\n",
              "    <tr>\n",
              "      <th>195</th>\n",
              "      <td>196</td>\n",
              "      <td>38.2</td>\n",
              "      <td>3.7</td>\n",
              "      <td>13.8</td>\n",
              "      <td>7.6</td>\n",
              "      <td>Medium</td>\n",
              "    </tr>\n",
              "    <tr>\n",
              "      <th>196</th>\n",
              "      <td>197</td>\n",
              "      <td>94.2</td>\n",
              "      <td>4.9</td>\n",
              "      <td>8.1</td>\n",
              "      <td>9.7</td>\n",
              "      <td>Medium</td>\n",
              "    </tr>\n",
              "    <tr>\n",
              "      <th>197</th>\n",
              "      <td>198</td>\n",
              "      <td>177.0</td>\n",
              "      <td>9.3</td>\n",
              "      <td>6.4</td>\n",
              "      <td>12.8</td>\n",
              "      <td>Medium</td>\n",
              "    </tr>\n",
              "    <tr>\n",
              "      <th>198</th>\n",
              "      <td>199</td>\n",
              "      <td>283.6</td>\n",
              "      <td>42.0</td>\n",
              "      <td>66.2</td>\n",
              "      <td>25.5</td>\n",
              "      <td>high</td>\n",
              "    </tr>\n",
              "    <tr>\n",
              "      <th>199</th>\n",
              "      <td>200</td>\n",
              "      <td>232.1</td>\n",
              "      <td>8.6</td>\n",
              "      <td>8.7</td>\n",
              "      <td>13.4</td>\n",
              "      <td>Medium</td>\n",
              "    </tr>\n",
              "  </tbody>\n",
              "</table>\n",
              "<p>200 rows × 6 columns</p>\n",
              "</div>"
            ],
            "text/plain": [
              "     Unnamed: 0     TV  Radio  Newspaper  Sales sales_type\n",
              "0             1  230.1   37.8       69.2   22.1       high\n",
              "1             2   44.5   39.3       45.1   10.4     Medium\n",
              "2             3   17.2   45.9       69.3    9.3     Medium\n",
              "3             4  151.5   41.3       58.5   18.5       high\n",
              "4             5  180.8   10.8       58.4   12.9     Medium\n",
              "..          ...    ...    ...        ...    ...        ...\n",
              "195         196   38.2    3.7       13.8    7.6     Medium\n",
              "196         197   94.2    4.9        8.1    9.7     Medium\n",
              "197         198  177.0    9.3        6.4   12.8     Medium\n",
              "198         199  283.6   42.0       66.2   25.5       high\n",
              "199         200  232.1    8.6        8.7   13.4     Medium\n",
              "\n",
              "[200 rows x 6 columns]"
            ]
          },
          "metadata": {
            "tags": []
          },
          "execution_count": 6
        }
      ]
    },
    {
      "cell_type": "code",
      "metadata": {
        "id": "kCjiSMfen82o",
        "colab_type": "code",
        "colab": {
          "base_uri": "https://localhost:8080/",
          "height": 206
        },
        "outputId": "960ffffd-6f89-443a-d573-22361acc6b50"
      },
      "source": [
        "df.groupby('sales_type').agg({'TV': ['mean', 'min', 'max'],'Radio': ['mean', 'min', 'max'],'Newspaper': ['mean', 'min', 'max']})"
      ],
      "execution_count": 7,
      "outputs": [
        {
          "output_type": "execute_result",
          "data": {
            "text/html": [
              "<div>\n",
              "<style scoped>\n",
              "    .dataframe tbody tr th:only-of-type {\n",
              "        vertical-align: middle;\n",
              "    }\n",
              "\n",
              "    .dataframe tbody tr th {\n",
              "        vertical-align: top;\n",
              "    }\n",
              "\n",
              "    .dataframe thead tr th {\n",
              "        text-align: left;\n",
              "    }\n",
              "\n",
              "    .dataframe thead tr:last-of-type th {\n",
              "        text-align: right;\n",
              "    }\n",
              "</style>\n",
              "<table border=\"1\" class=\"dataframe\">\n",
              "  <thead>\n",
              "    <tr>\n",
              "      <th></th>\n",
              "      <th colspan=\"3\" halign=\"left\">TV</th>\n",
              "      <th colspan=\"3\" halign=\"left\">Radio</th>\n",
              "      <th colspan=\"3\" halign=\"left\">Newspaper</th>\n",
              "    </tr>\n",
              "    <tr>\n",
              "      <th></th>\n",
              "      <th>mean</th>\n",
              "      <th>min</th>\n",
              "      <th>max</th>\n",
              "      <th>mean</th>\n",
              "      <th>min</th>\n",
              "      <th>max</th>\n",
              "      <th>mean</th>\n",
              "      <th>min</th>\n",
              "      <th>max</th>\n",
              "    </tr>\n",
              "    <tr>\n",
              "      <th>sales_type</th>\n",
              "      <th></th>\n",
              "      <th></th>\n",
              "      <th></th>\n",
              "      <th></th>\n",
              "      <th></th>\n",
              "      <th></th>\n",
              "      <th></th>\n",
              "      <th></th>\n",
              "      <th></th>\n",
              "    </tr>\n",
              "  </thead>\n",
              "  <tbody>\n",
              "    <tr>\n",
              "      <th>Low</th>\n",
              "      <td>4.466667</td>\n",
              "      <td>0.7</td>\n",
              "      <td>8.6</td>\n",
              "      <td>17.766667</td>\n",
              "      <td>2.1</td>\n",
              "      <td>39.6</td>\n",
              "      <td>5.133333</td>\n",
              "      <td>1.0</td>\n",
              "      <td>8.7</td>\n",
              "    </tr>\n",
              "    <tr>\n",
              "      <th>Medium</th>\n",
              "      <td>107.710833</td>\n",
              "      <td>5.4</td>\n",
              "      <td>290.7</td>\n",
              "      <td>16.711667</td>\n",
              "      <td>0.0</td>\n",
              "      <td>49.4</td>\n",
              "      <td>28.123333</td>\n",
              "      <td>0.9</td>\n",
              "      <td>114.0</td>\n",
              "    </tr>\n",
              "    <tr>\n",
              "      <th>high</th>\n",
              "      <td>213.893506</td>\n",
              "      <td>93.9</td>\n",
              "      <td>296.4</td>\n",
              "      <td>33.689610</td>\n",
              "      <td>10.6</td>\n",
              "      <td>49.6</td>\n",
              "      <td>35.332468</td>\n",
              "      <td>0.3</td>\n",
              "      <td>100.9</td>\n",
              "    </tr>\n",
              "  </tbody>\n",
              "</table>\n",
              "</div>"
            ],
            "text/plain": [
              "                    TV                   Radio  ...        Newspaper            \n",
              "                  mean   min    max       mean  ...   max       mean  min    max\n",
              "sales_type                                      ...                             \n",
              "Low           4.466667   0.7    8.6  17.766667  ...  39.6   5.133333  1.0    8.7\n",
              "Medium      107.710833   5.4  290.7  16.711667  ...  49.4  28.123333  0.9  114.0\n",
              "high        213.893506  93.9  296.4  33.689610  ...  49.6  35.332468  0.3  100.9\n",
              "\n",
              "[3 rows x 9 columns]"
            ]
          },
          "metadata": {
            "tags": []
          },
          "execution_count": 7
        }
      ]
    },
    {
      "cell_type": "code",
      "metadata": {
        "id": "ER14lyjzth2t",
        "colab_type": "code",
        "colab": {
          "base_uri": "https://localhost:8080/",
          "height": 237
        },
        "outputId": "43736289-346f-4481-9e57-a93263e20bea"
      },
      "source": [
        "df_stacked = df.stack()\n",
        "df_stacked"
      ],
      "execution_count": 8,
      "outputs": [
        {
          "output_type": "execute_result",
          "data": {
            "text/plain": [
              "0    Unnamed: 0         1\n",
              "     TV             230.1\n",
              "     Radio           37.8\n",
              "     Newspaper       69.2\n",
              "     Sales           22.1\n",
              "                    ...  \n",
              "199  TV             232.1\n",
              "     Radio            8.6\n",
              "     Newspaper        8.7\n",
              "     Sales           13.4\n",
              "     sales_type    Medium\n",
              "Length: 1200, dtype: object"
            ]
          },
          "metadata": {
            "tags": []
          },
          "execution_count": 8
        }
      ]
    },
    {
      "cell_type": "code",
      "metadata": {
        "id": "XzfJabMGt-gj",
        "colab_type": "code",
        "colab": {
          "base_uri": "https://localhost:8080/",
          "height": 269
        },
        "outputId": "a73748da-a79d-4a73-a227-3c19e81e0ce6"
      },
      "source": [
        "df.head().pivot(index ='TV', columns ='Sales', values =['sales_type']) "
      ],
      "execution_count": 9,
      "outputs": [
        {
          "output_type": "execute_result",
          "data": {
            "text/html": [
              "<div>\n",
              "<style scoped>\n",
              "    .dataframe tbody tr th:only-of-type {\n",
              "        vertical-align: middle;\n",
              "    }\n",
              "\n",
              "    .dataframe tbody tr th {\n",
              "        vertical-align: top;\n",
              "    }\n",
              "\n",
              "    .dataframe thead tr th {\n",
              "        text-align: left;\n",
              "    }\n",
              "\n",
              "    .dataframe thead tr:last-of-type th {\n",
              "        text-align: right;\n",
              "    }\n",
              "</style>\n",
              "<table border=\"1\" class=\"dataframe\">\n",
              "  <thead>\n",
              "    <tr>\n",
              "      <th></th>\n",
              "      <th colspan=\"5\" halign=\"left\">sales_type</th>\n",
              "    </tr>\n",
              "    <tr>\n",
              "      <th>Sales</th>\n",
              "      <th>9.3</th>\n",
              "      <th>10.4</th>\n",
              "      <th>12.9</th>\n",
              "      <th>18.5</th>\n",
              "      <th>22.1</th>\n",
              "    </tr>\n",
              "    <tr>\n",
              "      <th>TV</th>\n",
              "      <th></th>\n",
              "      <th></th>\n",
              "      <th></th>\n",
              "      <th></th>\n",
              "      <th></th>\n",
              "    </tr>\n",
              "  </thead>\n",
              "  <tbody>\n",
              "    <tr>\n",
              "      <th>17.2</th>\n",
              "      <td>Medium</td>\n",
              "      <td>NaN</td>\n",
              "      <td>NaN</td>\n",
              "      <td>NaN</td>\n",
              "      <td>NaN</td>\n",
              "    </tr>\n",
              "    <tr>\n",
              "      <th>44.5</th>\n",
              "      <td>NaN</td>\n",
              "      <td>Medium</td>\n",
              "      <td>NaN</td>\n",
              "      <td>NaN</td>\n",
              "      <td>NaN</td>\n",
              "    </tr>\n",
              "    <tr>\n",
              "      <th>151.5</th>\n",
              "      <td>NaN</td>\n",
              "      <td>NaN</td>\n",
              "      <td>NaN</td>\n",
              "      <td>high</td>\n",
              "      <td>NaN</td>\n",
              "    </tr>\n",
              "    <tr>\n",
              "      <th>180.8</th>\n",
              "      <td>NaN</td>\n",
              "      <td>NaN</td>\n",
              "      <td>Medium</td>\n",
              "      <td>NaN</td>\n",
              "      <td>NaN</td>\n",
              "    </tr>\n",
              "    <tr>\n",
              "      <th>230.1</th>\n",
              "      <td>NaN</td>\n",
              "      <td>NaN</td>\n",
              "      <td>NaN</td>\n",
              "      <td>NaN</td>\n",
              "      <td>high</td>\n",
              "    </tr>\n",
              "  </tbody>\n",
              "</table>\n",
              "</div>"
            ],
            "text/plain": [
              "      sales_type                            \n",
              "Sales       9.3     10.4    12.9  18.5  22.1\n",
              "TV                                          \n",
              "17.2      Medium     NaN     NaN   NaN   NaN\n",
              "44.5         NaN  Medium     NaN   NaN   NaN\n",
              "151.5        NaN     NaN     NaN  high   NaN\n",
              "180.8        NaN     NaN  Medium   NaN   NaN\n",
              "230.1        NaN     NaN     NaN   NaN  high"
            ]
          },
          "metadata": {
            "tags": []
          },
          "execution_count": 9
        }
      ]
    },
    {
      "cell_type": "markdown",
      "metadata": {
        "id": "77WmuUgE-MlQ",
        "colab_type": "text"
      },
      "source": [
        "# Part b) Data Modeling"
      ]
    },
    {
      "cell_type": "code",
      "metadata": {
        "id": "BMI2y_nayuMs",
        "colab_type": "code",
        "colab": {}
      },
      "source": [
        "for i in range(0,len(df)):\n",
        "  if(i*5<len(df)):\n",
        "    df.at[i*5, 'TV'] = np.nan\n",
        "  if(i*9<len(df)):\n",
        "    df.at[i*9, 'Newspaper'] = np.nan\n"
      ],
      "execution_count": 10,
      "outputs": []
    },
    {
      "cell_type": "code",
      "metadata": {
        "id": "QihNQlpcim13",
        "colab_type": "code",
        "colab": {
          "base_uri": "https://localhost:8080/",
          "height": 424
        },
        "outputId": "99c46442-ef67-4ea2-f05f-cb2e5797357a"
      },
      "source": [
        "df"
      ],
      "execution_count": 11,
      "outputs": [
        {
          "output_type": "execute_result",
          "data": {
            "text/html": [
              "<div>\n",
              "<style scoped>\n",
              "    .dataframe tbody tr th:only-of-type {\n",
              "        vertical-align: middle;\n",
              "    }\n",
              "\n",
              "    .dataframe tbody tr th {\n",
              "        vertical-align: top;\n",
              "    }\n",
              "\n",
              "    .dataframe thead th {\n",
              "        text-align: right;\n",
              "    }\n",
              "</style>\n",
              "<table border=\"1\" class=\"dataframe\">\n",
              "  <thead>\n",
              "    <tr style=\"text-align: right;\">\n",
              "      <th></th>\n",
              "      <th>Unnamed: 0</th>\n",
              "      <th>TV</th>\n",
              "      <th>Radio</th>\n",
              "      <th>Newspaper</th>\n",
              "      <th>Sales</th>\n",
              "      <th>sales_type</th>\n",
              "    </tr>\n",
              "  </thead>\n",
              "  <tbody>\n",
              "    <tr>\n",
              "      <th>0</th>\n",
              "      <td>1</td>\n",
              "      <td>NaN</td>\n",
              "      <td>37.8</td>\n",
              "      <td>NaN</td>\n",
              "      <td>22.1</td>\n",
              "      <td>high</td>\n",
              "    </tr>\n",
              "    <tr>\n",
              "      <th>1</th>\n",
              "      <td>2</td>\n",
              "      <td>44.5</td>\n",
              "      <td>39.3</td>\n",
              "      <td>45.1</td>\n",
              "      <td>10.4</td>\n",
              "      <td>Medium</td>\n",
              "    </tr>\n",
              "    <tr>\n",
              "      <th>2</th>\n",
              "      <td>3</td>\n",
              "      <td>17.2</td>\n",
              "      <td>45.9</td>\n",
              "      <td>69.3</td>\n",
              "      <td>9.3</td>\n",
              "      <td>Medium</td>\n",
              "    </tr>\n",
              "    <tr>\n",
              "      <th>3</th>\n",
              "      <td>4</td>\n",
              "      <td>151.5</td>\n",
              "      <td>41.3</td>\n",
              "      <td>58.5</td>\n",
              "      <td>18.5</td>\n",
              "      <td>high</td>\n",
              "    </tr>\n",
              "    <tr>\n",
              "      <th>4</th>\n",
              "      <td>5</td>\n",
              "      <td>180.8</td>\n",
              "      <td>10.8</td>\n",
              "      <td>58.4</td>\n",
              "      <td>12.9</td>\n",
              "      <td>Medium</td>\n",
              "    </tr>\n",
              "    <tr>\n",
              "      <th>...</th>\n",
              "      <td>...</td>\n",
              "      <td>...</td>\n",
              "      <td>...</td>\n",
              "      <td>...</td>\n",
              "      <td>...</td>\n",
              "      <td>...</td>\n",
              "    </tr>\n",
              "    <tr>\n",
              "      <th>195</th>\n",
              "      <td>196</td>\n",
              "      <td>NaN</td>\n",
              "      <td>3.7</td>\n",
              "      <td>13.8</td>\n",
              "      <td>7.6</td>\n",
              "      <td>Medium</td>\n",
              "    </tr>\n",
              "    <tr>\n",
              "      <th>196</th>\n",
              "      <td>197</td>\n",
              "      <td>94.2</td>\n",
              "      <td>4.9</td>\n",
              "      <td>8.1</td>\n",
              "      <td>9.7</td>\n",
              "      <td>Medium</td>\n",
              "    </tr>\n",
              "    <tr>\n",
              "      <th>197</th>\n",
              "      <td>198</td>\n",
              "      <td>177.0</td>\n",
              "      <td>9.3</td>\n",
              "      <td>6.4</td>\n",
              "      <td>12.8</td>\n",
              "      <td>Medium</td>\n",
              "    </tr>\n",
              "    <tr>\n",
              "      <th>198</th>\n",
              "      <td>199</td>\n",
              "      <td>283.6</td>\n",
              "      <td>42.0</td>\n",
              "      <td>NaN</td>\n",
              "      <td>25.5</td>\n",
              "      <td>high</td>\n",
              "    </tr>\n",
              "    <tr>\n",
              "      <th>199</th>\n",
              "      <td>200</td>\n",
              "      <td>232.1</td>\n",
              "      <td>8.6</td>\n",
              "      <td>8.7</td>\n",
              "      <td>13.4</td>\n",
              "      <td>Medium</td>\n",
              "    </tr>\n",
              "  </tbody>\n",
              "</table>\n",
              "<p>200 rows × 6 columns</p>\n",
              "</div>"
            ],
            "text/plain": [
              "     Unnamed: 0     TV  Radio  Newspaper  Sales sales_type\n",
              "0             1    NaN   37.8        NaN   22.1       high\n",
              "1             2   44.5   39.3       45.1   10.4     Medium\n",
              "2             3   17.2   45.9       69.3    9.3     Medium\n",
              "3             4  151.5   41.3       58.5   18.5       high\n",
              "4             5  180.8   10.8       58.4   12.9     Medium\n",
              "..          ...    ...    ...        ...    ...        ...\n",
              "195         196    NaN    3.7       13.8    7.6     Medium\n",
              "196         197   94.2    4.9        8.1    9.7     Medium\n",
              "197         198  177.0    9.3        6.4   12.8     Medium\n",
              "198         199  283.6   42.0        NaN   25.5       high\n",
              "199         200  232.1    8.6        8.7   13.4     Medium\n",
              "\n",
              "[200 rows x 6 columns]"
            ]
          },
          "metadata": {
            "tags": []
          },
          "execution_count": 11
        }
      ]
    },
    {
      "cell_type": "code",
      "metadata": {
        "id": "aVPYpX_DBbvJ",
        "colab_type": "code",
        "colab": {
          "base_uri": "https://localhost:8080/",
          "height": 424
        },
        "outputId": "8cc3677b-01b8-4e26-efa0-4196bffeb5c0"
      },
      "source": [
        "df.dropna()"
      ],
      "execution_count": 12,
      "outputs": [
        {
          "output_type": "execute_result",
          "data": {
            "text/html": [
              "<div>\n",
              "<style scoped>\n",
              "    .dataframe tbody tr th:only-of-type {\n",
              "        vertical-align: middle;\n",
              "    }\n",
              "\n",
              "    .dataframe tbody tr th {\n",
              "        vertical-align: top;\n",
              "    }\n",
              "\n",
              "    .dataframe thead th {\n",
              "        text-align: right;\n",
              "    }\n",
              "</style>\n",
              "<table border=\"1\" class=\"dataframe\">\n",
              "  <thead>\n",
              "    <tr style=\"text-align: right;\">\n",
              "      <th></th>\n",
              "      <th>Unnamed: 0</th>\n",
              "      <th>TV</th>\n",
              "      <th>Radio</th>\n",
              "      <th>Newspaper</th>\n",
              "      <th>Sales</th>\n",
              "      <th>sales_type</th>\n",
              "    </tr>\n",
              "  </thead>\n",
              "  <tbody>\n",
              "    <tr>\n",
              "      <th>1</th>\n",
              "      <td>2</td>\n",
              "      <td>44.5</td>\n",
              "      <td>39.3</td>\n",
              "      <td>45.1</td>\n",
              "      <td>10.4</td>\n",
              "      <td>Medium</td>\n",
              "    </tr>\n",
              "    <tr>\n",
              "      <th>2</th>\n",
              "      <td>3</td>\n",
              "      <td>17.2</td>\n",
              "      <td>45.9</td>\n",
              "      <td>69.3</td>\n",
              "      <td>9.3</td>\n",
              "      <td>Medium</td>\n",
              "    </tr>\n",
              "    <tr>\n",
              "      <th>3</th>\n",
              "      <td>4</td>\n",
              "      <td>151.5</td>\n",
              "      <td>41.3</td>\n",
              "      <td>58.5</td>\n",
              "      <td>18.5</td>\n",
              "      <td>high</td>\n",
              "    </tr>\n",
              "    <tr>\n",
              "      <th>4</th>\n",
              "      <td>5</td>\n",
              "      <td>180.8</td>\n",
              "      <td>10.8</td>\n",
              "      <td>58.4</td>\n",
              "      <td>12.9</td>\n",
              "      <td>Medium</td>\n",
              "    </tr>\n",
              "    <tr>\n",
              "      <th>6</th>\n",
              "      <td>7</td>\n",
              "      <td>57.5</td>\n",
              "      <td>32.8</td>\n",
              "      <td>23.5</td>\n",
              "      <td>11.8</td>\n",
              "      <td>Medium</td>\n",
              "    </tr>\n",
              "    <tr>\n",
              "      <th>...</th>\n",
              "      <td>...</td>\n",
              "      <td>...</td>\n",
              "      <td>...</td>\n",
              "      <td>...</td>\n",
              "      <td>...</td>\n",
              "      <td>...</td>\n",
              "    </tr>\n",
              "    <tr>\n",
              "      <th>193</th>\n",
              "      <td>194</td>\n",
              "      <td>166.8</td>\n",
              "      <td>42.0</td>\n",
              "      <td>3.6</td>\n",
              "      <td>19.6</td>\n",
              "      <td>high</td>\n",
              "    </tr>\n",
              "    <tr>\n",
              "      <th>194</th>\n",
              "      <td>195</td>\n",
              "      <td>149.7</td>\n",
              "      <td>35.6</td>\n",
              "      <td>6.0</td>\n",
              "      <td>17.3</td>\n",
              "      <td>high</td>\n",
              "    </tr>\n",
              "    <tr>\n",
              "      <th>196</th>\n",
              "      <td>197</td>\n",
              "      <td>94.2</td>\n",
              "      <td>4.9</td>\n",
              "      <td>8.1</td>\n",
              "      <td>9.7</td>\n",
              "      <td>Medium</td>\n",
              "    </tr>\n",
              "    <tr>\n",
              "      <th>197</th>\n",
              "      <td>198</td>\n",
              "      <td>177.0</td>\n",
              "      <td>9.3</td>\n",
              "      <td>6.4</td>\n",
              "      <td>12.8</td>\n",
              "      <td>Medium</td>\n",
              "    </tr>\n",
              "    <tr>\n",
              "      <th>199</th>\n",
              "      <td>200</td>\n",
              "      <td>232.1</td>\n",
              "      <td>8.6</td>\n",
              "      <td>8.7</td>\n",
              "      <td>13.4</td>\n",
              "      <td>Medium</td>\n",
              "    </tr>\n",
              "  </tbody>\n",
              "</table>\n",
              "<p>142 rows × 6 columns</p>\n",
              "</div>"
            ],
            "text/plain": [
              "     Unnamed: 0     TV  Radio  Newspaper  Sales sales_type\n",
              "1             2   44.5   39.3       45.1   10.4     Medium\n",
              "2             3   17.2   45.9       69.3    9.3     Medium\n",
              "3             4  151.5   41.3       58.5   18.5       high\n",
              "4             5  180.8   10.8       58.4   12.9     Medium\n",
              "6             7   57.5   32.8       23.5   11.8     Medium\n",
              "..          ...    ...    ...        ...    ...        ...\n",
              "193         194  166.8   42.0        3.6   19.6       high\n",
              "194         195  149.7   35.6        6.0   17.3       high\n",
              "196         197   94.2    4.9        8.1    9.7     Medium\n",
              "197         198  177.0    9.3        6.4   12.8     Medium\n",
              "199         200  232.1    8.6        8.7   13.4     Medium\n",
              "\n",
              "[142 rows x 6 columns]"
            ]
          },
          "metadata": {
            "tags": []
          },
          "execution_count": 12
        }
      ]
    },
    {
      "cell_type": "code",
      "metadata": {
        "id": "fxdkG2geCjOd",
        "colab_type": "code",
        "colab": {}
      },
      "source": [
        "df[\"TV\"].fillna(0, inplace = True) "
      ],
      "execution_count": 13,
      "outputs": []
    },
    {
      "cell_type": "code",
      "metadata": {
        "id": "WIUURuAVDrIQ",
        "colab_type": "code",
        "colab": {}
      },
      "source": [
        "df[\"Newspaper\"].fillna(df['Newspaper'].mean(), inplace = True) "
      ],
      "execution_count": 14,
      "outputs": []
    },
    {
      "cell_type": "code",
      "metadata": {
        "id": "h3vZbpwFEAlM",
        "colab_type": "code",
        "colab": {
          "base_uri": "https://localhost:8080/",
          "height": 677
        },
        "outputId": "2983bd1b-3d41-4cab-c0c9-0992ec6aa5ca"
      },
      "source": [
        "df.head(20)"
      ],
      "execution_count": 15,
      "outputs": [
        {
          "output_type": "execute_result",
          "data": {
            "text/html": [
              "<div>\n",
              "<style scoped>\n",
              "    .dataframe tbody tr th:only-of-type {\n",
              "        vertical-align: middle;\n",
              "    }\n",
              "\n",
              "    .dataframe tbody tr th {\n",
              "        vertical-align: top;\n",
              "    }\n",
              "\n",
              "    .dataframe thead th {\n",
              "        text-align: right;\n",
              "    }\n",
              "</style>\n",
              "<table border=\"1\" class=\"dataframe\">\n",
              "  <thead>\n",
              "    <tr style=\"text-align: right;\">\n",
              "      <th></th>\n",
              "      <th>Unnamed: 0</th>\n",
              "      <th>TV</th>\n",
              "      <th>Radio</th>\n",
              "      <th>Newspaper</th>\n",
              "      <th>Sales</th>\n",
              "      <th>sales_type</th>\n",
              "    </tr>\n",
              "  </thead>\n",
              "  <tbody>\n",
              "    <tr>\n",
              "      <th>0</th>\n",
              "      <td>1</td>\n",
              "      <td>0.0</td>\n",
              "      <td>37.8</td>\n",
              "      <td>30.847458</td>\n",
              "      <td>22.1</td>\n",
              "      <td>high</td>\n",
              "    </tr>\n",
              "    <tr>\n",
              "      <th>1</th>\n",
              "      <td>2</td>\n",
              "      <td>44.5</td>\n",
              "      <td>39.3</td>\n",
              "      <td>45.100000</td>\n",
              "      <td>10.4</td>\n",
              "      <td>Medium</td>\n",
              "    </tr>\n",
              "    <tr>\n",
              "      <th>2</th>\n",
              "      <td>3</td>\n",
              "      <td>17.2</td>\n",
              "      <td>45.9</td>\n",
              "      <td>69.300000</td>\n",
              "      <td>9.3</td>\n",
              "      <td>Medium</td>\n",
              "    </tr>\n",
              "    <tr>\n",
              "      <th>3</th>\n",
              "      <td>4</td>\n",
              "      <td>151.5</td>\n",
              "      <td>41.3</td>\n",
              "      <td>58.500000</td>\n",
              "      <td>18.5</td>\n",
              "      <td>high</td>\n",
              "    </tr>\n",
              "    <tr>\n",
              "      <th>4</th>\n",
              "      <td>5</td>\n",
              "      <td>180.8</td>\n",
              "      <td>10.8</td>\n",
              "      <td>58.400000</td>\n",
              "      <td>12.9</td>\n",
              "      <td>Medium</td>\n",
              "    </tr>\n",
              "    <tr>\n",
              "      <th>5</th>\n",
              "      <td>6</td>\n",
              "      <td>0.0</td>\n",
              "      <td>48.9</td>\n",
              "      <td>75.000000</td>\n",
              "      <td>7.2</td>\n",
              "      <td>Medium</td>\n",
              "    </tr>\n",
              "    <tr>\n",
              "      <th>6</th>\n",
              "      <td>7</td>\n",
              "      <td>57.5</td>\n",
              "      <td>32.8</td>\n",
              "      <td>23.500000</td>\n",
              "      <td>11.8</td>\n",
              "      <td>Medium</td>\n",
              "    </tr>\n",
              "    <tr>\n",
              "      <th>7</th>\n",
              "      <td>8</td>\n",
              "      <td>120.2</td>\n",
              "      <td>19.6</td>\n",
              "      <td>11.600000</td>\n",
              "      <td>13.2</td>\n",
              "      <td>Medium</td>\n",
              "    </tr>\n",
              "    <tr>\n",
              "      <th>8</th>\n",
              "      <td>9</td>\n",
              "      <td>8.6</td>\n",
              "      <td>2.1</td>\n",
              "      <td>1.000000</td>\n",
              "      <td>4.8</td>\n",
              "      <td>Low</td>\n",
              "    </tr>\n",
              "    <tr>\n",
              "      <th>9</th>\n",
              "      <td>10</td>\n",
              "      <td>199.8</td>\n",
              "      <td>2.6</td>\n",
              "      <td>30.847458</td>\n",
              "      <td>10.6</td>\n",
              "      <td>Medium</td>\n",
              "    </tr>\n",
              "    <tr>\n",
              "      <th>10</th>\n",
              "      <td>11</td>\n",
              "      <td>0.0</td>\n",
              "      <td>5.8</td>\n",
              "      <td>24.200000</td>\n",
              "      <td>8.6</td>\n",
              "      <td>Medium</td>\n",
              "    </tr>\n",
              "    <tr>\n",
              "      <th>11</th>\n",
              "      <td>12</td>\n",
              "      <td>214.7</td>\n",
              "      <td>24.0</td>\n",
              "      <td>4.000000</td>\n",
              "      <td>17.4</td>\n",
              "      <td>high</td>\n",
              "    </tr>\n",
              "    <tr>\n",
              "      <th>12</th>\n",
              "      <td>13</td>\n",
              "      <td>23.8</td>\n",
              "      <td>35.1</td>\n",
              "      <td>65.900000</td>\n",
              "      <td>9.2</td>\n",
              "      <td>Medium</td>\n",
              "    </tr>\n",
              "    <tr>\n",
              "      <th>13</th>\n",
              "      <td>14</td>\n",
              "      <td>97.5</td>\n",
              "      <td>7.6</td>\n",
              "      <td>7.200000</td>\n",
              "      <td>9.7</td>\n",
              "      <td>Medium</td>\n",
              "    </tr>\n",
              "    <tr>\n",
              "      <th>14</th>\n",
              "      <td>15</td>\n",
              "      <td>204.1</td>\n",
              "      <td>32.9</td>\n",
              "      <td>46.000000</td>\n",
              "      <td>19.0</td>\n",
              "      <td>high</td>\n",
              "    </tr>\n",
              "    <tr>\n",
              "      <th>15</th>\n",
              "      <td>16</td>\n",
              "      <td>0.0</td>\n",
              "      <td>47.7</td>\n",
              "      <td>52.900000</td>\n",
              "      <td>22.4</td>\n",
              "      <td>high</td>\n",
              "    </tr>\n",
              "    <tr>\n",
              "      <th>16</th>\n",
              "      <td>17</td>\n",
              "      <td>67.8</td>\n",
              "      <td>36.6</td>\n",
              "      <td>114.000000</td>\n",
              "      <td>12.5</td>\n",
              "      <td>Medium</td>\n",
              "    </tr>\n",
              "    <tr>\n",
              "      <th>17</th>\n",
              "      <td>18</td>\n",
              "      <td>281.4</td>\n",
              "      <td>39.6</td>\n",
              "      <td>55.800000</td>\n",
              "      <td>24.4</td>\n",
              "      <td>high</td>\n",
              "    </tr>\n",
              "    <tr>\n",
              "      <th>18</th>\n",
              "      <td>19</td>\n",
              "      <td>69.2</td>\n",
              "      <td>20.5</td>\n",
              "      <td>30.847458</td>\n",
              "      <td>11.3</td>\n",
              "      <td>Medium</td>\n",
              "    </tr>\n",
              "    <tr>\n",
              "      <th>19</th>\n",
              "      <td>20</td>\n",
              "      <td>147.3</td>\n",
              "      <td>23.9</td>\n",
              "      <td>19.100000</td>\n",
              "      <td>14.6</td>\n",
              "      <td>Medium</td>\n",
              "    </tr>\n",
              "  </tbody>\n",
              "</table>\n",
              "</div>"
            ],
            "text/plain": [
              "    Unnamed: 0     TV  Radio   Newspaper  Sales sales_type\n",
              "0            1    0.0   37.8   30.847458   22.1       high\n",
              "1            2   44.5   39.3   45.100000   10.4     Medium\n",
              "2            3   17.2   45.9   69.300000    9.3     Medium\n",
              "3            4  151.5   41.3   58.500000   18.5       high\n",
              "4            5  180.8   10.8   58.400000   12.9     Medium\n",
              "5            6    0.0   48.9   75.000000    7.2     Medium\n",
              "6            7   57.5   32.8   23.500000   11.8     Medium\n",
              "7            8  120.2   19.6   11.600000   13.2     Medium\n",
              "8            9    8.6    2.1    1.000000    4.8        Low\n",
              "9           10  199.8    2.6   30.847458   10.6     Medium\n",
              "10          11    0.0    5.8   24.200000    8.6     Medium\n",
              "11          12  214.7   24.0    4.000000   17.4       high\n",
              "12          13   23.8   35.1   65.900000    9.2     Medium\n",
              "13          14   97.5    7.6    7.200000    9.7     Medium\n",
              "14          15  204.1   32.9   46.000000   19.0       high\n",
              "15          16    0.0   47.7   52.900000   22.4       high\n",
              "16          17   67.8   36.6  114.000000   12.5     Medium\n",
              "17          18  281.4   39.6   55.800000   24.4       high\n",
              "18          19   69.2   20.5   30.847458   11.3     Medium\n",
              "19          20  147.3   23.9   19.100000   14.6     Medium"
            ]
          },
          "metadata": {
            "tags": []
          },
          "execution_count": 15
        }
      ]
    },
    {
      "cell_type": "code",
      "metadata": {
        "id": "X1Ivyd-1FZk7",
        "colab_type": "code",
        "colab": {}
      },
      "source": [
        "from sklearn.preprocessing import StandardScaler"
      ],
      "execution_count": 16,
      "outputs": []
    },
    {
      "cell_type": "code",
      "metadata": {
        "id": "B1BYqIt6ESwS",
        "colab_type": "code",
        "colab": {}
      },
      "source": [
        "sc_X = StandardScaler()\n",
        "X = sc_X.fit_transform(X)"
      ],
      "execution_count": 17,
      "outputs": []
    },
    {
      "cell_type": "code",
      "metadata": {
        "id": "pBT1oZZZhRrD",
        "colab_type": "code",
        "colab": {
          "base_uri": "https://localhost:8080/",
          "height": 35
        },
        "outputId": "369119fd-7ba3-4728-f9db-82134c74650d"
      },
      "source": [
        "X[2][1]"
      ],
      "execution_count": 18,
      "outputs": [
        {
          "output_type": "execute_result",
          "data": {
            "text/plain": [
              "1.5284633102868943"
            ]
          },
          "metadata": {
            "tags": []
          },
          "execution_count": 18
        }
      ]
    },
    {
      "cell_type": "code",
      "metadata": {
        "id": "6DQoYiRZFurV",
        "colab_type": "code",
        "colab": {
          "base_uri": "https://localhost:8080/",
          "height": 1000
        },
        "outputId": "b68e0bd4-b815-42c0-c82f-1cd856bf46f6"
      },
      "source": [
        "X"
      ],
      "execution_count": 49,
      "outputs": [
        {
          "output_type": "execute_result",
          "data": {
            "text/plain": [
              "array([[ 9.69852266e-01,  9.81522472e-01,  1.77894547e+00],\n",
              "       [-1.19737623e+00,  1.08280781e+00,  6.69578760e-01],\n",
              "       [-1.51615499e+00,  1.52846331e+00,  1.78354865e+00],\n",
              "       [ 5.20496822e-02,  1.21785493e+00,  1.28640506e+00],\n",
              "       [ 3.94182198e-01, -8.41613655e-01,  1.28180188e+00],\n",
              "       [-1.61540845e+00,  1.73103399e+00,  2.04592999e+00],\n",
              "       [-1.04557682e+00,  6.43904671e-01, -3.24708413e-01],\n",
              "       [-3.13436589e-01, -2.47406325e-01, -8.72486994e-01],\n",
              "       [-1.61657614e+00, -1.42906863e+00, -1.36042422e+00],\n",
              "       [ 6.16042873e-01, -1.39530685e+00, -4.30581584e-01],\n",
              "       [-9.45155670e-01, -1.17923146e+00, -2.92486143e-01],\n",
              "       [ 7.90028350e-01,  4.96973404e-02, -1.22232878e+00],\n",
              "       [-1.43908760e+00,  7.99208859e-01,  1.62704048e+00],\n",
              "       [-5.78501712e-01, -1.05768905e+00, -1.07502697e+00],\n",
              "       [ 6.66253447e-01,  6.50657027e-01,  7.11007392e-01],\n",
              "       [ 5.64664612e-01,  1.65000572e+00,  1.02862691e+00],\n",
              "       [-9.25304978e-01,  9.00494200e-01,  3.84117072e+00],\n",
              "       [ 1.56887609e+00,  1.10306488e+00,  1.16211917e+00],\n",
              "       [-9.08957349e-01, -1.86635121e-01, -5.64073843e-01],\n",
              "       [ 3.00679600e-03,  4.29449843e-02, -5.27248393e-01],\n",
              "       [ 8.33232798e-01,  2.99534513e-01,  1.05164281e+00],\n",
              "       [ 1.05509347e+00, -1.22649795e+00, -3.24708413e-01],\n",
              "       [-1.56286250e+00, -4.97243498e-01,  8.76721921e-01],\n",
              "       [ 9.48833887e-01, -4.29719938e-01, -2.00422516e-01],\n",
              "       [-9.89527805e-01, -7.20071247e-01, -5.64073843e-01],\n",
              "       [ 1.35285385e+00, -1.33453565e+00, -5.08835667e-01],\n",
              "       [-4.83714657e-02,  4.07572210e-01, -8.26455181e-01],\n",
              "       [ 1.08662104e+00, -4.43224650e-01, -3.52327501e-01],\n",
              "       [ 1.18820988e+00,  2.59020377e-01, -3.52327501e-01],\n",
              "       [-8.92609721e-01, -4.90491142e-01,  4.71641962e-01],\n",
              "       [ 1.70316018e+00,  3.40048650e-01,  5.82118314e-01],\n",
              "       [-3.98677796e-01, -3.95958157e-01,  3.70371972e-01],\n",
              "       [-5.82004775e-01, -1.46958277e+00, -2.55016247e-02],\n",
              "       [ 1.38438142e+00, -2.20396901e-01, -1.39264649e+00],\n",
              "       [-5.99520091e-01, -1.47633512e+00, -1.06582061e+00],\n",
              "       [ 1.67747105e+00, -1.29402151e+00, -1.01518562e+00],\n",
              "       [ 1.39956136e+00,  1.38666383e+00, -1.17629696e+00],\n",
              "       [-8.44734522e-01,  1.76479577e+00,  6.97197848e-01],\n",
              "       [-1.21372386e+00,  2.32010953e-01,  2.09260624e-01],\n",
              "       [ 9.45330823e-01,  9.74770116e-01,  6.65620024e-02],\n",
              "       [ 6.47570443e-01, -6.50927121e-02,  4.81492770e-02],\n",
              "       [ 3.49810063e-01,  6.84418807e-01,  3.74975153e-01],\n",
              "       [ 1.71133400e+00,  2.99534513e-01, -1.32359877e+00],\n",
              "       [ 6.98948705e-01, -1.00367020e+00, -1.91216154e-01],\n",
              "       [-1.42390765e+00,  1.64487393e-01,  5.86721496e-01],\n",
              "       [ 3.27623995e-01, -5.15880000e-02,  4.35460956e-02],\n",
              "       [-6.69581357e-01, -9.02384859e-01,  2.36879713e-01],\n",
              "       [ 1.08428567e+00,  1.23135965e+00, -5.54867481e-01],\n",
              "       [ 9.35989321e-01, -5.03995854e-01,  8.90531465e-01],\n",
              "       [-9.35814168e-01, -7.80842451e-01,  2.87514708e-01],\n",
              "       [ 6.16042873e-01, -1.36154507e+00,  1.86244718e-01],\n",
              "       [-5.44638766e-01, -9.22641928e-01, -1.24074150e+00],\n",
              "       [ 8.09879042e-01,  1.24486436e+00,  4.16403786e-01],\n",
              "       [ 4.15200577e-01,  1.54872038e+00,  1.29561142e+00],\n",
              "       [ 1.35051848e+00,  3.73810430e-01, -6.74550196e-01],\n",
              "       [ 6.05533683e-01,  1.76479577e+00,  1.35545278e+00],\n",
              "       [-1.63175608e+00,  3.26543937e-01,  4.99261050e-01],\n",
              "       [-1.26606546e-01, -2.74415749e-01, -6.42327927e-01],\n",
              "       [ 7.44488528e-01,  1.77830048e+00,  3.28943340e-01],\n",
              "       [ 7.43320840e-01,  4.21076922e-01, -9.78360166e-01],\n",
              "       [-1.09228433e+00, -1.43582099e+00, -4.21375221e-01],\n",
              "       [ 1.33417085e+00,  1.31238792e+00,  1.11148417e+00],\n",
              "       [ 1.07727954e+00, -5.24252922e-01, -1.49787521e-01],\n",
              "       [-5.17781948e-01,  4.27829278e-01, -1.01978880e+00],\n",
              "       [-1.86158622e-01,  1.31914027e+00, -7.61366196e-02],\n",
              "       [-9.11292725e-01, -9.42898996e-01, -1.36502740e+00],\n",
              "       [-1.34917564e+00,  9.02114765e-02, -1.30518604e+00],\n",
              "       [-9.04082253e-02, -5.91776482e-01, -9.36931533e-01],\n",
              "       [ 1.05509347e+00,  2.86029801e-01, -9.00106083e-01],\n",
              "       [ 8.14549794e-01,  1.39341619e+00, -1.54390703e-01],\n",
              "       [ 6.07869059e-01,  4.95352838e-01,  3.74975153e-01],\n",
              "       [-4.34876116e-01, -6.05281194e-01,  5.27524584e-02],\n",
              "       [-1.40405696e+00,  6.57409383e-01, -5.18042030e-01],\n",
              "       [-2.06009314e-01, -1.18598381e+00,  3.43397329e-02],\n",
              "       [ 7.74848409e-01,  9.02114765e-02, -8.03439274e-01],\n",
              "       [-1.51965805e+00,  1.37991148e+00,  2.70878810e+00],\n",
              "       [-1.39588315e+00, -1.46283041e+00, -4.53597491e-01],\n",
              "       [-3.09933525e-01,  3.53553362e-01, -7.52804279e-01],\n",
              "       [-1.65394214e+00,  4.48086346e-01, -9.73756984e-01],\n",
              "       [-3.62479475e-01, -1.05093669e+00, -3.43121138e-01],\n",
              "       [-8.24883830e-01,  2.32010953e-01, -3.79946589e-01],\n",
              "       [ 1.08311798e+00, -1.29402151e+00,  2.92117889e-01],\n",
              "       [-8.37728396e-01, -2.00139833e-01,  8.95779092e-02],\n",
              "       [-9.18298852e-01,  1.43393033e+00,  2.32276531e-01],\n",
              "       [ 7.76016097e-01,  1.33264499e+00,  1.49419267e-01],\n",
              "       [ 5.38975481e-01, -3.28434597e-01,  1.61783412e+00],\n",
              "       [-8.26051518e-01,  2.86029801e-01, -6.69947015e-01],\n",
              "       [-4.24366926e-01,  1.17058844e+00,  1.50275459e+00],\n",
              "       [-6.85928986e-01,  1.50982681e-01,  1.97227908e+00],\n",
              "       [-4.34876116e-01,  1.65675807e+00,  9.59579186e-01],\n",
              "       [-1.48792614e-01, -1.24000266e+00, -9.78360166e-01],\n",
              "       [-1.38303858e+00, -1.46958277e+00,  1.12593816e-01],\n",
              "       [ 8.25058983e-01,  6.91171163e-01,  1.30942097e+00],\n",
              "       [ 1.21273132e+00,  8.93741844e-01,  1.92164409e+00],\n",
              "       [-4.62900623e-01, -6.25538262e-01, -9.04709264e-01],\n",
              "       [ 1.89836839e-01,  5.62876398e-01,  1.02862691e+00],\n",
              "       [ 5.90353742e-01, -1.33453565e+00, -1.13486833e+00],\n",
              "       [ 4.42057396e-01, -1.52873340e-01, -3.93756133e-01],\n",
              "       [ 1.66579418e+00,  1.28537849e+00,  9.50372823e-01],\n",
              "       [-1.38283424e-01,  1.24486436e+00,  7.06404211e-01],\n",
              "       [ 8.79940308e-01, -1.28051680e+00,  8.85928284e-01],\n",
              "       [ 1.74402926e+00,  8.80237132e-01,  3.23815396e+00],\n",
              "       [ 1.55486384e+00, -8.88880147e-01, -4.21375221e-01],\n",
              "       [ 4.77088029e-01, -4.09462869e-01, -5.82486569e-01],\n",
              "       [ 1.06443498e+00,  7.45190011e-01, -1.16248742e+00],\n",
              "       [-1.06755854e-01,  1.56222509e+00,  1.30942097e+00],\n",
              "       [-1.42507534e+00, -8.28108943e-01, -3.93111688e-02],\n",
              "       [-6.61407543e-01, -1.55061104e+00, -3.38517957e-01],\n",
              "       [-1.56403019e+00, -1.54385868e+00, -2.28041604e-01],\n",
              "       [ 1.26527727e+00,  2.45515665e-01, -1.15328106e+00],\n",
              "       [ 9.19641692e-01, -1.01717491e+00,  1.19434143e+00],\n",
              "       [ 1.10530405e+00,  9.95027184e-01, -3.38517957e-01],\n",
              "       [ 3.34630122e-01, -5.31005278e-01, -1.29597968e+00],\n",
              "       [ 7.30476274e-01, -1.79882765e-01, -9.13915627e-01],\n",
              "       [-8.03865450e-01,  1.58923451e+00,  1.81641536e-01],\n",
              "       [-8.40063771e-01,  7.92456503e-01,  1.01942054e+00],\n",
              "       [-9.15759131e-02, -6.05281194e-01, -2.28041604e-01],\n",
              "       [-8.24883830e-01, -1.51684926e+00, -7.25185191e-01],\n",
              "       [-2.49213762e-01,  9.20751268e-01,  2.23926360e+00],\n",
              "       [-1.49046586e+00, -4.90491142e-01, -3.79946589e-01],\n",
              "       [-6.70544700e-02,  2.38763309e-01,  7.20213755e-01],\n",
              "       [-1.49747198e+00, -1.05606848e-01,  9.13547372e-01],\n",
              "       [ 8.98623313e-01, -1.40881156e+00, -6.88359740e-01],\n",
              "       [-2.79573643e-01,  7.65447079e-01, -8.35661544e-01],\n",
              "       [ 9.62846140e-01,  6.10142891e-01,  2.00910454e+00],\n",
              "       [-6.98773552e-01, -7.74090095e-01, -2.14232060e-01],\n",
              "       [-1.62591764e+00,  1.05579839e+00,  9.22753735e-01],\n",
              "       [-7.80511695e-01, -1.57086811e+00, -9.82963347e-01],\n",
              "       [ 8.55418865e-01,  1.73778635e+00, -1.25915423e+00],\n",
              "       [-1.02105537e+00, -7.60585383e-01,  5.77515133e-01],\n",
              "       [-1.70882347e+00,  1.10306488e+00, -1.00597925e+00],\n",
              "       [ 1.37971067e+00, -1.37504978e+00,  5.72911952e-01],\n",
              "       [-1.61891151e+00,  2.65772733e-01, -1.30978922e+00],\n",
              "       [ 8.49580427e-01,  6.91171163e-01,  6.69578760e-01],\n",
              "       [-1.28612050e+00,  1.03554132e+00,  1.61323094e+00],\n",
              "       [-1.15300409e+00,  1.60273923e+00, -1.01518562e+00],\n",
              "       [-1.41806922e+00,  1.06255074e+00, -9.78360166e-01],\n",
              "       [ 1.47896413e+00,  3.80562786e-01,  1.34164324e+00],\n",
              "       [-1.21489154e+00,  1.77992105e-01, -4.62803854e-01],\n",
              "       [ 4.42057396e-01,  1.39341619e+00, -1.32820195e+00],\n",
              "       [-8.59914463e-01, -4.22967582e-01, -8.12645637e-01],\n",
              "       [ 5.44813920e-01,  8.19465927e-01,  2.07354907e+00],\n",
              "       [ 8.57754241e-01,  6.70914095e-01,  3.38149702e-01],\n",
              "       [-4.95595880e-01, -1.18598381e+00,  1.77038355e-01],\n",
              "       [-5.93681653e-01, -5.71519414e-01,  3.84181516e-01],\n",
              "       [-7.87313476e-02, -1.44257334e+00, -9.92169710e-01],\n",
              "       [ 1.08662104e+00, -1.07794612e+00, -1.00597925e+00],\n",
              "       [ 1.12281936e+00,  1.73778635e+00,  6.32753309e-01],\n",
              "       [-1.27327593e+00,  1.15033137e+00, -8.58677450e-01],\n",
              "       [-1.19504085e+00,  1.71239749e-01, -4.58200672e-01],\n",
              "       [ 1.56070228e+00, -6.32290618e-01,  2.96721070e-01],\n",
              "       [-3.04095087e-01, -1.00367020e+00,  8.35293289e-01],\n",
              "       [ 5.90353742e-01,  2.43084817e-03, -7.52804279e-01],\n",
              "       [ 2.83251860e-01,  1.10981724e+00,  3.28943340e-01],\n",
              "       [ 4.75920341e-01, -1.46120984e-01, -9.69153803e-01],\n",
              "       [-1.66912209e+00, -7.87594807e-01, -1.14407469e+00],\n",
              "       [-6.20538471e-01,  1.36640677e+00,  9.18150553e-01],\n",
              "       [ 3.21989902e-02, -1.48308748e+00, -2.87882962e-01],\n",
              "       [-1.58037782e+00,  9.20751268e-01,  6.74181942e-01],\n",
              "       [-1.79152496e-01, -3.28434597e-01,  1.86244718e-01],\n",
              "       [ 2.97264113e-01, -3.48691665e-01,  6.72064478e-03],\n",
              "       [-7.16288868e-01,  8.46475352e-01,  8.62912377e-01],\n",
              "       [ 4.82926468e-01, -3.48691665e-01, -2.28041604e-01],\n",
              "       [ 1.92172214e-01,  9.13998912e-01, -1.06582061e+00],\n",
              "       [-3.48467222e-01, -5.78271770e-01, -1.15788424e+00],\n",
              "       [ 1.02123053e+00, -1.34128800e+00,  2.49704176e+00],\n",
              "       [-1.50798117e+00,  9.68017760e-01, -4.12168859e-01],\n",
              "       [ 6.97781017e-01, -1.21974559e+00, -5.13438849e-01],\n",
              "       [ 7.98202165e-01,  2.26879163e-02,  1.24497643e+00],\n",
              "       [ 1.60273904e+00, -8.55118367e-01, -1.11185242e+00],\n",
              "       [-1.13315340e+00, -7.87594807e-01, -5.59470662e-01],\n",
              "       [ 2.03849092e-01, -1.59625696e-01,  7.75451931e-01],\n",
              "       [-1.48813048e+00, -2.13644545e-01, -6.23915201e-01],\n",
              "       [ 2.49388915e-01, -1.09145083e+00, -8.17248818e-01],\n",
              "       [ 8.79940308e-01, -1.34128800e+00, -8.03439274e-01],\n",
              "       [ 1.51633014e+00,  1.73103399e+00,  5.17673775e-01],\n",
              "       [ 1.18353913e+00,  4.68343414e-01, -4.72010216e-01],\n",
              "       [ 2.70407294e-01, -1.04418434e+00,  2.13863806e-01],\n",
              "       [ 1.51399477e+00, -1.41556392e+00, -3.15502050e-01],\n",
              "       [ 2.16693657e-01, -8.95632503e-01, -5.96296113e-01],\n",
              "       [ 1.11601758e-01, -1.39530685e+00, -1.02439198e+00],\n",
              "       [ 8.34400486e-01, -1.20624088e+00, -1.45184340e-01],\n",
              "       [-1.06075676e+00, -1.18598381e+00, -3.93111688e-02],\n",
              "       [ 1.64127273e+00,  1.33264499e+00,  1.89862818e+00],\n",
              "       [ 1.24659427e+00, -1.32616272e-01, -2.55016247e-02],\n",
              "       [ 6.76762637e-01,  1.47444446e+00, -5.04232486e-01],\n",
              "       [-8.80728498e-02, -1.42906863e+00, -1.82009791e-01],\n",
              "       [ 5.14454038e-01,  3.67058074e-01, -5.68677025e-01],\n",
              "       [ 1.62258973e+00, -6.32290618e-01, -1.23613832e+00],\n",
              "       [-1.49863967e+00, -7.53833027e-01, -3.29311594e-01],\n",
              "       [-1.25576062e+00,  1.20435022e+00, -1.13947151e+00],\n",
              "       [-8.35393020e-01, -8.41613655e-01, -1.13026515e+00],\n",
              "       [-1.51615499e+00, -1.29402151e+00,  4.81492770e-02],\n",
              "       [ 2.30705910e-01,  1.26512143e+00, -1.24074150e+00],\n",
              "       [ 3.10313024e-02,  8.32970639e-01, -1.13026515e+00],\n",
              "       [-1.27094056e+00, -1.32103093e+00, -7.71217005e-01],\n",
              "       [-6.17035408e-01, -1.24000266e+00, -1.03359834e+00],\n",
              "       [ 3.49810063e-01, -9.42898996e-01, -1.11185242e+00],\n",
              "       [ 1.59456522e+00,  1.26512143e+00,  1.64085003e+00],\n",
              "       [ 9.93206022e-01, -9.90165488e-01, -1.00597925e+00]])"
            ]
          },
          "metadata": {
            "tags": []
          },
          "execution_count": 49
        }
      ]
    },
    {
      "cell_type": "code",
      "metadata": {
        "id": "O0VaAI9DaUXs",
        "colab_type": "code",
        "colab": {}
      },
      "source": [
        "from sklearn.model_selection import train_test_split\n",
        "X_train, X_test, y_train, y_test = train_test_split(X, y, test_size = 0.4)"
      ],
      "execution_count": 32,
      "outputs": []
    },
    {
      "cell_type": "code",
      "metadata": {
        "id": "d-IjxjAhqAiI",
        "colab_type": "code",
        "colab": {}
      },
      "source": [
        "from sklearn.linear_model import LinearRegression\n",
        "from sklearn.model_selection import learning_curve\n",
        "# regressor=LinearRegression()\n",
        "# regressor.fit(X_train,y_train)\n",
        "\n",
        "train_sizes, train_scores, validation_scores=learning_curve( estimator=LinearRegression() , X=X_train , y=y_train)"
      ],
      "execution_count": 44,
      "outputs": []
    },
    {
      "cell_type": "code",
      "metadata": {
        "id": "agONGmMdReYQ",
        "colab_type": "code",
        "colab": {}
      },
      "source": [
        "train_scores_mean = -train_scores.mean(axis = 1)\n",
        "validation_scores_mean = -validation_scores.mean(axis=1)"
      ],
      "execution_count": 50,
      "outputs": []
    },
    {
      "cell_type": "code",
      "metadata": {
        "id": "o49_rFpGQB50",
        "colab_type": "code",
        "colab": {
          "base_uri": "https://localhost:8080/",
          "height": 411
        },
        "outputId": "f74e68c7-29ea-443a-ccb1-8bd42533de43"
      },
      "source": [
        "import matplotlib.pyplot as plt\n",
        "\n",
        "plt.style.use('seaborn')\n",
        "plt.plot(train_sizes, train_scores_mean, label = 'Training error')\n",
        "plt.plot(train_sizes, validation_scores_mean, label = 'Validation error')\n",
        "plt.ylabel('MSE', fontsize = 14)\n",
        "plt.xlabel('Training set size', fontsize = 14)\n",
        "plt.title('Learning curves for a linear regression model', fontsize = 18, y = 1.03)\n",
        "plt.legend()"
      ],
      "execution_count": 53,
      "outputs": [
        {
          "output_type": "execute_result",
          "data": {
            "text/plain": [
              "<matplotlib.legend.Legend at 0x7fe58a0080b8>"
            ]
          },
          "metadata": {
            "tags": []
          },
          "execution_count": 53
        },
        {
          "output_type": "display_data",
          "data": {
            "image/png": "[encoded data removed]",
            "text/plain": [
              "<Figure size 576x396 with 1 Axes>"
            ]
          },
          "metadata": {
            "tags": []
          }
        }
      ]
    },
    {
      "cell_type": "code",
      "metadata": {
        "id": "2WGqZgccTl1g",
        "colab_type": "code",
        "colab": {}
      },
      "source": [
        "y_pred=regressor.predict(X_test)"
      ],
      "execution_count": null,
      "outputs": []
    },
    {
      "cell_type": "code",
      "metadata": {
        "id": "h6qd5vh5LhYH",
        "colab_type": "code",
        "colab": {
          "base_uri": "https://localhost:8080/",
          "height": 35
        },
        "outputId": "9ff35c45-0f50-4bf3-99c3-ec387376a16c"
      },
      "source": [
        "mean_squuared_error=np.mean(np.square(np.subtract(y_pred,y_test)))\n",
        "mean_squuared_error"
      ],
      "execution_count": 56,
      "outputs": [
        {
          "output_type": "execute_result",
          "data": {
            "text/plain": [
              "55.46466860107889"
            ]
          },
          "metadata": {
            "tags": []
          },
          "execution_count": 56
        }
      ]
    },
    {
      "cell_type": "code",
      "metadata": {
        "id": "4RCExkunTRhx",
        "colab_type": "code",
        "colab": {
          "base_uri": "https://localhost:8080/",
          "height": 35
        },
        "outputId": "71ab34cc-99af-4f94-ed52-00cb003d08db"
      },
      "source": [
        "from sklearn.metrics import r2_score\n",
        "r2_score(y_test, y_pred)"
      ],
      "execution_count": 57,
      "outputs": [
        {
          "output_type": "execute_result",
          "data": {
            "text/plain": [
              "-0.7789618079255667"
            ]
          },
          "metadata": {
            "tags": []
          },
          "execution_count": 57
        }
      ]
    },
    {
      "cell_type": "code",
      "metadata": {
        "id": "I-A0zk99sL33",
        "colab_type": "code",
        "colab": {
          "base_uri": "https://localhost:8080/",
          "height": 35
        },
        "outputId": "6b5d2f56-676f-4baa-c89c-7ef6534febb5"
      },
      "source": [
        "regressor.score(X_train,y_train)"
      ],
      "execution_count": 24,
      "outputs": [
        {
          "output_type": "execute_result",
          "data": {
            "text/plain": [
              "0.8755822543891353"
            ]
          },
          "metadata": {
            "tags": []
          },
          "execution_count": 24
        }
      ]
    },
    {
      "cell_type": "code",
      "metadata": {
        "id": "QgPv8QZ6ALJV",
        "colab_type": "code",
        "colab": {
          "base_uri": "https://localhost:8080/",
          "height": 35
        },
        "outputId": "deaa49bf-4fe5-478c-feb0-69737bbd9b30"
      },
      "source": [
        "regressor.intercept_"
      ],
      "execution_count": 25,
      "outputs": [
        {
          "output_type": "execute_result",
          "data": {
            "text/plain": [
              "13.969723618566576"
            ]
          },
          "metadata": {
            "tags": []
          },
          "execution_count": 25
        }
      ]
    },
    {
      "cell_type": "code",
      "metadata": {
        "id": "Aw8nPpndAQIL",
        "colab_type": "code",
        "colab": {
          "base_uri": "https://localhost:8080/",
          "height": 35
        },
        "outputId": "a549e106-711e-47bf-b9a2-f20f70259ac9"
      },
      "source": [
        "regressor.coef_"
      ],
      "execution_count": 26,
      "outputs": [
        {
          "output_type": "execute_result",
          "data": {
            "text/plain": [
              "array([ 3.91326867,  2.80219406, -0.11133754])"
            ]
          },
          "metadata": {
            "tags": []
          },
          "execution_count": 26
        }
      ]
    },
    {
      "cell_type": "code",
      "metadata": {
        "id": "bsfJdOGhBPWQ",
        "colab_type": "code",
        "colab": {}
      },
      "source": [
        ""
      ],
      "execution_count": null,
      "outputs": []
    }
  ]
}