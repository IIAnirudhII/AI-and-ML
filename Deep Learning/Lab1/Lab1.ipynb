{
  "nbformat": 4,
  "nbformat_minor": 0,
  "metadata": {
    "colab": {
      "name": "Lab1.ipynb",
      "provenance": [],
      "authorship_tag": "ABX9TyM96Z5Pz9dEvjFzIhQ83cyV",
      "include_colab_link": true
    },
    "kernelspec": {
      "name": "python3",
      "display_name": "Python 3"
    }
  },
  "cells": [
    {
      "cell_type": "markdown",
      "metadata": {
        "id": "view-in-github",
        "colab_type": "text"
      },
      "source": [
        "<a href=\"https://colab.research.google.com/github/IIAnirudhII/BU/blob/master/Deep%20Learning/Lab1/Lab1.ipynb\" target=\"_parent\"><img src=\"https://colab.research.google.com/assets/colab-badge.svg\" alt=\"Open In Colab\"/></a>"
      ]
    },
    {
      "cell_type": "code",
      "metadata": {
        "id": "BXek4vnUAWsD",
        "colab_type": "code",
        "colab": {}
      },
      "source": [
        "import numpy as np\n",
        "import pandas as pd"
      ],
      "execution_count": null,
      "outputs": []
    },
    {
      "cell_type": "code",
      "metadata": {
        "id": "6I3a2nyIAjTz",
        "colab_type": "code",
        "colab": {
          "base_uri": "https://localhost:8080/",
          "height": 54
        },
        "outputId": "f8d73702-3134-4828-e121-5657033dcbb4"
      },
      "source": [
        "# Random Integers\n",
        "s1=np.random.randint(-100,100,size=(10))\n",
        "print(s1)\n",
        "print(\"Dimension = \",s1.ndim)"
      ],
      "execution_count": null,
      "outputs": [
        {
          "output_type": "stream",
          "text": [
            "[ 49  32  17 -45  63 -45 -61 -96 -95 -31]\n",
            "Dimension =  1\n"
          ],
          "name": "stdout"
        }
      ]
    },
    {
      "cell_type": "code",
      "metadata": {
        "id": "12HPKbNJBLkU",
        "colab_type": "code",
        "colab": {
          "base_uri": "https://localhost:8080/",
          "height": 72
        },
        "outputId": "842594db-43e5-405e-9337-f6039507045f"
      },
      "source": [
        "# Random floats\n",
        "s2=np.random.sample(size=10)\n",
        "print(s2)\n",
        "print(\"Dimension = \",s2.ndim)"
      ],
      "execution_count": null,
      "outputs": [
        {
          "output_type": "stream",
          "text": [
            "[0.16204166 0.33115718 0.36746588 0.79380819 0.22923692 0.31561973\n",
            " 0.04454992 0.96244014 0.7489887  0.0236809 ]\n",
            "Dimension =  1\n"
          ],
          "name": "stdout"
        }
      ]
    },
    {
      "cell_type": "code",
      "metadata": {
        "id": "37UFiao5BVUZ",
        "colab_type": "code",
        "colab": {
          "base_uri": "https://localhost:8080/",
          "height": 109
        },
        "outputId": "41c78891-5605-476c-f99f-c4f63f95cdca"
      },
      "source": [
        "# Random complex numbers\n",
        "s3 = np.random.random(10) + np.random.random(10) * 1j\n",
        "print(s3)\n",
        "print(\"Dimension = \",s3.ndim)"
      ],
      "execution_count": null,
      "outputs": [
        {
          "output_type": "stream",
          "text": [
            "[0.20748243+0.67336116j 0.15120986+0.47220665j 0.83211899+0.28309576j\n",
            " 0.31382601+0.8864533j  0.01778966+0.08986296j 0.55026769+0.21597136j\n",
            " 0.71358953+0.47915104j 0.17032774+0.42707006j 0.4874435 +0.20726309j\n",
            " 0.23610296+0.38006096j]\n",
            "Dimension =  1\n"
          ],
          "name": "stdout"
        }
      ]
    },
    {
      "cell_type": "code",
      "metadata": {
        "id": "SjrST3NhLamF",
        "colab_type": "code",
        "colab": {
          "base_uri": "https://localhost:8080/",
          "height": 311
        },
        "outputId": "5caf3234-fbd8-4e9b-9605-60e5bbeb5b7e"
      },
      "source": [
        "s=np.vstack((s1,s2,s3))\n",
        "print(s)\n",
        "print(\"Dimension = \",s.ndim)"
      ],
      "execution_count": null,
      "outputs": [
        {
          "output_type": "stream",
          "text": [
            "[[ 4.90000000e+01+0.j          3.20000000e+01+0.j\n",
            "   1.70000000e+01+0.j         -4.50000000e+01+0.j\n",
            "   6.30000000e+01+0.j         -4.50000000e+01+0.j\n",
            "  -6.10000000e+01+0.j         -9.60000000e+01+0.j\n",
            "  -9.50000000e+01+0.j         -3.10000000e+01+0.j        ]\n",
            " [ 1.62041664e-01+0.j          3.31157185e-01+0.j\n",
            "   3.67465881e-01+0.j          7.93808185e-01+0.j\n",
            "   2.29236921e-01+0.j          3.15619725e-01+0.j\n",
            "   4.45499160e-02+0.j          9.62440145e-01+0.j\n",
            "   7.48988703e-01+0.j          2.36809024e-02+0.j        ]\n",
            " [ 2.07482426e-01+0.67336116j  1.51209861e-01+0.47220665j\n",
            "   8.32118993e-01+0.28309576j  3.13826013e-01+0.8864533j\n",
            "   1.77896561e-02+0.08986296j  5.50267692e-01+0.21597136j\n",
            "   7.13589530e-01+0.47915104j  1.70327739e-01+0.42707006j\n",
            "   4.87443497e-01+0.20726309j  2.36102956e-01+0.38006096j]]\n",
            "Dimension =  2\n"
          ],
          "name": "stdout"
        }
      ]
    },
    {
      "cell_type": "code",
      "metadata": {
        "id": "hk3wGU6YDZ3D",
        "colab_type": "code",
        "colab": {}
      },
      "source": [
        "m1=np.matrix('1 2 3;4 5 6;7 8 9')\n",
        "\n",
        "m2=np.matrix('4 5 6;7 8 9;1 2 3')"
      ],
      "execution_count": null,
      "outputs": []
    },
    {
      "cell_type": "code",
      "metadata": {
        "id": "ES-1Ptu1Doc_",
        "colab_type": "code",
        "colab": {
          "base_uri": "https://localhost:8080/",
          "height": 72
        },
        "outputId": "9b29fc37-8902-4c89-ecaf-e72bceba906a"
      },
      "source": [
        "# Addition of two matrices\n",
        "add=m1+m2\n",
        "print(add)"
      ],
      "execution_count": null,
      "outputs": [
        {
          "output_type": "stream",
          "text": [
            "[[ 5  7  9]\n",
            " [11 13 15]\n",
            " [ 8 10 12]]\n"
          ],
          "name": "stdout"
        }
      ]
    },
    {
      "cell_type": "code",
      "metadata": {
        "id": "AdimwM30D5DJ",
        "colab_type": "code",
        "colab": {
          "base_uri": "https://localhost:8080/",
          "height": 72
        },
        "outputId": "3dee22cd-0389-43e1-ecdf-60f0c5fdaec7"
      },
      "source": [
        "# Transpose\n",
        "\n",
        "m1.T"
      ],
      "execution_count": null,
      "outputs": [
        {
          "output_type": "execute_result",
          "data": {
            "text/plain": [
              "matrix([[1, 4, 7],\n",
              "        [2, 5, 8],\n",
              "        [3, 6, 9]])"
            ]
          },
          "metadata": {
            "tags": []
          },
          "execution_count": 22
        }
      ]
    },
    {
      "cell_type": "code",
      "metadata": {
        "id": "8FEotT3AEHGz",
        "colab_type": "code",
        "colab": {
          "base_uri": "https://localhost:8080/",
          "height": 72
        },
        "outputId": "4a16abda-36fb-465a-9296-f137797a04ee"
      },
      "source": [
        "# Dot product\n",
        "dot=np.dot(m1,m2)\n",
        "print(dot)"
      ],
      "execution_count": null,
      "outputs": [
        {
          "output_type": "stream",
          "text": [
            "[[ 21  27  33]\n",
            " [ 57  72  87]\n",
            " [ 93 117 141]]\n"
          ],
          "name": "stdout"
        }
      ]
    },
    {
      "cell_type": "code",
      "metadata": {
        "id": "F8eOXDCAEV7S",
        "colab_type": "code",
        "colab": {
          "base_uri": "https://localhost:8080/",
          "height": 72
        },
        "outputId": "e382908a-763f-402b-bc95-31e564180e38"
      },
      "source": [
        "# Multiplication\n",
        "np.multiply(m1,m2)"
      ],
      "execution_count": null,
      "outputs": [
        {
          "output_type": "execute_result",
          "data": {
            "text/plain": [
              "matrix([[ 4, 10, 18],\n",
              "        [28, 40, 54],\n",
              "        [ 7, 16, 27]])"
            ]
          },
          "metadata": {
            "tags": []
          },
          "execution_count": 31
        }
      ]
    },
    {
      "cell_type": "code",
      "metadata": {
        "id": "cw2R7UpHZx6T",
        "colab_type": "code",
        "colab": {
          "base_uri": "https://localhost:8080/",
          "height": 90
        },
        "outputId": "8ceed677-04f8-4593-d49d-7284ae89ac4e"
      },
      "source": [
        "# Access matrix elements\n",
        "A=[[1,2,3,4],[4,5,6,7],[8,9,0,7]]\n",
        "print(\"A= \",A)\n",
        "print(\"1st row: \",A[0])\n",
        "print(\"Element from 2nd row 3rd column: \",A[1][2])\n",
        "Ac=np.array(A)\n",
        "print(\"2nd column: \",Ac[:,1])"
      ],
      "execution_count": null,
      "outputs": [
        {
          "output_type": "stream",
          "text": [
            "A=  [[1, 2, 3, 4], [4, 5, 6, 7], [8, 9, 0, 7]]\n",
            "1st row:  [1, 2, 3, 4]\n",
            "Element from 2nd row 3rd column:  6\n",
            "2nd column:  [2 5 9]\n"
          ],
          "name": "stdout"
        }
      ]
    },
    {
      "cell_type": "code",
      "metadata": {
        "id": "F11Fcz7evo1H",
        "colab_type": "code",
        "colab": {
          "base_uri": "https://localhost:8080/",
          "height": 54
        },
        "outputId": "706121ea-d95f-4f45-b1f9-980b83d87c66"
      },
      "source": [
        "arr=[1,2,3,4,5,6,7,8,9,10,11,12,13,14,20,]\n",
        "\n",
        "#Slicing\n",
        "print(arr[2:5])\n",
        "\n",
        "#reversing array\n",
        "print(arr[::-1])"
      ],
      "execution_count": 29,
      "outputs": [
        {
          "output_type": "stream",
          "text": [
            "[3, 4, 5]\n",
            "[20, 14, 13, 12, 11, 10, 9, 8, 7, 6, 5, 4, 3, 2, 1]\n"
          ],
          "name": "stdout"
        }
      ]
    },
    {
      "cell_type": "code",
      "metadata": {
        "id": "SOkHC17yEgKW",
        "colab_type": "code",
        "colab": {}
      },
      "source": [
        "df=pd.read_excel('https://github.com/IIAnirudhII/BU/blob/master/Deep%20Learning/Lab2/data/Online%20Retail.xlsx?raw=true')\n",
        "df=df[:100]"
      ],
      "execution_count": null,
      "outputs": []
    },
    {
      "cell_type": "code",
      "metadata": {
        "id": "LT2tpmsjHab2",
        "colab_type": "code",
        "colab": {
          "base_uri": "https://localhost:8080/",
          "height": 1000
        },
        "outputId": "f58a8d3c-f980-481d-c255-25782c6455a6"
      },
      "source": [
        "arr=df.to_numpy()\n",
        "arr"
      ],
      "execution_count": null,
      "outputs": [
        {
          "output_type": "execute_result",
          "data": {
            "text/plain": [
              "array([[536365, '85123A', 'WHITE HANGING HEART T-LIGHT HOLDER', 6,\n",
              "        Timestamp('2010-12-01 08:26:00'), 2.55, 17850.0,\n",
              "        'United Kingdom'],\n",
              "       [536365, 71053, 'WHITE METAL LANTERN', 6,\n",
              "        Timestamp('2010-12-01 08:26:00'), 3.39, 17850.0,\n",
              "        'United Kingdom'],\n",
              "       [536365, '84406B', 'CREAM CUPID HEARTS COAT HANGER', 8,\n",
              "        Timestamp('2010-12-01 08:26:00'), 2.75, 17850.0,\n",
              "        'United Kingdom'],\n",
              "       [536365, '84029G', 'KNITTED UNION FLAG HOT WATER BOTTLE', 6,\n",
              "        Timestamp('2010-12-01 08:26:00'), 3.39, 17850.0,\n",
              "        'United Kingdom'],\n",
              "       [536365, '84029E', 'RED WOOLLY HOTTIE WHITE HEART.', 6,\n",
              "        Timestamp('2010-12-01 08:26:00'), 3.39, 17850.0,\n",
              "        'United Kingdom'],\n",
              "       [536365, 22752, 'SET 7 BABUSHKA NESTING BOXES', 2,\n",
              "        Timestamp('2010-12-01 08:26:00'), 7.65, 17850.0,\n",
              "        'United Kingdom'],\n",
              "       [536365, 21730, 'GLASS STAR FROSTED T-LIGHT HOLDER', 6,\n",
              "        Timestamp('2010-12-01 08:26:00'), 4.25, 17850.0,\n",
              "        'United Kingdom'],\n",
              "       [536366, 22633, 'HAND WARMER UNION JACK', 6,\n",
              "        Timestamp('2010-12-01 08:28:00'), 1.85, 17850.0,\n",
              "        'United Kingdom'],\n",
              "       [536366, 22632, 'HAND WARMER RED POLKA DOT', 6,\n",
              "        Timestamp('2010-12-01 08:28:00'), 1.85, 17850.0,\n",
              "        'United Kingdom'],\n",
              "       [536367, 84879, 'ASSORTED COLOUR BIRD ORNAMENT', 32,\n",
              "        Timestamp('2010-12-01 08:34:00'), 1.69, 13047.0,\n",
              "        'United Kingdom'],\n",
              "       [536367, 22745, \"POPPY'S PLAYHOUSE BEDROOM \", 6,\n",
              "        Timestamp('2010-12-01 08:34:00'), 2.1, 13047.0, 'United Kingdom'],\n",
              "       [536367, 22748, \"POPPY'S PLAYHOUSE KITCHEN\", 6,\n",
              "        Timestamp('2010-12-01 08:34:00'), 2.1, 13047.0, 'United Kingdom'],\n",
              "       [536367, 22749, 'FELTCRAFT PRINCESS CHARLOTTE DOLL', 8,\n",
              "        Timestamp('2010-12-01 08:34:00'), 3.75, 13047.0,\n",
              "        'United Kingdom'],\n",
              "       [536367, 22310, 'IVORY KNITTED MUG COSY ', 6,\n",
              "        Timestamp('2010-12-01 08:34:00'), 1.65, 13047.0,\n",
              "        'United Kingdom'],\n",
              "       [536367, 84969, 'BOX OF 6 ASSORTED COLOUR TEASPOONS', 6,\n",
              "        Timestamp('2010-12-01 08:34:00'), 4.25, 13047.0,\n",
              "        'United Kingdom'],\n",
              "       [536367, 22623, 'BOX OF VINTAGE JIGSAW BLOCKS ', 3,\n",
              "        Timestamp('2010-12-01 08:34:00'), 4.95, 13047.0,\n",
              "        'United Kingdom'],\n",
              "       [536367, 22622, 'BOX OF VINTAGE ALPHABET BLOCKS', 2,\n",
              "        Timestamp('2010-12-01 08:34:00'), 9.95, 13047.0,\n",
              "        'United Kingdom'],\n",
              "       [536367, 21754, 'HOME BUILDING BLOCK WORD', 3,\n",
              "        Timestamp('2010-12-01 08:34:00'), 5.95, 13047.0,\n",
              "        'United Kingdom'],\n",
              "       [536367, 21755, 'LOVE BUILDING BLOCK WORD', 3,\n",
              "        Timestamp('2010-12-01 08:34:00'), 5.95, 13047.0,\n",
              "        'United Kingdom'],\n",
              "       [536367, 21777, 'RECIPE BOX WITH METAL HEART', 4,\n",
              "        Timestamp('2010-12-01 08:34:00'), 7.95, 13047.0,\n",
              "        'United Kingdom'],\n",
              "       [536367, 48187, 'DOORMAT NEW ENGLAND', 4,\n",
              "        Timestamp('2010-12-01 08:34:00'), 7.95, 13047.0,\n",
              "        'United Kingdom'],\n",
              "       [536368, 22960, 'JAM MAKING SET WITH JARS', 6,\n",
              "        Timestamp('2010-12-01 08:34:00'), 4.25, 13047.0,\n",
              "        'United Kingdom'],\n",
              "       [536368, 22913, 'RED COAT RACK PARIS FASHION', 3,\n",
              "        Timestamp('2010-12-01 08:34:00'), 4.95, 13047.0,\n",
              "        'United Kingdom'],\n",
              "       [536368, 22912, 'YELLOW COAT RACK PARIS FASHION', 3,\n",
              "        Timestamp('2010-12-01 08:34:00'), 4.95, 13047.0,\n",
              "        'United Kingdom'],\n",
              "       [536368, 22914, 'BLUE COAT RACK PARIS FASHION', 3,\n",
              "        Timestamp('2010-12-01 08:34:00'), 4.95, 13047.0,\n",
              "        'United Kingdom'],\n",
              "       [536369, 21756, 'BATH BUILDING BLOCK WORD', 3,\n",
              "        Timestamp('2010-12-01 08:35:00'), 5.95, 13047.0,\n",
              "        'United Kingdom'],\n",
              "       [536370, 22728, 'ALARM CLOCK BAKELIKE PINK', 24,\n",
              "        Timestamp('2010-12-01 08:45:00'), 3.75, 12583.0, 'France'],\n",
              "       [536370, 22727, 'ALARM CLOCK BAKELIKE RED ', 24,\n",
              "        Timestamp('2010-12-01 08:45:00'), 3.75, 12583.0, 'France'],\n",
              "       [536370, 22726, 'ALARM CLOCK BAKELIKE GREEN', 12,\n",
              "        Timestamp('2010-12-01 08:45:00'), 3.75, 12583.0, 'France'],\n",
              "       [536370, 21724, 'PANDA AND BUNNIES STICKER SHEET', 12,\n",
              "        Timestamp('2010-12-01 08:45:00'), 0.85, 12583.0, 'France'],\n",
              "       [536370, 21883, 'STARS GIFT TAPE ', 24,\n",
              "        Timestamp('2010-12-01 08:45:00'), 0.65, 12583.0, 'France'],\n",
              "       [536370, 10002, 'INFLATABLE POLITICAL GLOBE ', 48,\n",
              "        Timestamp('2010-12-01 08:45:00'), 0.85, 12583.0, 'France'],\n",
              "       [536370, 21791, 'VINTAGE HEADS AND TAILS CARD GAME ', 24,\n",
              "        Timestamp('2010-12-01 08:45:00'), 1.25, 12583.0, 'France'],\n",
              "       [536370, 21035, 'SET/2 RED RETROSPOT TEA TOWELS ', 18,\n",
              "        Timestamp('2010-12-01 08:45:00'), 2.95, 12583.0, 'France'],\n",
              "       [536370, 22326, 'ROUND SNACK BOXES SET OF4 WOODLAND ', 24,\n",
              "        Timestamp('2010-12-01 08:45:00'), 2.95, 12583.0, 'France'],\n",
              "       [536370, 22629, 'SPACEBOY LUNCH BOX ', 24,\n",
              "        Timestamp('2010-12-01 08:45:00'), 1.95, 12583.0, 'France'],\n",
              "       [536370, 22659, 'LUNCH BOX I LOVE LONDON', 24,\n",
              "        Timestamp('2010-12-01 08:45:00'), 1.95, 12583.0, 'France'],\n",
              "       [536370, 22631, 'CIRCUS PARADE LUNCH BOX ', 24,\n",
              "        Timestamp('2010-12-01 08:45:00'), 1.95, 12583.0, 'France'],\n",
              "       [536370, 22661, 'CHARLOTTE BAG DOLLY GIRL DESIGN', 20,\n",
              "        Timestamp('2010-12-01 08:45:00'), 0.85, 12583.0, 'France'],\n",
              "       [536370, 21731, 'RED TOADSTOOL LED NIGHT LIGHT', 24,\n",
              "        Timestamp('2010-12-01 08:45:00'), 1.65, 12583.0, 'France'],\n",
              "       [536370, 22900, ' SET 2 TEA TOWELS I LOVE LONDON ', 24,\n",
              "        Timestamp('2010-12-01 08:45:00'), 2.95, 12583.0, 'France'],\n",
              "       [536370, 21913, 'VINTAGE SEASIDE JIGSAW PUZZLES', 12,\n",
              "        Timestamp('2010-12-01 08:45:00'), 3.75, 12583.0, 'France'],\n",
              "       [536370, 22540, 'MINI JIGSAW CIRCUS PARADE ', 24,\n",
              "        Timestamp('2010-12-01 08:45:00'), 0.42, 12583.0, 'France'],\n",
              "       [536370, 22544, 'MINI JIGSAW SPACEBOY', 24,\n",
              "        Timestamp('2010-12-01 08:45:00'), 0.42, 12583.0, 'France'],\n",
              "       [536370, 22492, 'MINI PAINT SET VINTAGE ', 36,\n",
              "        Timestamp('2010-12-01 08:45:00'), 0.65, 12583.0, 'France'],\n",
              "       [536370, 'POST', 'POSTAGE', 3, Timestamp('2010-12-01 08:45:00'),\n",
              "        18.0, 12583.0, 'France'],\n",
              "       [536371, 22086, \"PAPER CHAIN KIT 50'S CHRISTMAS \", 80,\n",
              "        Timestamp('2010-12-01 09:00:00'), 2.55, 13748.0,\n",
              "        'United Kingdom'],\n",
              "       [536372, 22632, 'HAND WARMER RED POLKA DOT', 6,\n",
              "        Timestamp('2010-12-01 09:01:00'), 1.85, 17850.0,\n",
              "        'United Kingdom'],\n",
              "       [536372, 22633, 'HAND WARMER UNION JACK', 6,\n",
              "        Timestamp('2010-12-01 09:01:00'), 1.85, 17850.0,\n",
              "        'United Kingdom'],\n",
              "       [536373, '85123A', 'WHITE HANGING HEART T-LIGHT HOLDER', 6,\n",
              "        Timestamp('2010-12-01 09:02:00'), 2.55, 17850.0,\n",
              "        'United Kingdom'],\n",
              "       [536373, 71053, 'WHITE METAL LANTERN', 6,\n",
              "        Timestamp('2010-12-01 09:02:00'), 3.39, 17850.0,\n",
              "        'United Kingdom'],\n",
              "       [536373, '84406B', 'CREAM CUPID HEARTS COAT HANGER', 8,\n",
              "        Timestamp('2010-12-01 09:02:00'), 2.75, 17850.0,\n",
              "        'United Kingdom'],\n",
              "       [536373, 20679, 'EDWARDIAN PARASOL RED', 6,\n",
              "        Timestamp('2010-12-01 09:02:00'), 4.95, 17850.0,\n",
              "        'United Kingdom'],\n",
              "       [536373, 37370, 'RETRO COFFEE MUGS ASSORTED', 6,\n",
              "        Timestamp('2010-12-01 09:02:00'), 1.06, 17850.0,\n",
              "        'United Kingdom'],\n",
              "       [536373, 21871, 'SAVE THE PLANET MUG', 6,\n",
              "        Timestamp('2010-12-01 09:02:00'), 1.06, 17850.0,\n",
              "        'United Kingdom'],\n",
              "       [536373, 21071, 'VINTAGE BILLBOARD DRINK ME MUG', 6,\n",
              "        Timestamp('2010-12-01 09:02:00'), 1.06, 17850.0,\n",
              "        'United Kingdom'],\n",
              "       [536373, 21068, 'VINTAGE BILLBOARD LOVE/HATE MUG', 6,\n",
              "        Timestamp('2010-12-01 09:02:00'), 1.06, 17850.0,\n",
              "        'United Kingdom'],\n",
              "       [536373, 82483, 'WOOD 2 DRAWER CABINET WHITE FINISH', 2,\n",
              "        Timestamp('2010-12-01 09:02:00'), 4.95, 17850.0,\n",
              "        'United Kingdom'],\n",
              "       [536373, 82486, 'WOOD S/3 CABINET ANT WHITE FINISH', 4,\n",
              "        Timestamp('2010-12-01 09:02:00'), 6.95, 17850.0,\n",
              "        'United Kingdom'],\n",
              "       [536373, 82482, 'WOODEN PICTURE FRAME WHITE FINISH', 6,\n",
              "        Timestamp('2010-12-01 09:02:00'), 2.1, 17850.0, 'United Kingdom'],\n",
              "       [536373, '82494L', 'WOODEN FRAME ANTIQUE WHITE ', 6,\n",
              "        Timestamp('2010-12-01 09:02:00'), 2.55, 17850.0,\n",
              "        'United Kingdom'],\n",
              "       [536373, '84029G', 'KNITTED UNION FLAG HOT WATER BOTTLE', 6,\n",
              "        Timestamp('2010-12-01 09:02:00'), 3.39, 17850.0,\n",
              "        'United Kingdom'],\n",
              "       [536373, '84029E', 'RED WOOLLY HOTTIE WHITE HEART.', 6,\n",
              "        Timestamp('2010-12-01 09:02:00'), 3.39, 17850.0,\n",
              "        'United Kingdom'],\n",
              "       [536373, 22752, 'SET 7 BABUSHKA NESTING BOXES', 2,\n",
              "        Timestamp('2010-12-01 09:02:00'), 7.65, 17850.0,\n",
              "        'United Kingdom'],\n",
              "       [536373, 21730, 'GLASS STAR FROSTED T-LIGHT HOLDER', 6,\n",
              "        Timestamp('2010-12-01 09:02:00'), 4.25, 17850.0,\n",
              "        'United Kingdom'],\n",
              "       [536374, 21258, 'VICTORIAN SEWING BOX LARGE', 32,\n",
              "        Timestamp('2010-12-01 09:09:00'), 10.95, 15100.0,\n",
              "        'United Kingdom'],\n",
              "       [536375, '85123A', 'WHITE HANGING HEART T-LIGHT HOLDER', 6,\n",
              "        Timestamp('2010-12-01 09:32:00'), 2.55, 17850.0,\n",
              "        'United Kingdom'],\n",
              "       [536375, 71053, 'WHITE METAL LANTERN', 6,\n",
              "        Timestamp('2010-12-01 09:32:00'), 3.39, 17850.0,\n",
              "        'United Kingdom'],\n",
              "       [536375, '84406B', 'CREAM CUPID HEARTS COAT HANGER', 8,\n",
              "        Timestamp('2010-12-01 09:32:00'), 2.75, 17850.0,\n",
              "        'United Kingdom'],\n",
              "       [536375, 20679, 'EDWARDIAN PARASOL RED', 6,\n",
              "        Timestamp('2010-12-01 09:32:00'), 4.95, 17850.0,\n",
              "        'United Kingdom'],\n",
              "       [536375, 37370, 'RETRO COFFEE MUGS ASSORTED', 6,\n",
              "        Timestamp('2010-12-01 09:32:00'), 1.06, 17850.0,\n",
              "        'United Kingdom'],\n",
              "       [536375, 21871, 'SAVE THE PLANET MUG', 6,\n",
              "        Timestamp('2010-12-01 09:32:00'), 1.06, 17850.0,\n",
              "        'United Kingdom'],\n",
              "       [536375, 21071, 'VINTAGE BILLBOARD DRINK ME MUG', 6,\n",
              "        Timestamp('2010-12-01 09:32:00'), 1.06, 17850.0,\n",
              "        'United Kingdom'],\n",
              "       [536375, 21068, 'VINTAGE BILLBOARD LOVE/HATE MUG', 6,\n",
              "        Timestamp('2010-12-01 09:32:00'), 1.06, 17850.0,\n",
              "        'United Kingdom'],\n",
              "       [536375, 82483, 'WOOD 2 DRAWER CABINET WHITE FINISH', 2,\n",
              "        Timestamp('2010-12-01 09:32:00'), 4.95, 17850.0,\n",
              "        'United Kingdom'],\n",
              "       [536375, 82486, 'WOOD S/3 CABINET ANT WHITE FINISH', 4,\n",
              "        Timestamp('2010-12-01 09:32:00'), 6.95, 17850.0,\n",
              "        'United Kingdom'],\n",
              "       [536375, 82482, 'WOODEN PICTURE FRAME WHITE FINISH', 6,\n",
              "        Timestamp('2010-12-01 09:32:00'), 2.1, 17850.0, 'United Kingdom'],\n",
              "       [536375, '82494L', 'WOODEN FRAME ANTIQUE WHITE ', 6,\n",
              "        Timestamp('2010-12-01 09:32:00'), 2.55, 17850.0,\n",
              "        'United Kingdom'],\n",
              "       [536375, '84029G', 'KNITTED UNION FLAG HOT WATER BOTTLE', 6,\n",
              "        Timestamp('2010-12-01 09:32:00'), 3.39, 17850.0,\n",
              "        'United Kingdom'],\n",
              "       [536375, '84029E', 'RED WOOLLY HOTTIE WHITE HEART.', 6,\n",
              "        Timestamp('2010-12-01 09:32:00'), 3.39, 17850.0,\n",
              "        'United Kingdom'],\n",
              "       [536375, 22752, 'SET 7 BABUSHKA NESTING BOXES', 2,\n",
              "        Timestamp('2010-12-01 09:32:00'), 7.65, 17850.0,\n",
              "        'United Kingdom'],\n",
              "       [536375, 21730, 'GLASS STAR FROSTED T-LIGHT HOLDER', 6,\n",
              "        Timestamp('2010-12-01 09:32:00'), 4.25, 17850.0,\n",
              "        'United Kingdom'],\n",
              "       [536376, 22114, 'HOT WATER BOTTLE TEA AND SYMPATHY', 48,\n",
              "        Timestamp('2010-12-01 09:32:00'), 3.45, 15291.0,\n",
              "        'United Kingdom'],\n",
              "       [536376, 21733, 'RED HANGING HEART T-LIGHT HOLDER', 64,\n",
              "        Timestamp('2010-12-01 09:32:00'), 2.55, 15291.0,\n",
              "        'United Kingdom'],\n",
              "       [536377, 22632, 'HAND WARMER RED POLKA DOT', 6,\n",
              "        Timestamp('2010-12-01 09:34:00'), 1.85, 17850.0,\n",
              "        'United Kingdom'],\n",
              "       [536377, 22633, 'HAND WARMER UNION JACK', 6,\n",
              "        Timestamp('2010-12-01 09:34:00'), 1.85, 17850.0,\n",
              "        'United Kingdom'],\n",
              "       [536378, 22386, 'JUMBO BAG PINK POLKADOT', 10,\n",
              "        Timestamp('2010-12-01 09:37:00'), 1.95, 14688.0,\n",
              "        'United Kingdom'],\n",
              "       [536378, '85099C', 'JUMBO  BAG BAROQUE BLACK WHITE', 10,\n",
              "        Timestamp('2010-12-01 09:37:00'), 1.95, 14688.0,\n",
              "        'United Kingdom'],\n",
              "       [536378, 21033, 'JUMBO BAG CHARLIE AND LOLA TOYS', 10,\n",
              "        Timestamp('2010-12-01 09:37:00'), 2.95, 14688.0,\n",
              "        'United Kingdom'],\n",
              "       [536378, 20723, 'STRAWBERRY CHARLOTTE BAG', 10,\n",
              "        Timestamp('2010-12-01 09:37:00'), 0.85, 14688.0,\n",
              "        'United Kingdom'],\n",
              "       [536378, '84997B', 'RED 3 PIECE RETROSPOT CUTLERY SET', 12,\n",
              "        Timestamp('2010-12-01 09:37:00'), 3.75, 14688.0,\n",
              "        'United Kingdom'],\n",
              "       [536378, '84997C', 'BLUE 3 PIECE POLKADOT CUTLERY SET', 6,\n",
              "        Timestamp('2010-12-01 09:37:00'), 3.75, 14688.0,\n",
              "        'United Kingdom'],\n",
              "       [536378, 21094, 'SET/6 RED SPOTTY PAPER PLATES', 12,\n",
              "        Timestamp('2010-12-01 09:37:00'), 0.85, 14688.0,\n",
              "        'United Kingdom'],\n",
              "       [536378, 20725, 'LUNCH BAG RED RETROSPOT', 10,\n",
              "        Timestamp('2010-12-01 09:37:00'), 1.65, 14688.0,\n",
              "        'United Kingdom'],\n",
              "       [536378, 21559, 'STRAWBERRY LUNCH BOX WITH CUTLERY', 6,\n",
              "        Timestamp('2010-12-01 09:37:00'), 2.55, 14688.0,\n",
              "        'United Kingdom'],\n",
              "       [536378, 22352, 'LUNCH BOX WITH CUTLERY RETROSPOT ', 6,\n",
              "        Timestamp('2010-12-01 09:37:00'), 2.55, 14688.0,\n",
              "        'United Kingdom'],\n",
              "       [536378, 21212, 'PACK OF 72 RETROSPOT CAKE CASES', 120,\n",
              "        Timestamp('2010-12-01 09:37:00'), 0.42, 14688.0,\n",
              "        'United Kingdom'],\n",
              "       [536378, 21975, 'PACK OF 60 DINOSAUR CAKE CASES', 24,\n",
              "        Timestamp('2010-12-01 09:37:00'), 0.55, 14688.0,\n",
              "        'United Kingdom'],\n",
              "       [536378, 21977, 'PACK OF 60 PINK PAISLEY CAKE CASES', 24,\n",
              "        Timestamp('2010-12-01 09:37:00'), 0.55, 14688.0,\n",
              "        'United Kingdom'],\n",
              "       [536378, 84991, '60 TEATIME FAIRY CAKE CASES', 24,\n",
              "        Timestamp('2010-12-01 09:37:00'), 0.55, 14688.0,\n",
              "        'United Kingdom']], dtype=object)"
            ]
          },
          "metadata": {
            "tags": []
          },
          "execution_count": 41
        }
      ]
    }
  ]
}