{
  "nbformat": 4,
  "nbformat_minor": 0,
  "metadata": {
    "colab": {
      "name": "Lab4.ipynb",
      "provenance": [],
      "mount_file_id": "1lLtjHkeWzIbwIHCK4gM9ZBfovMS4A7YH",
      "authorship_tag": "ABX9TyO4ExI5/INt8jneW+l5NlAD",
      "include_colab_link": true
    },
    "kernelspec": {
      "name": "python3",
      "display_name": "Python 3"
    }
  },
  "cells": [
    {
      "cell_type": "markdown",
      "metadata": {
        "id": "view-in-github",
        "colab_type": "text"
      },
      "source": [
        "<a href=\"https://colab.research.google.com/github/IIAnirudhII/BU/blob/master/Deep%20Learning/Lab4/Lab4.ipynb\" target=\"_parent\"><img src=\"https://colab.research.google.com/assets/colab-badge.svg\" alt=\"Open In Colab\"/></a>"
      ]
    },
    {
      "cell_type": "code",
      "metadata": {
        "id": "zdEsIy8exVRG",
        "colab_type": "code",
        "colab": {}
      },
      "source": [
        "import pandas as pd"
      ],
      "execution_count": 200,
      "outputs": []
    },
    {
      "cell_type": "code",
      "metadata": {
        "id": "ftpb5icNy1B7",
        "colab_type": "code",
        "colab": {}
      },
      "source": [
        "a_file = open(\"/content/drive/My Drive/Dataset/Texts/lab 4 dataset.txt\", \"r+\")"
      ],
      "execution_count": 201,
      "outputs": []
    },
    {
      "cell_type": "code",
      "metadata": {
        "id": "EpT4iRSh0Qq3",
        "colab_type": "code",
        "colab": {}
      },
      "source": [
        "from keras.preprocessing.text import text_to_word_sequence\n",
        "lst=[]\n",
        "for i in a_file:\n",
        "  lst.append(text_to_word_sequence(i))"
      ],
      "execution_count": 202,
      "outputs": []
    },
    {
      "cell_type": "code",
      "metadata": {
        "id": "5mlxiEcS-Kob",
        "colab_type": "code",
        "colab": {}
      },
      "source": [
        "y=[]\n",
        "for i in range(len(lst)):\n",
        "  y.append(lst[i].pop())"
      ],
      "execution_count": 203,
      "outputs": []
    },
    {
      "cell_type": "code",
      "metadata": {
        "id": "j4s1HIbuDe5p",
        "colab_type": "code",
        "colab": {}
      },
      "source": [
        "for i in range(len(lst)):\n",
        "  lst[i]=\" \".join(lst[i])"
      ],
      "execution_count": 204,
      "outputs": []
    },
    {
      "cell_type": "code",
      "metadata": {
        "id": "8IjUtnVQCOUs",
        "colab_type": "code",
        "colab": {
          "base_uri": "https://localhost:8080/",
          "height": 127
        },
        "outputId": "600734d6-300b-4ece-8a69-cb92869441a6"
      },
      "source": [
        "from nltk.corpus import stopwords \n",
        "from nltk.tokenize import word_tokenize \n",
        "import nltk\n",
        "nltk.download('stopwords')\n",
        "nltk.download('punkt')\n",
        "nltk.download('wordnet')\n",
        "\n",
        "stop_words = set(stopwords.words('english'))\n",
        "for i in range(len(lst)):\n",
        "  word_tokens = word_tokenize(lst[i])\n",
        "  filtered_sentence = [] \n",
        "  \n",
        "  for w in word_tokens: \n",
        "      if w not in stop_words: \n",
        "          filtered_sentence.append(w) \n",
        "  lst[i] = filtered_sentence"
      ],
      "execution_count": 205,
      "outputs": [
        {
          "output_type": "stream",
          "text": [
            "[nltk_data] Downloading package stopwords to /root/nltk_data...\n",
            "[nltk_data]   Package stopwords is already up-to-date!\n",
            "[nltk_data] Downloading package punkt to /root/nltk_data...\n",
            "[nltk_data]   Package punkt is already up-to-date!\n",
            "[nltk_data] Downloading package wordnet to /root/nltk_data...\n",
            "[nltk_data]   Package wordnet is already up-to-date!\n"
          ],
          "name": "stdout"
        }
      ]
    },
    {
      "cell_type": "code",
      "metadata": {
        "id": "65_SEb2G-7tt",
        "colab_type": "code",
        "colab": {}
      },
      "source": [
        "unique=[]\n",
        "for i in lst:\n",
        "  for j in i:\n",
        "    if(j not in unique):\n",
        "      unique.append(j)"
      ],
      "execution_count": 206,
      "outputs": []
    },
    {
      "cell_type": "code",
      "metadata": {
        "id": "l8-kcksbGBKl",
        "colab_type": "code",
        "colab": {}
      },
      "source": [
        "for i in range(len(lst)):\n",
        "  lst[i]=\" \".join(lst[i])"
      ],
      "execution_count": 207,
      "outputs": []
    },
    {
      "cell_type": "code",
      "metadata": {
        "id": "Exad0ORzBGdU",
        "colab_type": "code",
        "colab": {}
      },
      "source": [
        "import pandas as pd\n",
        "from sklearn.feature_extraction.text import CountVectorizer\n",
        "\n",
        "corpus = lst\n",
        "df = pd.DataFrame(data=corpus, columns=['sentences'])\n",
        "\n",
        "vectorizer = CountVectorizer(vocabulary=unique, min_df=0 , stop_words=frozenset(), token_pattern=r\"(?u)\\b\\w+\\b\")\n",
        "X = vectorizer.fit_transform(df['sentences'].values)\n",
        "result = pd.DataFrame(data=X.toarray(), columns=vectorizer.get_feature_names())\n"
      ],
      "execution_count": 208,
      "outputs": []
    },
    {
      "cell_type": "code",
      "metadata": {
        "id": "_jnRG9erGW-Y",
        "colab_type": "code",
        "colab": {}
      },
      "source": [
        "X=np.array(result)\n",
        "\n",
        "from sklearn import preprocessing\n",
        "le = preprocessing.LabelEncoder()\n",
        "y=le.fit_transform(y)"
      ],
      "execution_count": 209,
      "outputs": []
    },
    {
      "cell_type": "code",
      "metadata": {
        "id": "FMBFlKUaGdMl",
        "colab_type": "code",
        "colab": {}
      },
      "source": [
        "from sklearn.model_selection import train_test_split\n",
        "\n",
        "X_train, X_test, y_train, y_test = train_test_split(X, y, test_size=0.25)"
      ],
      "execution_count": 210,
      "outputs": []
    },
    {
      "cell_type": "code",
      "metadata": {
        "id": "Pr04IbXTHNFE",
        "colab_type": "code",
        "colab": {}
      },
      "source": [
        "import tensorflow.keras as keras\n",
        "import tensorflow as tf\n",
        "\n",
        "model = tf.keras.models.Sequential()\n",
        "model.add(tf.keras.layers.Flatten())\n",
        "model.add(tf.keras.layers.Dense(32, activation=tf.nn.relu))\n",
        "model.add(tf.keras.layers.Dense(2, activation=tf.nn.softmax))\n",
        "\n",
        "model.compile(optimizer ='adam' , loss = 'binary_crossentropy' ,metrics =['accuracy'])\n",
        "\n",
        "model.fit(X_train , y_train , epochs = 100)"
      ],
      "execution_count": null,
      "outputs": []
    },
    {
      "cell_type": "code",
      "metadata": {
        "id": "ZsoWj-RqLG_i",
        "colab_type": "code",
        "colab": {
          "base_uri": "https://localhost:8080/",
          "height": 54
        },
        "outputId": "73d1f75f-0731-49fc-faa1-374340ed72f6"
      },
      "source": [
        "val_loss, val_acc = model.evaluate(X_test, y_test)\n",
        "print(val_loss, val_acc)"
      ],
      "execution_count": 221,
      "outputs": [
        {
          "output_type": "stream",
          "text": [
            "1/1 [==============================] - 0s 2ms/step - loss: 0.7066 - accuracy: 0.6000\n",
            "0.7065825462341309 0.6000000238418579\n"
          ],
          "name": "stdout"
        }
      ]
    }
  ]
}