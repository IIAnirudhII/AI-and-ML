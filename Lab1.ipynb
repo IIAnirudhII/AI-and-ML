{
  "nbformat": 4,
  "nbformat_minor": 0,
  "metadata": {
    "colab": {
      "name": "Lab1.ipynb",
      "provenance": [],
      "collapsed_sections": [],
      "authorship_tag": "ABX9TyOosnQcP0nfefCUS/pzfIYM",
      "include_colab_link": true
    },
    "kernelspec": {
      "name": "python3",
      "display_name": "Python 3"
    }
  },
  "cells": [
    {
      "cell_type": "markdown",
      "metadata": {
        "id": "view-in-github",
        "colab_type": "text"
      },
      "source": [
        "<a href=\"https://colab.research.google.com/github/IIAnirudhII/BU/blob/master/Lab1.ipynb\" target=\"_parent\"><img src=\"https://colab.research.google.com/assets/colab-badge.svg\" alt=\"Open In Colab\"/></a>"
      ]
    },
    {
      "cell_type": "markdown",
      "metadata": {
        "id": "VvhJFOv2P3bC",
        "colab_type": "text"
      },
      "source": [
        "# 1)Caesar Cipher"
      ]
    },
    {
      "cell_type": "code",
      "metadata": {
        "id": "6KIu3JTWIZ5w",
        "colab_type": "code",
        "colab": {
          "base_uri": "https://localhost:8080/",
          "height": 201
        },
        "outputId": "c26d854c-c24a-4ddf-92c0-a01ce8fa5079"
      },
      "source": [
        "print(\"Enter the Message:\")\n",
        "X=[(x) for x in input().lower().split()]\n",
        "  \n",
        "print(\"Enter Keyy:\")\n",
        "k=int(input())\n",
        "\n",
        "print(\"Choose the following options\")\n",
        "print(\"1:Encrypt the message\")\n",
        "print(\"2: Decrypt the message\")\n",
        "\n",
        "print(\"Choice:\")\n",
        "choice=int(input())\n",
        "\n",
        "ans=[]\n",
        "if(choice==1):\n",
        "  for i in X:\n",
        "    lst=[]\n",
        "    for p in i:\n",
        "      c=chr(((ord(p)+k-97)%26)+97)\n",
        "      lst.append(c)\n",
        "    lst=\"\".join(lst)\n",
        "    ans.append(lst)\n",
        "  \n",
        "  print(\"Encrypted Message is: \",\" \".join(ans))\n",
        "\n",
        "else:\n",
        "  for i in X:\n",
        "    lst=[]\n",
        "    for c in i:\n",
        "      p=chr(((ord(c)-k-97)%26)+97)\n",
        "      lst.append(p)\n",
        "    lst=\"\".join(lst)\n",
        "    ans.append(lst)  \n",
        "\n",
        "  print(\"Decrypted Message is: \",\" \".join(ans))"
      ],
      "execution_count": 32,
      "outputs": [
        {
          "output_type": "stream",
          "text": [
            "Enter the Message:\n",
            "phhw ph diwhu wkh wrjd sduwb\n",
            "Enter Keyy:\n",
            "3\n",
            "Choose the following options\n",
            "1:Encrypt the message\n",
            "2: Decrypt the message\n",
            "Choice:\n",
            "2\n",
            "Decrypted Message is:  meet me after the toga party\n"
          ],
          "name": "stdout"
        }
      ]
    },
    {
      "cell_type": "markdown",
      "metadata": {
        "id": "V7zfNp7ZQNYY",
        "colab_type": "text"
      },
      "source": [
        "# 2) Cryptographic nonce"
      ]
    },
    {
      "cell_type": "code",
      "metadata": {
        "id": "H5LwAekTKA4w",
        "colab_type": "code",
        "colab": {
          "base_uri": "https://localhost:8080/",
          "height": 201
        },
        "outputId": "271cf110-595e-448f-b861-1f9e96265085"
      },
      "source": [
        "import numpy as np\n",
        "nonce=np.random.randint(0,10000,size=(10))\n",
        "\n",
        "for i in nonce:\n",
        "  print(i)"
      ],
      "execution_count": 37,
      "outputs": [
        {
          "output_type": "stream",
          "text": [
            "3981\n",
            "6929\n",
            "5521\n",
            "2599\n",
            "6342\n",
            "8216\n",
            "8897\n",
            "9073\n",
            "9279\n",
            "5107\n"
          ],
          "name": "stdout"
        }
      ]
    }
  ]
}