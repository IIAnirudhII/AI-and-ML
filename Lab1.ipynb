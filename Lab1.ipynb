{
  "nbformat": 4,
  "nbformat_minor": 0,
  "metadata": {
    "colab": {
      "name": "Lab1.ipynb",
      "provenance": [],
      "authorship_tag": "ABX9TyOp1GvyI7jmx3gZUVFzLjSS",
      "include_colab_link": true
    },
    "kernelspec": {
      "name": "python3",
      "display_name": "Python 3"
    }
  },
  "cells": [
    {
      "cell_type": "markdown",
      "metadata": {
        "id": "view-in-github",
        "colab_type": "text"
      },
      "source": [
        "<a href=\"https://colab.research.google.com/github/IIAnirudhII/BU/blob/master/Lab1.ipynb\" target=\"_parent\"><img src=\"https://colab.research.google.com/assets/colab-badge.svg\" alt=\"Open In Colab\"/></a>"
      ]
    },
    {
      "cell_type": "code",
      "metadata": {
        "id": "BXek4vnUAWsD",
        "colab_type": "code",
        "colab": {}
      },
      "source": [
        "import numpy as np\n",
        "import pandas as pd"
      ],
      "execution_count": 37,
      "outputs": []
    },
    {
      "cell_type": "code",
      "metadata": {
        "id": "6I3a2nyIAjTz",
        "colab_type": "code",
        "colab": {
          "base_uri": "https://localhost:8080/",
          "height": 146
        },
        "outputId": "c4545195-9197-4b45-b816-9367c20562f3"
      },
      "source": [
        "# Random Integers\n",
        "s1=np.random.randint(-100,100,size=(100))\n",
        "print(s1)\n",
        "print(\"Shape = \",s1.shape)"
      ],
      "execution_count": 15,
      "outputs": [
        {
          "output_type": "stream",
          "text": [
            "[ 88  66  65 -88 -72  89  38 -45  95  45 -78 -88  52 -13   0  40  51  50\n",
            "  96 -93  82 -34 -78 -75 -80  -5  20 -61  97  90  41 -68  92 -61 -54  96\n",
            "  57  24 -68  61 -38  27 -53 -90  10 -12  23  79   8 -64 -51  94 -94 -61\n",
            "  82 -89   5 -39  89  35 -88 -84 -67  39  23   4 -97  33  27  48 -68  12\n",
            "  97  87 -85  85  78 -40 -65 -62  11  10 -84  -5 -60 -91  62 -24 -54   9\n",
            " -41 -43 -50   1 -21  67  59  57  75  79]\n",
            "Shape =  (100,)\n"
          ],
          "name": "stdout"
        }
      ]
    },
    {
      "cell_type": "code",
      "metadata": {
        "id": "12HPKbNJBLkU",
        "colab_type": "code",
        "colab": {
          "base_uri": "https://localhost:8080/",
          "height": 348
        },
        "outputId": "a37fec04-4f5f-41e1-abf4-fe8645feac39"
      },
      "source": [
        "# Random floats\n",
        "s2=np.random.sample(size=100)\n",
        "print(s2)\n",
        "print(\"Shape = \",s2.shape)"
      ],
      "execution_count": 16,
      "outputs": [
        {
          "output_type": "stream",
          "text": [
            "[0.74527603 0.63540074 0.65718454 0.66795748 0.45129043 0.79475315\n",
            " 0.04310505 0.65521525 0.58384001 0.23633706 0.37007986 0.99668799\n",
            " 0.29797365 0.90363849 0.184878   0.53899071 0.93108336 0.42543499\n",
            " 0.4583842  0.76224791 0.61414556 0.43928591 0.70470664 0.45597392\n",
            " 0.35690841 0.12480789 0.90664534 0.1560435  0.71062864 0.63398653\n",
            " 0.97595579 0.73440798 0.2208977  0.77742723 0.68370569 0.19502521\n",
            " 0.9018712  0.23419622 0.73876702 0.96125243 0.63350508 0.64189571\n",
            " 0.64848217 0.80884988 0.80180668 0.91660149 0.29059019 0.83104562\n",
            " 0.84027124 0.92969974 0.01669623 0.35718101 0.6807605  0.40248162\n",
            " 0.31710825 0.96606768 0.0081279  0.18183518 0.68654158 0.28650696\n",
            " 0.79918544 0.60715152 0.71068097 0.99577178 0.2365361  0.94477328\n",
            " 0.21535413 0.64927931 0.9234632  0.02084316 0.03404251 0.90375847\n",
            " 0.50663577 0.84224362 0.14005445 0.58912067 0.98167933 0.40913793\n",
            " 0.77264129 0.26608057 0.79997355 0.00119685 0.96293359 0.47094733\n",
            " 0.26923038 0.36663034 0.80080214 0.43349127 0.41599123 0.57673604\n",
            " 0.05405269 0.46558892 0.55720419 0.97121549 0.02403741 0.43542734\n",
            " 0.63877348 0.45032158 0.20092004 0.70074779]\n",
            "Shape =  (100,)\n"
          ],
          "name": "stdout"
        }
      ]
    },
    {
      "cell_type": "code",
      "metadata": {
        "id": "37UFiao5BVUZ",
        "colab_type": "code",
        "colab": {
          "base_uri": "https://localhost:8080/",
          "height": 109
        },
        "outputId": "a840fee3-05b1-4d78-82dd-7dad4440e777"
      },
      "source": [
        "# Random complex numbers\n",
        "s3 = np.random.random(10) + np.random.random(10) * 1j\n",
        "print(s3)\n",
        "print(\"Shape = \",s3.shape)"
      ],
      "execution_count": 17,
      "outputs": [
        {
          "output_type": "stream",
          "text": [
            "[0.3478964 +0.95875698j 0.58087428+0.62516648j 0.11692595+0.75622546j\n",
            " 0.79413337+0.69110637j 0.37611687+0.16706963j 0.07879582+0.75829237j\n",
            " 0.33998448+0.67830325j 0.47229835+0.22032617j 0.42311086+0.28453627j\n",
            " 0.42822072+0.25431962j]\n",
            "Shape =  (10,)\n"
          ],
          "name": "stdout"
        }
      ]
    },
    {
      "cell_type": "code",
      "metadata": {
        "id": "hk3wGU6YDZ3D",
        "colab_type": "code",
        "colab": {}
      },
      "source": [
        "m1=np.matrix('1 2 3;4 5 6;7 8 9')\n",
        "\n",
        "m2=np.matrix('4 5 6;7 8 9;1 2 3')"
      ],
      "execution_count": 20,
      "outputs": []
    },
    {
      "cell_type": "code",
      "metadata": {
        "id": "ES-1Ptu1Doc_",
        "colab_type": "code",
        "colab": {
          "base_uri": "https://localhost:8080/",
          "height": 72
        },
        "outputId": "9b29fc37-8902-4c89-ecaf-e72bceba906a"
      },
      "source": [
        "# Addition of two matrices\n",
        "add=m1+m2\n",
        "print(add)"
      ],
      "execution_count": 21,
      "outputs": [
        {
          "output_type": "stream",
          "text": [
            "[[ 5  7  9]\n",
            " [11 13 15]\n",
            " [ 8 10 12]]\n"
          ],
          "name": "stdout"
        }
      ]
    },
    {
      "cell_type": "code",
      "metadata": {
        "id": "AdimwM30D5DJ",
        "colab_type": "code",
        "colab": {
          "base_uri": "https://localhost:8080/",
          "height": 72
        },
        "outputId": "3dee22cd-0389-43e1-ecdf-60f0c5fdaec7"
      },
      "source": [
        "# Transpose\n",
        "\n",
        "m1.T"
      ],
      "execution_count": 22,
      "outputs": [
        {
          "output_type": "execute_result",
          "data": {
            "text/plain": [
              "matrix([[1, 4, 7],\n",
              "        [2, 5, 8],\n",
              "        [3, 6, 9]])"
            ]
          },
          "metadata": {
            "tags": []
          },
          "execution_count": 22
        }
      ]
    },
    {
      "cell_type": "code",
      "metadata": {
        "id": "8FEotT3AEHGz",
        "colab_type": "code",
        "colab": {
          "base_uri": "https://localhost:8080/",
          "height": 72
        },
        "outputId": "4a16abda-36fb-465a-9296-f137797a04ee"
      },
      "source": [
        "# Dot product\n",
        "dot=np.dot(m1,m2)\n",
        "print(dot)"
      ],
      "execution_count": 23,
      "outputs": [
        {
          "output_type": "stream",
          "text": [
            "[[ 21  27  33]\n",
            " [ 57  72  87]\n",
            " [ 93 117 141]]\n"
          ],
          "name": "stdout"
        }
      ]
    },
    {
      "cell_type": "code",
      "metadata": {
        "id": "F8eOXDCAEV7S",
        "colab_type": "code",
        "colab": {
          "base_uri": "https://localhost:8080/",
          "height": 72
        },
        "outputId": "e382908a-763f-402b-bc95-31e564180e38"
      },
      "source": [
        "# Multiplication\n",
        "np.multiply(m1,m2)"
      ],
      "execution_count": 31,
      "outputs": [
        {
          "output_type": "execute_result",
          "data": {
            "text/plain": [
              "matrix([[ 4, 10, 18],\n",
              "        [28, 40, 54],\n",
              "        [ 7, 16, 27]])"
            ]
          },
          "metadata": {
            "tags": []
          },
          "execution_count": 31
        }
      ]
    },
    {
      "cell_type": "code",
      "metadata": {
        "id": "SOkHC17yEgKW",
        "colab_type": "code",
        "colab": {}
      },
      "source": [
        "df=pd.read_excel('https://github.com/IIAnirudhII/BU/blob/master/Deep%20Learning/Lab2/data/Online%20Retail.xlsx?raw=true')\n",
        "df=df[:100]"
      ],
      "execution_count": 38,
      "outputs": []
    },
    {
      "cell_type": "code",
      "metadata": {
        "id": "LT2tpmsjHab2",
        "colab_type": "code",
        "colab": {
          "base_uri": "https://localhost:8080/",
          "height": 1000
        },
        "outputId": "f58a8d3c-f980-481d-c255-25782c6455a6"
      },
      "source": [
        "arr=df.to_numpy()\n",
        "arr"
      ],
      "execution_count": 41,
      "outputs": [
        {
          "output_type": "execute_result",
          "data": {
            "text/plain": [
              "array([[536365, '85123A', 'WHITE HANGING HEART T-LIGHT HOLDER', 6,\n",
              "        Timestamp('2010-12-01 08:26:00'), 2.55, 17850.0,\n",
              "        'United Kingdom'],\n",
              "       [536365, 71053, 'WHITE METAL LANTERN', 6,\n",
              "        Timestamp('2010-12-01 08:26:00'), 3.39, 17850.0,\n",
              "        'United Kingdom'],\n",
              "       [536365, '84406B', 'CREAM CUPID HEARTS COAT HANGER', 8,\n",
              "        Timestamp('2010-12-01 08:26:00'), 2.75, 17850.0,\n",
              "        'United Kingdom'],\n",
              "       [536365, '84029G', 'KNITTED UNION FLAG HOT WATER BOTTLE', 6,\n",
              "        Timestamp('2010-12-01 08:26:00'), 3.39, 17850.0,\n",
              "        'United Kingdom'],\n",
              "       [536365, '84029E', 'RED WOOLLY HOTTIE WHITE HEART.', 6,\n",
              "        Timestamp('2010-12-01 08:26:00'), 3.39, 17850.0,\n",
              "        'United Kingdom'],\n",
              "       [536365, 22752, 'SET 7 BABUSHKA NESTING BOXES', 2,\n",
              "        Timestamp('2010-12-01 08:26:00'), 7.65, 17850.0,\n",
              "        'United Kingdom'],\n",
              "       [536365, 21730, 'GLASS STAR FROSTED T-LIGHT HOLDER', 6,\n",
              "        Timestamp('2010-12-01 08:26:00'), 4.25, 17850.0,\n",
              "        'United Kingdom'],\n",
              "       [536366, 22633, 'HAND WARMER UNION JACK', 6,\n",
              "        Timestamp('2010-12-01 08:28:00'), 1.85, 17850.0,\n",
              "        'United Kingdom'],\n",
              "       [536366, 22632, 'HAND WARMER RED POLKA DOT', 6,\n",
              "        Timestamp('2010-12-01 08:28:00'), 1.85, 17850.0,\n",
              "        'United Kingdom'],\n",
              "       [536367, 84879, 'ASSORTED COLOUR BIRD ORNAMENT', 32,\n",
              "        Timestamp('2010-12-01 08:34:00'), 1.69, 13047.0,\n",
              "        'United Kingdom'],\n",
              "       [536367, 22745, \"POPPY'S PLAYHOUSE BEDROOM \", 6,\n",
              "        Timestamp('2010-12-01 08:34:00'), 2.1, 13047.0, 'United Kingdom'],\n",
              "       [536367, 22748, \"POPPY'S PLAYHOUSE KITCHEN\", 6,\n",
              "        Timestamp('2010-12-01 08:34:00'), 2.1, 13047.0, 'United Kingdom'],\n",
              "       [536367, 22749, 'FELTCRAFT PRINCESS CHARLOTTE DOLL', 8,\n",
              "        Timestamp('2010-12-01 08:34:00'), 3.75, 13047.0,\n",
              "        'United Kingdom'],\n",
              "       [536367, 22310, 'IVORY KNITTED MUG COSY ', 6,\n",
              "        Timestamp('2010-12-01 08:34:00'), 1.65, 13047.0,\n",
              "        'United Kingdom'],\n",
              "       [536367, 84969, 'BOX OF 6 ASSORTED COLOUR TEASPOONS', 6,\n",
              "        Timestamp('2010-12-01 08:34:00'), 4.25, 13047.0,\n",
              "        'United Kingdom'],\n",
              "       [536367, 22623, 'BOX OF VINTAGE JIGSAW BLOCKS ', 3,\n",
              "        Timestamp('2010-12-01 08:34:00'), 4.95, 13047.0,\n",
              "        'United Kingdom'],\n",
              "       [536367, 22622, 'BOX OF VINTAGE ALPHABET BLOCKS', 2,\n",
              "        Timestamp('2010-12-01 08:34:00'), 9.95, 13047.0,\n",
              "        'United Kingdom'],\n",
              "       [536367, 21754, 'HOME BUILDING BLOCK WORD', 3,\n",
              "        Timestamp('2010-12-01 08:34:00'), 5.95, 13047.0,\n",
              "        'United Kingdom'],\n",
              "       [536367, 21755, 'LOVE BUILDING BLOCK WORD', 3,\n",
              "        Timestamp('2010-12-01 08:34:00'), 5.95, 13047.0,\n",
              "        'United Kingdom'],\n",
              "       [536367, 21777, 'RECIPE BOX WITH METAL HEART', 4,\n",
              "        Timestamp('2010-12-01 08:34:00'), 7.95, 13047.0,\n",
              "        'United Kingdom'],\n",
              "       [536367, 48187, 'DOORMAT NEW ENGLAND', 4,\n",
              "        Timestamp('2010-12-01 08:34:00'), 7.95, 13047.0,\n",
              "        'United Kingdom'],\n",
              "       [536368, 22960, 'JAM MAKING SET WITH JARS', 6,\n",
              "        Timestamp('2010-12-01 08:34:00'), 4.25, 13047.0,\n",
              "        'United Kingdom'],\n",
              "       [536368, 22913, 'RED COAT RACK PARIS FASHION', 3,\n",
              "        Timestamp('2010-12-01 08:34:00'), 4.95, 13047.0,\n",
              "        'United Kingdom'],\n",
              "       [536368, 22912, 'YELLOW COAT RACK PARIS FASHION', 3,\n",
              "        Timestamp('2010-12-01 08:34:00'), 4.95, 13047.0,\n",
              "        'United Kingdom'],\n",
              "       [536368, 22914, 'BLUE COAT RACK PARIS FASHION', 3,\n",
              "        Timestamp('2010-12-01 08:34:00'), 4.95, 13047.0,\n",
              "        'United Kingdom'],\n",
              "       [536369, 21756, 'BATH BUILDING BLOCK WORD', 3,\n",
              "        Timestamp('2010-12-01 08:35:00'), 5.95, 13047.0,\n",
              "        'United Kingdom'],\n",
              "       [536370, 22728, 'ALARM CLOCK BAKELIKE PINK', 24,\n",
              "        Timestamp('2010-12-01 08:45:00'), 3.75, 12583.0, 'France'],\n",
              "       [536370, 22727, 'ALARM CLOCK BAKELIKE RED ', 24,\n",
              "        Timestamp('2010-12-01 08:45:00'), 3.75, 12583.0, 'France'],\n",
              "       [536370, 22726, 'ALARM CLOCK BAKELIKE GREEN', 12,\n",
              "        Timestamp('2010-12-01 08:45:00'), 3.75, 12583.0, 'France'],\n",
              "       [536370, 21724, 'PANDA AND BUNNIES STICKER SHEET', 12,\n",
              "        Timestamp('2010-12-01 08:45:00'), 0.85, 12583.0, 'France'],\n",
              "       [536370, 21883, 'STARS GIFT TAPE ', 24,\n",
              "        Timestamp('2010-12-01 08:45:00'), 0.65, 12583.0, 'France'],\n",
              "       [536370, 10002, 'INFLATABLE POLITICAL GLOBE ', 48,\n",
              "        Timestamp('2010-12-01 08:45:00'), 0.85, 12583.0, 'France'],\n",
              "       [536370, 21791, 'VINTAGE HEADS AND TAILS CARD GAME ', 24,\n",
              "        Timestamp('2010-12-01 08:45:00'), 1.25, 12583.0, 'France'],\n",
              "       [536370, 21035, 'SET/2 RED RETROSPOT TEA TOWELS ', 18,\n",
              "        Timestamp('2010-12-01 08:45:00'), 2.95, 12583.0, 'France'],\n",
              "       [536370, 22326, 'ROUND SNACK BOXES SET OF4 WOODLAND ', 24,\n",
              "        Timestamp('2010-12-01 08:45:00'), 2.95, 12583.0, 'France'],\n",
              "       [536370, 22629, 'SPACEBOY LUNCH BOX ', 24,\n",
              "        Timestamp('2010-12-01 08:45:00'), 1.95, 12583.0, 'France'],\n",
              "       [536370, 22659, 'LUNCH BOX I LOVE LONDON', 24,\n",
              "        Timestamp('2010-12-01 08:45:00'), 1.95, 12583.0, 'France'],\n",
              "       [536370, 22631, 'CIRCUS PARADE LUNCH BOX ', 24,\n",
              "        Timestamp('2010-12-01 08:45:00'), 1.95, 12583.0, 'France'],\n",
              "       [536370, 22661, 'CHARLOTTE BAG DOLLY GIRL DESIGN', 20,\n",
              "        Timestamp('2010-12-01 08:45:00'), 0.85, 12583.0, 'France'],\n",
              "       [536370, 21731, 'RED TOADSTOOL LED NIGHT LIGHT', 24,\n",
              "        Timestamp('2010-12-01 08:45:00'), 1.65, 12583.0, 'France'],\n",
              "       [536370, 22900, ' SET 2 TEA TOWELS I LOVE LONDON ', 24,\n",
              "        Timestamp('2010-12-01 08:45:00'), 2.95, 12583.0, 'France'],\n",
              "       [536370, 21913, 'VINTAGE SEASIDE JIGSAW PUZZLES', 12,\n",
              "        Timestamp('2010-12-01 08:45:00'), 3.75, 12583.0, 'France'],\n",
              "       [536370, 22540, 'MINI JIGSAW CIRCUS PARADE ', 24,\n",
              "        Timestamp('2010-12-01 08:45:00'), 0.42, 12583.0, 'France'],\n",
              "       [536370, 22544, 'MINI JIGSAW SPACEBOY', 24,\n",
              "        Timestamp('2010-12-01 08:45:00'), 0.42, 12583.0, 'France'],\n",
              "       [536370, 22492, 'MINI PAINT SET VINTAGE ', 36,\n",
              "        Timestamp('2010-12-01 08:45:00'), 0.65, 12583.0, 'France'],\n",
              "       [536370, 'POST', 'POSTAGE', 3, Timestamp('2010-12-01 08:45:00'),\n",
              "        18.0, 12583.0, 'France'],\n",
              "       [536371, 22086, \"PAPER CHAIN KIT 50'S CHRISTMAS \", 80,\n",
              "        Timestamp('2010-12-01 09:00:00'), 2.55, 13748.0,\n",
              "        'United Kingdom'],\n",
              "       [536372, 22632, 'HAND WARMER RED POLKA DOT', 6,\n",
              "        Timestamp('2010-12-01 09:01:00'), 1.85, 17850.0,\n",
              "        'United Kingdom'],\n",
              "       [536372, 22633, 'HAND WARMER UNION JACK', 6,\n",
              "        Timestamp('2010-12-01 09:01:00'), 1.85, 17850.0,\n",
              "        'United Kingdom'],\n",
              "       [536373, '85123A', 'WHITE HANGING HEART T-LIGHT HOLDER', 6,\n",
              "        Timestamp('2010-12-01 09:02:00'), 2.55, 17850.0,\n",
              "        'United Kingdom'],\n",
              "       [536373, 71053, 'WHITE METAL LANTERN', 6,\n",
              "        Timestamp('2010-12-01 09:02:00'), 3.39, 17850.0,\n",
              "        'United Kingdom'],\n",
              "       [536373, '84406B', 'CREAM CUPID HEARTS COAT HANGER', 8,\n",
              "        Timestamp('2010-12-01 09:02:00'), 2.75, 17850.0,\n",
              "        'United Kingdom'],\n",
              "       [536373, 20679, 'EDWARDIAN PARASOL RED', 6,\n",
              "        Timestamp('2010-12-01 09:02:00'), 4.95, 17850.0,\n",
              "        'United Kingdom'],\n",
              "       [536373, 37370, 'RETRO COFFEE MUGS ASSORTED', 6,\n",
              "        Timestamp('2010-12-01 09:02:00'), 1.06, 17850.0,\n",
              "        'United Kingdom'],\n",
              "       [536373, 21871, 'SAVE THE PLANET MUG', 6,\n",
              "        Timestamp('2010-12-01 09:02:00'), 1.06, 17850.0,\n",
              "        'United Kingdom'],\n",
              "       [536373, 21071, 'VINTAGE BILLBOARD DRINK ME MUG', 6,\n",
              "        Timestamp('2010-12-01 09:02:00'), 1.06, 17850.0,\n",
              "        'United Kingdom'],\n",
              "       [536373, 21068, 'VINTAGE BILLBOARD LOVE/HATE MUG', 6,\n",
              "        Timestamp('2010-12-01 09:02:00'), 1.06, 17850.0,\n",
              "        'United Kingdom'],\n",
              "       [536373, 82483, 'WOOD 2 DRAWER CABINET WHITE FINISH', 2,\n",
              "        Timestamp('2010-12-01 09:02:00'), 4.95, 17850.0,\n",
              "        'United Kingdom'],\n",
              "       [536373, 82486, 'WOOD S/3 CABINET ANT WHITE FINISH', 4,\n",
              "        Timestamp('2010-12-01 09:02:00'), 6.95, 17850.0,\n",
              "        'United Kingdom'],\n",
              "       [536373, 82482, 'WOODEN PICTURE FRAME WHITE FINISH', 6,\n",
              "        Timestamp('2010-12-01 09:02:00'), 2.1, 17850.0, 'United Kingdom'],\n",
              "       [536373, '82494L', 'WOODEN FRAME ANTIQUE WHITE ', 6,\n",
              "        Timestamp('2010-12-01 09:02:00'), 2.55, 17850.0,\n",
              "        'United Kingdom'],\n",
              "       [536373, '84029G', 'KNITTED UNION FLAG HOT WATER BOTTLE', 6,\n",
              "        Timestamp('2010-12-01 09:02:00'), 3.39, 17850.0,\n",
              "        'United Kingdom'],\n",
              "       [536373, '84029E', 'RED WOOLLY HOTTIE WHITE HEART.', 6,\n",
              "        Timestamp('2010-12-01 09:02:00'), 3.39, 17850.0,\n",
              "        'United Kingdom'],\n",
              "       [536373, 22752, 'SET 7 BABUSHKA NESTING BOXES', 2,\n",
              "        Timestamp('2010-12-01 09:02:00'), 7.65, 17850.0,\n",
              "        'United Kingdom'],\n",
              "       [536373, 21730, 'GLASS STAR FROSTED T-LIGHT HOLDER', 6,\n",
              "        Timestamp('2010-12-01 09:02:00'), 4.25, 17850.0,\n",
              "        'United Kingdom'],\n",
              "       [536374, 21258, 'VICTORIAN SEWING BOX LARGE', 32,\n",
              "        Timestamp('2010-12-01 09:09:00'), 10.95, 15100.0,\n",
              "        'United Kingdom'],\n",
              "       [536375, '85123A', 'WHITE HANGING HEART T-LIGHT HOLDER', 6,\n",
              "        Timestamp('2010-12-01 09:32:00'), 2.55, 17850.0,\n",
              "        'United Kingdom'],\n",
              "       [536375, 71053, 'WHITE METAL LANTERN', 6,\n",
              "        Timestamp('2010-12-01 09:32:00'), 3.39, 17850.0,\n",
              "        'United Kingdom'],\n",
              "       [536375, '84406B', 'CREAM CUPID HEARTS COAT HANGER', 8,\n",
              "        Timestamp('2010-12-01 09:32:00'), 2.75, 17850.0,\n",
              "        'United Kingdom'],\n",
              "       [536375, 20679, 'EDWARDIAN PARASOL RED', 6,\n",
              "        Timestamp('2010-12-01 09:32:00'), 4.95, 17850.0,\n",
              "        'United Kingdom'],\n",
              "       [536375, 37370, 'RETRO COFFEE MUGS ASSORTED', 6,\n",
              "        Timestamp('2010-12-01 09:32:00'), 1.06, 17850.0,\n",
              "        'United Kingdom'],\n",
              "       [536375, 21871, 'SAVE THE PLANET MUG', 6,\n",
              "        Timestamp('2010-12-01 09:32:00'), 1.06, 17850.0,\n",
              "        'United Kingdom'],\n",
              "       [536375, 21071, 'VINTAGE BILLBOARD DRINK ME MUG', 6,\n",
              "        Timestamp('2010-12-01 09:32:00'), 1.06, 17850.0,\n",
              "        'United Kingdom'],\n",
              "       [536375, 21068, 'VINTAGE BILLBOARD LOVE/HATE MUG', 6,\n",
              "        Timestamp('2010-12-01 09:32:00'), 1.06, 17850.0,\n",
              "        'United Kingdom'],\n",
              "       [536375, 82483, 'WOOD 2 DRAWER CABINET WHITE FINISH', 2,\n",
              "        Timestamp('2010-12-01 09:32:00'), 4.95, 17850.0,\n",
              "        'United Kingdom'],\n",
              "       [536375, 82486, 'WOOD S/3 CABINET ANT WHITE FINISH', 4,\n",
              "        Timestamp('2010-12-01 09:32:00'), 6.95, 17850.0,\n",
              "        'United Kingdom'],\n",
              "       [536375, 82482, 'WOODEN PICTURE FRAME WHITE FINISH', 6,\n",
              "        Timestamp('2010-12-01 09:32:00'), 2.1, 17850.0, 'United Kingdom'],\n",
              "       [536375, '82494L', 'WOODEN FRAME ANTIQUE WHITE ', 6,\n",
              "        Timestamp('2010-12-01 09:32:00'), 2.55, 17850.0,\n",
              "        'United Kingdom'],\n",
              "       [536375, '84029G', 'KNITTED UNION FLAG HOT WATER BOTTLE', 6,\n",
              "        Timestamp('2010-12-01 09:32:00'), 3.39, 17850.0,\n",
              "        'United Kingdom'],\n",
              "       [536375, '84029E', 'RED WOOLLY HOTTIE WHITE HEART.', 6,\n",
              "        Timestamp('2010-12-01 09:32:00'), 3.39, 17850.0,\n",
              "        'United Kingdom'],\n",
              "       [536375, 22752, 'SET 7 BABUSHKA NESTING BOXES', 2,\n",
              "        Timestamp('2010-12-01 09:32:00'), 7.65, 17850.0,\n",
              "        'United Kingdom'],\n",
              "       [536375, 21730, 'GLASS STAR FROSTED T-LIGHT HOLDER', 6,\n",
              "        Timestamp('2010-12-01 09:32:00'), 4.25, 17850.0,\n",
              "        'United Kingdom'],\n",
              "       [536376, 22114, 'HOT WATER BOTTLE TEA AND SYMPATHY', 48,\n",
              "        Timestamp('2010-12-01 09:32:00'), 3.45, 15291.0,\n",
              "        'United Kingdom'],\n",
              "       [536376, 21733, 'RED HANGING HEART T-LIGHT HOLDER', 64,\n",
              "        Timestamp('2010-12-01 09:32:00'), 2.55, 15291.0,\n",
              "        'United Kingdom'],\n",
              "       [536377, 22632, 'HAND WARMER RED POLKA DOT', 6,\n",
              "        Timestamp('2010-12-01 09:34:00'), 1.85, 17850.0,\n",
              "        'United Kingdom'],\n",
              "       [536377, 22633, 'HAND WARMER UNION JACK', 6,\n",
              "        Timestamp('2010-12-01 09:34:00'), 1.85, 17850.0,\n",
              "        'United Kingdom'],\n",
              "       [536378, 22386, 'JUMBO BAG PINK POLKADOT', 10,\n",
              "        Timestamp('2010-12-01 09:37:00'), 1.95, 14688.0,\n",
              "        'United Kingdom'],\n",
              "       [536378, '85099C', 'JUMBO  BAG BAROQUE BLACK WHITE', 10,\n",
              "        Timestamp('2010-12-01 09:37:00'), 1.95, 14688.0,\n",
              "        'United Kingdom'],\n",
              "       [536378, 21033, 'JUMBO BAG CHARLIE AND LOLA TOYS', 10,\n",
              "        Timestamp('2010-12-01 09:37:00'), 2.95, 14688.0,\n",
              "        'United Kingdom'],\n",
              "       [536378, 20723, 'STRAWBERRY CHARLOTTE BAG', 10,\n",
              "        Timestamp('2010-12-01 09:37:00'), 0.85, 14688.0,\n",
              "        'United Kingdom'],\n",
              "       [536378, '84997B', 'RED 3 PIECE RETROSPOT CUTLERY SET', 12,\n",
              "        Timestamp('2010-12-01 09:37:00'), 3.75, 14688.0,\n",
              "        'United Kingdom'],\n",
              "       [536378, '84997C', 'BLUE 3 PIECE POLKADOT CUTLERY SET', 6,\n",
              "        Timestamp('2010-12-01 09:37:00'), 3.75, 14688.0,\n",
              "        'United Kingdom'],\n",
              "       [536378, 21094, 'SET/6 RED SPOTTY PAPER PLATES', 12,\n",
              "        Timestamp('2010-12-01 09:37:00'), 0.85, 14688.0,\n",
              "        'United Kingdom'],\n",
              "       [536378, 20725, 'LUNCH BAG RED RETROSPOT', 10,\n",
              "        Timestamp('2010-12-01 09:37:00'), 1.65, 14688.0,\n",
              "        'United Kingdom'],\n",
              "       [536378, 21559, 'STRAWBERRY LUNCH BOX WITH CUTLERY', 6,\n",
              "        Timestamp('2010-12-01 09:37:00'), 2.55, 14688.0,\n",
              "        'United Kingdom'],\n",
              "       [536378, 22352, 'LUNCH BOX WITH CUTLERY RETROSPOT ', 6,\n",
              "        Timestamp('2010-12-01 09:37:00'), 2.55, 14688.0,\n",
              "        'United Kingdom'],\n",
              "       [536378, 21212, 'PACK OF 72 RETROSPOT CAKE CASES', 120,\n",
              "        Timestamp('2010-12-01 09:37:00'), 0.42, 14688.0,\n",
              "        'United Kingdom'],\n",
              "       [536378, 21975, 'PACK OF 60 DINOSAUR CAKE CASES', 24,\n",
              "        Timestamp('2010-12-01 09:37:00'), 0.55, 14688.0,\n",
              "        'United Kingdom'],\n",
              "       [536378, 21977, 'PACK OF 60 PINK PAISLEY CAKE CASES', 24,\n",
              "        Timestamp('2010-12-01 09:37:00'), 0.55, 14688.0,\n",
              "        'United Kingdom'],\n",
              "       [536378, 84991, '60 TEATIME FAIRY CAKE CASES', 24,\n",
              "        Timestamp('2010-12-01 09:37:00'), 0.55, 14688.0,\n",
              "        'United Kingdom']], dtype=object)"
            ]
          },
          "metadata": {
            "tags": []
          },
          "execution_count": 41
        }
      ]
    }
  ]
}