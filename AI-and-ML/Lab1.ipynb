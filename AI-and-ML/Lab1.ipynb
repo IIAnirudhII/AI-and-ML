{
  "nbformat": 4,
  "nbformat_minor": 0,
  "metadata": {
    "colab": {
      "name": "Untitled",
      "provenance": [],
      "toc_visible": true,
      "mount_file_id": "https://github.com/IIAnirudhII/AI-and-ML/blob/master/Lab1.ipynb",
      "authorship_tag": "ABX9TyOMKHN54VfAarAzn/LaP9nu",
      "include_colab_link": true
    },
    "kernelspec": {
      "name": "python3",
      "display_name": "Python 3"
    }
  },
  "cells": [
    {
      "cell_type": "markdown",
      "metadata": {
        "id": "view-in-github",
        "colab_type": "text"
      },
      "source": [
        "<a href=\"https://colab.research.google.com/github/IIAnirudhII/AI-and-ML/blob/master/Lab1.ipynb\" target=\"_parent\"><img src=\"https://colab.research.google.com/assets/colab-badge.svg\" alt=\"Open In Colab\"/></a>"
      ]
    },
    {
      "cell_type": "markdown",
      "metadata": {
        "id": "p7HB57AHJOXe",
        "colab_type": "text"
      },
      "source": [
        "# **Part-I**"
      ]
    },
    {
      "cell_type": "code",
      "metadata": {
        "id": "8rHxTgfk9zWU",
        "colab_type": "code",
        "colab": {}
      },
      "source": [
        "import pandas as pd\n",
        "import numpy as np\n",
        "df = pd.read_csv('https://raw.githubusercontent.com/IIAnirudhII/AI-and-ML/master/data/dataset.csv', error_bad_lines=False)\n",
        "df"
      ],
      "execution_count": null,
      "outputs": []
    },
    {
      "cell_type": "code",
      "metadata": {
        "id": "l5jkImd6U3_Y",
        "colab_type": "code",
        "colab": {}
      },
      "source": [
        "df=df.dropna()"
      ],
      "execution_count": null,
      "outputs": []
    },
    {
      "cell_type": "code",
      "metadata": {
        "id": "6ujTd6jVBa0V",
        "colab_type": "code",
        "colab": {}
      },
      "source": [
        "print(len(df))\n",
        "print(len(df.columns))\n",
        "print(df.shape)\n",
        "print(df.size)\n",
        "df.info()"
      ],
      "execution_count": null,
      "outputs": []
    },
    {
      "cell_type": "code",
      "metadata": {
        "id": "84q_W8epDzV9",
        "colab_type": "code",
        "colab": {}
      },
      "source": [
        "data = pd.DataFrame(df, columns = ['Age', 'Salary'])\n",
        "\n",
        "df_transposed=data.T\n",
        "print(\"Transposed Matrix\")\n",
        "print(df_transposed)\n",
        "\n",
        "\n",
        "print(\"Inverse Matrix\")\n",
        "print(np.linalg.pinv(data))\n",
        "\n",
        "df_array = data.values\n",
        "df_transposed=df_transposed.values\n",
        "print(\"Dot Product\")\n",
        "np.dot(df_array,df_transposed)"
      ],
      "execution_count": null,
      "outputs": []
    },
    {
      "cell_type": "code",
      "metadata": {
        "id": "sW9307mRNKnu",
        "colab_type": "code",
        "colab": {}
      },
      "source": [
        "import matplotlib.pyplot as plt\n",
        "plt.plot(df.Salary)\n",
        "plt.savefig(\"linegraph.png\")"
      ],
      "execution_count": null,
      "outputs": []
    },
    {
      "cell_type": "code",
      "metadata": {
        "id": "_8ddRW0zPEu5",
        "colab_type": "code",
        "colab": {}
      },
      "source": [
        "plt.scatter(df.Salary,df.Age)\n",
        "plt.savefig(\"scatterplot.png\")"
      ],
      "execution_count": null,
      "outputs": []
    },
    {
      "cell_type": "code",
      "metadata": {
        "id": "b9xSJeCfx8AC",
        "colab_type": "code",
        "colab": {}
      },
      "source": [
        "df.Salary.plot(kind='hist')\n",
        "plt.show()\n",
        "plt.savefig(\"histogram.png\")"
      ],
      "execution_count": null,
      "outputs": []
    },
    {
      "cell_type": "code",
      "metadata": {
        "id": "WHXcgG3z8KLW",
        "colab_type": "code",
        "colab": {}
      },
      "source": [
        "import pickle as pkl\n",
        "output=open(\"save.pkl\",\"wb\")\n",
        "pkl.dump(df_transposed,output)\n",
        "output.close()"
      ],
      "execution_count": null,
      "outputs": []
    },
    {
      "cell_type": "code",
      "metadata": {
        "id": "cwOSPJCJ_R81",
        "colab_type": "code",
        "colab": {}
      },
      "source": [
        "pkl_file=open(\"save.pkl\",\"rb\")\n",
        "dfT=pkl.load(pkl_file)\n",
        "pkl_file.close()\n",
        "print(dfT)"
      ],
      "execution_count": null,
      "outputs": []
    },
    {
      "cell_type": "markdown",
      "metadata": {
        "id": "prxLINOXJylr",
        "colab_type": "text"
      },
      "source": [
        "# **Part-II**"
      ]
    },
    {
      "cell_type": "markdown",
      "metadata": {
        "id": "UaFpMqJDJ6f8",
        "colab_type": "text"
      },
      "source": [
        "Image Data Formats"
      ]
    },
    {
      "cell_type": "code",
      "metadata": {
        "id": "WGoa37G1k772",
        "colab_type": "code",
        "colab": {}
      },
      "source": [
        "import cv2\n",
        "from google.colab.patches import cv2_imshow\n",
        "\n",
        "img_read=\"/content/drive/My Drive/Dataset/Images/Cat03.jpg\"\n",
        "img=cv2.imread(img_read)\n",
        "cv2_imshow(img)\n",
        "\n",
        "img_read=\"/content/drive/My Drive/Dataset/Images/LAND2.BMP\"\n",
        "img=cv2.imread(img_read)\n",
        "cv2_imshow(img)\n",
        "\n",
        "img_read=\"/content/drive/My Drive/Dataset/Images/autumn.tif\"\n",
        "img=cv2.imread(img_read)\n",
        "cv2_imshow(img)\n",
        "\n",
        "img_read=\"/content/drive/My Drive/Dataset/Images/triangle_PNG30.png\"\n",
        "img=cv2.imread(img_read)\n",
        "cv2_imshow(img)"
      ],
      "execution_count": null,
      "outputs": []
    },
    {
      "cell_type": "code",
      "metadata": {
        "id": "CyeBQCISwGV5",
        "colab_type": "code",
        "colab": {}
      },
      "source": [
        "from matplotlib import pyplot as plt\n",
        "import matplotlib.image as mpimg\n",
        "import time\n",
        "\n",
        "\n",
        "img =mpimg.imread('/content/drive/My Drive/Dataset/Images/Cat03.jpg')\n",
        "plt.imshow(img)\n",
        "\n",
        "img =mpimg.imread('/content/drive/My Drive/Dataset/Images/LAND2.BMP')\n",
        "plt.imshow(img)\n",
        "\n",
        "img =mpimg.imread('/content/drive/My Drive/Dataset/Images/autumn.tif')\n",
        "plt.imshow(img)\n",
        "\n",
        "img =mpimg.imread('/content/drive/My Drive/Dataset/Images/triangle_PNG30.png')\n",
        "plt.imshow(img)\n"
      ],
      "execution_count": null,
      "outputs": []
    },
    {
      "cell_type": "code",
      "metadata": {
        "id": "wQC5C2SKPuRM",
        "colab_type": "code",
        "colab": {}
      },
      "source": [
        "from PIL import Image\n",
        "import requests\n",
        "from io import BytesIO\n",
        "\n",
        "response = requests.get('https://raw.githubusercontent.com/IIAnirudhII/AI-and-ML/master/data/Images/Cat03.jpg')\n",
        "img = Image.open(BytesIO(response.content))\n",
        "display(img)\n",
        "\n",
        "response = requests.get('https://raw.githubusercontent.com/IIAnirudhII/AI-and-ML/master/data/Images/LAND2.BMP')\n",
        "img = Image.open(BytesIO(response.content))\n",
        "display(img)\n",
        "\n",
        "response = requests.get('https://raw.githubusercontent.com/IIAnirudhII/AI-and-ML/master/data/Images/autumn.tif')\n",
        "img = Image.open(BytesIO(response.content))\n",
        "display(img)\n",
        "\n",
        "response = requests.get('https://raw.githubusercontent.com/IIAnirudhII/AI-and-ML/master/data/Images/triangle_PNG30.png')\n",
        "img = Image.open(BytesIO(response.content))\n",
        "display(img)\n",
        "\n"
      ],
      "execution_count": null,
      "outputs": []
    },
    {
      "cell_type": "code",
      "metadata": {
        "id": "pEjIK0Irjali",
        "colab_type": "code",
        "colab": {}
      },
      "source": [
        "start_time = time.time()\n",
        "img_read=\"/content/drive/My Drive/Dataset/Images/Cat03.jpg\"\n",
        "img=cv2.imread(img_read)\n",
        "print(\"opencv\",time.time()-start_time)\n",
        "\n",
        "\n",
        "start_time = time.time()\n",
        "img =mpimg.imread('/content/drive/My Drive/Dataset/Images/Cat03.jpg')\n",
        "print(\"matplotlib\",time.time() - start_time)\n",
        "\n",
        "\n",
        "start_time = time.time()\n",
        "response = requests.get('https://raw.githubusercontent.com/IIAnirudhII/AI-and-ML/master/data/Images/Cat03.jpg')\n",
        "img = Image.open(BytesIO(response.content))\n",
        "print(\"PIL\",time.time() - start_time)"
      ],
      "execution_count": null,
      "outputs": []
    },
    {
      "cell_type": "code",
      "metadata": {
        "id": "iFFlu7n4oZdP",
        "colab_type": "code",
        "colab": {}
      },
      "source": [
        "img_read=\"/content/drive/My Drive/Dataset/Images/Cat03.jpg\"\n",
        "img=cv2.imread(img_read)\n",
        "cv2_imshow(img)"
      ],
      "execution_count": null,
      "outputs": []
    },
    {
      "cell_type": "code",
      "metadata": {
        "id": "5ByNBiHAJQ5i",
        "colab_type": "code",
        "colab": {}
      },
      "source": [
        "img_read=\"/content/drive/My Drive/Dataset/Images/Cat03.jpg\"\n",
        "img=cv2.imread(img_read)\n",
        "print(\"Height, Width, Channels: \",img.shape)\n",
        "print(\"Size of image: \",img.size)"
      ],
      "execution_count": null,
      "outputs": []
    },
    {
      "cell_type": "code",
      "metadata": {
        "id": "Er3IDQ4rKDzw",
        "colab_type": "code",
        "colab": {}
      },
      "source": [
        "gscale=cv2.imread('/content/drive/My Drive/Dataset/Images/Cat03.jpg', 2)\n",
        "print(\"greyscale\")\n",
        "cv2_imshow(gscale)\n",
        "ret, bw_gscale = cv2.threshold(gscale,127,255,cv2.THRESH_BINARY)\n",
        "print(\"Binary Image\")\n",
        "cv2_imshow(bw_gscale)"
      ],
      "execution_count": null,
      "outputs": []
    },
    {
      "cell_type": "code",
      "metadata": {
        "id": "kL8eZUaeLgOY",
        "colab_type": "code",
        "colab": {}
      },
      "source": [
        "from PIL import Image\n",
        "img = Image.open(r'/content/drive/My Drive/Dataset/Images/Cat03.jpg')\n",
        "width,height=im.size \n",
        "left = 5\n",
        "top = height / 4\n",
        "right = 164\n",
        "bottom = 3 * height / 4 \n",
        "img1 = img.crop((left, top, right, bottom)) \n",
        "display(img1)"
      ],
      "execution_count": null,
      "outputs": []
    },
    {
      "cell_type": "code",
      "metadata": {
        "id": "hImMxXkRM4Xi",
        "colab_type": "code",
        "colab": {}
      },
      "source": [
        "from skimage.transform import rescale, resize, downscale_local_mean\n",
        "\n",
        "img = cv2.imread('/content/drive/My Drive/Dataset/Images/Cat03.jpg', cv2.IMREAD_UNCHANGED)\n",
        " \n",
        "print('Original Dimensions : ',img.shape)\n",
        " \n",
        "scale_percent = 60 # percent of original size\n",
        "width = int(img.shape[1] * scale_percent / 100)\n",
        "height = int(img.shape[0] * scale_percent / 100)\n",
        "dim = (width, height)\n",
        "# resize image\n",
        "resized = cv2.resize(img, dim, interpolation = cv2.INTER_AREA)\n",
        " \n",
        "print('Resized Dimensions : ',resized.shape)\n",
        " \n",
        "cv2_imshow(resized) "
      ],
      "execution_count": null,
      "outputs": []
    },
    {
      "cell_type": "code",
      "metadata": {
        "id": "C8DNUruBSYYM",
        "colab_type": "code",
        "colab": {}
      },
      "source": [
        "from medpy.io import load\n",
        "image_data, image_header = load('/content/drive/My Drive/Dataset/Images/image-00000.dcm')"
      ],
      "execution_count": null,
      "outputs": []
    },
    {
      "cell_type": "code",
      "metadata": {
        "id": "k-fFIuGnzaGC",
        "colab_type": "code",
        "colab": {}
      },
      "source": [
        "# print(image_data)"
      ],
      "execution_count": null,
      "outputs": []
    },
    {
      "cell_type": "code",
      "metadata": {
        "id": "3dXDVOf4JCgr",
        "colab_type": "code",
        "colab": {}
      },
      "source": [
        "image_data.shape"
      ],
      "execution_count": null,
      "outputs": []
    },
    {
      "cell_type": "markdown",
      "metadata": {
        "id": "jaZJVl_7KIXu",
        "colab_type": "text"
      },
      "source": [
        "# *Video* Data Formats"
      ]
    },
    {
      "cell_type": "code",
      "metadata": {
        "id": "CAkXdDEs4nXl",
        "colab_type": "code",
        "colab": {}
      },
      "source": [
        "pip install sk-video"
      ],
      "execution_count": null,
      "outputs": []
    },
    {
      "cell_type": "code",
      "metadata": {
        "id": "S4etGW-FKLOa",
        "colab_type": "code",
        "colab": {}
      },
      "source": [
        "from skvideo.io import VideoCapture\n",
        "\n",
        "cap = VideoCapture('/content/drive/My Drive/Dataset/Videos/file_example_MP4_640_3MG.mp4')\n",
        "cap.open()\n",
        "\n",
        "while True:\n",
        "    retval, image = cap.read()\n",
        "    if not retval:\n",
        "        break"
      ],
      "execution_count": null,
      "outputs": []
    },
    {
      "cell_type": "code",
      "metadata": {
        "id": "xamfR6tJ-UFZ",
        "colab_type": "code",
        "colab": {}
      },
      "source": [
        "import skvideo.io  \n",
        "videodata = skvideo.io.vread(\"/content/drive/My Drive/Dataset/Videos/file_example_MP4_640_3MG.mp4\")  \n",
        "print(videodata.shape)"
      ],
      "execution_count": null,
      "outputs": []
    },
    {
      "cell_type": "markdown",
      "metadata": {
        "id": "9fV1wWQNCS7S",
        "colab_type": "text"
      },
      "source": [
        "# Audio Data Formats "
      ]
    },
    {
      "cell_type": "code",
      "metadata": {
        "id": "W_bs_ZKJCYPA",
        "colab_type": "code",
        "colab": {}
      },
      "source": [
        "import librosa\n",
        "import librosa.display\n",
        "from IPython.display import Audio\n",
        "import IPython.display as ipd\n",
        "y, sr = librosa.load('/content/drive/My Drive/Dataset/Sounds/file_example_MP3_700KB.mp3')\n",
        "plt.figure()\n",
        "librosa.display.waveplot(y=y, sr=sr)\n",
        "X = librosa.stft(y)\n",
        "Xdb = librosa.amplitude_to_db(abs(X))\n",
        "plt.figure(figsize=(14, 5))\n",
        "librosa.display.specshow(Xdb, sr=sr, x_axis='time', y_axis='hz')\n",
        "ipd.Audio('/content/drive/My Drive/Dataset/Sounds/file_example_MP3_700KB.mp3')"
      ],
      "execution_count": null,
      "outputs": []
    },
    {
      "cell_type": "code",
      "metadata": {
        "id": "s5ehYmCjDNFu",
        "colab_type": "code",
        "colab": {}
      },
      "source": [
        "print(\"Time in seconds: \",librosa.samples_to_time(len(y), sr))\n",
        "print(\"Sampling Rate: \", sr)"
      ],
      "execution_count": null,
      "outputs": []
    },
    {
      "cell_type": "code",
      "metadata": {
        "id": "t8AWldOPDQEf",
        "colab_type": "code",
        "colab": {}
      },
      "source": [
        "mfccs = librosa.feature.mfcc(y=y, sr=sr, n_mfcc=40)\n",
        "plt.figure(figsize=(10, 4))\n",
        "librosa.display.specshow(mfccs, x_axis='time')\n",
        "plt.colorbar()\n",
        "plt.title('MFCC')\n",
        "plt.tight_layout()"
      ],
      "execution_count": null,
      "outputs": []
    },
    {
      "cell_type": "code",
      "metadata": {
        "id": "pWb0xH1xDW7R",
        "colab_type": "code",
        "colab": {}
      },
      "source": [
        "librosa.stft(y)"
      ],
      "execution_count": null,
      "outputs": []
    },
    {
      "cell_type": "markdown",
      "metadata": {
        "id": "wwbKwp01DdV3",
        "colab_type": "text"
      },
      "source": [
        "# Text Data Formats"
      ]
    },
    {
      "cell_type": "code",
      "metadata": {
        "id": "uopGMmS0DjzV",
        "colab_type": "code",
        "colab": {}
      },
      "source": [
        "f = open(\"/content/drive/My Drive/Dataset/Texts/OS_lab3.txt\", \"r\")\n",
        "print(f.read())"
      ],
      "execution_count": null,
      "outputs": []
    },
    {
      "cell_type": "code",
      "metadata": {
        "id": "Jjn27LIDGNwo",
        "colab_type": "code",
        "colab": {}
      },
      "source": [
        "pip install PyPDF2"
      ],
      "execution_count": null,
      "outputs": []
    },
    {
      "cell_type": "code",
      "metadata": {
        "id": "63f_9F8rFRyE",
        "colab_type": "code",
        "colab": {}
      },
      "source": [
        "import PyPDF2\n",
        "pdfFile = open(\"/content/drive/My Drive/Dataset/Texts/Lab Assignment 7.pdf\", \"rb\")\n",
        "pdfReader = PyPDF2.PdfFileReader(pdfFile)\n",
        "print(pdfReader.numPages) \n",
        "pageObj = pdfReader.getPage(0) \n",
        "print(pageObj.extractText()) \n",
        "pdfFile.close() "
      ],
      "execution_count": null,
      "outputs": []
    },
    {
      "cell_type": "code",
      "metadata": {
        "id": "qiwPacLRFXDO",
        "colab_type": "code",
        "colab": {}
      },
      "source": [
        "import json\n",
        "f = open('/content/drive/My Drive/Dataset/Texts/json.json',) \n",
        "data = json.load(f) \n",
        "data"
      ],
      "execution_count": null,
      "outputs": []
    },
    {
      "cell_type": "code",
      "metadata": {
        "id": "AiIAAxBqFZ4L",
        "colab_type": "code",
        "colab": {}
      },
      "source": [
        "from bs4 import BeautifulSoup \n",
        "\n",
        "with open('/content/drive/My Drive/Dataset/Texts/sample.xml', 'r') as f: \n",
        "    data = f.read() \n",
        "print(data)"
      ],
      "execution_count": null,
      "outputs": []
    },
    {
      "cell_type": "code",
      "metadata": {
        "id": "hLFrmuCWFcfB",
        "colab_type": "code",
        "colab": {}
      },
      "source": [
        "import codecs\n",
        "f=codecs.open(\"/content/drive/My Drive/Dataset/Texts/html.html\", 'r')\n",
        "print(f.read())"
      ],
      "execution_count": null,
      "outputs": []
    },
    {
      "cell_type": "code",
      "metadata": {
        "id": "-LK_wl93Fgbd",
        "colab_type": "code",
        "colab": {}
      },
      "source": [
        "from wordcloud import WordCloud, STOPWORDS \n",
        "import matplotlib.pyplot as plt \n",
        "import pandas as pd \n",
        "df = pd.read_csv(\"https://raw.githubusercontent.com/IIAnirudhII/AI-and-ML/master/data/dataset.csv\", encoding =\"latin-1\") \n",
        "  \n",
        "comment_words = '' \n",
        "stopwords = set(STOPWORDS) \n",
        "for val in df.Country: \n",
        "      \n",
        "    \n",
        "    val = str(val) \n",
        "  \n",
        "    \n",
        "    tokens = val.split() \n",
        "      \n",
        "    \n",
        "    for i in range(len(tokens)): \n",
        "        tokens[i] = tokens[i].lower() \n",
        "      \n",
        "    comment_words += \" \".join(tokens)+\" \"\n",
        "  \n",
        "wordcloud = WordCloud(width = 800, height = 800, \n",
        "                background_color ='white', \n",
        "                stopwords = stopwords, \n",
        "                min_font_size = 10).generate(comment_words)                        \n",
        "plt.figure(figsize = (8, 8), facecolor = None) \n",
        "plt.imshow(wordcloud) \n",
        "plt.axis(\"off\") \n",
        "plt.tight_layout(pad = 0) \n",
        " \n",
        "plt.show() "
      ],
      "execution_count": null,
      "outputs": []
    }
  ]
}