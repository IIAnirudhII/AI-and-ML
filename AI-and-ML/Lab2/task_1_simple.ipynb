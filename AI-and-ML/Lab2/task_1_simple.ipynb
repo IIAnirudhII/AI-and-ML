{
  "nbformat": 4,
  "nbformat_minor": 0,
  "metadata": {
    "kernelspec": {
      "display_name": "Python 3",
      "language": "python",
      "name": "python3"
    },
    "language_info": {
      "codemirror_mode": {
        "name": "ipython",
        "version": 3
      },
      "file_extension": ".py",
      "mimetype": "text/x-python",
      "name": "python",
      "nbconvert_exporter": "python",
      "pygments_lexer": "ipython3",
      "version": "3.7.3"
    },
    "toc": {
      "base_numbering": 1,
      "nav_menu": {},
      "number_sections": true,
      "sideBar": true,
      "skip_h1_title": false,
      "title_cell": "Table of Contents",
      "title_sidebar": "Contents",
      "toc_cell": false,
      "toc_position": {},
      "toc_section_display": true,
      "toc_window_display": false
    },
    "colab": {
      "name": "task_1_simple.ipynb",
      "provenance": []
    }
  },
  "cells": [
    {
      "cell_type": "markdown",
      "metadata": {
        "id": "RoUhOQP0Qouj",
        "colab_type": "text"
      },
      "source": [
        "### Simple Linear Regression\n",
        "Linear regression is among the simplest regression methods. One of the main advantages of using it is ease of interpreting results. Simple linear regression is special case of regression where target feature is dependent on single variable, and then we find the best fitting line.<br>\n",
        "\n",
        "##### y = m*x + c <br>\n",
        "\n",
        "#### Dataset\n",
        "The dataset is available at __\"data/simple_linear_data.csv\"__ in the respective challenge's repo.<br><br>\n",
        "This is the modified version of the dataset 'Student Performance' provided by UCI Machine Learning repository.<br>\n",
        "Original dataset: https://archive.ics.uci.edu/ml/datasets/student+performance\n",
        "\n",
        "#### Features (X)\n",
        "- G2 - second year math grades (numeric: from 0 to 100)\n",
        "\n",
        "#### Target (y)\n",
        "- G3 - third year math grades (numeric: from 0 to 100, output target)\n",
        "\n",
        "#### Objective\n",
        "To gain understanding of single linear regression through implementing the model from scratch\n",
        "\n",
        "#### Tasks\n",
        "- Read the data from above mentioned dataset and define X and y as numpy array\n",
        "- Add column at position 0 with all values=1 (pandas.DataFrame.insert function)\n",
        "- Print rows from 40 to 55.\n",
        "- Print the shape and datatype of both X and y\n",
        "- Follow code cells to implement simple linear regression from scratch\n",
        "    - Write hypothesis function to predict values\n",
        "    - Write function for calculating mean_squared_error\n",
        "    - Write function to return gradients for given weights\n",
        "    - Perform gradient descent taking help of above functions\n",
        "\n",
        "#### Further Fun (will not be evaluated\n",
        "- Remove outliers, train again and see the difference in error.\n",
        "```python\n",
        "# Add this line before defining X and y\n",
        "data = data[(data['G3']!=0)|((data['G2']==0)&(data['G3']==0))]\n",
        "```\n",
        "- Replace \"*weights = np.random.rand(2)*\" line in gradient descent with below line, train again and visualize results.\n",
        "```python\n",
        "# Replace above line with following in gradient descent function\n",
        "weights = np.zeros(2,)\n",
        "```\n",
        "- Play with learning rate and max_iterations\n",
        "- Generalize the code for multivariate(multiple) linear regression\n",
        "\n",
        "#### Resources\n",
        "- Linear regression maths: https://www.youtube.com/watch?v=ZkjP5RJLQF4\n",
        "- Simple linear regression: https://www.youtube.com/watch?v=iAgYLRy7e20\n",
        "- Tutorial: https://machinelearningmastery.com/implement-simple-linear-regression-scratch-python\n"
      ]
    },
    {
      "cell_type": "code",
      "metadata": {
        "id": "D2DTk4MRQoum",
        "colab_type": "code",
        "colab": {}
      },
      "source": [
        "import numpy as np\n",
        "import matplotlib.pyplot as plt\n",
        "import pandas as pd"
      ],
      "execution_count": 16,
      "outputs": []
    },
    {
      "cell_type": "code",
      "metadata": {
        "id": "KIUHdSNMQouu",
        "colab_type": "code",
        "colab": {}
      },
      "source": [
        "# Read the data from provided dir\n",
        "data = pd.read_csv('https://raw.githubusercontent.com/IIAnirudhII/BU/master/AI-and-ML/Lab2/data/simple_linear_data.csv')"
      ],
      "execution_count": 79,
      "outputs": []
    },
    {
      "cell_type": "code",
      "metadata": {
        "id": "7lbze-YNQou4",
        "colab_type": "code",
        "colab": {}
      },
      "source": [
        "# Add column which has all 1s\n",
        "# The idea is that weight corresponding to this column is equal to intercept\n",
        "# This way it is efficient and easier to handle the bias/intercept term\n",
        "\n",
        "data.insert(loc=0, column='G1', value=np.ones(len(data)))"
      ],
      "execution_count": 80,
      "outputs": []
    },
    {
      "cell_type": "code",
      "metadata": {
        "id": "anBVfpCpQou9",
        "colab_type": "code",
        "colab": {
          "base_uri": "https://localhost:8080/",
          "height": 206
        },
        "outputId": "8729c1b3-648b-4abf-8e20-b73c076240a6"
      },
      "source": [
        "# Print the dataframe rows\n",
        "data.head()"
      ],
      "execution_count": 81,
      "outputs": [
        {
          "output_type": "execute_result",
          "data": {
            "text/html": [
              "<div>\n",
              "<style scoped>\n",
              "    .dataframe tbody tr th:only-of-type {\n",
              "        vertical-align: middle;\n",
              "    }\n",
              "\n",
              "    .dataframe tbody tr th {\n",
              "        vertical-align: top;\n",
              "    }\n",
              "\n",
              "    .dataframe thead th {\n",
              "        text-align: right;\n",
              "    }\n",
              "</style>\n",
              "<table border=\"1\" class=\"dataframe\">\n",
              "  <thead>\n",
              "    <tr style=\"text-align: right;\">\n",
              "      <th></th>\n",
              "      <th>G1</th>\n",
              "      <th>G2</th>\n",
              "      <th>G3</th>\n",
              "    </tr>\n",
              "  </thead>\n",
              "  <tbody>\n",
              "    <tr>\n",
              "      <th>0</th>\n",
              "      <td>1.0</td>\n",
              "      <td>30</td>\n",
              "      <td>30</td>\n",
              "    </tr>\n",
              "    <tr>\n",
              "      <th>1</th>\n",
              "      <td>1.0</td>\n",
              "      <td>25</td>\n",
              "      <td>30</td>\n",
              "    </tr>\n",
              "    <tr>\n",
              "      <th>2</th>\n",
              "      <td>1.0</td>\n",
              "      <td>40</td>\n",
              "      <td>50</td>\n",
              "    </tr>\n",
              "    <tr>\n",
              "      <th>3</th>\n",
              "      <td>1.0</td>\n",
              "      <td>70</td>\n",
              "      <td>75</td>\n",
              "    </tr>\n",
              "    <tr>\n",
              "      <th>4</th>\n",
              "      <td>1.0</td>\n",
              "      <td>50</td>\n",
              "      <td>50</td>\n",
              "    </tr>\n",
              "  </tbody>\n",
              "</table>\n",
              "</div>"
            ],
            "text/plain": [
              "    G1  G2  G3\n",
              "0  1.0  30  30\n",
              "1  1.0  25  30\n",
              "2  1.0  40  50\n",
              "3  1.0  70  75\n",
              "4  1.0  50  50"
            ]
          },
          "metadata": {
            "tags": []
          },
          "execution_count": 81
        }
      ]
    },
    {
      "cell_type": "code",
      "metadata": {
        "id": "elndLUI711P9",
        "colab_type": "code",
        "colab": {}
      },
      "source": [
        "data = data[(data['G3']!=0)|((data['G2']==0)&(data['G3']==0))]"
      ],
      "execution_count": 210,
      "outputs": []
    },
    {
      "cell_type": "code",
      "metadata": {
        "id": "SuL7LWG9QovE",
        "colab_type": "code",
        "colab": {}
      },
      "source": [
        "# Define X (input features) and y (output feature) \n",
        "X = data.iloc[:,:2].values\n",
        "y = data.iloc[:,2].values"
      ],
      "execution_count": 211,
      "outputs": []
    },
    {
      "cell_type": "code",
      "metadata": {
        "id": "JBrYsISlQovK",
        "colab_type": "code",
        "colab": {
          "base_uri": "https://localhost:8080/",
          "height": 54
        },
        "outputId": "164fdc0b-bac1-4ea8-c904-2bee55a333f3"
      },
      "source": [
        "X_shape = X.shape\n",
        "X_type  = type(X)\n",
        "y_shape = y.shape\n",
        "y_type  = type(y)\n",
        "print(f'X: Type-{X_type}, Shape-{X_shape}')\n",
        "print(f'y: Type-{y_type}, Shape-{y_shape}')"
      ],
      "execution_count": 212,
      "outputs": [
        {
          "output_type": "stream",
          "text": [
            "X: Type-<class 'numpy.ndarray'>, Shape-(370, 2)\n",
            "y: Type-<class 'numpy.ndarray'>, Shape-(370,)\n"
          ],
          "name": "stdout"
        }
      ]
    },
    {
      "cell_type": "markdown",
      "metadata": {
        "id": "hM-pSJbGQovQ",
        "colab_type": "text"
      },
      "source": [
        "__Expected output__:<br><br>\n",
        "X: Type-<class 'numpy.ndarray'>, Shape-(395,2)<br>\n",
        "y: Type-<class 'numpy.ndarray'>, Shape-(395,)"
      ]
    },
    {
      "cell_type": "markdown",
      "metadata": {
        "id": "1D3wcqpLQovR",
        "colab_type": "text"
      },
      "source": [
        "Let us visualize the relationship between X and y"
      ]
    },
    {
      "cell_type": "code",
      "metadata": {
        "id": "nJdOby0KQovS",
        "colab_type": "code",
        "colab": {
          "base_uri": "https://localhost:8080/",
          "height": 295
        },
        "outputId": "0779e34c-65b0-4a5c-ad1f-948145603f89"
      },
      "source": [
        "# DO NOT EDIT THIS CODE CELL\n",
        "plt.scatter(X[:,1],y)\n",
        "plt.title('Relation between second year grades and third year grades')\n",
        "plt.xlabel('G2 (X - Second year grades)')\n",
        "plt.ylabel('G3 (Y - Third year grades)')\n",
        "plt.show()"
      ],
      "execution_count": 213,
      "outputs": [
        {
          "output_type": "display_data",
          "data": {
            "image/png": "[encoded data removed]",
            "text/plain": [
              "<Figure size 432x288 with 1 Axes>"
            ]
          },
          "metadata": {
            "tags": [],
            "needs_background": "light"
          }
        }
      ]
    },
    {
      "cell_type": "markdown",
      "metadata": {
        "id": "JMRY2zdbQovX",
        "colab_type": "text"
      },
      "source": [
        "##### Let us start implementing linear regression from scratch. Just follow code cells, see hints if required."
      ]
    },
    {
      "cell_type": "code",
      "metadata": {
        "id": "Yyq5kECAQovY",
        "colab_type": "code",
        "colab": {}
      },
      "source": [
        "def predict(X, weights):\n",
        "    '''\n",
        "    weights   : array (2,1) w0 and w1\n",
        "    X         : array (m,2) x0 (intercept=1) and x1\n",
        "    \n",
        "    Returns predicted y using hyothesis linear function defined by given weights\n",
        "    '''\n",
        "    ### START CODE HERE ###\n",
        "    y_pred = (np.dot(X,weights))\n",
        "    ### END CODE HERE ###\n",
        "    \n",
        "    # assert (y_pred.shape==(X.shape[0],)), 'Wrong implementation of predict function. Check carefully'\n",
        "    \n",
        "    return y_pred"
      ],
      "execution_count": 214,
      "outputs": []
    },
    {
      "cell_type": "code",
      "metadata": {
        "id": "S0uaV7fQQovd",
        "colab_type": "code",
        "colab": {}
      },
      "source": [
        "def mean_squared_error(y_true, y_pred) : \n",
        "    '''\n",
        "    y_true : (m,1)\n",
        "    y_pred : (m,1)\n",
        "    \n",
        "    Return the mean squared error\n",
        "    '''\n",
        "\n",
        "    ### START CODE HERE ###\n",
        "    loss = np.mean(np.square(np.subtract(y_true , y_pred )))\n",
        "    ### END CODE HERE ###\n",
        "    \n",
        "    return loss"
      ],
      "execution_count": 215,
      "outputs": []
    },
    {
      "cell_type": "code",
      "metadata": {
        "id": "xebgk0JfQovh",
        "colab_type": "code",
        "colab": {}
      },
      "source": [
        "def gradient(X, y_true, y_pred):\n",
        "    '''\n",
        "    X      : array (m,2)\n",
        "    y_true : array (m,1)\n",
        "    y_pred : array (m,1)\n",
        "    \n",
        "    Returns a numpy array with gradients. Shape (2,1)\n",
        "    '''\n",
        "    # Initialize the gradient vector for w0 (intercept/bias) and w1 respectively\n",
        "    grad = np.zeros([2,1])\n",
        "    \n",
        "    ### START CODE HERE ###\n",
        "\n",
        "    grad[0] = (X[:,0].dot(np.subtract(y_pred,y_true)))\n",
        "    grad[1] = (X[:,1].dot(np.subtract(y_pred,y_true)))\n",
        "    \n",
        "    ### END CODE HERE ###\n",
        "    \n",
        "    return (grad/X.shape[0])"
      ],
      "execution_count": 216,
      "outputs": []
    },
    {
      "cell_type": "code",
      "metadata": {
        "id": "qrx_hhDTQovm",
        "colab_type": "code",
        "colab": {}
      },
      "source": [
        "def gradient_descent(X, y, learning_rate=0.0001, max_iterations=100):\n",
        "    '''\n",
        "    X              : Array (m,2)\n",
        "    y              : Array (m,1)\n",
        "    learning_rate  : Learning rate\n",
        "    max_iterations : Maximum iteratons\n",
        "    \n",
        "    Returns : weights vector (2,1)\n",
        "            : losses (List)\n",
        "    '''\n",
        "    # Initialise weights vector of random values of size (2,1)\n",
        "    weights = weights = np.zeros((2,1))\n",
        "    \n",
        "    # Initialize a list to record all the losses \n",
        "    losses  = []\n",
        "    \n",
        "    ### START CODE HERE ###\n",
        "    for i in range(max_iterations):\n",
        "      \n",
        "      err=mean_squared_error( y , predict(X,weights))\n",
        "      \n",
        "      losses.append(err)\n",
        "\n",
        "      grad=(gradient( X , y , predict(X,weights) ))\n",
        "      \n",
        "      weights=np.subtract(weights,learning_rate*grad)\n",
        "\n",
        "    ### END CODE HERE ###\n",
        "    \n",
        "    return weights, losses"
      ],
      "execution_count": 242,
      "outputs": []
    },
    {
      "cell_type": "markdown",
      "metadata": {
        "id": "m3lMDVkpQovs",
        "colab_type": "text"
      },
      "source": [
        "##### Congratulations! You have implemented linear regression from scratch. Let's see this in action."
      ]
    },
    {
      "cell_type": "code",
      "metadata": {
        "id": "UcQhhSfyQovs",
        "colab_type": "code",
        "colab": {}
      },
      "source": [
        "# Perform gradient descent\n",
        "optimal_weights, losses = gradient_descent(X, y.reshape(-1,1))"
      ],
      "execution_count": 243,
      "outputs": []
    },
    {
      "cell_type": "code",
      "metadata": {
        "id": "fJ9ABVSfQovx",
        "colab_type": "code",
        "colab": {
          "base_uri": "https://localhost:8080/",
          "height": 35
        },
        "outputId": "2fff3972-4ccb-4e0d-a0ae-cc7c2a88d316"
      },
      "source": [
        "# DO NOT CHANGE THE FOLLOWING CODE CELLS\n",
        "# Print final loss\n",
        "print(\"Mean squared error:\", losses[-1])"
      ],
      "execution_count": 244,
      "outputs": [
        {
          "output_type": "stream",
          "text": [
            "Mean squared error: 17.080674249612354\n"
          ],
          "name": "stdout"
        }
      ]
    },
    {
      "cell_type": "code",
      "metadata": {
        "id": "n7mJVxaVQov2",
        "colab_type": "code",
        "colab": {
          "base_uri": "https://localhost:8080/",
          "height": 295
        },
        "outputId": "c2f29d47-329f-4c55-a1e4-cb2432292062"
      },
      "source": [
        "# Plot the loss curve\n",
        "plt.plot([i for i in range(len(losses))], losses)\n",
        "plt.title(\"Loss curve\")\n",
        "plt.xlabel(\"Iteration num\")\n",
        "plt.ylabel(\"Loss\")\n",
        "plt.show()"
      ],
      "execution_count": 233,
      "outputs": [
        {
          "output_type": "display_data",
          "data": {
            "image/png": "[encoded data removed]",
            "text/plain": [
              "<Figure size 432x288 with 1 Axes>"
            ]
          },
          "metadata": {
            "tags": [],
            "needs_background": "light"
          }
        }
      ]
    },
    {
      "cell_type": "code",
      "metadata": {
        "id": "ManjGYLKQov8",
        "colab_type": "code",
        "colab": {}
      },
      "source": [
        "# Make predictions using trained weights\n",
        "y_pred = predict(X, optimal_weights)"
      ],
      "execution_count": 234,
      "outputs": []
    },
    {
      "cell_type": "code",
      "metadata": {
        "id": "c9pBI-4wQowA",
        "colab_type": "code",
        "colab": {
          "base_uri": "https://localhost:8080/",
          "height": 295
        },
        "outputId": "2bf51b89-d7f1-4a00-fd26-b0f49143929b"
      },
      "source": [
        "# Visualize the results by plotting it\n",
        "plt.scatter(X[:,1], y, c='r', label='Actual scores')\n",
        "plt.plot(X[:,1], y_pred, c='g', label='Fitted line | predictions')\n",
        "plt.legend()\n",
        "plt.title(\"Linear regression fitted line\")\n",
        "plt.xlabel(\"Second year grades\")\n",
        "plt.ylabel(\"Third year grades\")\n",
        "plt.show()"
      ],
      "execution_count": 235,
      "outputs": [
        {
          "output_type": "display_data",
          "data": {
            "image/png": "[encoded data removed]",
            "text/plain": [
              "<Figure size 432x288 with 1 Axes>"
            ]
          },
          "metadata": {
            "tags": [],
            "needs_background": "light"
          }
        }
      ]
    }
  ]
}