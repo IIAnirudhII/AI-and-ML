{
  "nbformat": 4,
  "nbformat_minor": 0,
  "metadata": {
    "kernelspec": {
      "display_name": "Python 3",
      "language": "python",
      "name": "python3"
    },
    "language_info": {
      "codemirror_mode": {
        "name": "ipython",
        "version": 3
      },
      "file_extension": ".py",
      "mimetype": "text/x-python",
      "name": "python",
      "nbconvert_exporter": "python",
      "pygments_lexer": "ipython3",
      "version": "3.8.3"
    },
    "toc": {
      "base_numbering": 1,
      "nav_menu": {},
      "number_sections": true,
      "sideBar": true,
      "skip_h1_title": false,
      "title_cell": "Table of Contents",
      "title_sidebar": "Contents",
      "toc_cell": false,
      "toc_position": {},
      "toc_section_display": true,
      "toc_window_display": false
    },
    "colab": {
      "name": "Copy of task_1_classification_metrics.ipynb",
      "provenance": [],
      "toc_visible": true,
      "include_colab_link": true
    }
  },
  "cells": [
    {
      "cell_type": "markdown",
      "metadata": {
        "id": "view-in-github",
        "colab_type": "text"
      },
      "source": [
        "<a href=\"https://colab.research.google.com/github/IIAnirudhII/BU/blob/master/AI-and-ML/Lab5/task_1_classification_metrics.ipynb\" target=\"_parent\"><img src=\"https://colab.research.google.com/assets/colab-badge.svg\" alt=\"Open In Colab\"/></a>"
      ]
    },
    {
      "cell_type": "markdown",
      "metadata": {
        "id": "IFeluZ6z7OlE",
        "colab_type": "text"
      },
      "source": [
        "## Classification metrics\n",
        "\n",
        "Choosing right evaluation metrics for the problem is one of the most important aspect of machine learning. Choice of metrics allows us to compare performance of different models and helps in model selection.\n",
        "\n",
        "In this task, we will explore following metrics:\n",
        "- confusion matrix\n",
        "- accuracy\n",
        "- precision\n",
        "- recall\n",
        "- f1 score\n",
        "\n",
        "#### Dataset\n",
        "The training dataset is available at \"data/ozone_levels_train.csv\" in the respective challenge' repo.<br>\n",
        "The testing dataset is available at \"data/ozone_levels_test.csv\" in the respective challenge' repo.<br>\n",
        "\n",
        "The dataset is __modified version__ of the dataset 'ozone level' on provided by UCI Machine Learning repository.\n",
        "\n",
        "Original dataset: https://archive.ics.uci.edu/ml/datasets/Ozone+Level+Detection\n",
        "\n",
        "#### Objective\n",
        "To learn about classification metrics and compare logistic regression and decision tree on the same dataset\n",
        "\n",
        "#### Tasks\n",
        "- define X(input) and Y(output)\n",
        "- train the decision tree model \n",
        "- train the logistic model\n",
        "- construct a confusion matrix\n",
        "- calculate the classification accurace\n",
        "- calculate the Precision\n",
        "- calculate the Recall\n",
        "- calculate the F1 score\n",
        "- calculate Area Under ROC Curve\n",
        "\n",
        "#### Further fun\n",
        "- Calculate precission and recall\n",
        "- find the area under the curve for Roc metrics\n",
        "- impliment below metrics using inbuilt librarires\n",
        "        confusion matrix\n",
        "        accuracy\n",
        "        precision\n",
        "        recall\n",
        "        f1 score\n",
        "\n",
        "\n",
        "#### Helpful links\n",
        "- Classification metrics with google developers: https://developers.google.com/machine-learning/crash-course/classification/true-false-positive-negative\n",
        "- classification metrics: https://www.kdnuggets.com/2020/04/performance-evaluation-metrics-classification.html\n",
        "- pd.get_dummies() and One Hot Encoding: https://queirozf.com/entries/one-hot-encoding-a-feature-on-a-pandas-dataframe-an-example\n",
        "- Differences between Logistic Regression and a Decision Tree: https://www.geeksforgeeks.org/ml-logistic-regression-v-s-decision-tree-classification/\n",
        "- Decision Tree Classifier by Sklearn: https://scikit-learn.org/stable/modules/generated/sklearn.tree.DecisionTreeClassifier.html\n",
        "- Understanding classification metrics like Precision, Recall, F-Scores and Confusion matrices: https://nillsf.com/index.php/2020/05/23/confusion-matrix-accuracy-recall-precision-false-positive-rate-and-f-scores-explained/\n",
        "- Understanding the ROC Curve: https://developers.google.com/machine-learning/crash-course/classification/roc-and-auc\n",
        "- Use slack for doubts: https://join.slack.com/t/deepconnectai/shared_invite/zt-givlfnf6-~cn3SQ43k0BGDrG9_YOn4g"
      ]
    },
    {
      "cell_type": "code",
      "metadata": {
        "id": "pjJPRaRc7OlG",
        "colab_type": "code",
        "colab": {
          "base_uri": "https://localhost:8080/",
          "height": 54
        },
        "outputId": "e26a396e-a213-429e-e104-05ceb460fe40"
      },
      "source": [
        "import pandas as pd\n",
        "import numpy as np\n",
        "import matplotlib.pyplot as plt\n",
        "import seaborn as sns\n",
        "from sklearn.linear_model import LogisticRegression\n",
        "from sklearn.tree import DecisionTreeClassifier\n",
        "from sklearn.metrics import confusion_matrix\n",
        "# Uncomment below 2 lines to ignore warnings\n",
        "# import warnings\n",
        "# warnings.filterwarnings('ignore')"
      ],
      "execution_count": 1,
      "outputs": [
        {
          "output_type": "stream",
          "text": [
            "/usr/local/lib/python3.6/dist-packages/statsmodels/tools/_testing.py:19: FutureWarning: pandas.util.testing is deprecated. Use the functions in the public API at pandas.testing instead.\n",
            "  import pandas.util.testing as tm\n"
          ],
          "name": "stderr"
        }
      ]
    },
    {
      "cell_type": "code",
      "metadata": {
        "id": "tuyu4khV7OlO",
        "colab_type": "code",
        "colab": {
          "base_uri": "https://localhost:8080/",
          "height": 605
        },
        "outputId": "c11f52bc-86df-47f7-bd21-6ec725340618"
      },
      "source": [
        "# Download data using wget if running on cloud\n",
        "!wget https://github.com/DeepConnectAI/challenge-week-5/raw/master/data/ozone_levels_train.csv\n",
        "!wget https://github.com/DeepConnectAI/challenge-week-5/raw/master/data/ozone_levels_test.csv"
      ],
      "execution_count": 2,
      "outputs": [
        {
          "output_type": "stream",
          "text": [
            "--2020-09-13 14:02:35--  https://github.com/DeepConnectAI/challenge-week-5/raw/master/data/ozone_levels_train.csv\n",
            "Resolving github.com (github.com)... 192.30.255.113\n",
            "Connecting to github.com (github.com)|192.30.255.113|:443... connected.\n",
            "HTTP request sent, awaiting response... 302 Found\n",
            "Location: https://raw.githubusercontent.com/DeepConnectAI/challenge-week-5/master/data/ozone_levels_train.csv [following]\n",
            "--2020-09-13 14:02:36--  https://raw.githubusercontent.com/DeepConnectAI/challenge-week-5/master/data/ozone_levels_train.csv\n",
            "Resolving raw.githubusercontent.com (raw.githubusercontent.com)... 151.101.0.133, 151.101.64.133, 151.101.128.133, ...\n",
            "Connecting to raw.githubusercontent.com (raw.githubusercontent.com)|151.101.0.133|:443... connected.\n",
            "HTTP request sent, awaiting response... 200 OK\n",
            "Length: 762464 (745K) [text/plain]\n",
            "Saving to: ‘ozone_levels_train.csv’\n",
            "\n",
            "ozone_levels_train. 100%[===================>] 744.59K  --.-KB/s    in 0.04s   \n",
            "\n",
            "2020-09-13 14:02:36 (16.5 MB/s) - ‘ozone_levels_train.csv’ saved [762464/762464]\n",
            "\n",
            "--2020-09-13 14:02:36--  https://github.com/DeepConnectAI/challenge-week-5/raw/master/data/ozone_levels_test.csv\n",
            "Resolving github.com (github.com)... 192.30.255.113\n",
            "Connecting to github.com (github.com)|192.30.255.113|:443... connected.\n",
            "HTTP request sent, awaiting response... 302 Found\n",
            "Location: https://raw.githubusercontent.com/DeepConnectAI/challenge-week-5/master/data/ozone_levels_test.csv [following]\n",
            "--2020-09-13 14:02:36--  https://raw.githubusercontent.com/DeepConnectAI/challenge-week-5/master/data/ozone_levels_test.csv\n",
            "Resolving raw.githubusercontent.com (raw.githubusercontent.com)... 151.101.0.133, 151.101.64.133, 151.101.128.133, ...\n",
            "Connecting to raw.githubusercontent.com (raw.githubusercontent.com)|151.101.0.133|:443... connected.\n",
            "HTTP request sent, awaiting response... 200 OK\n",
            "Length: 326448 (319K) [text/plain]\n",
            "Saving to: ‘ozone_levels_test.csv’\n",
            "\n",
            "ozone_levels_test.c 100%[===================>] 318.80K  --.-KB/s    in 0.03s   \n",
            "\n",
            "2020-09-13 14:02:36 (8.93 MB/s) - ‘ozone_levels_test.csv’ saved [326448/326448]\n",
            "\n"
          ],
          "name": "stdout"
        }
      ]
    },
    {
      "cell_type": "code",
      "metadata": {
        "id": "gDJy_ync7OlX",
        "colab_type": "code",
        "colab": {}
      },
      "source": [
        "# Load the train and test data\n",
        "train = pd.read_csv(\"ozone_levels_train.csv\");\n",
        "test  = pd.read_csv(\"ozone_levels_test.csv\");"
      ],
      "execution_count": 3,
      "outputs": []
    },
    {
      "cell_type": "code",
      "metadata": {
        "id": "3wnrMC_K7Ole",
        "colab_type": "code",
        "colab": {
          "base_uri": "https://localhost:8080/",
          "height": 35
        },
        "outputId": "f5817ed1-714b-4d25-b605-0591bd55b6a3"
      },
      "source": [
        "# Explore train dataset\n",
        "train.shape"
      ],
      "execution_count": 4,
      "outputs": [
        {
          "output_type": "execute_result",
          "data": {
            "text/plain": [
              "(1775, 73)"
            ]
          },
          "metadata": {
            "tags": []
          },
          "execution_count": 4
        }
      ]
    },
    {
      "cell_type": "code",
      "metadata": {
        "id": "aY2sP7la7Olj",
        "colab_type": "code",
        "colab": {
          "base_uri": "https://localhost:8080/",
          "height": 226
        },
        "outputId": "6236d410-7143-427d-81f3-c07181b23996"
      },
      "source": [
        "train.head()"
      ],
      "execution_count": 5,
      "outputs": [
        {
          "output_type": "execute_result",
          "data": {
            "text/html": [
              "<div>\n",
              "<style scoped>\n",
              "    .dataframe tbody tr th:only-of-type {\n",
              "        vertical-align: middle;\n",
              "    }\n",
              "\n",
              "    .dataframe tbody tr th {\n",
              "        vertical-align: top;\n",
              "    }\n",
              "\n",
              "    .dataframe thead th {\n",
              "        text-align: right;\n",
              "    }\n",
              "</style>\n",
              "<table border=\"1\" class=\"dataframe\">\n",
              "  <thead>\n",
              "    <tr style=\"text-align: right;\">\n",
              "      <th></th>\n",
              "      <th>F_0</th>\n",
              "      <th>F_1</th>\n",
              "      <th>F_2</th>\n",
              "      <th>F_3</th>\n",
              "      <th>F_4</th>\n",
              "      <th>F_5</th>\n",
              "      <th>F_6</th>\n",
              "      <th>F_7</th>\n",
              "      <th>F_8</th>\n",
              "      <th>F_9</th>\n",
              "      <th>F_10</th>\n",
              "      <th>F_11</th>\n",
              "      <th>F_12</th>\n",
              "      <th>F_13</th>\n",
              "      <th>F_14</th>\n",
              "      <th>F_15</th>\n",
              "      <th>F_16</th>\n",
              "      <th>F_17</th>\n",
              "      <th>F_18</th>\n",
              "      <th>F_19</th>\n",
              "      <th>F_20</th>\n",
              "      <th>F_21</th>\n",
              "      <th>F_22</th>\n",
              "      <th>F_23</th>\n",
              "      <th>F_24</th>\n",
              "      <th>F_25</th>\n",
              "      <th>F_26</th>\n",
              "      <th>F_27</th>\n",
              "      <th>F_28</th>\n",
              "      <th>F_29</th>\n",
              "      <th>F_30</th>\n",
              "      <th>F_31</th>\n",
              "      <th>F_32</th>\n",
              "      <th>F_33</th>\n",
              "      <th>F_34</th>\n",
              "      <th>F_35</th>\n",
              "      <th>F_36</th>\n",
              "      <th>F_37</th>\n",
              "      <th>F_38</th>\n",
              "      <th>F_39</th>\n",
              "      <th>F_40</th>\n",
              "      <th>F_41</th>\n",
              "      <th>F_42</th>\n",
              "      <th>F_43</th>\n",
              "      <th>F_44</th>\n",
              "      <th>F_45</th>\n",
              "      <th>F_46</th>\n",
              "      <th>F_47</th>\n",
              "      <th>F_48</th>\n",
              "      <th>F_49</th>\n",
              "      <th>F_50</th>\n",
              "      <th>F_51</th>\n",
              "      <th>F_52</th>\n",
              "      <th>F_53</th>\n",
              "      <th>F_54</th>\n",
              "      <th>F_55</th>\n",
              "      <th>F_56</th>\n",
              "      <th>F_57</th>\n",
              "      <th>F_58</th>\n",
              "      <th>F_59</th>\n",
              "      <th>F_60</th>\n",
              "      <th>F_61</th>\n",
              "      <th>F_62</th>\n",
              "      <th>F_63</th>\n",
              "      <th>F_64</th>\n",
              "      <th>F_65</th>\n",
              "      <th>F_66</th>\n",
              "      <th>F_67</th>\n",
              "      <th>F_68</th>\n",
              "      <th>F_69</th>\n",
              "      <th>F_70</th>\n",
              "      <th>F_71</th>\n",
              "      <th>class</th>\n",
              "    </tr>\n",
              "  </thead>\n",
              "  <tbody>\n",
              "    <tr>\n",
              "      <th>0</th>\n",
              "      <td>2.5</td>\n",
              "      <td>3.5</td>\n",
              "      <td>4.4</td>\n",
              "      <td>4.6</td>\n",
              "      <td>4.4</td>\n",
              "      <td>3.5</td>\n",
              "      <td>4.2</td>\n",
              "      <td>4.5</td>\n",
              "      <td>4.2</td>\n",
              "      <td>4.6</td>\n",
              "      <td>3.9</td>\n",
              "      <td>3.8</td>\n",
              "      <td>3.6</td>\n",
              "      <td>3.5</td>\n",
              "      <td>3.6</td>\n",
              "      <td>3.0</td>\n",
              "      <td>3.4</td>\n",
              "      <td>3.2</td>\n",
              "      <td>2.8</td>\n",
              "      <td>2.5</td>\n",
              "      <td>2.1</td>\n",
              "      <td>2.1</td>\n",
              "      <td>2.1</td>\n",
              "      <td>2.6</td>\n",
              "      <td>4.6</td>\n",
              "      <td>3.5</td>\n",
              "      <td>0.3</td>\n",
              "      <td>0.1</td>\n",
              "      <td>-0.4</td>\n",
              "      <td>-0.7</td>\n",
              "      <td>-0.8</td>\n",
              "      <td>-0.8</td>\n",
              "      <td>-0.8</td>\n",
              "      <td>-1.1</td>\n",
              "      <td>-1.2</td>\n",
              "      <td>-1.1</td>\n",
              "      <td>-0.7</td>\n",
              "      <td>-0.3</td>\n",
              "      <td>0.3</td>\n",
              "      <td>1.2</td>\n",
              "      <td>1.8</td>\n",
              "      <td>2.7</td>\n",
              "      <td>3.6</td>\n",
              "      <td>2.7</td>\n",
              "      <td>1.9</td>\n",
              "      <td>1.2</td>\n",
              "      <td>0.8</td>\n",
              "      <td>0.2</td>\n",
              "      <td>-0.2</td>\n",
              "      <td>-0.5</td>\n",
              "      <td>3.6</td>\n",
              "      <td>0.3</td>\n",
              "      <td>3.9</td>\n",
              "      <td>0.22</td>\n",
              "      <td>4.94</td>\n",
              "      <td>-3.14</td>\n",
              "      <td>1557.5</td>\n",
              "      <td>-3.1</td>\n",
              "      <td>0.09</td>\n",
              "      <td>11.71</td>\n",
              "      <td>-1.07</td>\n",
              "      <td>3113.0</td>\n",
              "      <td>-16.8</td>\n",
              "      <td>0.07</td>\n",
              "      <td>26.29</td>\n",
              "      <td>-2.37</td>\n",
              "      <td>5705.0</td>\n",
              "      <td>-19.40</td>\n",
              "      <td>23.40</td>\n",
              "      <td>10315.0</td>\n",
              "      <td>-0.130416</td>\n",
              "      <td>0.00</td>\n",
              "      <td>0.0</td>\n",
              "    </tr>\n",
              "    <tr>\n",
              "      <th>1</th>\n",
              "      <td>1.2</td>\n",
              "      <td>0.7</td>\n",
              "      <td>0.3</td>\n",
              "      <td>0.1</td>\n",
              "      <td>0.3</td>\n",
              "      <td>0.4</td>\n",
              "      <td>0.6</td>\n",
              "      <td>1.1</td>\n",
              "      <td>1.9</td>\n",
              "      <td>2.4</td>\n",
              "      <td>5.1</td>\n",
              "      <td>5.3</td>\n",
              "      <td>5.1</td>\n",
              "      <td>4.4</td>\n",
              "      <td>4.6</td>\n",
              "      <td>4.6</td>\n",
              "      <td>4.5</td>\n",
              "      <td>3.5</td>\n",
              "      <td>3.4</td>\n",
              "      <td>3.0</td>\n",
              "      <td>2.5</td>\n",
              "      <td>2.1</td>\n",
              "      <td>2.5</td>\n",
              "      <td>1.6</td>\n",
              "      <td>5.3</td>\n",
              "      <td>2.6</td>\n",
              "      <td>7.3</td>\n",
              "      <td>7.2</td>\n",
              "      <td>5.8</td>\n",
              "      <td>4.9</td>\n",
              "      <td>4.6</td>\n",
              "      <td>4.2</td>\n",
              "      <td>4.4</td>\n",
              "      <td>6.1</td>\n",
              "      <td>8.6</td>\n",
              "      <td>12.8</td>\n",
              "      <td>15.9</td>\n",
              "      <td>16.8</td>\n",
              "      <td>17.3</td>\n",
              "      <td>16.6</td>\n",
              "      <td>16.3</td>\n",
              "      <td>16.2</td>\n",
              "      <td>15.9</td>\n",
              "      <td>15.4</td>\n",
              "      <td>15.1</td>\n",
              "      <td>15.0</td>\n",
              "      <td>15.0</td>\n",
              "      <td>14.8</td>\n",
              "      <td>15.2</td>\n",
              "      <td>15.2</td>\n",
              "      <td>17.3</td>\n",
              "      <td>11.9</td>\n",
              "      <td>5.0</td>\n",
              "      <td>0.15</td>\n",
              "      <td>2.02</td>\n",
              "      <td>-0.59</td>\n",
              "      <td>1510.5</td>\n",
              "      <td>1.4</td>\n",
              "      <td>0.17</td>\n",
              "      <td>10.11</td>\n",
              "      <td>-2.63</td>\n",
              "      <td>3083.0</td>\n",
              "      <td>-16.0</td>\n",
              "      <td>0.24</td>\n",
              "      <td>15.80</td>\n",
              "      <td>2.10</td>\n",
              "      <td>5710.0</td>\n",
              "      <td>-17.50</td>\n",
              "      <td>19.00</td>\n",
              "      <td>10210.0</td>\n",
              "      <td>15.000000</td>\n",
              "      <td>0.00</td>\n",
              "      <td>0.0</td>\n",
              "    </tr>\n",
              "    <tr>\n",
              "      <th>2</th>\n",
              "      <td>0.1</td>\n",
              "      <td>0.4</td>\n",
              "      <td>0.6</td>\n",
              "      <td>0.4</td>\n",
              "      <td>1.0</td>\n",
              "      <td>1.7</td>\n",
              "      <td>0.7</td>\n",
              "      <td>1.3</td>\n",
              "      <td>2.3</td>\n",
              "      <td>2.4</td>\n",
              "      <td>2.9</td>\n",
              "      <td>2.9</td>\n",
              "      <td>2.8</td>\n",
              "      <td>3.2</td>\n",
              "      <td>3.5</td>\n",
              "      <td>3.0</td>\n",
              "      <td>3.0</td>\n",
              "      <td>2.8</td>\n",
              "      <td>1.6</td>\n",
              "      <td>0.7</td>\n",
              "      <td>0.1</td>\n",
              "      <td>0.1</td>\n",
              "      <td>0.0</td>\n",
              "      <td>0.2</td>\n",
              "      <td>3.5</td>\n",
              "      <td>1.6</td>\n",
              "      <td>12.3</td>\n",
              "      <td>11.7</td>\n",
              "      <td>11.3</td>\n",
              "      <td>11.3</td>\n",
              "      <td>11.2</td>\n",
              "      <td>12.2</td>\n",
              "      <td>11.7</td>\n",
              "      <td>14.6</td>\n",
              "      <td>17.7</td>\n",
              "      <td>20.0</td>\n",
              "      <td>21.3</td>\n",
              "      <td>22.3</td>\n",
              "      <td>23.2</td>\n",
              "      <td>23.7</td>\n",
              "      <td>24.7</td>\n",
              "      <td>25.2</td>\n",
              "      <td>25.3</td>\n",
              "      <td>25.0</td>\n",
              "      <td>23.6</td>\n",
              "      <td>20.9</td>\n",
              "      <td>17.4</td>\n",
              "      <td>15.9</td>\n",
              "      <td>14.5</td>\n",
              "      <td>14.4</td>\n",
              "      <td>25.3</td>\n",
              "      <td>18.0</td>\n",
              "      <td>9.9</td>\n",
              "      <td>0.20</td>\n",
              "      <td>6.48</td>\n",
              "      <td>-12.56</td>\n",
              "      <td>1520.5</td>\n",
              "      <td>1.5</td>\n",
              "      <td>0.07</td>\n",
              "      <td>15.06</td>\n",
              "      <td>-15.37</td>\n",
              "      <td>3105.5</td>\n",
              "      <td>-13.3</td>\n",
              "      <td>0.12</td>\n",
              "      <td>31.64</td>\n",
              "      <td>-5.24</td>\n",
              "      <td>5745.0</td>\n",
              "      <td>-16.90</td>\n",
              "      <td>25.90</td>\n",
              "      <td>10175.0</td>\n",
              "      <td>85.000000</td>\n",
              "      <td>0.00</td>\n",
              "      <td>0.0</td>\n",
              "    </tr>\n",
              "    <tr>\n",
              "      <th>3</th>\n",
              "      <td>0.6</td>\n",
              "      <td>0.9</td>\n",
              "      <td>1.0</td>\n",
              "      <td>0.6</td>\n",
              "      <td>0.7</td>\n",
              "      <td>0.7</td>\n",
              "      <td>0.8</td>\n",
              "      <td>1.4</td>\n",
              "      <td>2.6</td>\n",
              "      <td>2.6</td>\n",
              "      <td>2.7</td>\n",
              "      <td>3.0</td>\n",
              "      <td>3.2</td>\n",
              "      <td>3.4</td>\n",
              "      <td>3.0</td>\n",
              "      <td>3.2</td>\n",
              "      <td>2.8</td>\n",
              "      <td>1.7</td>\n",
              "      <td>1.1</td>\n",
              "      <td>1.1</td>\n",
              "      <td>1.3</td>\n",
              "      <td>1.3</td>\n",
              "      <td>1.0</td>\n",
              "      <td>0.9</td>\n",
              "      <td>3.4</td>\n",
              "      <td>1.7</td>\n",
              "      <td>18.3</td>\n",
              "      <td>17.7</td>\n",
              "      <td>17.3</td>\n",
              "      <td>16.6</td>\n",
              "      <td>16.3</td>\n",
              "      <td>16.2</td>\n",
              "      <td>15.7</td>\n",
              "      <td>16.6</td>\n",
              "      <td>18.7</td>\n",
              "      <td>20.8</td>\n",
              "      <td>23.2</td>\n",
              "      <td>25.0</td>\n",
              "      <td>25.8</td>\n",
              "      <td>26.3</td>\n",
              "      <td>26.4</td>\n",
              "      <td>26.4</td>\n",
              "      <td>25.9</td>\n",
              "      <td>24.5</td>\n",
              "      <td>22.9</td>\n",
              "      <td>21.7</td>\n",
              "      <td>20.8</td>\n",
              "      <td>20.1</td>\n",
              "      <td>19.2</td>\n",
              "      <td>17.6</td>\n",
              "      <td>26.4</td>\n",
              "      <td>20.8</td>\n",
              "      <td>11.1</td>\n",
              "      <td>0.69</td>\n",
              "      <td>-5.85</td>\n",
              "      <td>-5.37</td>\n",
              "      <td>1579.5</td>\n",
              "      <td>5.2</td>\n",
              "      <td>0.03</td>\n",
              "      <td>-2.70</td>\n",
              "      <td>-0.73</td>\n",
              "      <td>3179.0</td>\n",
              "      <td>-12.7</td>\n",
              "      <td>0.19</td>\n",
              "      <td>1.22</td>\n",
              "      <td>-0.28</td>\n",
              "      <td>5835.0</td>\n",
              "      <td>-9.55</td>\n",
              "      <td>42.15</td>\n",
              "      <td>10215.0</td>\n",
              "      <td>5.000000</td>\n",
              "      <td>0.00</td>\n",
              "      <td>0.0</td>\n",
              "    </tr>\n",
              "    <tr>\n",
              "      <th>4</th>\n",
              "      <td>0.1</td>\n",
              "      <td>0.4</td>\n",
              "      <td>0.3</td>\n",
              "      <td>0.1</td>\n",
              "      <td>0.1</td>\n",
              "      <td>0.0</td>\n",
              "      <td>0.9</td>\n",
              "      <td>1.9</td>\n",
              "      <td>2.0</td>\n",
              "      <td>2.0</td>\n",
              "      <td>1.3</td>\n",
              "      <td>0.4</td>\n",
              "      <td>2.5</td>\n",
              "      <td>1.1</td>\n",
              "      <td>2.3</td>\n",
              "      <td>2.8</td>\n",
              "      <td>3.5</td>\n",
              "      <td>2.6</td>\n",
              "      <td>1.6</td>\n",
              "      <td>0.7</td>\n",
              "      <td>0.3</td>\n",
              "      <td>1.2</td>\n",
              "      <td>0.4</td>\n",
              "      <td>0.8</td>\n",
              "      <td>3.5</td>\n",
              "      <td>1.2</td>\n",
              "      <td>21.6</td>\n",
              "      <td>21.0</td>\n",
              "      <td>20.7</td>\n",
              "      <td>20.4</td>\n",
              "      <td>20.2</td>\n",
              "      <td>20.2</td>\n",
              "      <td>21.7</td>\n",
              "      <td>23.3</td>\n",
              "      <td>24.9</td>\n",
              "      <td>26.8</td>\n",
              "      <td>28.2</td>\n",
              "      <td>28.5</td>\n",
              "      <td>23.3</td>\n",
              "      <td>21.2</td>\n",
              "      <td>21.7</td>\n",
              "      <td>22.0</td>\n",
              "      <td>22.8</td>\n",
              "      <td>23.1</td>\n",
              "      <td>23.0</td>\n",
              "      <td>22.4</td>\n",
              "      <td>21.9</td>\n",
              "      <td>22.2</td>\n",
              "      <td>21.9</td>\n",
              "      <td>21.4</td>\n",
              "      <td>28.5</td>\n",
              "      <td>22.7</td>\n",
              "      <td>15.5</td>\n",
              "      <td>0.70</td>\n",
              "      <td>3.86</td>\n",
              "      <td>2.62</td>\n",
              "      <td>1557.0</td>\n",
              "      <td>4.2</td>\n",
              "      <td>0.79</td>\n",
              "      <td>7.00</td>\n",
              "      <td>0.70</td>\n",
              "      <td>3171.5</td>\n",
              "      <td>-10.9</td>\n",
              "      <td>0.87</td>\n",
              "      <td>1.65</td>\n",
              "      <td>1.51</td>\n",
              "      <td>5835.0</td>\n",
              "      <td>32.95</td>\n",
              "      <td>47.30</td>\n",
              "      <td>10170.0</td>\n",
              "      <td>15.000000</td>\n",
              "      <td>0.97</td>\n",
              "      <td>0.0</td>\n",
              "    </tr>\n",
              "  </tbody>\n",
              "</table>\n",
              "</div>"
            ],
            "text/plain": [
              "   F_0  F_1  F_2  F_3  F_4  F_5  ...   F_67   F_68     F_69       F_70  F_71  class\n",
              "0  2.5  3.5  4.4  4.6  4.4  3.5  ... -19.40  23.40  10315.0  -0.130416  0.00    0.0\n",
              "1  1.2  0.7  0.3  0.1  0.3  0.4  ... -17.50  19.00  10210.0  15.000000  0.00    0.0\n",
              "2  0.1  0.4  0.6  0.4  1.0  1.7  ... -16.90  25.90  10175.0  85.000000  0.00    0.0\n",
              "3  0.6  0.9  1.0  0.6  0.7  0.7  ...  -9.55  42.15  10215.0   5.000000  0.00    0.0\n",
              "4  0.1  0.4  0.3  0.1  0.1  0.0  ...  32.95  47.30  10170.0  15.000000  0.97    0.0\n",
              "\n",
              "[5 rows x 73 columns]"
            ]
          },
          "metadata": {
            "tags": []
          },
          "execution_count": 5
        }
      ]
    },
    {
      "cell_type": "code",
      "metadata": {
        "id": "qOJNTN_E7Olo",
        "colab_type": "code",
        "colab": {
          "base_uri": "https://localhost:8080/",
          "height": 35
        },
        "outputId": "6d677445-0746-43f9-fb0b-ffbcaa90d2ba"
      },
      "source": [
        "# Explore test dataset\n",
        "test.shape"
      ],
      "execution_count": 6,
      "outputs": [
        {
          "output_type": "execute_result",
          "data": {
            "text/plain": [
              "(761, 73)"
            ]
          },
          "metadata": {
            "tags": []
          },
          "execution_count": 6
        }
      ]
    },
    {
      "cell_type": "code",
      "metadata": {
        "id": "m3-WA8tN7Olv",
        "colab_type": "code",
        "colab": {
          "base_uri": "https://localhost:8080/",
          "height": 226
        },
        "outputId": "8e38dffd-c7c2-452c-a685-92e2a25f3cf1"
      },
      "source": [
        "test.head()"
      ],
      "execution_count": 7,
      "outputs": [
        {
          "output_type": "execute_result",
          "data": {
            "text/html": [
              "<div>\n",
              "<style scoped>\n",
              "    .dataframe tbody tr th:only-of-type {\n",
              "        vertical-align: middle;\n",
              "    }\n",
              "\n",
              "    .dataframe tbody tr th {\n",
              "        vertical-align: top;\n",
              "    }\n",
              "\n",
              "    .dataframe thead th {\n",
              "        text-align: right;\n",
              "    }\n",
              "</style>\n",
              "<table border=\"1\" class=\"dataframe\">\n",
              "  <thead>\n",
              "    <tr style=\"text-align: right;\">\n",
              "      <th></th>\n",
              "      <th>F_0</th>\n",
              "      <th>F_1</th>\n",
              "      <th>F_2</th>\n",
              "      <th>F_3</th>\n",
              "      <th>F_4</th>\n",
              "      <th>F_5</th>\n",
              "      <th>F_6</th>\n",
              "      <th>F_7</th>\n",
              "      <th>F_8</th>\n",
              "      <th>F_9</th>\n",
              "      <th>F_10</th>\n",
              "      <th>F_11</th>\n",
              "      <th>F_12</th>\n",
              "      <th>F_13</th>\n",
              "      <th>F_14</th>\n",
              "      <th>F_15</th>\n",
              "      <th>F_16</th>\n",
              "      <th>F_17</th>\n",
              "      <th>F_18</th>\n",
              "      <th>F_19</th>\n",
              "      <th>F_20</th>\n",
              "      <th>F_21</th>\n",
              "      <th>F_22</th>\n",
              "      <th>F_23</th>\n",
              "      <th>F_24</th>\n",
              "      <th>F_25</th>\n",
              "      <th>F_26</th>\n",
              "      <th>F_27</th>\n",
              "      <th>F_28</th>\n",
              "      <th>F_29</th>\n",
              "      <th>F_30</th>\n",
              "      <th>F_31</th>\n",
              "      <th>F_32</th>\n",
              "      <th>F_33</th>\n",
              "      <th>F_34</th>\n",
              "      <th>F_35</th>\n",
              "      <th>F_36</th>\n",
              "      <th>F_37</th>\n",
              "      <th>F_38</th>\n",
              "      <th>F_39</th>\n",
              "      <th>F_40</th>\n",
              "      <th>F_41</th>\n",
              "      <th>F_42</th>\n",
              "      <th>F_43</th>\n",
              "      <th>F_44</th>\n",
              "      <th>F_45</th>\n",
              "      <th>F_46</th>\n",
              "      <th>F_47</th>\n",
              "      <th>F_48</th>\n",
              "      <th>F_49</th>\n",
              "      <th>F_50</th>\n",
              "      <th>F_51</th>\n",
              "      <th>F_52</th>\n",
              "      <th>F_53</th>\n",
              "      <th>F_54</th>\n",
              "      <th>F_55</th>\n",
              "      <th>F_56</th>\n",
              "      <th>F_57</th>\n",
              "      <th>F_58</th>\n",
              "      <th>F_59</th>\n",
              "      <th>F_60</th>\n",
              "      <th>F_61</th>\n",
              "      <th>F_62</th>\n",
              "      <th>F_63</th>\n",
              "      <th>F_64</th>\n",
              "      <th>F_65</th>\n",
              "      <th>F_66</th>\n",
              "      <th>F_67</th>\n",
              "      <th>F_68</th>\n",
              "      <th>F_69</th>\n",
              "      <th>F_70</th>\n",
              "      <th>F_71</th>\n",
              "      <th>class</th>\n",
              "    </tr>\n",
              "  </thead>\n",
              "  <tbody>\n",
              "    <tr>\n",
              "      <th>0</th>\n",
              "      <td>4.0</td>\n",
              "      <td>3.7</td>\n",
              "      <td>2.9</td>\n",
              "      <td>3.6</td>\n",
              "      <td>2.4</td>\n",
              "      <td>2.9</td>\n",
              "      <td>2.0</td>\n",
              "      <td>2.0</td>\n",
              "      <td>3.2</td>\n",
              "      <td>3.8</td>\n",
              "      <td>3.9</td>\n",
              "      <td>4.5</td>\n",
              "      <td>4.7</td>\n",
              "      <td>4.5</td>\n",
              "      <td>5.0</td>\n",
              "      <td>4.7</td>\n",
              "      <td>4.4</td>\n",
              "      <td>4.4</td>\n",
              "      <td>2.8</td>\n",
              "      <td>3.1</td>\n",
              "      <td>2.0</td>\n",
              "      <td>1.8</td>\n",
              "      <td>1.7</td>\n",
              "      <td>1.6</td>\n",
              "      <td>5.0</td>\n",
              "      <td>3.3</td>\n",
              "      <td>3.3</td>\n",
              "      <td>2.9</td>\n",
              "      <td>2.4</td>\n",
              "      <td>2.4</td>\n",
              "      <td>2.0</td>\n",
              "      <td>1.1</td>\n",
              "      <td>0.5</td>\n",
              "      <td>-0.1</td>\n",
              "      <td>0.8</td>\n",
              "      <td>2.2</td>\n",
              "      <td>3.6</td>\n",
              "      <td>4.6</td>\n",
              "      <td>5.6</td>\n",
              "      <td>6.0</td>\n",
              "      <td>6.3</td>\n",
              "      <td>6.5</td>\n",
              "      <td>6.3</td>\n",
              "      <td>5.3</td>\n",
              "      <td>4.5</td>\n",
              "      <td>3.9</td>\n",
              "      <td>3.1</td>\n",
              "      <td>2.1</td>\n",
              "      <td>1.4</td>\n",
              "      <td>1.0</td>\n",
              "      <td>6.5</td>\n",
              "      <td>3.2</td>\n",
              "      <td>-2.60</td>\n",
              "      <td>0.81</td>\n",
              "      <td>-2.22</td>\n",
              "      <td>-5.69</td>\n",
              "      <td>1488.0</td>\n",
              "      <td>-4.10</td>\n",
              "      <td>0.89</td>\n",
              "      <td>15.50</td>\n",
              "      <td>1.69</td>\n",
              "      <td>3025.0</td>\n",
              "      <td>-19.8</td>\n",
              "      <td>0.47</td>\n",
              "      <td>27.66</td>\n",
              "      <td>11.94</td>\n",
              "      <td>5605.0</td>\n",
              "      <td>10.70</td>\n",
              "      <td>31.95</td>\n",
              "      <td>10240.0</td>\n",
              "      <td>10.0</td>\n",
              "      <td>0.0</td>\n",
              "      <td>0.0</td>\n",
              "    </tr>\n",
              "    <tr>\n",
              "      <th>1</th>\n",
              "      <td>2.2</td>\n",
              "      <td>2.9</td>\n",
              "      <td>3.4</td>\n",
              "      <td>4.2</td>\n",
              "      <td>4.7</td>\n",
              "      <td>4.7</td>\n",
              "      <td>5.3</td>\n",
              "      <td>4.9</td>\n",
              "      <td>5.2</td>\n",
              "      <td>6.0</td>\n",
              "      <td>5.9</td>\n",
              "      <td>6.1</td>\n",
              "      <td>6.8</td>\n",
              "      <td>6.3</td>\n",
              "      <td>6.3</td>\n",
              "      <td>6.4</td>\n",
              "      <td>5.7</td>\n",
              "      <td>3.6</td>\n",
              "      <td>1.5</td>\n",
              "      <td>0.7</td>\n",
              "      <td>0.0</td>\n",
              "      <td>0.0</td>\n",
              "      <td>0.8</td>\n",
              "      <td>0.5</td>\n",
              "      <td>6.8</td>\n",
              "      <td>3.9</td>\n",
              "      <td>5.5</td>\n",
              "      <td>5.8</td>\n",
              "      <td>6.0</td>\n",
              "      <td>6.0</td>\n",
              "      <td>5.9</td>\n",
              "      <td>6.1</td>\n",
              "      <td>6.3</td>\n",
              "      <td>6.6</td>\n",
              "      <td>6.9</td>\n",
              "      <td>7.8</td>\n",
              "      <td>9.1</td>\n",
              "      <td>10.5</td>\n",
              "      <td>11.6</td>\n",
              "      <td>12.8</td>\n",
              "      <td>13.9</td>\n",
              "      <td>14.7</td>\n",
              "      <td>14.9</td>\n",
              "      <td>14.2</td>\n",
              "      <td>12.2</td>\n",
              "      <td>10.1</td>\n",
              "      <td>8.8</td>\n",
              "      <td>7.1</td>\n",
              "      <td>5.9</td>\n",
              "      <td>6.1</td>\n",
              "      <td>14.9</td>\n",
              "      <td>9.0</td>\n",
              "      <td>3.35</td>\n",
              "      <td>0.73</td>\n",
              "      <td>16.14</td>\n",
              "      <td>4.53</td>\n",
              "      <td>1382.5</td>\n",
              "      <td>-2.45</td>\n",
              "      <td>0.08</td>\n",
              "      <td>18.29</td>\n",
              "      <td>8.03</td>\n",
              "      <td>2933.0</td>\n",
              "      <td>-20.1</td>\n",
              "      <td>0.20</td>\n",
              "      <td>19.22</td>\n",
              "      <td>18.21</td>\n",
              "      <td>5515.0</td>\n",
              "      <td>-10.10</td>\n",
              "      <td>42.00</td>\n",
              "      <td>10065.0</td>\n",
              "      <td>25.0</td>\n",
              "      <td>0.0</td>\n",
              "      <td>0.0</td>\n",
              "    </tr>\n",
              "    <tr>\n",
              "      <th>2</th>\n",
              "      <td>2.7</td>\n",
              "      <td>2.2</td>\n",
              "      <td>2.3</td>\n",
              "      <td>2.5</td>\n",
              "      <td>2.6</td>\n",
              "      <td>2.9</td>\n",
              "      <td>3.2</td>\n",
              "      <td>2.9</td>\n",
              "      <td>3.6</td>\n",
              "      <td>4.2</td>\n",
              "      <td>4.8</td>\n",
              "      <td>5.1</td>\n",
              "      <td>5.1</td>\n",
              "      <td>5.4</td>\n",
              "      <td>5.3</td>\n",
              "      <td>5.3</td>\n",
              "      <td>4.5</td>\n",
              "      <td>3.8</td>\n",
              "      <td>4.3</td>\n",
              "      <td>6.6</td>\n",
              "      <td>5.7</td>\n",
              "      <td>5.8</td>\n",
              "      <td>5.5</td>\n",
              "      <td>5.8</td>\n",
              "      <td>6.6</td>\n",
              "      <td>4.3</td>\n",
              "      <td>19.6</td>\n",
              "      <td>19.6</td>\n",
              "      <td>19.4</td>\n",
              "      <td>19.6</td>\n",
              "      <td>19.5</td>\n",
              "      <td>19.7</td>\n",
              "      <td>19.9</td>\n",
              "      <td>20.2</td>\n",
              "      <td>20.8</td>\n",
              "      <td>21.7</td>\n",
              "      <td>22.4</td>\n",
              "      <td>23.3</td>\n",
              "      <td>24.0</td>\n",
              "      <td>24.9</td>\n",
              "      <td>25.7</td>\n",
              "      <td>25.9</td>\n",
              "      <td>26.3</td>\n",
              "      <td>26.6</td>\n",
              "      <td>26.0</td>\n",
              "      <td>24.1</td>\n",
              "      <td>22.7</td>\n",
              "      <td>21.5</td>\n",
              "      <td>20.0</td>\n",
              "      <td>18.6</td>\n",
              "      <td>26.6</td>\n",
              "      <td>22.2</td>\n",
              "      <td>14.10</td>\n",
              "      <td>0.30</td>\n",
              "      <td>10.00</td>\n",
              "      <td>5.23</td>\n",
              "      <td>1471.0</td>\n",
              "      <td>2.60</td>\n",
              "      <td>0.30</td>\n",
              "      <td>11.28</td>\n",
              "      <td>0.54</td>\n",
              "      <td>3076.5</td>\n",
              "      <td>-16.5</td>\n",
              "      <td>0.10</td>\n",
              "      <td>14.22</td>\n",
              "      <td>-2.98</td>\n",
              "      <td>5690.0</td>\n",
              "      <td>0.70</td>\n",
              "      <td>32.70</td>\n",
              "      <td>10105.0</td>\n",
              "      <td>-55.0</td>\n",
              "      <td>0.0</td>\n",
              "      <td>0.0</td>\n",
              "    </tr>\n",
              "    <tr>\n",
              "      <th>3</th>\n",
              "      <td>1.5</td>\n",
              "      <td>1.3</td>\n",
              "      <td>1.8</td>\n",
              "      <td>1.4</td>\n",
              "      <td>1.2</td>\n",
              "      <td>1.7</td>\n",
              "      <td>1.6</td>\n",
              "      <td>1.4</td>\n",
              "      <td>1.6</td>\n",
              "      <td>3.0</td>\n",
              "      <td>3.6</td>\n",
              "      <td>3.2</td>\n",
              "      <td>3.3</td>\n",
              "      <td>4.0</td>\n",
              "      <td>3.1</td>\n",
              "      <td>3.4</td>\n",
              "      <td>3.8</td>\n",
              "      <td>3.0</td>\n",
              "      <td>2.5</td>\n",
              "      <td>2.1</td>\n",
              "      <td>3.2</td>\n",
              "      <td>2.8</td>\n",
              "      <td>3.1</td>\n",
              "      <td>3.2</td>\n",
              "      <td>4.0</td>\n",
              "      <td>2.5</td>\n",
              "      <td>18.8</td>\n",
              "      <td>18.8</td>\n",
              "      <td>19.7</td>\n",
              "      <td>20.1</td>\n",
              "      <td>20.0</td>\n",
              "      <td>19.8</td>\n",
              "      <td>20.0</td>\n",
              "      <td>20.2</td>\n",
              "      <td>20.3</td>\n",
              "      <td>19.8</td>\n",
              "      <td>21.2</td>\n",
              "      <td>22.3</td>\n",
              "      <td>23.0</td>\n",
              "      <td>23.5</td>\n",
              "      <td>23.1</td>\n",
              "      <td>22.4</td>\n",
              "      <td>21.7</td>\n",
              "      <td>20.3</td>\n",
              "      <td>19.5</td>\n",
              "      <td>20.2</td>\n",
              "      <td>20.9</td>\n",
              "      <td>21.2</td>\n",
              "      <td>20.8</td>\n",
              "      <td>20.4</td>\n",
              "      <td>23.5</td>\n",
              "      <td>20.7</td>\n",
              "      <td>10.10</td>\n",
              "      <td>0.74</td>\n",
              "      <td>2.03</td>\n",
              "      <td>8.12</td>\n",
              "      <td>1566.0</td>\n",
              "      <td>4.90</td>\n",
              "      <td>0.28</td>\n",
              "      <td>6.91</td>\n",
              "      <td>2.43</td>\n",
              "      <td>3155.0</td>\n",
              "      <td>-11.9</td>\n",
              "      <td>0.54</td>\n",
              "      <td>13.07</td>\n",
              "      <td>9.15</td>\n",
              "      <td>5820.0</td>\n",
              "      <td>1.95</td>\n",
              "      <td>39.35</td>\n",
              "      <td>10220.0</td>\n",
              "      <td>-25.0</td>\n",
              "      <td>0.0</td>\n",
              "      <td>0.0</td>\n",
              "    </tr>\n",
              "    <tr>\n",
              "      <th>4</th>\n",
              "      <td>2.6</td>\n",
              "      <td>2.7</td>\n",
              "      <td>2.2</td>\n",
              "      <td>1.4</td>\n",
              "      <td>1.6</td>\n",
              "      <td>1.9</td>\n",
              "      <td>2.6</td>\n",
              "      <td>3.5</td>\n",
              "      <td>4.2</td>\n",
              "      <td>4.5</td>\n",
              "      <td>3.8</td>\n",
              "      <td>3.8</td>\n",
              "      <td>3.0</td>\n",
              "      <td>2.7</td>\n",
              "      <td>2.1</td>\n",
              "      <td>2.4</td>\n",
              "      <td>2.1</td>\n",
              "      <td>1.6</td>\n",
              "      <td>1.6</td>\n",
              "      <td>3.5</td>\n",
              "      <td>2.9</td>\n",
              "      <td>2.5</td>\n",
              "      <td>2.9</td>\n",
              "      <td>2.3</td>\n",
              "      <td>4.5</td>\n",
              "      <td>2.7</td>\n",
              "      <td>28.1</td>\n",
              "      <td>27.6</td>\n",
              "      <td>27.2</td>\n",
              "      <td>26.9</td>\n",
              "      <td>26.9</td>\n",
              "      <td>26.6</td>\n",
              "      <td>26.8</td>\n",
              "      <td>27.8</td>\n",
              "      <td>29.2</td>\n",
              "      <td>30.4</td>\n",
              "      <td>31.3</td>\n",
              "      <td>32.2</td>\n",
              "      <td>33.3</td>\n",
              "      <td>34.2</td>\n",
              "      <td>35.1</td>\n",
              "      <td>35.6</td>\n",
              "      <td>35.3</td>\n",
              "      <td>34.9</td>\n",
              "      <td>33.6</td>\n",
              "      <td>32.2</td>\n",
              "      <td>30.9</td>\n",
              "      <td>29.9</td>\n",
              "      <td>28.9</td>\n",
              "      <td>28.1</td>\n",
              "      <td>35.6</td>\n",
              "      <td>30.5</td>\n",
              "      <td>20.10</td>\n",
              "      <td>0.66</td>\n",
              "      <td>2.01</td>\n",
              "      <td>0.68</td>\n",
              "      <td>1529.5</td>\n",
              "      <td>11.30</td>\n",
              "      <td>0.47</td>\n",
              "      <td>-1.34</td>\n",
              "      <td>-1.14</td>\n",
              "      <td>3182.0</td>\n",
              "      <td>-5.0</td>\n",
              "      <td>0.26</td>\n",
              "      <td>-1.52</td>\n",
              "      <td>-4.53</td>\n",
              "      <td>5910.0</td>\n",
              "      <td>27.70</td>\n",
              "      <td>43.70</td>\n",
              "      <td>10110.0</td>\n",
              "      <td>-30.0</td>\n",
              "      <td>0.0</td>\n",
              "      <td>0.0</td>\n",
              "    </tr>\n",
              "  </tbody>\n",
              "</table>\n",
              "</div>"
            ],
            "text/plain": [
              "   F_0  F_1  F_2  F_3  F_4  F_5  ...   F_67   F_68     F_69  F_70  F_71  class\n",
              "0  4.0  3.7  2.9  3.6  2.4  2.9  ...  10.70  31.95  10240.0  10.0   0.0    0.0\n",
              "1  2.2  2.9  3.4  4.2  4.7  4.7  ... -10.10  42.00  10065.0  25.0   0.0    0.0\n",
              "2  2.7  2.2  2.3  2.5  2.6  2.9  ...   0.70  32.70  10105.0 -55.0   0.0    0.0\n",
              "3  1.5  1.3  1.8  1.4  1.2  1.7  ...   1.95  39.35  10220.0 -25.0   0.0    0.0\n",
              "4  2.6  2.7  2.2  1.4  1.6  1.9  ...  27.70  43.70  10110.0 -30.0   0.0    0.0\n",
              "\n",
              "[5 rows x 73 columns]"
            ]
          },
          "metadata": {
            "tags": []
          },
          "execution_count": 7
        }
      ]
    },
    {
      "cell_type": "code",
      "metadata": {
        "id": "ZPm-wKOh7Oly",
        "colab_type": "code",
        "colab": {}
      },
      "source": [
        "# Define X and y\n",
        "X_train = train.iloc[:,:-1].values\n",
        "X_test  = test.iloc[:,:-1].values\n",
        "y_train = train.iloc[:,-1].values\n",
        "y_test  = test.iloc[:,-1].values"
      ],
      "execution_count": 8,
      "outputs": []
    },
    {
      "cell_type": "code",
      "metadata": {
        "id": "LyHrDvq07Ol3",
        "colab_type": "code",
        "colab": {
          "base_uri": "https://localhost:8080/",
          "height": 90
        },
        "outputId": "8c08d375-1842-4c8f-de54-c24ba4099e02"
      },
      "source": [
        "# Print shape of X_train, X_test, y_train, y_test\n",
        "print(X_train.shape)\n",
        "print(X_test.shape)\n",
        "print(y_train.shape)\n",
        "print(y_test.shape)"
      ],
      "execution_count": 9,
      "outputs": [
        {
          "output_type": "stream",
          "text": [
            "(1775, 72)\n",
            "(761, 72)\n",
            "(1775,)\n",
            "(761,)\n"
          ],
          "name": "stdout"
        }
      ]
    },
    {
      "cell_type": "code",
      "metadata": {
        "id": "xGOAKpHq7Ol7",
        "colab_type": "code",
        "colab": {}
      },
      "source": [
        "# Initialize the models\n",
        "# Classifier 1 - Logistic regression\n",
        "clf1 = LogisticRegression(max_iter=10000)\n",
        "# Classifier 2 - Decision tree\n",
        "clf2 = DecisionTreeClassifier()"
      ],
      "execution_count": 10,
      "outputs": []
    },
    {
      "cell_type": "code",
      "metadata": {
        "id": "neiuwNGF7OmA",
        "colab_type": "code",
        "colab": {
          "base_uri": "https://localhost:8080/",
          "height": 127
        },
        "outputId": "43ebdffd-e39d-405c-fe07-6c4a2d56488f"
      },
      "source": [
        "# Train both the models on training dataset\n",
        "clf1.fit(X_train,y_train)\n",
        "\n",
        "clf2.fit(X_train,y_train)"
      ],
      "execution_count": 11,
      "outputs": [
        {
          "output_type": "execute_result",
          "data": {
            "text/plain": [
              "DecisionTreeClassifier(ccp_alpha=0.0, class_weight=None, criterion='gini',\n",
              "                       max_depth=None, max_features=None, max_leaf_nodes=None,\n",
              "                       min_impurity_decrease=0.0, min_impurity_split=None,\n",
              "                       min_samples_leaf=1, min_samples_split=2,\n",
              "                       min_weight_fraction_leaf=0.0, presort='deprecated',\n",
              "                       random_state=None, splitter='best')"
            ]
          },
          "metadata": {
            "tags": []
          },
          "execution_count": 11
        }
      ]
    },
    {
      "cell_type": "code",
      "metadata": {
        "id": "w8FPlfA87OmE",
        "colab_type": "code",
        "colab": {}
      },
      "source": [
        "# Predict on testing data\n",
        "y_pred_lr = clf1.predict(X_test)\n",
        "y_pred_dt = clf2.predict(X_test)"
      ],
      "execution_count": 12,
      "outputs": []
    },
    {
      "cell_type": "markdown",
      "metadata": {
        "id": "hm-nCJ5e7OmJ",
        "colab_type": "text"
      },
      "source": [
        "### Primary building blocks of classification metrics\n",
        "\n",
        "A __TRUE POSITIVE (TP)__ is an outcome where the model correctly predicts the positive class.\n",
        "\n",
        "A __TRUE NEGATIVE (TN)__ is an outcome where the model correctly predicts the negative class.\n",
        "\n",
        "A __FALSE POSITIVE (FP)__ is an outcome where the model incorrectly predicts the positive class.\n",
        "\n",
        "a __FALSE NEGATIVE (FN)__ is an outcome where the model incorrectly predicts the negative class."
      ]
    },
    {
      "cell_type": "code",
      "metadata": {
        "id": "_ONNi__CS0CP",
        "colab_type": "code",
        "colab": {
          "base_uri": "https://localhost:8080/",
          "height": 54
        },
        "outputId": "cd8f19a8-3d9d-4ac0-f7ed-48f9a50ee7dc"
      },
      "source": [
        "lr_confusion_matrix=confusion_matrix(y_test,y_pred_lr)\n",
        "print(lr_confusion_matrix)"
      ],
      "execution_count": 13,
      "outputs": [
        {
          "output_type": "stream",
          "text": [
            "[[729  11]\n",
            " [ 18   3]]\n"
          ],
          "name": "stdout"
        }
      ]
    },
    {
      "cell_type": "code",
      "metadata": {
        "id": "nRg4Qepo7OmL",
        "colab_type": "code",
        "colab": {}
      },
      "source": [
        "# Compute primary metrics for logisitc regression\n",
        "# NOTE: All metrics are to be calculated on test dataset\n",
        "# True Positive\n",
        "lr_true_positive = lr_confusion_matrix[1,1]\n",
        "# True Negative\n",
        "lr_true_negative = lr_confusion_matrix[0,0]\n",
        "# False Positive\n",
        "lr_false_positive = lr_confusion_matrix[0,1]\n",
        "# False Negative\n",
        "lr_false_negative = lr_confusion_matrix[1,0]"
      ],
      "execution_count": 14,
      "outputs": []
    },
    {
      "cell_type": "code",
      "metadata": {
        "id": "RA2rmciydp5y",
        "colab_type": "code",
        "colab": {
          "base_uri": "https://localhost:8080/",
          "height": 54
        },
        "outputId": "da5a3f80-982b-4919-8d79-ef54e0b700c6"
      },
      "source": [
        "dt_confusion_matrix=confusion_matrix(y_test,y_pred_dt)\n",
        "print(dt_confusion_matrix)"
      ],
      "execution_count": 15,
      "outputs": [
        {
          "output_type": "stream",
          "text": [
            "[[712  28]\n",
            " [ 17   4]]\n"
          ],
          "name": "stdout"
        }
      ]
    },
    {
      "cell_type": "code",
      "metadata": {
        "id": "awlgUsEk7OmP",
        "colab_type": "code",
        "colab": {}
      },
      "source": [
        "# Compute primary metrics for decision tree\n",
        "# True Positive\n",
        "dt_true_positive = dt_confusion_matrix[1,1]\n",
        "# True Negative\n",
        "dt_true_negative = dt_confusion_matrix[0,0]\n",
        "# False Positive\n",
        "dt_false_positive = dt_confusion_matrix[0,1]\n",
        "# False Negative\n",
        "dt_false_negative = dt_confusion_matrix[1,0]"
      ],
      "execution_count": 16,
      "outputs": []
    },
    {
      "cell_type": "markdown",
      "metadata": {
        "id": "IvqChcMq7OmT",
        "colab_type": "text"
      },
      "source": [
        "### Confusion matrix\n",
        "A confusion matrix is visualization technique to summarize the basic performance of a classification algorithm.\n",
        "\n",
        "![Confusion matrix](https://static.packt-cdn.com/products/9781838555078/graphics/C13314_06_05.jpg \"Confusion matric diagram\")"
      ]
    },
    {
      "cell_type": "code",
      "metadata": {
        "id": "zjUjqxpU7OmU",
        "colab_type": "code",
        "colab": {
          "base_uri": "https://localhost:8080/",
          "height": 499
        },
        "outputId": "57feaa3a-2fb2-4ee9-fd03-a453f84f4b46"
      },
      "source": [
        "# Plot confusion matrix, DO NOT EDIT THE CELL\n",
        "fig, axes = plt.subplots(nrows=1, ncols=2, figsize=(25,8))\n",
        "\n",
        "plt.title(\"Confusion matrix for logistic regression\")\n",
        "sns.heatmap(np.array([[lr_true_negative, lr_false_positive],[lr_false_negative, lr_true_positive]]), annot=True, cmap=plt.cm.Blues, fmt='g', ax=axes[0])\n",
        "plt.title(\"Confusion matrix for decision tree\")\n",
        "sns.heatmap(np.array([[dt_true_negative, dt_false_positive],[dt_false_negative, dt_true_positive]]), annot=True, cmap=plt.cm.Blues, fmt='g', ax=axes[1])\n",
        "\n",
        "plt.show()"
      ],
      "execution_count": 17,
      "outputs": [
        {
          "output_type": "display_data",
          "data": {
            "image/png": "[encoded data removed]",
            "text/plain": [
              "<Figure size 1800x576 with 4 Axes>"
            ]
          },
          "metadata": {
            "tags": [],
            "needs_background": "light"
          }
        }
      ]
    },
    {
      "cell_type": "markdown",
      "metadata": {
        "id": "njjI0xUK7OmZ",
        "colab_type": "text"
      },
      "source": [
        "### Accuracy \n",
        "Classification accuracy is simply the rate of correct classifications\n",
        "$$Accuracy = \\frac{Number \\, of \\, correct \\, predictions}{Total \\, number \\, of \\, predictions}$$\n",
        "<br>\n",
        "$$Accuracy = \\frac{TP + TN}{TP + TN + FP + FN}$$"
      ]
    },
    {
      "cell_type": "code",
      "metadata": {
        "id": "SvvTWQHU7OmZ",
        "colab_type": "code",
        "colab": {}
      },
      "source": [
        "# Classification accuracy for logistic regression\n",
        "lr_accuracy = (lr_true_positive+lr_true_negative)/(lr_true_positive + lr_true_negative + lr_false_positive + lr_false_negative)\n",
        "# Classification accuracy for decision tree\n",
        "dt_accuracy = (dt_true_positive + dt_true_negative) / (dt_true_positive + dt_true_negative + dt_false_positive + dt_false_negative)"
      ],
      "execution_count": 18,
      "outputs": []
    },
    {
      "cell_type": "code",
      "metadata": {
        "id": "swep8XGX7Omd",
        "colab_type": "code",
        "colab": {
          "base_uri": "https://localhost:8080/",
          "height": 54
        },
        "outputId": "6d0c76eb-612f-44b0-dd6f-19b4f59a8689"
      },
      "source": [
        "print(\"Classificaton accuracy: LR = \" , lr_accuracy)\n",
        "print(\"Classificaton accuracy: DT = \" , dt_accuracy)"
      ],
      "execution_count": 19,
      "outputs": [
        {
          "output_type": "stream",
          "text": [
            "Classificaton accuracy: LR =  0.961892247043364\n",
            "Classificaton accuracy: DT =  0.9408672798948752\n"
          ],
          "name": "stdout"
        }
      ]
    },
    {
      "cell_type": "markdown",
      "metadata": {
        "id": "HCpSUVJm7Omg",
        "colab_type": "text"
      },
      "source": [
        "### Precision\n",
        "What proportion of positive identifications was actually correct?\n",
        "$$Precision = \\frac{TP}{TP+FP}$$"
      ]
    },
    {
      "cell_type": "code",
      "metadata": {
        "id": "ORBO9r8P7Omg",
        "colab_type": "code",
        "colab": {}
      },
      "source": [
        "# Precision for logistic regression\n",
        "try:\n",
        "    lr_precision = lr_true_positive / (lr_true_positive + lr_false_positive)\n",
        "except:\n",
        "    lr_precision = 0\n",
        "    print(\"If you see this message, it means that the\\ndenominator of precision for logistic regression turned out to be 0 \")\n",
        "# Precision for decision tree\n",
        "try:\n",
        "    dt_precision = dt_true_positive / (dt_true_positive + dt_false_positive)\n",
        "except:\n",
        "    dt_precision = 0\n",
        "    print(\"If you see this message, it means that the\\ndenominator of precision for decision tree turned out to be 0 \")"
      ],
      "execution_count": 20,
      "outputs": []
    },
    {
      "cell_type": "code",
      "metadata": {
        "id": "NEbn8x9r7Oml",
        "colab_type": "code",
        "colab": {
          "base_uri": "https://localhost:8080/",
          "height": 54
        },
        "outputId": "aabc5b9a-569b-4647-a7d7-9fbaf14476fb"
      },
      "source": [
        "print(\"Precision: LR = \" , lr_precision)\n",
        "print(\"Precision: DT = \" , dt_precision)"
      ],
      "execution_count": 21,
      "outputs": [
        {
          "output_type": "stream",
          "text": [
            "Precision: LR =  0.21428571428571427\n",
            "Precision: DT =  0.125\n"
          ],
          "name": "stdout"
        }
      ]
    },
    {
      "cell_type": "markdown",
      "metadata": {
        "id": "Jo6fdHVd7Omo",
        "colab_type": "text"
      },
      "source": [
        "### Recall\n",
        "What proportion of actual positives was identified correctly?\n",
        "$$Recall = \\frac{TP}{TP+FN}$$"
      ]
    },
    {
      "cell_type": "code",
      "metadata": {
        "id": "Zt0xZV5g7Omp",
        "colab_type": "code",
        "colab": {}
      },
      "source": [
        "# Recall for logistic regression\n",
        "try:\n",
        "    lr_recall = lr_true_positive / (lr_true_positive + lr_false_negative)\n",
        "except:\n",
        "    lr_recall = 0\n",
        "    print(\"If you see this message, it means that the\\ndenominator of recall for logistic regression turned out to be 0 \")\n",
        "# Recall for decision tree\n",
        "try:\n",
        "    dt_recall = dt_true_positive / (dt_true_positive + dt_false_negative)\n",
        "except:\n",
        "    dt_recall = 0\n",
        "    print(\"If you see this message, it means that the\\ndenominator of recall for decision tree turned out to be 0 \")"
      ],
      "execution_count": 22,
      "outputs": []
    },
    {
      "cell_type": "code",
      "metadata": {
        "id": "44b27lXl7Omt",
        "colab_type": "code",
        "colab": {
          "base_uri": "https://localhost:8080/",
          "height": 54
        },
        "outputId": "a1ac2dc5-9f7c-4acf-ec7a-328c1638e61c"
      },
      "source": [
        "print(\"Recall: LR = \" , lr_recall)\n",
        "print(\"Recall: DT = \" , dt_recall)"
      ],
      "execution_count": 23,
      "outputs": [
        {
          "output_type": "stream",
          "text": [
            "Recall: LR =  0.14285714285714285\n",
            "Recall: DT =  0.19047619047619047\n"
          ],
          "name": "stdout"
        }
      ]
    },
    {
      "cell_type": "markdown",
      "metadata": {
        "id": "RCTD8YGO7Omz",
        "colab_type": "text"
      },
      "source": [
        "### F1 score\n",
        "The F1 score can be interpreted as a weighted average of the precision and recall, where an F1 score reaches its best value at 1 and worst score at 0. The relative contribution of precision and recall to the F1 score are equal.\n",
        "$$ F1 \\, score = \\frac{2* Precision * Recall}{Precision + Recall}$$"
      ]
    },
    {
      "cell_type": "code",
      "metadata": {
        "id": "aHTKTfIu7Omz",
        "colab_type": "code",
        "colab": {}
      },
      "source": [
        "# F1 score for logistic regression\n",
        "lr_f1_score = (2 * lr_precision * lr_recall) / (lr_precision + lr_recall)\n",
        "# F1 score for decision tree\n",
        "dt_f1_score = (2 * dt_precision * dt_recall) / (dt_precision + dt_recall)"
      ],
      "execution_count": 24,
      "outputs": []
    },
    {
      "cell_type": "code",
      "metadata": {
        "id": "9NEYKNFQ7Om2",
        "colab_type": "code",
        "colab": {
          "base_uri": "https://localhost:8080/",
          "height": 54
        },
        "outputId": "0e189da9-133d-4fdf-c6f1-25b88f03ce78"
      },
      "source": [
        "print(\"F1 score: LR = \" , lr_f1_score)\n",
        "print(\"F1 score: DT = \" , dt_f1_score)"
      ],
      "execution_count": null,
      "outputs": [
        {
          "output_type": "stream",
          "text": [
            "F1 score: LR =  0.17142857142857143\n",
            "F1 score: DT =  0.11764705882352941\n"
          ],
          "name": "stdout"
        }
      ]
    },
    {
      "cell_type": "markdown",
      "metadata": {
        "id": "EidDR_Q-7Om6",
        "colab_type": "text"
      },
      "source": [
        "### Area Under ROC Curve\n",
        "A ROC Curve is a plot of the true positive rate and the false positive rate for a given set of probability predictions at different thresholds used to map the probabilities to class labels. The area under the curve is then the approximate integral under the ROC Curve."
      ]
    },
    {
      "cell_type": "code",
      "metadata": {
        "id": "kMs6eZiBx3CV",
        "colab_type": "code",
        "colab": {}
      },
      "source": [
        "def my_roc_curve(X,y,model,thresholds=None):\n",
        "  tprs=[]\n",
        "  fprs=[]\n",
        "  if thresholds is None:\n",
        "    n=1000\n",
        "    thresholds = [i/n for i in range(0,n+1)]\n",
        "    for threshold in thresholds:\n",
        "      y_pred = pd.DataFrame(model.predict_proba(X)[:,1]).applymap(lambda x: 1 if x>=threshold else 0).values.reshape(-1,)\n",
        "      tp=np.sum((y_pred == 1) & (y == 1))\n",
        "      tn=np.sum((y_pred == 0) & (y == 0))\n",
        "      fn=np.sum((y_pred == 0) & (y == 1))\n",
        "      fp=np.sum((y_pred == 1) & (y == 0))\n",
        "      tpr = tp / (tp+fn)\n",
        "      fpr = fp / (fp+tn)\n",
        "      tprs.append(tpr)\n",
        "      fprs.append(fpr)\n",
        "\n",
        "    tprs.append(0)\n",
        "    fprs.append(0)\n",
        "    thresholds.append(0)\n",
        "    return np.array(tprs), np.array(fprs), np.array(threshold)"
      ],
      "execution_count": 30,
      "outputs": []
    },
    {
      "cell_type": "code",
      "metadata": {
        "id": "zVnN2mQ5zdub",
        "colab_type": "code",
        "colab": {}
      },
      "source": [
        "tprs,fprs, _ = my_roc_curve(X_test,y_test,clf1)"
      ],
      "execution_count": 34,
      "outputs": []
    },
    {
      "cell_type": "code",
      "metadata": {
        "id": "f4nHL-L5263b",
        "colab_type": "code",
        "colab": {
          "base_uri": "https://localhost:8080/",
          "height": 283
        },
        "outputId": "29f897cf-d7e0-4892-c9cb-8d0e964d53f7"
      },
      "source": [
        "plt.plot(fprs,tprs)"
      ],
      "execution_count": 35,
      "outputs": [
        {
          "output_type": "execute_result",
          "data": {
            "text/plain": [
              "[<matplotlib.lines.Line2D at 0x7fd0b9de9898>]"
            ]
          },
          "metadata": {
            "tags": []
          },
          "execution_count": 35
        },
        {
          "output_type": "display_data",
          "data": {
            "image/png": "[encoded data removed]",
            "text/plain": [
              "<Figure size 432x288 with 1 Axes>"
            ]
          },
          "metadata": {
            "tags": [],
            "needs_background": "light"
          }
        }
      ]
    },
    {
      "cell_type": "code",
      "metadata": {
        "id": "pRtJzM8e3Xz9",
        "colab_type": "code",
        "colab": {}
      },
      "source": [
        "tpr, fpr, _ = my_roc_curve(X_test,y_test,clf2)"
      ],
      "execution_count": 40,
      "outputs": []
    },
    {
      "cell_type": "code",
      "metadata": {
        "id": "hMK9eltM3hmF",
        "colab_type": "code",
        "colab": {
          "base_uri": "https://localhost:8080/",
          "height": 283
        },
        "outputId": "8fb4eb4d-f2e7-4580-ff86-49cdc2f8fcf6"
      },
      "source": [
        "plt.plot(fpr,tpr)"
      ],
      "execution_count": 41,
      "outputs": [
        {
          "output_type": "execute_result",
          "data": {
            "text/plain": [
              "[<matplotlib.lines.Line2D at 0x7fd0b9c8fbe0>]"
            ]
          },
          "metadata": {
            "tags": []
          },
          "execution_count": 41
        },
        {
          "output_type": "display_data",
          "data": {
            "image/png": "[encoded data removed]",
            "text/plain": [
              "<Figure size 432x288 with 1 Axes>"
            ]
          },
          "metadata": {
            "tags": [],
            "needs_background": "light"
          }
        }
      ]
    },
    {
      "cell_type": "code",
      "metadata": {
        "id": "n5QvRPh47Om7",
        "colab_type": "code",
        "colab": {}
      },
      "source": [
        ""
      ],
      "execution_count": null,
      "outputs": []
    },
    {
      "cell_type": "code",
      "metadata": {
        "id": "BZHZ-jVD7Om9",
        "colab_type": "code",
        "colab": {}
      },
      "source": [
        ""
      ],
      "execution_count": null,
      "outputs": []
    },
    {
      "cell_type": "code",
      "metadata": {
        "id": "1mt_Azgd7OnB",
        "colab_type": "code",
        "colab": {}
      },
      "source": [
        ""
      ],
      "execution_count": null,
      "outputs": []
    }
  ]
}