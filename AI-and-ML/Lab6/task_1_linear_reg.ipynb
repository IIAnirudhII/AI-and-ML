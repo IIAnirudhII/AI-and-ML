{
  "nbformat": 4,
  "nbformat_minor": 0,
  "metadata": {
    "colab": {
      "name": "task1_LinearRegression.ipynb",
      "provenance": [],
      "collapsed_sections": []
    },
    "kernelspec": {
      "display_name": "Python 3",
      "language": "python",
      "name": "python3"
    },
    "language_info": {
      "codemirror_mode": {
        "name": "ipython",
        "version": 3
      },
      "file_extension": ".py",
      "mimetype": "text/x-python",
      "name": "python",
      "nbconvert_exporter": "python",
      "pygments_lexer": "ipython3",
      "version": "3.7.4"
    }
  },
  "cells": [
    {
      "cell_type": "markdown",
      "metadata": {
        "colab_type": "text",
        "id": "3tWQnVjqfFwv"
      },
      "source": [
        "## Data Leakage, L1(Lasso) and L2 (Ridge) regularization using Linear Regression\n",
        "\n",
        "We will use cross validation, lasso and ridge regression in this lab.\n",
        "\n",
        "Specifically speaking, <br>\n",
        "Regularization basically adds the penalty as model complexity increases.<br>\n",
        "Cross validation is used to evaluate how well our model can generalize on the dataset. <br>\n",
        "\n",
        "We will be using r2 score in this lab. It provides an indication of goodness of fit and therefore a measure of how well unseen samples are likely to be predicted by the model.\n",
        "\n",
        "\n",
        "In this task, we will explore the following things on linear regression model:\n",
        "- Cross Validation\n",
        "- L1 regularization (Lasso regression)\n",
        "- L2 regularization (Ridge regression)\n",
        "\n",
        "\n",
        "#### Dataset\n",
        "The dataset is available at \"data/bike.csv\" in the respective challenge's repo.<br>\n",
        "\n",
        "The dataset is __modified version__ of the dataset 'bike.csv' provided by UCI Machine Learning repository.\n",
        "\n",
        "Original dataset: https://archive.ics.uci.edu/ml/datasets/bike+sharing+dataset\n",
        "\n",
        "#### Objective\n",
        "To learn about how cross validation, L1 regularization and L2 regularization work.\n",
        "\n",
        "#### Tasks\n",
        "- load the dataset.\n",
        "- perform pre-processing on the data.\n",
        "- remove registered feature and keep the casual feature to understand data leakage.\n",
        "- construct train and test dataset.\n",
        "- create a linear regression model.\n",
        "- check the r2 score of the initial linear regression model on train and test dataset\n",
        "- observe distribution of weights in the initial linear regression model. \n",
        "- split the dataset into k consecutive folds.\n",
        "- calculate cross validation score for the k fold and check how well our model can generalize on the training dataset.\n",
        "- checking the variance threshold of dataset and remove features with low variance.\n",
        "- apply L1 regularization on the dataset and check the r2_score.\n",
        "- visualize the distribution of weights on the lasso regression model.\n",
        "- apply L2 regularization on the dataset and check the r2_score.\n",
        "- visualize the distribution of weights on the ridge regression model. \n",
        "\n",
        "#### Further fun\n",
        "- apply RFE on the dataset to automatically remove uneccessary features which would prevent overfitting.\n",
        "- don't remove casual and registered features and check the effect of data leakage on the model\n",
        "- implement lasso and ridge regression without using inbuilt librarires.\n",
        "- apply elastic net to visualize the effect of both ridge and lasso regression.\n",
        "\n",
        "\n",
        "#### Helpful links\n",
        "- Cross validation : https://machinelearningmastery.com/k-fold-cross-validation/#:~:text=Cross%2Dvalidation%20is%20a%20resampling,k%2Dfold%20cross%2Dvalidation.\n",
        "- Cross validation: https://scikit-learn.org/stable/modules/cross_validation.html\n",
        "- L1 and L2 regularization : https://towardsdatascience.com/ridge-and-lasso-regression-a-complete-guide-with-python-scikit-learn-e20e34bcbf0b\n",
        "- L1 and L2 regularization : https://www.youtube.com/watch?v=9lRv01HDU0s&list=PLZoTAELRMXVPBTrWtJkn3wWQxZkmTXGwe&index=30&t=904s\n",
        "- r2_score: https://scikit-learn.org/stable/modules/generated/sklearn.metrics.r2_score.html#sklearn.metrics.r2_score\n",
        "- pd.get_dummies() and One Hot Encoding: https://queirozf.com/entries/one-hot-encoding-a-feature-on-a-pandas-dataframe-an-example\n",
        "- Data Leakage : \"https://machinelearningmastery.com/data-leakage-machine-learning/\n",
        "- sklearn k-fold : https://scikit-learn.org/stable/modules/generated/sklearn.model_selection.KFold.html\n",
        "- sklearn cross_val_score : https://scikit-learn.org/stable/modules/generated/sklearn.model_selection.cross_val_score.html?highlight=cross_val_score#sklearn.model_selection.cross_val_score\n",
        "- sklearn lasso regression : https://scikit-learn.org/stable/modules/generated/sklearn.linear_model.Lasso.html?highlight=lasso#sklearn.linear_model.Lasso\n",
        "- sklearn ridge regression : https://scikit-learn.org/stable/modules/generated/sklearn.linear_model.Ridge.html?highlight=ridge#sklearn.linear_model.Ridge\n",
        "- RFE : https://machinelearningmastery.com/rfe-feature-selection-in-python/\n",
        "- RFE sklearn : https://scikit-learn.org/stable/modules/generated/sklearn.feature_selection.RFE.html\n",
        "- Use slack for doubts: "
      ]
    },
    {
      "cell_type": "code",
      "metadata": {
        "colab_type": "code",
        "id": "mRl7KPgwjRHI",
        "colab": {}
      },
      "source": [
        "#import the necessary libraries\n",
        "import pandas as pd\n",
        "import numpy as np\n",
        "import matplotlib.pyplot as plt\n",
        "\n",
        "# Sklearn processing\n",
        "from sklearn.preprocessing import MinMaxScaler\n",
        "from sklearn.model_selection import train_test_split\n",
        "from sklearn.model_selection import KFold\n",
        "from sklearn.model_selection import cross_val_score\n",
        "\n",
        "# Sklearn linear regression model\n",
        "from sklearn.linear_model import LinearRegression\n",
        "\n",
        "# Sklearn regression model evaluation functions\n",
        "from sklearn.metrics import r2_score\n",
        "\n",
        "# Perform feature selection using a variance threshold\n",
        "from sklearn.feature_selection import VarianceThreshold\n",
        "\n",
        "# Feature selection using Recursive Feature Elimimation\n",
        "from sklearn.feature_selection import RFE"
      ],
      "execution_count": 117,
      "outputs": []
    },
    {
      "cell_type": "code",
      "metadata": {
        "id": "DSB3zWDlLJ-1",
        "colab_type": "code",
        "colab": {
          "base_uri": "https://localhost:8080/",
          "height": 219
        },
        "outputId": "36f5d5a4-d9e0-49c9-f00a-1aa01702440b"
      },
      "source": [
        "!wget \"https://raw.githubusercontent.com/DeepConnectAI/challenge-week-6/master/data/bike.csv\""
      ],
      "execution_count": 118,
      "outputs": [
        {
          "output_type": "stream",
          "text": [
            "--2020-09-20 16:09:36--  https://raw.githubusercontent.com/DeepConnectAI/challenge-week-6/master/data/bike.csv\n",
            "Resolving raw.githubusercontent.com (raw.githubusercontent.com)... 151.101.0.133, 151.101.64.133, 151.101.128.133, ...\n",
            "Connecting to raw.githubusercontent.com (raw.githubusercontent.com)|151.101.0.133|:443... connected.\n",
            "HTTP request sent, awaiting response... 200 OK\n",
            "Length: 31376 (31K) [text/plain]\n",
            "Saving to: ‘bike.csv.3’\n",
            "\n",
            "\rbike.csv.3            0%[                    ]       0  --.-KB/s               \rbike.csv.3          100%[===================>]  30.64K  --.-KB/s    in 0.004s  \n",
            "\n",
            "2020-09-20 16:09:37 (8.22 MB/s) - ‘bike.csv.3’ saved [31376/31376]\n",
            "\n"
          ],
          "name": "stdout"
        }
      ]
    },
    {
      "cell_type": "code",
      "metadata": {
        "colab_type": "code",
        "id": "Vq1jiQz-kIpA",
        "colab": {
          "base_uri": "https://localhost:8080/",
          "height": 226
        },
        "outputId": "6621a2e7-0f04-48e3-8482-887203a011e8"
      },
      "source": [
        "#load the data and inspect the first 5 rows\n",
        "data = pd.read_csv(\"bike.csv\")\n",
        "data.head()"
      ],
      "execution_count": 119,
      "outputs": [
        {
          "output_type": "execute_result",
          "data": {
            "text/html": [
              "<div>\n",
              "<style scoped>\n",
              "    .dataframe tbody tr th:only-of-type {\n",
              "        vertical-align: middle;\n",
              "    }\n",
              "\n",
              "    .dataframe tbody tr th {\n",
              "        vertical-align: top;\n",
              "    }\n",
              "\n",
              "    .dataframe thead th {\n",
              "        text-align: right;\n",
              "    }\n",
              "</style>\n",
              "<table border=\"1\" class=\"dataframe\">\n",
              "  <thead>\n",
              "    <tr style=\"text-align: right;\">\n",
              "      <th></th>\n",
              "      <th>id</th>\n",
              "      <th>season</th>\n",
              "      <th>year</th>\n",
              "      <th>holiday</th>\n",
              "      <th>weekday</th>\n",
              "      <th>workingday</th>\n",
              "      <th>weather</th>\n",
              "      <th>temp</th>\n",
              "      <th>feel_temp</th>\n",
              "      <th>hum</th>\n",
              "      <th>windspeed</th>\n",
              "      <th>promotion_level</th>\n",
              "      <th>promotion_type</th>\n",
              "      <th>promotion_level_external</th>\n",
              "      <th>promotion_type_external</th>\n",
              "      <th>casual</th>\n",
              "      <th>registered</th>\n",
              "      <th>cnt</th>\n",
              "    </tr>\n",
              "  </thead>\n",
              "  <tbody>\n",
              "    <tr>\n",
              "      <th>0</th>\n",
              "      <td>12765</td>\n",
              "      <td>winter</td>\n",
              "      <td>2016</td>\n",
              "      <td>0</td>\n",
              "      <td>6</td>\n",
              "      <td>0</td>\n",
              "      <td>cloud</td>\n",
              "      <td>0.344167</td>\n",
              "      <td>0.363625</td>\n",
              "      <td>0.805833</td>\n",
              "      <td>0.160446</td>\n",
              "      <td>7</td>\n",
              "      <td>1</td>\n",
              "      <td>2</td>\n",
              "      <td>2</td>\n",
              "      <td>226</td>\n",
              "      <td>654</td>\n",
              "      <td>880</td>\n",
              "    </tr>\n",
              "    <tr>\n",
              "      <th>1</th>\n",
              "      <td>12766</td>\n",
              "      <td>winter</td>\n",
              "      <td>2016</td>\n",
              "      <td>0</td>\n",
              "      <td>0</td>\n",
              "      <td>0</td>\n",
              "      <td>cloud</td>\n",
              "      <td>0.363478</td>\n",
              "      <td>0.353739</td>\n",
              "      <td>0.696087</td>\n",
              "      <td>0.248539</td>\n",
              "      <td>8</td>\n",
              "      <td>1</td>\n",
              "      <td>8</td>\n",
              "      <td>1</td>\n",
              "      <td>125</td>\n",
              "      <td>670</td>\n",
              "      <td>795</td>\n",
              "    </tr>\n",
              "    <tr>\n",
              "      <th>2</th>\n",
              "      <td>12767</td>\n",
              "      <td>winter</td>\n",
              "      <td>2016</td>\n",
              "      <td>0</td>\n",
              "      <td>1</td>\n",
              "      <td>1</td>\n",
              "      <td>fair</td>\n",
              "      <td>0.196364</td>\n",
              "      <td>0.189405</td>\n",
              "      <td>0.437273</td>\n",
              "      <td>0.248309</td>\n",
              "      <td>3</td>\n",
              "      <td>1</td>\n",
              "      <td>10</td>\n",
              "      <td>2</td>\n",
              "      <td>75</td>\n",
              "      <td>1229</td>\n",
              "      <td>1304</td>\n",
              "    </tr>\n",
              "    <tr>\n",
              "      <th>3</th>\n",
              "      <td>12768</td>\n",
              "      <td>winter</td>\n",
              "      <td>2016</td>\n",
              "      <td>0</td>\n",
              "      <td>2</td>\n",
              "      <td>1</td>\n",
              "      <td>fair</td>\n",
              "      <td>0.200000</td>\n",
              "      <td>0.212122</td>\n",
              "      <td>0.590435</td>\n",
              "      <td>0.160296</td>\n",
              "      <td>0</td>\n",
              "      <td>1</td>\n",
              "      <td>8</td>\n",
              "      <td>3</td>\n",
              "      <td>67</td>\n",
              "      <td>1454</td>\n",
              "      <td>1521</td>\n",
              "    </tr>\n",
              "    <tr>\n",
              "      <th>4</th>\n",
              "      <td>12769</td>\n",
              "      <td>winter</td>\n",
              "      <td>2016</td>\n",
              "      <td>0</td>\n",
              "      <td>3</td>\n",
              "      <td>1</td>\n",
              "      <td>fair</td>\n",
              "      <td>0.226957</td>\n",
              "      <td>0.229270</td>\n",
              "      <td>0.436957</td>\n",
              "      <td>0.186900</td>\n",
              "      <td>2</td>\n",
              "      <td>0</td>\n",
              "      <td>5</td>\n",
              "      <td>1</td>\n",
              "      <td>58</td>\n",
              "      <td>1518</td>\n",
              "      <td>1576</td>\n",
              "    </tr>\n",
              "  </tbody>\n",
              "</table>\n",
              "</div>"
            ],
            "text/plain": [
              "      id  season  year  ...  casual  registered   cnt\n",
              "0  12765  winter  2016  ...     226         654   880\n",
              "1  12766  winter  2016  ...     125         670   795\n",
              "2  12767  winter  2016  ...      75        1229  1304\n",
              "3  12768  winter  2016  ...      67        1454  1521\n",
              "4  12769  winter  2016  ...      58        1518  1576\n",
              "\n",
              "[5 rows x 18 columns]"
            ]
          },
          "metadata": {
            "tags": []
          },
          "execution_count": 119
        }
      ]
    },
    {
      "cell_type": "code",
      "metadata": {
        "colab_type": "code",
        "id": "pw5T1NvekL65",
        "colab": {
          "base_uri": "https://localhost:8080/",
          "height": 366
        },
        "outputId": "8a5008e0-501f-4b21-bff4-1d6a639c6813"
      },
      "source": [
        "# print the data types of each feature name\n",
        "data.dtypes"
      ],
      "execution_count": 120,
      "outputs": [
        {
          "output_type": "execute_result",
          "data": {
            "text/plain": [
              "id                            int64\n",
              "season                       object\n",
              "year                          int64\n",
              "holiday                       int64\n",
              "weekday                       int64\n",
              "workingday                    int64\n",
              "weather                      object\n",
              "temp                        float64\n",
              "feel_temp                   float64\n",
              "hum                         float64\n",
              "windspeed                   float64\n",
              "promotion_level               int64\n",
              "promotion_type                int64\n",
              "promotion_level_external      int64\n",
              "promotion_type_external       int64\n",
              "casual                        int64\n",
              "registered                    int64\n",
              "cnt                           int64\n",
              "dtype: object"
            ]
          },
          "metadata": {
            "tags": []
          },
          "execution_count": 120
        }
      ]
    },
    {
      "cell_type": "code",
      "metadata": {
        "colab_type": "code",
        "id": "RE0sjCi4kREL",
        "colab": {
          "base_uri": "https://localhost:8080/",
          "height": 366
        },
        "outputId": "3ffb7095-b069-4d20-c14e-060f8dd04da9"
      },
      "source": [
        "# check for null values in each column\n",
        "data.isnull().any()"
      ],
      "execution_count": 121,
      "outputs": [
        {
          "output_type": "execute_result",
          "data": {
            "text/plain": [
              "id                          False\n",
              "season                      False\n",
              "year                        False\n",
              "holiday                     False\n",
              "weekday                     False\n",
              "workingday                  False\n",
              "weather                     False\n",
              "temp                        False\n",
              "feel_temp                   False\n",
              "hum                         False\n",
              "windspeed                   False\n",
              "promotion_level             False\n",
              "promotion_type              False\n",
              "promotion_level_external    False\n",
              "promotion_type_external     False\n",
              "casual                      False\n",
              "registered                  False\n",
              "cnt                         False\n",
              "dtype: bool"
            ]
          },
          "metadata": {
            "tags": []
          },
          "execution_count": 121
        }
      ]
    },
    {
      "cell_type": "code",
      "metadata": {
        "colab_type": "code",
        "id": "jWJz8TAgketK",
        "colab": {
          "base_uri": "https://localhost:8080/",
          "height": 90
        },
        "outputId": "05e83147-3a81-44f9-c49e-02742eb1bd2a"
      },
      "source": [
        "# print out the unique values of the features ['season', 'year', 'weather', 'promotion_type']\n",
        "print(\"season : \", data['season'].unique())\n",
        "print(\"year : \", data['year'].unique())\n",
        "print(\"weather : \", data['weather'].unique())\n",
        "print(\"promotion_type : \", data['promotion_type'].unique())"
      ],
      "execution_count": 122,
      "outputs": [
        {
          "output_type": "stream",
          "text": [
            "season :  ['winter' 'spring' 'summer' 'autumn']\n",
            "year :  [2016]\n",
            "weather :  ['cloud' 'fair' 'rain']\n",
            "promotion_type :  [1 0]\n"
          ],
          "name": "stdout"
        }
      ]
    },
    {
      "cell_type": "code",
      "metadata": {
        "colab_type": "code",
        "id": "1nkDe68NkyZ2",
        "colab": {
          "base_uri": "https://localhost:8080/",
          "height": 403
        },
        "outputId": "d65a4c17-ac21-46cf-af64-ba43ca3f5ddf"
      },
      "source": [
        "# print out the value counts (frequency of occurence) of the unique values in these features ['season', 'year', 'weather', 'promotion_type']\n",
        "print(\"season : \\n\",data['season'].value_counts())\n",
        "print(\"\\nyear : \\n\",data['year'].value_counts())\n",
        "print(\"\\nweather : \\n\",data['weather'].value_counts())\n",
        "print(\"\\npromotion_type : \\n\",data['promotion_type'].value_counts())"
      ],
      "execution_count": 123,
      "outputs": [
        {
          "output_type": "stream",
          "text": [
            "season : \n",
            " summer    92\n",
            "spring    92\n",
            "autumn    91\n",
            "winter    90\n",
            "Name: season, dtype: int64\n",
            "\n",
            "year : \n",
            " 2016    365\n",
            "Name: year, dtype: int64\n",
            "\n",
            "weather : \n",
            " fair     226\n",
            "cloud    124\n",
            "rain      15\n",
            "Name: weather, dtype: int64\n",
            "\n",
            "promotion_type : \n",
            " 1    183\n",
            "0    182\n",
            "Name: promotion_type, dtype: int64\n"
          ],
          "name": "stdout"
        }
      ]
    },
    {
      "cell_type": "code",
      "metadata": {
        "colab_type": "code",
        "id": "yIsIIQWFmJRK",
        "colab": {
          "base_uri": "https://localhost:8080/",
          "height": 35
        },
        "outputId": "d136943c-00a6-47d8-c0b1-0b86fa9bfd10"
      },
      "source": [
        "# print the shape of data\n",
        "data.shape"
      ],
      "execution_count": 124,
      "outputs": [
        {
          "output_type": "execute_result",
          "data": {
            "text/plain": [
              "(365, 18)"
            ]
          },
          "metadata": {
            "tags": []
          },
          "execution_count": 124
        }
      ]
    },
    {
      "cell_type": "code",
      "metadata": {
        "colab_type": "code",
        "id": "1xXsOHMilNTz",
        "colab": {}
      },
      "source": [
        "# drop the feature 'id' as it has no information to deliver.\n",
        "\n",
        "data = data.drop('id', axis = 1)"
      ],
      "execution_count": 125,
      "outputs": []
    },
    {
      "cell_type": "code",
      "metadata": {
        "colab_type": "code",
        "id": "i4BXZ-_qmNYh",
        "colab": {
          "base_uri": "https://localhost:8080/",
          "height": 35
        },
        "outputId": "9f66c88c-799f-4c2c-f59c-19627e0557e5"
      },
      "source": [
        "# print the shape of data\n",
        "data.shape"
      ],
      "execution_count": 126,
      "outputs": [
        {
          "output_type": "execute_result",
          "data": {
            "text/plain": [
              "(365, 17)"
            ]
          },
          "metadata": {
            "tags": []
          },
          "execution_count": 126
        }
      ]
    },
    {
      "cell_type": "code",
      "metadata": {
        "colab_type": "code",
        "id": "1G-eQ8ULmO3J",
        "colab": {}
      },
      "source": [
        "# one hot encode the categorical columns.\n",
        "cols = ['season' , 'weather']\n",
        "data = pd.get_dummies(data, columns = cols, prefix = cols)"
      ],
      "execution_count": 127,
      "outputs": []
    },
    {
      "cell_type": "code",
      "metadata": {
        "colab_type": "code",
        "id": "qcf6heimmZaQ",
        "colab": {
          "base_uri": "https://localhost:8080/",
          "height": 35
        },
        "outputId": "1fe4793d-e8e9-49a9-98fb-3194c3a4661a"
      },
      "source": [
        "# print the shape of data \n",
        "# notice the increase in the no. of features\n",
        "data.shape"
      ],
      "execution_count": 128,
      "outputs": [
        {
          "output_type": "execute_result",
          "data": {
            "text/plain": [
              "(365, 22)"
            ]
          },
          "metadata": {
            "tags": []
          },
          "execution_count": 128
        }
      ]
    },
    {
      "cell_type": "markdown",
      "metadata": {
        "colab_type": "text",
        "id": "vLOkfanFfWDK"
      },
      "source": [
        "Notice that our target feature \"cnt\" is the sum of the features \"registered\" + \"casual\"<br>\n",
        "\n",
        "To avoid data leakage remove the feature \"casual\" for the training purpose. <br>\n",
        "\n",
        "To understand more about data leakage refer the article mentioned in the uselful links."
      ]
    },
    {
      "cell_type": "code",
      "metadata": {
        "colab_type": "code",
        "id": "vZ2HK7RGmO63",
        "colab": {}
      },
      "source": [
        "# Split the dataset into X and y\n",
        "# While loading data into X drop the columns \"cnt\" and \"casual\". \n",
        "X = data.drop(['cnt','casual'],axis = 1)\n",
        "\n",
        "# notice the target variable is 'cnt'\n",
        "y = data['cnt']"
      ],
      "execution_count": 129,
      "outputs": []
    },
    {
      "cell_type": "code",
      "metadata": {
        "colab_type": "code",
        "id": "y1kT6PpR4F1s",
        "colab": {
          "base_uri": "https://localhost:8080/",
          "height": 55
        },
        "outputId": "7bfe83fc-a6fa-4923-9a1c-a3a2f7757ebf"
      },
      "source": [
        "# store the names of the training features / name of the columns used for training. [Very important step for visualization later.]\n",
        "\n",
        "train_columns = list(X.columns)\n",
        "print(train_columns)"
      ],
      "execution_count": 130,
      "outputs": [
        {
          "output_type": "stream",
          "text": [
            "['year', 'holiday', 'weekday', 'workingday', 'temp', 'feel_temp', 'hum', 'windspeed', 'promotion_level', 'promotion_type', 'promotion_level_external', 'promotion_type_external', 'registered', 'season_autumn', 'season_spring', 'season_summer', 'season_winter', 'weather_cloud', 'weather_fair', 'weather_rain']\n"
          ],
          "name": "stdout"
        }
      ]
    },
    {
      "cell_type": "code",
      "metadata": {
        "colab_type": "code",
        "id": "6blYZrz7mPBG",
        "colab": {}
      },
      "source": [
        "# Apply scaling if our data is spread across wide differences of range values.\n",
        "\n",
        "scaler = MinMaxScaler()\n",
        "X = scaler.fit_transform(X) "
      ],
      "execution_count": 131,
      "outputs": []
    },
    {
      "cell_type": "code",
      "metadata": {
        "colab_type": "code",
        "id": "Feyrb90p3qf8",
        "colab": {
          "base_uri": "https://localhost:8080/",
          "height": 35
        },
        "outputId": "a6cbdbcf-f25c-43ff-899a-0d1c8437514e"
      },
      "source": [
        "# print the type of X\n",
        "type(X)"
      ],
      "execution_count": 132,
      "outputs": [
        {
          "output_type": "execute_result",
          "data": {
            "text/plain": [
              "numpy.ndarray"
            ]
          },
          "metadata": {
            "tags": []
          },
          "execution_count": 132
        }
      ]
    },
    {
      "cell_type": "markdown",
      "metadata": {
        "colab_type": "text",
        "id": "Jtau8HV73t7Y"
      },
      "source": [
        "Note : <br>\n",
        "Type of X should be pandas dataframe.\n",
        "If not then convert X into pandas DataFrame object before proceeding further.\n"
      ]
    },
    {
      "cell_type": "code",
      "metadata": {
        "colab_type": "code",
        "id": "V5II0AWy4AHK",
        "colab": {
          "base_uri": "https://localhost:8080/",
          "height": 226
        },
        "outputId": "103359b2-4f6e-4eb6-bef4-0d6fec73c808"
      },
      "source": [
        "# convert X into pandas Dataframe\n",
        "# in the parameters specify columns = train_columns.\n",
        "\n",
        "X = pd.DataFrame(X, columns = train_columns)\n",
        "X.head()"
      ],
      "execution_count": 133,
      "outputs": [
        {
          "output_type": "execute_result",
          "data": {
            "text/html": [
              "<div>\n",
              "<style scoped>\n",
              "    .dataframe tbody tr th:only-of-type {\n",
              "        vertical-align: middle;\n",
              "    }\n",
              "\n",
              "    .dataframe tbody tr th {\n",
              "        vertical-align: top;\n",
              "    }\n",
              "\n",
              "    .dataframe thead th {\n",
              "        text-align: right;\n",
              "    }\n",
              "</style>\n",
              "<table border=\"1\" class=\"dataframe\">\n",
              "  <thead>\n",
              "    <tr style=\"text-align: right;\">\n",
              "      <th></th>\n",
              "      <th>year</th>\n",
              "      <th>holiday</th>\n",
              "      <th>weekday</th>\n",
              "      <th>workingday</th>\n",
              "      <th>temp</th>\n",
              "      <th>feel_temp</th>\n",
              "      <th>hum</th>\n",
              "      <th>windspeed</th>\n",
              "      <th>promotion_level</th>\n",
              "      <th>promotion_type</th>\n",
              "      <th>promotion_level_external</th>\n",
              "      <th>promotion_type_external</th>\n",
              "      <th>registered</th>\n",
              "      <th>season_autumn</th>\n",
              "      <th>season_spring</th>\n",
              "      <th>season_summer</th>\n",
              "      <th>season_winter</th>\n",
              "      <th>weather_cloud</th>\n",
              "      <th>weather_fair</th>\n",
              "      <th>weather_rain</th>\n",
              "    </tr>\n",
              "  </thead>\n",
              "  <tbody>\n",
              "    <tr>\n",
              "      <th>0</th>\n",
              "      <td>0.0</td>\n",
              "      <td>0.0</td>\n",
              "      <td>1.000000</td>\n",
              "      <td>0.0</td>\n",
              "      <td>0.360789</td>\n",
              "      <td>0.373517</td>\n",
              "      <td>0.828620</td>\n",
              "      <td>0.284606</td>\n",
              "      <td>0.777778</td>\n",
              "      <td>1.0</td>\n",
              "      <td>0.111111</td>\n",
              "      <td>0.666667</td>\n",
              "      <td>0.056694</td>\n",
              "      <td>0.0</td>\n",
              "      <td>0.0</td>\n",
              "      <td>0.0</td>\n",
              "      <td>1.0</td>\n",
              "      <td>1.0</td>\n",
              "      <td>0.0</td>\n",
              "      <td>0.0</td>\n",
              "    </tr>\n",
              "    <tr>\n",
              "      <th>1</th>\n",
              "      <td>0.0</td>\n",
              "      <td>0.0</td>\n",
              "      <td>0.000000</td>\n",
              "      <td>0.0</td>\n",
              "      <td>0.385232</td>\n",
              "      <td>0.360541</td>\n",
              "      <td>0.715771</td>\n",
              "      <td>0.466215</td>\n",
              "      <td>0.888889</td>\n",
              "      <td>1.0</td>\n",
              "      <td>0.777778</td>\n",
              "      <td>0.333333</td>\n",
              "      <td>0.060505</td>\n",
              "      <td>0.0</td>\n",
              "      <td>0.0</td>\n",
              "      <td>0.0</td>\n",
              "      <td>1.0</td>\n",
              "      <td>1.0</td>\n",
              "      <td>0.0</td>\n",
              "      <td>0.0</td>\n",
              "    </tr>\n",
              "    <tr>\n",
              "      <th>2</th>\n",
              "      <td>0.0</td>\n",
              "      <td>0.0</td>\n",
              "      <td>0.166667</td>\n",
              "      <td>1.0</td>\n",
              "      <td>0.173705</td>\n",
              "      <td>0.144830</td>\n",
              "      <td>0.449638</td>\n",
              "      <td>0.465740</td>\n",
              "      <td>0.333333</td>\n",
              "      <td>1.0</td>\n",
              "      <td>1.000000</td>\n",
              "      <td>0.666667</td>\n",
              "      <td>0.193664</td>\n",
              "      <td>0.0</td>\n",
              "      <td>0.0</td>\n",
              "      <td>0.0</td>\n",
              "      <td>1.0</td>\n",
              "      <td>0.0</td>\n",
              "      <td>1.0</td>\n",
              "      <td>0.0</td>\n",
              "    </tr>\n",
              "    <tr>\n",
              "      <th>3</th>\n",
              "      <td>0.0</td>\n",
              "      <td>0.0</td>\n",
              "      <td>0.333333</td>\n",
              "      <td>1.0</td>\n",
              "      <td>0.178308</td>\n",
              "      <td>0.174649</td>\n",
              "      <td>0.607131</td>\n",
              "      <td>0.284297</td>\n",
              "      <td>0.000000</td>\n",
              "      <td>1.0</td>\n",
              "      <td>0.777778</td>\n",
              "      <td>1.000000</td>\n",
              "      <td>0.247261</td>\n",
              "      <td>0.0</td>\n",
              "      <td>0.0</td>\n",
              "      <td>0.0</td>\n",
              "      <td>1.0</td>\n",
              "      <td>0.0</td>\n",
              "      <td>1.0</td>\n",
              "      <td>0.0</td>\n",
              "    </tr>\n",
              "    <tr>\n",
              "      <th>4</th>\n",
              "      <td>0.0</td>\n",
              "      <td>0.0</td>\n",
              "      <td>0.500000</td>\n",
              "      <td>1.0</td>\n",
              "      <td>0.212429</td>\n",
              "      <td>0.197158</td>\n",
              "      <td>0.449313</td>\n",
              "      <td>0.339143</td>\n",
              "      <td>0.222222</td>\n",
              "      <td>0.0</td>\n",
              "      <td>0.444444</td>\n",
              "      <td>0.333333</td>\n",
              "      <td>0.262506</td>\n",
              "      <td>0.0</td>\n",
              "      <td>0.0</td>\n",
              "      <td>0.0</td>\n",
              "      <td>1.0</td>\n",
              "      <td>0.0</td>\n",
              "      <td>1.0</td>\n",
              "      <td>0.0</td>\n",
              "    </tr>\n",
              "  </tbody>\n",
              "</table>\n",
              "</div>"
            ],
            "text/plain": [
              "   year  holiday   weekday  ...  weather_cloud  weather_fair  weather_rain\n",
              "0   0.0      0.0  1.000000  ...            1.0           0.0           0.0\n",
              "1   0.0      0.0  0.000000  ...            1.0           0.0           0.0\n",
              "2   0.0      0.0  0.166667  ...            0.0           1.0           0.0\n",
              "3   0.0      0.0  0.333333  ...            0.0           1.0           0.0\n",
              "4   0.0      0.0  0.500000  ...            0.0           1.0           0.0\n",
              "\n",
              "[5 rows x 20 columns]"
            ]
          },
          "metadata": {
            "tags": []
          },
          "execution_count": 133
        }
      ]
    },
    {
      "cell_type": "code",
      "metadata": {
        "colab_type": "code",
        "id": "Ad4MfGe1mPDk",
        "colab": {}
      },
      "source": [
        "# split the dataset into X_train, X_test, y_train, y_test\n",
        "# play around with test sizes.\n",
        "\n",
        "test_size = 0.2\n",
        "X_train, X_test, y_train, y_test = train_test_split(X,y, test_size = test_size, random_state = 100)"
      ],
      "execution_count": 134,
      "outputs": []
    },
    {
      "cell_type": "code",
      "metadata": {
        "colab_type": "code",
        "id": "6czlxW2tnQqP",
        "colab": {
          "base_uri": "https://localhost:8080/",
          "height": 90
        },
        "outputId": "ce087925-3594-46ef-a0c0-fb4c294a27c9"
      },
      "source": [
        "# print the shapes\n",
        "print(X_train.shape)\n",
        "print(X_test.shape)\n",
        "print(y_train.shape)\n",
        "print(y_test.shape)"
      ],
      "execution_count": 135,
      "outputs": [
        {
          "output_type": "stream",
          "text": [
            "(292, 20)\n",
            "(73, 20)\n",
            "(292,)\n",
            "(73,)\n"
          ],
          "name": "stdout"
        }
      ]
    },
    {
      "cell_type": "code",
      "metadata": {
        "colab_type": "code",
        "id": "w-lp9O74nUm7",
        "colab": {
          "base_uri": "https://localhost:8080/",
          "height": 35
        },
        "outputId": "bf1f0762-a6f3-445a-f780-f94d5fb2358f"
      },
      "source": [
        "# build the Linear Regression model.\n",
        "\n",
        "model = LinearRegression()\n",
        "\n",
        "# fit the model on the training data\n",
        "model.fit(X_train, y_train)"
      ],
      "execution_count": 136,
      "outputs": [
        {
          "output_type": "execute_result",
          "data": {
            "text/plain": [
              "LinearRegression(copy_X=True, fit_intercept=True, n_jobs=None, normalize=False)"
            ]
          },
          "metadata": {
            "tags": []
          },
          "execution_count": 136
        }
      ]
    },
    {
      "cell_type": "code",
      "metadata": {
        "colab_type": "code",
        "id": "Ga_f-66JoVri",
        "colab": {
          "base_uri": "https://localhost:8080/",
          "height": 35
        },
        "outputId": "f33b2f74-faaa-4775-8cfe-f45eef9702cf"
      },
      "source": [
        "# print the score on training set\n",
        "y_pred_train = model.predict(X_train)\n",
        "print(\"On Training set : \", r2_score(y_train, y_pred_train))"
      ],
      "execution_count": 137,
      "outputs": [
        {
          "output_type": "stream",
          "text": [
            "On Training set :  0.986215886539548\n"
          ],
          "name": "stdout"
        }
      ]
    },
    {
      "cell_type": "code",
      "metadata": {
        "colab_type": "code",
        "id": "IKmlrtpDoilu",
        "colab": {
          "base_uri": "https://localhost:8080/",
          "height": 35
        },
        "outputId": "d204bd24-fabf-42db-b4a8-84b65da51e5f"
      },
      "source": [
        "# print the score on the test set\n",
        "y_pred_test = model.predict(X_test)\n",
        "print(\"On testing set : \", r2_score(y_test, y_pred_test))"
      ],
      "execution_count": 138,
      "outputs": [
        {
          "output_type": "stream",
          "text": [
            "On testing set :  0.9896299696400175\n"
          ],
          "name": "stdout"
        }
      ]
    },
    {
      "cell_type": "markdown",
      "metadata": {
        "colab_type": "text",
        "id": "cYyTP91_pB-u"
      },
      "source": [
        "Do not edit the code given below. Observe the distribution of weights. \n",
        "Which feature has the maximum coefficient ? <br>\n",
        "Keep this figure as a base reference for visualizing the effects of l1-norm and l2-norm later in this notebook."
      ]
    },
    {
      "cell_type": "code",
      "metadata": {
        "colab_type": "code",
        "id": "Ck8Vx1bWozcf",
        "colab": {}
      },
      "source": [
        "# custom summary function to plot the coefficients / weightage of the features.\n",
        "def custom_summary(model, column_names, title):\n",
        "    '''Show a summary of the trained linear regression model'''\n",
        "\n",
        "    # Plot the coeffients as bars\n",
        "    fig = plt.figure(figsize=(8,len(column_names)/3))\n",
        "    fig.suptitle(title, fontsize=16)\n",
        "    rects = plt.barh(column_names, model.coef_,color=\"lightblue\")\n",
        "\n",
        "    # Annotate the bars with the coefficient values\n",
        "    for rect in rects:\n",
        "        width = round(rect.get_width(),4)\n",
        "        plt.gca().annotate('  {}  '.format(width),\n",
        "                    xy=(0, rect.get_y()),\n",
        "                    xytext=(0,2),  \n",
        "                    textcoords=\"offset points\",  \n",
        "                    ha='left' if width<0 else 'right', va='bottom')        \n",
        "    plt.show()"
      ],
      "execution_count": 139,
      "outputs": []
    },
    {
      "cell_type": "code",
      "metadata": {
        "colab_type": "code",
        "id": "QuyEBDrYotzb",
        "colab": {
          "base_uri": "https://localhost:8080/",
          "height": 458
        },
        "outputId": "d9272aec-2856-494c-c441-62bde2ec97fd"
      },
      "source": [
        "# coefficients plot\n",
        "# let's call the above custom function.\n",
        "\n",
        "custom_summary(model, train_columns, \"Linear Regression coefficients.\")"
      ],
      "execution_count": 140,
      "outputs": [
        {
          "output_type": "display_data",
          "data": {
            "image/png": "[encoded data removed]",
            "text/plain": [
              "<Figure size 576x480 with 1 Axes>"
            ]
          },
          "metadata": {
            "tags": [],
            "needs_background": "light"
          }
        }
      ]
    },
    {
      "cell_type": "code",
      "metadata": {
        "colab_type": "code",
        "id": "E77vWyd7plQ2",
        "colab": {
          "base_uri": "https://localhost:8080/",
          "height": 146
        },
        "outputId": "031ec6dc-e254-482e-e61a-eb3c144c318e"
      },
      "source": [
        "# evaluate the model with k = 10 Fold Cross validation\n",
        "\n",
        "folds = KFold(n_splits = 10, shuffle = True, random_state = 100)\n",
        "results = cross_val_score(model, X, y, scoring = 'r2', cv = folds)\n",
        "\n",
        "print(type(model).__name__)\n",
        "print(\"kFoldCV:\")\n",
        "print(\"Fold R2 scores:\", results)\n",
        "print(\"Mean R2 score:\", results.mean())\n",
        "print(\"Std R2 score:\", results.std())\n",
        "print(\"Generalizability on training set : \", results.mean(), \" +/- \", results.std())"
      ],
      "execution_count": 141,
      "outputs": [
        {
          "output_type": "stream",
          "text": [
            "LinearRegression\n",
            "kFoldCV:\n",
            "Fold R2 scores: [0.98772947 0.99265086 0.98351062 0.96732099 0.98643933 0.99056935\n",
            " 0.97901286 0.98716985 0.98746441 0.97713913]\n",
            "Mean R2 score: 0.983900687093224\n",
            "Std R2 score: 0.00714266320427026\n",
            "Generalizability on training set :  0.983900687093224  +/-  0.00714266320427026\n"
          ],
          "name": "stdout"
        }
      ]
    },
    {
      "cell_type": "markdown",
      "metadata": {
        "colab_type": "text",
        "id": "xNVstf3MRWTS"
      },
      "source": [
        "Feature Selection using Variance Thresholding"
      ]
    },
    {
      "cell_type": "code",
      "metadata": {
        "colab_type": "code",
        "id": "3fWmra-LRSvk",
        "colab": {
          "base_uri": "https://localhost:8080/",
          "height": 35
        },
        "outputId": "34a9f0bc-56e5-440c-e40b-bafe430c4ea9"
      },
      "source": [
        "print(\"Original shape of X_train : \", X_train.shape)"
      ],
      "execution_count": 142,
      "outputs": [
        {
          "output_type": "stream",
          "text": [
            "Original shape of X_train :  (292, 20)\n"
          ],
          "name": "stdout"
        }
      ]
    },
    {
      "cell_type": "code",
      "metadata": {
        "colab_type": "code",
        "id": "ZdfMwVybRl9o",
        "colab": {
          "base_uri": "https://localhost:8080/",
          "height": 403
        },
        "outputId": "dabb42ca-4733-468b-c5ef-ae0636a9dbf3"
      },
      "source": [
        "# check the variance of X.\n",
        "# Note the type(X) should be a pandas DataFrame as stated earlier.\n",
        "\n",
        "X.var()"
      ],
      "execution_count": 143,
      "outputs": [
        {
          "output_type": "execute_result",
          "data": {
            "text/plain": [
              "year                        0.000000\n",
              "holiday                     0.026720\n",
              "weekday                     0.111796\n",
              "workingday                  0.216393\n",
              "temp                        0.057592\n",
              "feel_temp                   0.049115\n",
              "hum                         0.023394\n",
              "windspeed                   0.025126\n",
              "promotion_level             0.044400\n",
              "promotion_type              0.250685\n",
              "promotion_level_external    0.104256\n",
              "promotion_type_external     0.134599\n",
              "registered                  0.063770\n",
              "season_autumn               0.187671\n",
              "season_spring               0.189041\n",
              "season_summer               0.189041\n",
              "season_winter               0.186286\n",
              "weather_cloud               0.224928\n",
              "weather_fair                0.236444\n",
              "weather_rain                0.039515\n",
              "dtype: float64"
            ]
          },
          "metadata": {
            "tags": []
          },
          "execution_count": 143
        }
      ]
    },
    {
      "cell_type": "markdown",
      "metadata": {
        "colab_type": "text",
        "id": "kk36hVk_Rv6l"
      },
      "source": [
        "Remove low variance features using Variance Threshold. \n",
        "\n",
        "Note : If the variance is less, it implies the values of that particular feature spans limited range of values."
      ]
    },
    {
      "cell_type": "code",
      "metadata": {
        "colab_type": "code",
        "id": "3RkbbmcuRtkJ",
        "colab": {
          "base_uri": "https://localhost:8080/",
          "height": 35
        },
        "outputId": "0b6a57b8-bb73-436b-9b22-20039f31164f"
      },
      "source": [
        "# play around with the threshold values\n",
        "\n",
        "sel = VarianceThreshold(threshold = (0.01))\n",
        "sel.fit(X_train)"
      ],
      "execution_count": 144,
      "outputs": [
        {
          "output_type": "execute_result",
          "data": {
            "text/plain": [
              "VarianceThreshold(threshold=0.01)"
            ]
          },
          "metadata": {
            "tags": []
          },
          "execution_count": 144
        }
      ]
    },
    {
      "cell_type": "code",
      "metadata": {
        "colab_type": "code",
        "id": "Bk525DOySWJp",
        "colab": {
          "base_uri": "https://localhost:8080/",
          "height": 74
        },
        "outputId": "de207140-67d7-4632-8e1a-7f8d6a03a614"
      },
      "source": [
        "# do not edit.\n",
        "\n",
        "selected_features = list(X_train.columns[sel.get_support()])\n",
        "print(\"Selected features : \", selected_features)\n",
        "print(\"Removed features : \", list(X_train.columns[~sel.get_support()]))"
      ],
      "execution_count": 145,
      "outputs": [
        {
          "output_type": "stream",
          "text": [
            "Selected features :  ['holiday', 'weekday', 'workingday', 'temp', 'feel_temp', 'hum', 'windspeed', 'promotion_level', 'promotion_type', 'promotion_level_external', 'promotion_type_external', 'registered', 'season_autumn', 'season_spring', 'season_summer', 'season_winter', 'weather_cloud', 'weather_fair', 'weather_rain']\n",
            "Removed features :  ['year']\n"
          ],
          "name": "stdout"
        }
      ]
    },
    {
      "cell_type": "code",
      "metadata": {
        "id": "_NRb7xbsEp-T",
        "colab_type": "code",
        "colab": {}
      },
      "source": [
        "removed_features = list(X_train.columns[~sel.get_support()])"
      ],
      "execution_count": 146,
      "outputs": []
    },
    {
      "cell_type": "code",
      "metadata": {
        "colab_type": "code",
        "id": "Ci3BFPnE5ex4",
        "colab": {}
      },
      "source": [
        "# Delete the removed features from the train_columns list.\n",
        "\n",
        "for i in removed_features:\n",
        "  train_columns.remove(i)"
      ],
      "execution_count": 147,
      "outputs": []
    },
    {
      "cell_type": "code",
      "metadata": {
        "colab_type": "code",
        "id": "k1AQhlAhSXI5",
        "colab": {}
      },
      "source": [
        "#transform / remove the low variance features\n",
        "\n",
        "X_train = sel.transform(X_train)\n",
        "X_test = sel.transform(X_test)"
      ],
      "execution_count": 148,
      "outputs": []
    },
    {
      "cell_type": "markdown",
      "metadata": {
        "colab_type": "text",
        "id": "UH8mZBs3S-i3"
      },
      "source": [
        "## Lasso Regression : L1 - norm"
      ]
    },
    {
      "cell_type": "code",
      "metadata": {
        "colab_type": "code",
        "id": "0XTVvk4gS98-",
        "colab": {
          "base_uri": "https://localhost:8080/",
          "height": 35
        },
        "outputId": "4131280b-39a9-41ce-d4db-9b0a2505d223"
      },
      "source": [
        "from sklearn.linear_model import Lasso\n",
        "\n",
        "# X_train, X_test, y_train, y_test = train_test_split(X, y, test_size = 0.2, random_state = 100)\n",
        "\n",
        "# hyperparamater alpha : controls the degree of penaliation.\n",
        "# play around with alpha values.\n",
        "alpha = 1.0\n",
        "\n",
        "#create the model\n",
        "model_lasso = Lasso(alpha = alpha)\n",
        "\n",
        "#fit the model on training data\n",
        "model_lasso.fit(X_train, y_train)\n",
        "\n",
        "#calculate the score on training data\n",
        "y_pred_train = model_lasso.predict(X_train)\n",
        "print(\"On train set : \", r2_score(y_train, y_pred_train))"
      ],
      "execution_count": 149,
      "outputs": [
        {
          "output_type": "stream",
          "text": [
            "On train set :  0.9859343312842751\n"
          ],
          "name": "stdout"
        }
      ]
    },
    {
      "cell_type": "code",
      "metadata": {
        "colab_type": "code",
        "id": "PD4NpuxYTWoV",
        "colab": {
          "base_uri": "https://localhost:8080/",
          "height": 35
        },
        "outputId": "74a118ba-87e0-444b-ef4d-9488e200c9e7"
      },
      "source": [
        "#evaluate the model on testing data\n",
        "y_pred_test = model_lasso.predict(X_test)\n",
        "print(\"On test set : \", r2_score(y_test, y_pred_test))"
      ],
      "execution_count": 151,
      "outputs": [
        {
          "output_type": "stream",
          "text": [
            "On test set :  0.9895394150856637\n"
          ],
          "name": "stdout"
        }
      ]
    },
    {
      "cell_type": "code",
      "metadata": {
        "colab_type": "code",
        "id": "bN7w1V5hT2Dp",
        "colab": {
          "base_uri": "https://localhost:8080/",
          "height": 438
        },
        "outputId": "d68f7b6a-8af0-4718-8005-fc8cd1b39648"
      },
      "source": [
        "# visualize the coefficients.\n",
        "# compare the results with the plot obtained earlier.\n",
        "\n",
        "custom_summary(model_lasso, train_columns, \"Lasso Regression Coefficients.\")"
      ],
      "execution_count": 152,
      "outputs": [
        {
          "output_type": "display_data",
          "data": {
            "image/png": "[encoded data removed]",
            "text/plain": [
              "<Figure size 576x456 with 1 Axes>"
            ]
          },
          "metadata": {
            "tags": [],
            "needs_background": "light"
          }
        }
      ]
    },
    {
      "cell_type": "markdown",
      "metadata": {
        "colab_type": "text",
        "id": "dsjziyZzUS8P"
      },
      "source": [
        "We can see that Lasso regression has automatically done a lot of feature selection. Some columns might have zero coefficients. It has been effectively removed. <br> \n",
        "The model is much more interpretable than the baseline linear regression model.\n",
        "<br>\n",
        "Hence, Lasso regression has embedded Feature Selection."
      ]
    },
    {
      "cell_type": "markdown",
      "metadata": {
        "colab_type": "text",
        "id": "O9IlW2V2UfD0"
      },
      "source": [
        "# Ridge Regression : L2 - norm"
      ]
    },
    {
      "cell_type": "code",
      "metadata": {
        "colab_type": "code",
        "id": "j6PRlLONUckx",
        "colab": {
          "base_uri": "https://localhost:8080/",
          "height": 35
        },
        "outputId": "cac607a6-77b8-4c1e-d8b2-7128a04c2c66"
      },
      "source": [
        "from sklearn.linear_model import Ridge\n",
        "\n",
        "# hyperparamater alpha : controls the degree of penaliation.\n",
        "# play around with alpha values.\n",
        "alpha = 1.0\n",
        "\n",
        "#create the model\n",
        "model_ridge = Ridge(alpha = alpha)\n",
        "\n",
        "#fit the model on training data\n",
        "model_ridge.fit(X_train, y_train)\n",
        "\n",
        "#calculate the score on training data\n",
        "y_pred_train = model_ridge.predict(X_train)\n",
        "print(\"On train set : \", r2_score(y_train, y_pred_train))\n"
      ],
      "execution_count": 154,
      "outputs": [
        {
          "output_type": "stream",
          "text": [
            "On train set :  0.9807613885174263\n"
          ],
          "name": "stdout"
        }
      ]
    },
    {
      "cell_type": "code",
      "metadata": {
        "colab_type": "code",
        "id": "jzukav_PVTG2",
        "colab": {
          "base_uri": "https://localhost:8080/",
          "height": 35
        },
        "outputId": "eacc9757-7248-4fee-b182-c5cff7439848"
      },
      "source": [
        "#evaluate the model on testing data\n",
        "y_pred_test = model_ridge.predict(X_test)\n",
        "print(\"On test set : \", r2_score(y_test, y_pred_test))"
      ],
      "execution_count": 155,
      "outputs": [
        {
          "output_type": "stream",
          "text": [
            "On test set :  0.9848605828656\n"
          ],
          "name": "stdout"
        }
      ]
    },
    {
      "cell_type": "code",
      "metadata": {
        "colab_type": "code",
        "id": "c39ZBnmvVYSA",
        "colab": {
          "base_uri": "https://localhost:8080/",
          "height": 438
        },
        "outputId": "74aa2a2f-9cb2-4951-dcee-810e5aa04a5d"
      },
      "source": [
        "# visualize the coefficients.\n",
        "# compare the results with the plot obtained earlier.\n",
        "\n",
        "custom_summary(model_ridge, train_columns, \"Ridge Regression Coefficients.\")"
      ],
      "execution_count": 156,
      "outputs": [
        {
          "output_type": "display_data",
          "data": {
            "image/png": "[encoded data removed]",
            "text/plain": [
              "<Figure size 576x456 with 1 Axes>"
            ]
          },
          "metadata": {
            "tags": [],
            "needs_background": "light"
          }
        }
      ]
    },
    {
      "cell_type": "markdown",
      "metadata": {
        "colab_type": "text",
        "id": "TqLF3812VefE"
      },
      "source": [
        "Ridge regression doesn't drive smaller coefficients to 0 hence it doesn't possess internal feature selection."
      ]
    },
    {
      "cell_type": "markdown",
      "metadata": {
        "colab_type": "text",
        "id": "DUCm0xOc6inT"
      },
      "source": [
        "Points to Ponder ! [Optional]"
      ]
    },
    {
      "cell_type": "markdown",
      "metadata": {
        "colab_type": "text",
        "id": "l9FHk5sw6nLb"
      },
      "source": [
        "Did you notice the highest dependency on the feature \"registered\" if you haven't removed it till now ?\n",
        "\n",
        "Since our target is \"cnt\" which is the simple combination of \"registered\" and \"casual\".\n",
        "\n",
        "we have removed \"casual\", but the model was smart enough to predict the target \"cnt\" simply from one feature \"registered\" itself. \n",
        "\n",
        "This is the classic example of Data Leakage. So the aim here is not to make 99 percent accurate predictions, the aim is to take into account the factors for making predictions.\n",
        "\n",
        "So, to get a detailed report, we should avoid data leakage thereby removing both the features \"registered\" and \"casual\"."
      ]
    },
    {
      "cell_type": "code",
      "metadata": {
        "colab_type": "code",
        "id": "4euMcAFR6kLG",
        "colab": {}
      },
      "source": [
        ""
      ],
      "execution_count": null,
      "outputs": []
    }
  ]
}