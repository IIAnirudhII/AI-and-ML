{
  "nbformat": 4,
  "nbformat_minor": 0,
  "metadata": {
    "colab": {
      "name": "Lab2.ipynb",
      "provenance": [],
      "authorship_tag": "ABX9TyMeZ/dnRCLODqfml/QZUkJT",
      "include_colab_link": true
    },
    "kernelspec": {
      "name": "python3",
      "display_name": "Python 3"
    }
  },
  "cells": [
    {
      "cell_type": "markdown",
      "metadata": {
        "id": "view-in-github",
        "colab_type": "text"
      },
      "source": [
        "<a href=\"https://colab.research.google.com/github/IIAnirudhII/BU/blob/master/Cryptography/Lab2/Lab2.ipynb\" target=\"_parent\"><img src=\"https://colab.research.google.com/assets/colab-badge.svg\" alt=\"Open In Colab\"/></a>"
      ]
    },
    {
      "cell_type": "markdown",
      "metadata": {
        "id": "LuTj27ZxHxyM",
        "colab_type": "text"
      },
      "source": [
        "# Implementation of Affine Cipher"
      ]
    },
    {
      "cell_type": "code",
      "metadata": {
        "id": "wHcz27jP75tY",
        "colab_type": "code",
        "colab": {
          "base_uri": "https://localhost:8080/",
          "height": 201
        },
        "outputId": "65b4e818-1572-49d1-f17d-47522ca52fd2"
      },
      "source": [
        "print(\"Enter the Values of a & b (Key):\")\n",
        "a, b = map(int, input().split())\n",
        "\n",
        "print(\"Enter the plaintext:\")\n",
        "X=[(x) for x in input().lower().split()]\n",
        "\n",
        "\n",
        "print(\"Choose the following options\")\n",
        "print(\"1:Encrypt the message\")\n",
        "print(\"2: Decrypt the message\")\n",
        "\n",
        "print(\"Choice:\")\n",
        "choice=int(input())\n",
        "\n",
        "\n",
        "ans=[]\n",
        "if(choice==1):\n",
        "  for i in X:\n",
        "    lst=[]\n",
        "    for p in i:\n",
        "      c=chr((((a*(ord(p)-97)+b)) % 26)+97)\n",
        "      lst.append(c)\n",
        "    lst=\"\".join(lst)\n",
        "    ans.append(lst)\n",
        "  \n",
        "  print(\"Encrypted Message is: \",\" \".join(ans))\n",
        "\n",
        "else:\n",
        "  for i in X:\n",
        "    lst=[]\n",
        "    for c in i:\n",
        "      f=((ord(c)-97)-b)%26\n",
        "      p=chr(int((((a**(-1))*f)+97)))\n",
        "      lst.append(p)\n",
        "    lst=\"\".join(lst)\n",
        "    ans.append(lst)  \n",
        "\n",
        "  print(\"Decrypted Message is: \",\" \".join(ans))"
      ],
      "execution_count": 72,
      "outputs": [
        {
          "output_type": "stream",
          "text": [
            "Enter the Values of a & b (Key):\n",
            "5 7\n",
            "Enter the plaintext:\n",
            "defend the east wall of the castle\n",
            "Choose the following options\n",
            "1:Encrypt the message\n",
            "2: Decrypt the message\n",
            "Choice:\n",
            "1\n",
            "Encrypted Message is:  wbgbuw yqb bhty nhkk zg yqb rhtykb\n"
          ],
          "name": "stdout"
        }
      ]
    },
    {
      "cell_type": "markdown",
      "metadata": {
        "id": "Vpaic3aEH6kN",
        "colab_type": "text"
      },
      "source": [
        "# Implementation of Playfair Cipher"
      ]
    },
    {
      "cell_type": "code",
      "metadata": {
        "id": "zd7NYcH5OhuT",
        "colab_type": "code",
        "colab": {
          "base_uri": "https://localhost:8080/",
          "height": 109
        },
        "outputId": "fa9a13d4-f0bc-402a-c6a8-9792b93f0ac0"
      },
      "source": [
        "#Inputs\n",
        "print(\"Key text:\")\n",
        "Key=input().lower()\n",
        "\n",
        "print(\"Plain text:\")\n",
        "X=[(x) for x in input().lower().split()]\n",
        "\n",
        "#Defining key_square\n",
        "key_square = [[0 for x in range(5)] for y in range(5)] \n",
        "\n",
        "omitted=[]\n",
        "for i in Key:\n",
        "  omitted.append(ord(i))\n",
        "omitted.append(ord('j'))\n",
        "\n",
        "row=0\n",
        "column=0\n",
        "for i in range(len(Key)):\n",
        "  key_square[row][column]=Key[i]\n",
        "  column+=1\n",
        "  if(column==5):\n",
        "    row+=1\n",
        "    column=0\n",
        "  \n",
        "for i in range(26):\n",
        "  if(i+97 not in omitted):\n",
        "    key_square[row][column]=chr(i+97)\n",
        "    column+=1\n",
        "    if(column==5):\n",
        "      row+=1\n",
        "      column=0\n",
        "\n",
        "#functions to get encrypted letter\n",
        "def index_2d(myList, v):\n",
        "    for i, x in enumerate(myList):\n",
        "        if v in x:\n",
        "            return (i, x.index(v))\n",
        "\n",
        "def same_row(index1,index2):\n",
        "  index1[1]=index1[1]+1\n",
        "  index2[1]=index2[1]+1\n",
        "  if(index1[1]==5):\n",
        "    index1[1]=0\n",
        "  if(index2[1]==5):\n",
        "    index2[1]=0\n",
        "  word.append(key_square[index1[0]][index1[1]]+key_square[index2[0]][index2[1]])\n",
        "\n",
        "def same_column(index1,index2):\n",
        "  index1[0]=index1[0]+1\n",
        "  index2[0]=index2[0]+1\n",
        "  if(index1[0]==5):\n",
        "    index1[0]=0\n",
        "  if(index2[0]==5):\n",
        "    index2[0]=0\n",
        "  word.append(key_square[index1[0]][index1[1]]+key_square[index2[0]][index2[1]])\n",
        "\n",
        "def no_same(index1,index2):\n",
        "  index1[1],index2[1]=index2[1],index1[1]\n",
        "  word.append(key_square[index1[0]][index1[1]]+key_square[index2[0]][index2[1]])\n",
        "\n",
        "\n",
        "#final code\n",
        "ans=[]\n",
        "for i in X:\n",
        "  word=[]\n",
        "  split_string=[i[index : index + 2] for index in range(0, len(i), 2)]\n",
        "  if(len(split_string[-1])==1):\n",
        "    split_string[-1]=split_string[-1]+'z'\n",
        "\n",
        "  for j in split_string:\n",
        "    index1=list(index_2d(key_square,j[0]))\n",
        "    index2=list(index_2d(key_square,j[1]))\n",
        "\n",
        "    if(index1[0]==index2[0]):\n",
        "      same_row(index1,index2)\n",
        "\n",
        "    elif(index1[1]==index2[1]):\n",
        "      same_column(index1,index2)\n",
        "\n",
        "    else:\n",
        "      no_same(index1,index2)\n",
        "  \n",
        "  ans.append(\"\".join(word))\n",
        "\n",
        "print(\"Cipher text:\",\" \".join(ans))"
      ],
      "execution_count": 73,
      "outputs": [
        {
          "output_type": "stream",
          "text": [
            "Key text:\n",
            "monarchy\n",
            "Plain text:\n",
            "instruments\n",
            "Cipher text: gatlmzclrqtx\n"
          ],
          "name": "stdout"
        }
      ]
    }
  ]
}