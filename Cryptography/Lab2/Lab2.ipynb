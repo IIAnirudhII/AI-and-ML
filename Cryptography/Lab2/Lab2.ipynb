{
  "nbformat": 4,
  "nbformat_minor": 0,
  "metadata": {
    "colab": {
      "name": "Lab2.ipynb",
      "provenance": [],
      "authorship_tag": "ABX9TyPVGiLGfVPV1r0tYObZSw8x",
      "include_colab_link": true
    },
    "kernelspec": {
      "name": "python3",
      "display_name": "Python 3"
    }
  },
  "cells": [
    {
      "cell_type": "markdown",
      "metadata": {
        "id": "view-in-github",
        "colab_type": "text"
      },
      "source": [
        "<a href=\"https://colab.research.google.com/github/IIAnirudhII/BU/blob/master/Cryptography/Lab2/Lab2.ipynb\" target=\"_parent\"><img src=\"https://colab.research.google.com/assets/colab-badge.svg\" alt=\"Open In Colab\"/></a>"
      ]
    },
    {
      "cell_type": "code",
      "metadata": {
        "id": "wHcz27jP75tY",
        "colab_type": "code",
        "colab": {
          "base_uri": "https://localhost:8080/",
          "height": 201
        },
        "outputId": "c4096b59-050f-4b5d-a8f6-c40ea3124cca"
      },
      "source": [
        "print(\"Enter the Values of a & b (Key):\")\n",
        "a, b = map(int, input().split())\n",
        "\n",
        "print(\"Enter the plaintext:\")\n",
        "X=[(x) for x in input().lower().split()]\n",
        "\n",
        "\n",
        "print(\"Choose the following options\")\n",
        "print(\"1:Encrypt the message\")\n",
        "print(\"2: Decrypt the message\")\n",
        "\n",
        "print(\"Choice:\")\n",
        "choice=int(input())\n",
        "\n",
        "\n",
        "ans=[]\n",
        "if(choice==1):\n",
        "  for i in X:\n",
        "    lst=[]\n",
        "    for p in i:\n",
        "      c=chr((((a*(ord(p)-97)+b)) % 26)+97)\n",
        "      lst.append(c)\n",
        "    lst=\"\".join(lst)\n",
        "    ans.append(lst)\n",
        "  \n",
        "  print(\"Encrypted Message is: \",\" \".join(ans))\n",
        "\n",
        "else:\n",
        "  for i in X:\n",
        "    lst=[]\n",
        "    for c in i:\n",
        "      f=((ord(c)-97)-b)%26\n",
        "      p=chr(int((((a**(-1))*f)+97)))\n",
        "      lst.append(p)\n",
        "    lst=\"\".join(lst)\n",
        "    ans.append(lst)  \n",
        "\n",
        "  print(\"Decrypted Message is: \",\" \".join(ans))"
      ],
      "execution_count": 46,
      "outputs": [
        {
          "output_type": "stream",
          "text": [
            "Enter the Values of a & b (Key):\n",
            "5 7\n",
            "Enter the plaintext:\n",
            "defend the east wall of the castle\n",
            "Choose the following options\n",
            "1:Encrypt the message\n",
            "2: Decrypt the message\n",
            "Choice:\n",
            "1\n",
            "Encrypted Message is:  wbgbuw yqb bhty nhkk zg yqb rhtykb\n"
          ],
          "name": "stdout"
        }
      ]
    }
  ]
}