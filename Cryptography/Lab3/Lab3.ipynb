{
  "nbformat": 4,
  "nbformat_minor": 0,
  "metadata": {
    "colab": {
      "name": "Untitled2.ipynb",
      "provenance": [],
      "authorship_tag": "ABX9TyPHPfzANA6iuQJ0MhxMN6fe",
      "include_colab_link": true
    },
    "kernelspec": {
      "name": "python3",
      "display_name": "Python 3"
    }
  },
  "cells": [
    {
      "cell_type": "markdown",
      "metadata": {
        "id": "view-in-github",
        "colab_type": "text"
      },
      "source": [
        "<a href=\"https://colab.research.google.com/github/IIAnirudhII/BU/blob/master/Cryptography/Lab3/Lab3.ipynb\" target=\"_parent\"><img src=\"https://colab.research.google.com/assets/colab-badge.svg\" alt=\"Open In Colab\"/></a>"
      ]
    },
    {
      "cell_type": "code",
      "metadata": {
        "id": "-S4UZRvcNP5A",
        "colab_type": "code",
        "colab": {
          "base_uri": "https://localhost:8080/",
          "height": 54
        },
        "outputId": "f3fcdade-90c4-4f3c-b6ef-85f7d9cb27a1"
      },
      "source": [
        "P=list(map(int, input().rstrip().split()))\n",
        "K=list(map(int, input().rstrip().split()))"
      ],
      "execution_count": 12,
      "outputs": [
        {
          "output_type": "stream",
          "text": [
            "0 0 1 0 1 1 0 1 0 1 1 1\n",
            "1 0 0 1 1 1 0 0 1 0 1 1\n"
          ],
          "name": "stdout"
        }
      ]
    },
    {
      "cell_type": "code",
      "metadata": {
        "id": "LdE73VTAT95q",
        "colab_type": "code",
        "colab": {
          "base_uri": "https://localhost:8080/",
          "height": 35
        },
        "outputId": "8343d89c-eb47-4be3-d552-2d66587ae76e"
      },
      "source": [
        "C=[]\n",
        "for i in range(len(P)):\n",
        "  C.append(P[i]^K[i])\n",
        "print(\" \".join(map(str,C)))\n"
      ],
      "execution_count": 19,
      "outputs": [
        {
          "output_type": "stream",
          "text": [
            "1 0 1 1 0 0 0 1 1 1 0 0\n"
          ],
          "name": "stdout"
        }
      ]
    }
  ]
}