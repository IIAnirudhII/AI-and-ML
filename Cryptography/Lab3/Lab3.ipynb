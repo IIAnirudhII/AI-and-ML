{
  "nbformat": 4,
  "nbformat_minor": 0,
  "metadata": {
    "colab": {
      "name": "Untitled2.ipynb",
      "provenance": [],
      "authorship_tag": "ABX9TyOtFkmuKeLv18B6brXmaUTt",
      "include_colab_link": true
    },
    "kernelspec": {
      "name": "python3",
      "display_name": "Python 3"
    }
  },
  "cells": [
    {
      "cell_type": "markdown",
      "metadata": {
        "id": "view-in-github",
        "colab_type": "text"
      },
      "source": [
        "<a href=\"https://colab.research.google.com/github/IIAnirudhII/BU/blob/master/Cryptography/Lab3/Lab3.ipynb\" target=\"_parent\"><img src=\"https://colab.research.google.com/assets/colab-badge.svg\" alt=\"Open In Colab\"/></a>"
      ]
    },
    {
      "cell_type": "code",
      "metadata": {
        "id": "LdE73VTAT95q",
        "colab_type": "code",
        "colab": {
          "base_uri": "https://localhost:8080/",
          "height": 201
        },
        "outputId": "3be0c015-aad6-47cc-a58d-ccf0285138a0"
      },
      "source": [
        "print(\"Enter the Message:\")\n",
        "P=list(map(int, input().rstrip().split()))\n",
        "\n",
        "print(\"Enter Key:\")\n",
        "K=list(map(int, input().rstrip().split()))\n",
        "\n",
        "print(\"Choose the following options\")\n",
        "print(\"1:Encrypt the message\")\n",
        "print(\"2: Decrypt the message\")\n",
        "\n",
        "print(\"Choice:\")\n",
        "choice=int(input())\n",
        "\n",
        "\n",
        "def encrypt(P,K):\n",
        "  C=[]\n",
        "  for i in range(len(P)):\n",
        "    C.append(P[i]^K[i])\n",
        "  print(\" \".join(map(str,C)))\n",
        "\n",
        "def decrypt(P,K):\n",
        "  C=[]\n",
        "  for i in range(len(P)):\n",
        "    C.append(P[i]^K[i])\n",
        "  print(\" \".join(map(str,C)))\n",
        "\n",
        "if(choice==1):\n",
        "  encrypt(P,K)\n",
        "else:\n",
        "  decrypt(P,K)"
      ],
      "execution_count": 6,
      "outputs": [
        {
          "output_type": "stream",
          "text": [
            "Enter the Message:\n",
            "1 0 1 1 0 0 0 1 1 1 0 0\n",
            "Enter Key:\n",
            "1 0 0 1 1 1 0 0 1 0 1 1\n",
            "Choose the following options\n",
            "1:Encrypt the message\n",
            "2: Decrypt the message\n",
            "Choice:\n",
            "2\n",
            "0 0 1 0 1 1 0 1 0 1 1 1\n"
          ],
          "name": "stdout"
        }
      ]
    }
  ]
}